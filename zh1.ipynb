{
    "metadata": {
        "kernelspec": {
            "name": "SQL",
            "display_name": "SQL",
            "language": "sql"
        },
        "language_info": {
            "name": "sql",
            "version": ""
        }
    },
    "nbformat_minor": 2,
    "nbformat": 4,
    "cells": [
        {
            "cell_type": "code",
            "source": [
                "SELECT ROGZITETTE AS 'Rögzítő neve', SZALLAS_NEV AS 'Szállás neve', CIM AS 'Cím'\r\n",
                "FROM szallashely\r\n",
                "WHERE MONTH(ROGZ_IDO) = 3 AND HELY LIKE '%Balaton%'\r\n",
                "ORDER BY CSILLAGOK_SZAMA ASC"
            ],
            "metadata": {
                "azdata_cell_guid": "b64a0e17-9777-43c3-b09d-fddebca42173",
                "language": "sql"
            },
            "outputs": [
                {
                    "output_type": "display_data",
                    "data": {
                        "text/html": "(7 rows affected)"
                    },
                    "metadata": {}
                },
                {
                    "output_type": "display_data",
                    "data": {
                        "text/html": "Total execution time: 00:00:00.009"
                    },
                    "metadata": {}
                },
                {
                    "output_type": "execute_result",
                    "execution_count": 28,
                    "data": {
                        "application/vnd.dataresource+json": {
                            "schema": {
                                "fields": [
                                    {
                                        "name": "Rögzítő neve"
                                    },
                                    {
                                        "name": "Szállás neve"
                                    },
                                    {
                                        "name": "Cím"
                                    }
                                ]
                            },
                            "data": [
                                {
                                    "Rögzítő neve": "Béla",
                                    "Szállás neve": "Családi Ház",
                                    "Cím": "8630 Balatonboglár, József Attila utca 25"
                                },
                                {
                                    "Rögzítő neve": "Mari",
                                    "Szállás neve": "Szieszta Apartmanház",
                                    "Cím": "8630 Balatonboglár, Dózsa György utca 108"
                                },
                                {
                                    "Rögzítő neve": "Béla",
                                    "Szállás neve": "Partiszél Vendégház",
                                    "Cím": "8220 Balatonalmádi Neptun u. 23."
                                },
                                {
                                    "Rögzítő neve": "Béla",
                                    "Szállás neve": "Tímárház Panzió",
                                    "Cím": "8600 Siófok, Virág utca 1"
                                },
                                {
                                    "Rögzítő neve": "Mari",
                                    "Szállás neve": "Jáde panzió",
                                    "Cím": "8624 Balatonföldvár, Kiss u.2."
                                },
                                {
                                    "Rögzítő neve": "Béla",
                                    "Szállás neve": "Kentaur Hotel",
                                    "Cím": "8600 Siófok (Széplak), Akácfa utca 1"
                                },
                                {
                                    "Rögzítő neve": "Béla",
                                    "Szállás neve": "Hotel Három Hattyú",
                                    "Cím": "8623 Balatonföldvár, Rákóczi Ferenc út 45."
                                }
                            ]
                        },
                        "text/html": "<table><tr><th>Rögzítő neve</th><th>Szállás neve</th><th>Cím</th></tr><tr><td>Béla</td><td>Családi Ház</td><td>8630 Balatonboglár, József Attila utca 25</td></tr><tr><td>Mari</td><td>Szieszta Apartmanház</td><td>8630 Balatonboglár, Dózsa György utca 108</td></tr><tr><td>Béla</td><td>Partiszél Vendégház</td><td>8220 Balatonalmádi Neptun u. 23.</td></tr><tr><td>Béla</td><td>Tímárház Panzió</td><td>8600 Siófok, Virág utca 1</td></tr><tr><td>Mari</td><td>Jáde panzió</td><td>8624 Balatonföldvár, Kiss u.2.</td></tr><tr><td>Béla</td><td>Kentaur Hotel</td><td>8600 Siófok (Széplak), Akácfa utca 1</td></tr><tr><td>Béla</td><td>Hotel Három Hattyú</td><td>8623 Balatonföldvár, Rákóczi Ferenc út 45.</td></tr></table>"
                    },
                    "metadata": {}
                }
            ],
            "execution_count": 28
        },
        {
            "cell_type": "code",
            "source": [
                "SELECT TIPUS, ROUND(AVG(CSILLAGOK_SZAMA), 1) AS 'Átlag csillag'\r\n",
                "FROM szallashely\r\n",
                "WHERE TIPUS NOT LIKE 'panzió'\r\n",
                "GROUP BY TIPUS\r\n",
                "HAVING AVG(CSILLAGOK_SZAMA) >= 3"
            ],
            "metadata": {
                "azdata_cell_guid": "862036a3-4b00-4d89-bca6-e402a81c6d8b",
                "language": "sql"
            },
            "outputs": [
                {
                    "output_type": "display_data",
                    "data": {
                        "text/html": "(1 row affected)"
                    },
                    "metadata": {}
                },
                {
                    "output_type": "display_data",
                    "data": {
                        "text/html": "Total execution time: 00:00:00.010"
                    },
                    "metadata": {}
                },
                {
                    "output_type": "execute_result",
                    "execution_count": 14,
                    "data": {
                        "application/vnd.dataresource+json": {
                            "schema": {
                                "fields": [
                                    {
                                        "name": "TIPUS"
                                    },
                                    {
                                        "name": "Átlag csillag"
                                    }
                                ]
                            },
                            "data": [
                                {
                                    "TIPUS": "Hotel",
                                    "Átlag csillag": "3"
                                }
                            ]
                        },
                        "text/html": "<table><tr><th>TIPUS</th><th>Átlag csillag</th></tr><tr><td>Hotel</td><td>3</td></tr></table>"
                    },
                    "metadata": {}
                }
            ],
            "execution_count": 14
        },
        {
            "cell_type": "code",
            "source": [
                "SELECT SZOBA_ID, YEAR(METTOL) AS 'Évszám', COUNT(f.FOGLALAS_PK) AS 'Foglalások száma'\r\n",
                "FROM Szoba sz JOIN Foglalas f ON sz.SZOBA_ID = f.SZOBA_FK\r\n",
                "WHERE SZOBA_SZAMA % 2 = 1\r\n",
                "GROUP BY SZOBA_ID, YEAR(METTOL)\r\n",
                "HAVING COUNT(f.FOGLALAS_PK) > 10\r\n",
                ""
            ],
            "metadata": {
                "azdata_cell_guid": "080f91b3-b33d-4bf2-8ebc-3b6d9d43d7de",
                "language": "sql"
            },
            "outputs": [
                {
                    "output_type": "display_data",
                    "data": {
                        "text/html": "(1 row affected)"
                    },
                    "metadata": {}
                },
                {
                    "output_type": "display_data",
                    "data": {
                        "text/html": "Total execution time: 00:00:00.003"
                    },
                    "metadata": {}
                },
                {
                    "output_type": "execute_result",
                    "execution_count": 27,
                    "data": {
                        "application/vnd.dataresource+json": {
                            "schema": {
                                "fields": [
                                    {
                                        "name": "SZOBA_ID"
                                    },
                                    {
                                        "name": "Évszám"
                                    },
                                    {
                                        "name": "Foglalások száma"
                                    }
                                ]
                            },
                            "data": [
                                {
                                    "SZOBA_ID": "58",
                                    "Évszám": "2016",
                                    "Foglalások száma": "12"
                                }
                            ]
                        },
                        "text/html": "<table><tr><th>SZOBA_ID</th><th>Évszám</th><th>Foglalások száma</th></tr><tr><td>58</td><td>2016</td><td>12</td></tr></table>"
                    },
                    "metadata": {}
                }
            ],
            "execution_count": 27
        }
    ]
}