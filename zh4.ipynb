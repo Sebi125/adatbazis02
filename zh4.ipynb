{
    "metadata": {
        "kernelspec": {
            "name": "SQL",
            "display_name": "SQL",
            "language": "sql"
        },
        "language_info": {
            "name": "sql",
            "version": ""
        }
    },
    "nbformat_minor": 2,
    "nbformat": 4,
    "cells": [
        {
            "cell_type": "markdown",
            "source": [
                "elso feladat"
            ],
            "metadata": {
                "azdata_cell_guid": "a7db73ee-7350-4b58-9662-1b09f45ed0e3"
            },
            "attachments": {}
        },
        {
            "cell_type": "code",
            "source": [
                "SELECT v.NEV, v.EMAIL, v.USERNEV\r\n",
                "FROM Foglalas f JOIN Vendeg v ON f.UGYFEL_FK = v.USERNEV\r\n",
                "WHERE v.SZUL_DAT NOT LIKE '%-05-%'\r\n",
                "GROUP BY v.NEV, v.EMAIL, v.USERNEV\r\n",
                "HAVING COUNT(f.UGYFEL_FK) > 1"
            ],
            "metadata": {
                "azdata_cell_guid": "4f8801f8-1539-4b3d-9ab3-ab6ba182a349",
                "language": "sql"
            },
            "outputs": [
                {
                    "output_type": "display_data",
                    "data": {
                        "text/html": "(169 rows affected)"
                    },
                    "metadata": {}
                },
                {
                    "output_type": "display_data",
                    "data": {
                        "text/html": "Total execution time: 00:00:00.048"
                    },
                    "metadata": {}
                },
                {
                    "output_type": "execute_result",
                    "metadata": {},
                    "execution_count": 7,
                    "data": {
                        "application/vnd.dataresource+json": {
                            "schema": {
                                "fields": [
                                    {
                                        "name": "NEV"
                                    },
                                    {
                                        "name": "EMAIL"
                                    },
                                    {
                                        "name": "USERNEV"
                                    }
                                ]
                            },
                            "data": [
                                {
                                    "NEV": "Kiss Ádám",
                                    "EMAIL": "ádám.kiss@mail.hu",
                                    "USERNEV": "adam1"
                                },
                                {
                                    "NEV": "Barkóci Ádám",
                                    "EMAIL": "adam3@gmail.com",
                                    "USERNEV": "adam3"
                                },
                                {
                                    "NEV": "Bieniek Ádám",
                                    "EMAIL": "ádám.bieniek@mail.hu",
                                    "USERNEV": "adam4"
                                },
                                {
                                    "NEV": "Lengyel Ágnes",
                                    "EMAIL": "agnes@gmail.com",
                                    "USERNEV": "agnes"
                                },
                                {
                                    "NEV": "Hartyánszky Ágnes",
                                    "EMAIL": "agnes3@gmail.com",
                                    "USERNEV": "agnes3"
                                },
                                {
                                    "NEV": "Horváth Ágnes",
                                    "EMAIL": "AGNESH@gmail.com",
                                    "USERNEV": "AGNESH"
                                },
                                {
                                    "NEV": "Kovács Ágnes",
                                    "EMAIL": "AGNESK@gmail.com",
                                    "USERNEV": "AGNESK"
                                },
                                {
                                    "NEV": "Bíró Ákos",
                                    "EMAIL": "ákos.bíró@mail.hu",
                                    "USERNEV": "akos"
                                },
                                {
                                    "NEV": "Dunai Aladár",
                                    "EMAIL": "aladár.dunai@mail.hu",
                                    "USERNEV": "aladar"
                                },
                                {
                                    "NEV": "Bagóczki Alexandra",
                                    "EMAIL": "alexandra.bagóczki@mail.hu",
                                    "USERNEV": "alexandra"
                                },
                                {
                                    "NEV": "Tóth András",
                                    "EMAIL": "andrás.tóth@mail.hu",
                                    "USERNEV": "andras2"
                                },
                                {
                                    "NEV": "Molnár András",
                                    "EMAIL": "andrás.molnár@mail.hu",
                                    "USERNEV": "andras21"
                                },
                                {
                                    "NEV": "Vígh András",
                                    "EMAIL": "andrás.vígh@mail.hu",
                                    "USERNEV": "andras3"
                                },
                                {
                                    "NEV": "Back András",
                                    "EMAIL": "andras4@gmail.com",
                                    "USERNEV": "andras4"
                                },
                                {
                                    "NEV": "Komjáti András",
                                    "EMAIL": "andras41@gmail.com",
                                    "USERNEV": "andras41"
                                },
                                {
                                    "NEV": "Kiss Andrea",
                                    "EMAIL": "andrea.kiss@mail.hu",
                                    "USERNEV": "andrea"
                                },
                                {
                                    "NEV": "Tornyos Andrea",
                                    "EMAIL": "ANDREAT@gmail.com",
                                    "USERNEV": "ANDREAT"
                                },
                                {
                                    "NEV": "Pivarcsi Anett",
                                    "EMAIL": "anett.pivarcsi@mail.hu",
                                    "USERNEV": "anett3"
                                },
                                {
                                    "NEV": "Tóth Anikó",
                                    "EMAIL": "aniko@gmail.com",
                                    "USERNEV": "aniko"
                                },
                                {
                                    "NEV": "Böröcz Anikó",
                                    "EMAIL": "aniko4@gmail.com",
                                    "USERNEV": "aniko4"
                                },
                                {
                                    "NEV": "Simon Anikó",
                                    "EMAIL": "ANIKOS@gmail.com",
                                    "USERNEV": "ANIKOS"
                                },
                                {
                                    "NEV": "Hamvay-Kovács Anita",
                                    "EMAIL": "anita.hamvay-kovács@mail.hu",
                                    "USERNEV": "anita"
                                },
                                {
                                    "NEV": "Szűcs Annamária",
                                    "EMAIL": "annamária.szűcs@mail.hu",
                                    "USERNEV": "annamaria1"
                                },
                                {
                                    "NEV": "Regős Annamária",
                                    "EMAIL": "ANNAMARIAR@gmail.com",
                                    "USERNEV": "ANNAMARIAR"
                                },
                                {
                                    "NEV": "Jakab Áron",
                                    "EMAIL": "aron2@gmail.com",
                                    "USERNEV": "aron2"
                                },
                                {
                                    "NEV": "Kelemen Áron",
                                    "EMAIL": "áron.kelemen@mail.hu",
                                    "USERNEV": "ARONK"
                                },
                                {
                                    "NEV": "Ötvös Árpád",
                                    "EMAIL": "árpád.ötvös@mail.hu",
                                    "USERNEV": "arpad2"
                                },
                                {
                                    "NEV": "Móricz Árpád",
                                    "EMAIL": "árpád.móricz@mail.hu",
                                    "USERNEV": "ARPADM"
                                },
                                {
                                    "NEV": "Csóti Attila",
                                    "EMAIL": "attila@gmail.com",
                                    "USERNEV": "attila"
                                },
                                {
                                    "NEV": "Gulyás Attila",
                                    "EMAIL": "attila.gulyás@mail.hu",
                                    "USERNEV": "attila1"
                                },
                                {
                                    "NEV": "Baróti Attila",
                                    "EMAIL": "attila.baróti@mail.hu",
                                    "USERNEV": "attila4"
                                },
                                {
                                    "NEV": "Bozsik Balázs",
                                    "EMAIL": "balázs.bozsik@mail.hu",
                                    "USERNEV": "balazs1"
                                },
                                {
                                    "NEV": "Szűcs Balázs",
                                    "EMAIL": "balázs.szűcs@mail.hu",
                                    "USERNEV": "balazs2"
                                },
                                {
                                    "NEV": "Bakódy Balázs",
                                    "EMAIL": "balazs3@gmail.com",
                                    "USERNEV": "balazs3"
                                },
                                {
                                    "NEV": "Horváth Bálint",
                                    "EMAIL": "balint@gmail.com",
                                    "USERNEV": "balint"
                                },
                                {
                                    "NEV": "Molnár Bálint",
                                    "EMAIL": "balint1@gmail.com",
                                    "USERNEV": "balint1"
                                },
                                {
                                    "NEV": "Vukasinovity Bálint",
                                    "EMAIL": "balint2@gmail.com",
                                    "USERNEV": "balint2"
                                },
                                {
                                    "NEV": "Endresz Bálint",
                                    "EMAIL": "bálint.endresz@mail.hu",
                                    "USERNEV": "balu"
                                },
                                {
                                    "NEV": "Bagi Beáta",
                                    "EMAIL": "beáta.bagi@mail.hu",
                                    "USERNEV": "beata4"
                                },
                                {
                                    "NEV": "Kerényi Beatrix",
                                    "EMAIL": "beatrix.kerényi@mail.hu",
                                    "USERNEV": "BEATRIXK"
                                },
                                {
                                    "NEV": "Szekendi Beatrix",
                                    "EMAIL": "beatrix.szekendi@mail.hu",
                                    "USERNEV": "BEATRIXS"
                                },
                                {
                                    "NEV": "Farkas Béla",
                                    "EMAIL": "BELAF@gmail.com",
                                    "USERNEV": "BELAF"
                                },
                                {
                                    "NEV": "Győrffy Bence",
                                    "EMAIL": "bence@gmail.com",
                                    "USERNEV": "bence"
                                },
                                {
                                    "NEV": "Bajusz Bence",
                                    "EMAIL": "bence.bajusz@mail.hu",
                                    "USERNEV": "BENCEB"
                                },
                                {
                                    "NEV": "Simon Bernadett",
                                    "EMAIL": "bernadett1@gmail.com",
                                    "USERNEV": "bernadett1"
                                },
                                {
                                    "NEV": "Kovács Bernadett",
                                    "EMAIL": "bernadett.kovács@mail.hu",
                                    "USERNEV": "bernadett2"
                                },
                                {
                                    "NEV": "Orbán Bernadett",
                                    "EMAIL": "bernadett.orbán@mail.hu",
                                    "USERNEV": "BERNADETTO"
                                },
                                {
                                    "NEV": "Csiger Bertalan",
                                    "EMAIL": "bertalan@gmail.com",
                                    "USERNEV": "bertalan"
                                },
                                {
                                    "NEV": "Székely Brigitta",
                                    "EMAIL": "brigitta.székely@mail.hu",
                                    "USERNEV": "brigitta"
                                },
                                {
                                    "NEV": "Nagymihály Csongor",
                                    "EMAIL": "csongor.nagymihály@mail.hu",
                                    "USERNEV": "csongor3"
                                },
                                {
                                    "NEV": "Vörös Dániel",
                                    "EMAIL": "daniel@gmail.com",
                                    "USERNEV": "dani"
                                },
                                {
                                    "NEV": "Rácz Dániel",
                                    "EMAIL": "dániel.rácz@mail.hu",
                                    "USERNEV": "daniel"
                                },
                                {
                                    "NEV": "Keszler Dániel",
                                    "EMAIL": "dániel.keszler@mail.hu",
                                    "USERNEV": "daniel1"
                                },
                                {
                                    "NEV": "Ambrus Dávid",
                                    "EMAIL": "david@gmail.com",
                                    "USERNEV": "david"
                                },
                                {
                                    "NEV": "Sobják Dávid",
                                    "EMAIL": "david1@gmail.com",
                                    "USERNEV": "david1"
                                },
                                {
                                    "NEV": "Barna Debóra",
                                    "EMAIL": "debóra.barna@mail.hu",
                                    "USERNEV": "debora"
                                },
                                {
                                    "NEV": "Tömböly Dénes",
                                    "EMAIL": "denes@gmail.com",
                                    "USERNEV": "denes"
                                },
                                {
                                    "NEV": "Bittmann Edit",
                                    "EMAIL": "edit.bittmann@mail.hu",
                                    "USERNEV": "edit"
                                },
                                {
                                    "NEV": "Kuruc Emese",
                                    "EMAIL": "emese.kuruc@mail.hu",
                                    "USERNEV": "emese"
                                },
                                {
                                    "NEV": "Balogh Eszter",
                                    "EMAIL": "eszter.balogh@mail.hu",
                                    "USERNEV": "eszter2"
                                },
                                {
                                    "NEV": "Fülöp Eszter",
                                    "EMAIL": "eszter.fülöp@mail.hu",
                                    "USERNEV": "eszter4"
                                },
                                {
                                    "NEV": "Érsek Eszter",
                                    "EMAIL": "eszter.érsek@mail.hu",
                                    "USERNEV": "ESZTERE"
                                },
                                {
                                    "NEV": "Enyedi Éva",
                                    "EMAIL": "eva@gmail.com",
                                    "USERNEV": "eva"
                                },
                                {
                                    "NEV": "Perlinger Éva",
                                    "EMAIL": "eva2@gmail.com",
                                    "USERNEV": "eva2"
                                },
                                {
                                    "NEV": "Viktor Éva",
                                    "EMAIL": "EVAV@gmail.com",
                                    "USERNEV": "EVAV"
                                },
                                {
                                    "NEV": "Orosz Ferenc",
                                    "EMAIL": "ferenc.orosz@mail.hu",
                                    "USERNEV": "ferenc1"
                                },
                                {
                                    "NEV": "Frank Fruzsina",
                                    "EMAIL": "fruzsina4@gmail.com",
                                    "USERNEV": "fruzsina4"
                                },
                                {
                                    "NEV": "Köves Gábor",
                                    "EMAIL": "gabor1@gmail.com",
                                    "USERNEV": "gabor1"
                                },
                                {
                                    "NEV": "Telek Gábor",
                                    "EMAIL": "gábor.telek@mail.hu",
                                    "USERNEV": "gabor4"
                                },
                                {
                                    "NEV": "Nagy Gabriella",
                                    "EMAIL": "gabriella1@gmail.com",
                                    "USERNEV": "gabriella1"
                                },
                                {
                                    "NEV": "Nyíri Georgij",
                                    "EMAIL": "georgij.nyíri@mail.hu",
                                    "USERNEV": "georgij"
                                },
                                {
                                    "NEV": "Bárci Gusztáv",
                                    "EMAIL": "gusztav@gmail.com",
                                    "USERNEV": "gusztav"
                                },
                                {
                                    "NEV": "Kornseé Gyöngyi",
                                    "EMAIL": "gyöngyi.kornseé@mail.hu",
                                    "USERNEV": "GYONGYIK"
                                },
                                {
                                    "NEV": "Oroszi György",
                                    "EMAIL": "GYORGYO@gmail.com",
                                    "USERNEV": "GYORGYO"
                                },
                                {
                                    "NEV": "Nádudvari Henrik",
                                    "EMAIL": "henrik.nádudvari@mail.hu",
                                    "USERNEV": "henrik3"
                                },
                                {
                                    "NEV": "Andor Ibolya",
                                    "EMAIL": "ibolya.andor@mail.hu",
                                    "USERNEV": "IBOLYAA"
                                },
                                {
                                    "NEV": "Bosnyák Ilona",
                                    "EMAIL": "ilona3@gmail.com",
                                    "USERNEV": "ilona3"
                                },
                                {
                                    "NEV": "Búza Imre",
                                    "EMAIL": "imre.búza@mail.hu",
                                    "USERNEV": "imre"
                                },
                                {
                                    "NEV": "Papp Imre",
                                    "EMAIL": "imre.papp@mail.hu",
                                    "USERNEV": "imre1"
                                },
                                {
                                    "NEV": "Soós István",
                                    "EMAIL": "istvan@gmail.com",
                                    "USERNEV": "istvan"
                                },
                                {
                                    "NEV": "Vizi István",
                                    "EMAIL": "istván.vizi@mail.hu",
                                    "USERNEV": "istvan1"
                                },
                                {
                                    "NEV": "Varga István",
                                    "EMAIL": "ISTVANV@gmail.com",
                                    "USERNEV": "ISTVANV"
                                },
                                {
                                    "NEV": "Harangozó János",
                                    "EMAIL": "janos3@gmail.com",
                                    "USERNEV": "janos3"
                                },
                                {
                                    "NEV": "Giliga János",
                                    "EMAIL": "JANOSG@gmail.com",
                                    "USERNEV": "JANOSG"
                                },
                                {
                                    "NEV": "Pálinkás János",
                                    "EMAIL": "JANOSP@gmail.com",
                                    "USERNEV": "JANOSP"
                                },
                                {
                                    "NEV": "Gergely József",
                                    "EMAIL": "jozsef@gmail.com",
                                    "USERNEV": "jozsef"
                                },
                                {
                                    "NEV": "Vajda József",
                                    "EMAIL": "józsef.vajda@mail.hu",
                                    "USERNEV": "jozsef2"
                                },
                                {
                                    "NEV": "Hídasi Judit",
                                    "EMAIL": "JUDITH@gmail.com",
                                    "USERNEV": "JUDITH"
                                },
                                {
                                    "NEV": "Tóth Júlia",
                                    "EMAIL": "julia@gmail.com",
                                    "USERNEV": "julia"
                                },
                                {
                                    "NEV": "Nagy Júlia",
                                    "EMAIL": "julia4@gmail.com",
                                    "USERNEV": "julia4"
                                },
                                {
                                    "NEV": "Szabó Julianna",
                                    "EMAIL": "julianna4@gmail.com",
                                    "USERNEV": "julianna4"
                                },
                                {
                                    "NEV": "Gondos Katalin",
                                    "EMAIL": "katalin.gondos@mail.hu",
                                    "USERNEV": "kata"
                                },
                                {
                                    "NEV": "Horváth Katalin",
                                    "EMAIL": "katalin.horváth@mail.hu",
                                    "USERNEV": "katalin"
                                },
                                {
                                    "NEV": "Kertész Katalin",
                                    "EMAIL": "katalin4@gmail.com",
                                    "USERNEV": "katalin4"
                                },
                                {
                                    "NEV": "Kovács Katalin",
                                    "EMAIL": "katalin.kovács@mail.hu",
                                    "USERNEV": "katka"
                                },
                                {
                                    "NEV": "Bakó Klaudia",
                                    "EMAIL": "klaudia.bakó@mail.hu",
                                    "USERNEV": "klaudia2"
                                },
                                {
                                    "NEV": "Lukács Kornél",
                                    "EMAIL": "kornél.lukács@mail.hu",
                                    "USERNEV": "kornel4"
                                },
                                {
                                    "NEV": "Poprádi Kristóf",
                                    "EMAIL": "kristof4@gmail.com",
                                    "USERNEV": "kristof4"
                                },
                                {
                                    "NEV": "Horváth Krisztina",
                                    "EMAIL": "kriszti@gmail.com",
                                    "USERNEV": "kriszti"
                                },
                                {
                                    "NEV": "Czérna Krisztián",
                                    "EMAIL": "krisztián.czérna@mail.hu",
                                    "USERNEV": "krisztian4"
                                },
                                {
                                    "NEV": "Bori Krisztina",
                                    "EMAIL": "krisztina.bori@mail.hu",
                                    "USERNEV": "krisztina1"
                                },
                                {
                                    "NEV": "Gyárfás Krisztina",
                                    "EMAIL": "KRISZTINAG@gmail.com",
                                    "USERNEV": "KRISZTINAG"
                                },
                                {
                                    "NEV": "Kiss Lajos",
                                    "EMAIL": "lajos.kiss@mail.hu",
                                    "USERNEV": "lajos"
                                },
                                {
                                    "NEV": "Nagymihály Lajos",
                                    "EMAIL": "lajos.nagymihály@mail.hu",
                                    "USERNEV": "lala"
                                },
                                {
                                    "NEV": "Móra László",
                                    "EMAIL": "lászló.móra@mail.hu",
                                    "USERNEV": "laszlo2"
                                },
                                {
                                    "NEV": "Antal László",
                                    "EMAIL": "lászló.antal@mail.hu",
                                    "USERNEV": "LASZLOA"
                                },
                                {
                                    "NEV": "Nagy László",
                                    "EMAIL": "lászló.nagy@mail.hu",
                                    "USERNEV": "LASZLON"
                                },
                                {
                                    "NEV": "Baráth Mária",
                                    "EMAIL": "mária.baráth@mail.hu",
                                    "USERNEV": "maria1"
                                },
                                {
                                    "NEV": "Kispál Márk",
                                    "EMAIL": "márk.kispál@mail.hu",
                                    "USERNEV": "mark"
                                },
                                {
                                    "NEV": "Horváth Márk",
                                    "EMAIL": "márk.horváth@mail.hu",
                                    "USERNEV": "MARKH"
                                },
                                {
                                    "NEV": "Kalacsi Márton",
                                    "EMAIL": "marton@gmail.com",
                                    "USERNEV": "marton"
                                },
                                {
                                    "NEV": "Koza Máté",
                                    "EMAIL": "máté.koza@mail.hu",
                                    "USERNEV": "MATEK"
                                },
                                {
                                    "NEV": "Botka Mátyás",
                                    "EMAIL": "matyas2@gmail.com",
                                    "USERNEV": "matyas2"
                                },
                                {
                                    "NEV": "Szilágyi Mátyás",
                                    "EMAIL": "mátyás.szilágyi@mail.hu",
                                    "USERNEV": "MATYASS"
                                },
                                {
                                    "NEV": "Juhász Mihály",
                                    "EMAIL": "mihály.juhász@mail.hu",
                                    "USERNEV": "MIHALYJ"
                                },
                                {
                                    "NEV": "Gondos Miklós",
                                    "EMAIL": "miklos2@gmail.com",
                                    "USERNEV": "miklos2"
                                },
                                {
                                    "NEV": "Balla Miklós",
                                    "EMAIL": "miklós.balla@mail.hu",
                                    "USERNEV": "MIKLOSB"
                                },
                                {
                                    "NEV": "Mohos Mónika",
                                    "EMAIL": "mónika.mohos@mail.hu",
                                    "USERNEV": "MONIKAM"
                                },
                                {
                                    "NEV": "Fő Nándor",
                                    "EMAIL": "nándor.fő@mail.hu",
                                    "USERNEV": "NANDORF"
                                },
                                {
                                    "NEV": "Horváth Nikolett",
                                    "EMAIL": "nikolett3@gmail.com",
                                    "USERNEV": "nikolett3"
                                },
                                {
                                    "NEV": "Kő Nikoletta",
                                    "EMAIL": "nikoletta4@gmail.com",
                                    "USERNEV": "nikoletta4"
                                },
                                {
                                    "NEV": "Tatár Nikoletta",
                                    "EMAIL": "nikoletta.tatár@mail.hu",
                                    "USERNEV": "NIKOLETTAT"
                                },
                                {
                                    "NEV": "Szűcs Norbert",
                                    "EMAIL": "norbert@gmail.com",
                                    "USERNEV": "norbert"
                                },
                                {
                                    "NEV": "Hegedűs Norbert",
                                    "EMAIL": "norbert.hegedűs@mail.hu",
                                    "USERNEV": "norbert2"
                                },
                                {
                                    "NEV": "Mile Norbert",
                                    "EMAIL": "norbert4@gmail.com",
                                    "USERNEV": "norbert4"
                                },
                                {
                                    "NEV": "Béres Norbert",
                                    "EMAIL": "norbert5@gmail.com",
                                    "USERNEV": "norbert5"
                                },
                                {
                                    "NEV": "Barabás Pál",
                                    "EMAIL": "pál.barabás@mail.hu",
                                    "USERNEV": "pal"
                                },
                                {
                                    "NEV": "Kozma Péter",
                                    "EMAIL": "peter1@gmail.com",
                                    "USERNEV": "peter1"
                                },
                                {
                                    "NEV": "Bozsó Péter",
                                    "EMAIL": "peter2@gmail.com",
                                    "USERNEV": "peter2"
                                },
                                {
                                    "NEV": "Szalai Péter",
                                    "EMAIL": "peter3@gmail.com",
                                    "USERNEV": "peter3"
                                },
                                {
                                    "NEV": "Bíró Péter",
                                    "EMAIL": "péter.bíró@mail.hu",
                                    "USERNEV": "peter4"
                                },
                                {
                                    "NEV": "Berendi Péter",
                                    "EMAIL": "péter.berendi@mail.hu",
                                    "USERNEV": "PETERB"
                                },
                                {
                                    "NEV": "Palágyi Polla",
                                    "EMAIL": "polla@gmail.com",
                                    "USERNEV": "polla"
                                },
                                {
                                    "NEV": "Rácz Rajmond",
                                    "EMAIL": "rajmond.rácz@mail.hu",
                                    "USERNEV": "rajmond4"
                                },
                                {
                                    "NEV": "Szikszai Réka",
                                    "EMAIL": "réka.szikszai@mail.hu",
                                    "USERNEV": "reka4"
                                },
                                {
                                    "NEV": "Szirmai Renáta",
                                    "EMAIL": "RENATAS@gmail.com",
                                    "USERNEV": "RENATAS"
                                },
                                {
                                    "NEV": "Patay Róbert",
                                    "EMAIL": "robert2@gmail.com",
                                    "USERNEV": "robert2"
                                },
                                {
                                    "NEV": "Iván Róbert",
                                    "EMAIL": "róbert.iván@mail.hu",
                                    "USERNEV": "ROBERTI"
                                },
                                {
                                    "NEV": "Tóth Roland",
                                    "EMAIL": "roland@gmail.com",
                                    "USERNEV": "roland"
                                },
                                {
                                    "NEV": "Ferencz Roland",
                                    "EMAIL": "roland.ferencz@mail.hu",
                                    "USERNEV": "roland1"
                                },
                                {
                                    "NEV": "Bucskó Róza",
                                    "EMAIL": "roza2@gmail.com",
                                    "USERNEV": "roza2"
                                },
                                {
                                    "NEV": "Karasz Sándor",
                                    "EMAIL": "sandor@gmail.com",
                                    "USERNEV": "sandor"
                                },
                                {
                                    "NEV": "Farkas Sándor",
                                    "EMAIL": "sándor.farkas@mail.hu",
                                    "USERNEV": "sandor3"
                                },
                                {
                                    "NEV": "Nagy Sándor",
                                    "EMAIL": "sandor4@gmail.com",
                                    "USERNEV": "sandor4"
                                },
                                {
                                    "NEV": "Farkas Sára",
                                    "EMAIL": "sára.farkas@mail.hu",
                                    "USERNEV": "sara"
                                },
                                {
                                    "NEV": "Foltényi Sebastián",
                                    "EMAIL": "SEBASTIANF@gmail.com",
                                    "USERNEV": "SEBASTIANF"
                                },
                                {
                                    "NEV": "Rab Sebestyén",
                                    "EMAIL": "sebestyen@gmail.com",
                                    "USERNEV": "sebestyen"
                                },
                                {
                                    "NEV": "Miklós Szabolcs",
                                    "EMAIL": "szabolcs.miklós@mail.hu",
                                    "USERNEV": "SZABOLCSM"
                                },
                                {
                                    "NEV": "Szalai Szilárd",
                                    "EMAIL": "szilárd.szalai@mail.hu",
                                    "USERNEV": "SZILARDS"
                                },
                                {
                                    "NEV": "Tari Szilvia",
                                    "EMAIL": "szilvia.tari@mail.hu",
                                    "USERNEV": "szilvia1"
                                },
                                {
                                    "NEV": "Miklós Tamara",
                                    "EMAIL": "tamara.miklós@mail.hu",
                                    "USERNEV": "tamara2"
                                },
                                {
                                    "NEV": "Antal Tamás",
                                    "EMAIL": "tamás.antal@mail.hu",
                                    "USERNEV": "tamas"
                                },
                                {
                                    "NEV": "Fényes Tamás",
                                    "EMAIL": "TAMASF@gmail.com",
                                    "USERNEV": "TAMASF"
                                },
                                {
                                    "NEV": "Gombos Tibor",
                                    "EMAIL": "tibor.gombos@mail.hu",
                                    "USERNEV": "tibor"
                                },
                                {
                                    "NEV": "Kazy Tihamér",
                                    "EMAIL": "tihamér.kazy@mail.hu",
                                    "USERNEV": "tihamer"
                                },
                                {
                                    "NEV": "Dusha Tímea",
                                    "EMAIL": "tímea.dusha@mail.hu",
                                    "USERNEV": "timea2"
                                },
                                {
                                    "NEV": "Turcsik Tünde",
                                    "EMAIL": "tunde@gmail.com",
                                    "USERNEV": "tunde"
                                },
                                {
                                    "NEV": "Feró Valentin",
                                    "EMAIL": "valentin.feró@mail.hu",
                                    "USERNEV": "valentin"
                                },
                                {
                                    "NEV": "Tankó Veronika",
                                    "EMAIL": "veronika4@gmail.com",
                                    "USERNEV": "veronika4"
                                },
                                {
                                    "NEV": "Boros Vivien",
                                    "EMAIL": "vivien3@gmail.com",
                                    "USERNEV": "vivien3"
                                },
                                {
                                    "NEV": "Fodor Zoltán",
                                    "EMAIL": "zoltán.fodor@mail.hu",
                                    "USERNEV": "zoltan"
                                },
                                {
                                    "NEV": "Pintér Zoltán",
                                    "EMAIL": "zoltán.pintér@mail.hu",
                                    "USERNEV": "ZOLTANP"
                                },
                                {
                                    "NEV": "Tóth Zoltán",
                                    "EMAIL": "zoltán.tóth@mail.hu",
                                    "USERNEV": "ZOLTANT"
                                },
                                {
                                    "NEV": "Molnár Zsófi",
                                    "EMAIL": "zsofi1@gmail.com",
                                    "USERNEV": "zsofi1"
                                },
                                {
                                    "NEV": "Józsa Zsolt",
                                    "EMAIL": "ZSOLTJ@gmail.com",
                                    "USERNEV": "ZSOLTJ"
                                },
                                {
                                    "NEV": "Pusztai Zsuzsanna",
                                    "EMAIL": "zsuzsanna@gmail.com",
                                    "USERNEV": "zsuzsa"
                                },
                                {
                                    "NEV": "Varsányi Zsuzsa",
                                    "EMAIL": "zsuzsa.varsányi@mail.hu",
                                    "USERNEV": "zsuzsa3"
                                },
                                {
                                    "NEV": "Barta Zsuzsanna",
                                    "EMAIL": "zsuzsanna.barta@mail.hu",
                                    "USERNEV": "zsuzsanna"
                                },
                                {
                                    "NEV": "Vajda Zsuzsa",
                                    "EMAIL": "zsuzsa.vajda@mail.hu",
                                    "USERNEV": "ZSUZSAV"
                                }
                            ]
                        },
                        "text/html": [
                            "<table>",
                            "<tr><th>NEV</th><th>EMAIL</th><th>USERNEV</th></tr>",
                            "<tr><td>Kiss Ádám</td><td>ádám.kiss@mail.hu</td><td>adam1</td></tr>",
                            "<tr><td>Barkóci Ádám</td><td>adam3@gmail.com</td><td>adam3</td></tr>",
                            "<tr><td>Bieniek Ádám</td><td>ádám.bieniek@mail.hu</td><td>adam4</td></tr>",
                            "<tr><td>Lengyel Ágnes</td><td>agnes@gmail.com</td><td>agnes</td></tr>",
                            "<tr><td>Hartyánszky Ágnes</td><td>agnes3@gmail.com</td><td>agnes3</td></tr>",
                            "<tr><td>Horváth Ágnes</td><td>AGNESH@gmail.com</td><td>AGNESH</td></tr>",
                            "<tr><td>Kovács Ágnes</td><td>AGNESK@gmail.com</td><td>AGNESK</td></tr>",
                            "<tr><td>Bíró Ákos</td><td>ákos.bíró@mail.hu</td><td>akos</td></tr>",
                            "<tr><td>Dunai Aladár</td><td>aladár.dunai@mail.hu</td><td>aladar</td></tr>",
                            "<tr><td>Bagóczki Alexandra</td><td>alexandra.bagóczki@mail.hu</td><td>alexandra</td></tr>",
                            "<tr><td>Tóth András</td><td>andrás.tóth@mail.hu</td><td>andras2</td></tr>",
                            "<tr><td>Molnár András</td><td>andrás.molnár@mail.hu</td><td>andras21</td></tr>",
                            "<tr><td>Vígh András</td><td>andrás.vígh@mail.hu</td><td>andras3</td></tr>",
                            "<tr><td>Back András</td><td>andras4@gmail.com</td><td>andras4</td></tr>",
                            "<tr><td>Komjáti András</td><td>andras41@gmail.com</td><td>andras41</td></tr>",
                            "<tr><td>Kiss Andrea</td><td>andrea.kiss@mail.hu</td><td>andrea</td></tr>",
                            "<tr><td>Tornyos Andrea</td><td>ANDREAT@gmail.com</td><td>ANDREAT</td></tr>",
                            "<tr><td>Pivarcsi Anett</td><td>anett.pivarcsi@mail.hu</td><td>anett3</td></tr>",
                            "<tr><td>Tóth Anikó</td><td>aniko@gmail.com</td><td>aniko</td></tr>",
                            "<tr><td>Böröcz Anikó</td><td>aniko4@gmail.com</td><td>aniko4</td></tr>",
                            "<tr><td>Simon Anikó</td><td>ANIKOS@gmail.com</td><td>ANIKOS</td></tr>",
                            "<tr><td>Hamvay-Kovács Anita</td><td>anita.hamvay-kovács@mail.hu</td><td>anita</td></tr>",
                            "<tr><td>Szűcs Annamária</td><td>annamária.szűcs@mail.hu</td><td>annamaria1</td></tr>",
                            "<tr><td>Regős Annamária</td><td>ANNAMARIAR@gmail.com</td><td>ANNAMARIAR</td></tr>",
                            "<tr><td>Jakab Áron</td><td>aron2@gmail.com</td><td>aron2</td></tr>",
                            "<tr><td>Kelemen Áron</td><td>áron.kelemen@mail.hu</td><td>ARONK</td></tr>",
                            "<tr><td>Ötvös Árpád</td><td>árpád.ötvös@mail.hu</td><td>arpad2</td></tr>",
                            "<tr><td>Móricz Árpád</td><td>árpád.móricz@mail.hu</td><td>ARPADM</td></tr>",
                            "<tr><td>Csóti Attila</td><td>attila@gmail.com</td><td>attila</td></tr>",
                            "<tr><td>Gulyás Attila</td><td>attila.gulyás@mail.hu</td><td>attila1</td></tr>",
                            "<tr><td>Baróti Attila</td><td>attila.baróti@mail.hu</td><td>attila4</td></tr>",
                            "<tr><td>Bozsik Balázs</td><td>balázs.bozsik@mail.hu</td><td>balazs1</td></tr>",
                            "<tr><td>Szűcs Balázs</td><td>balázs.szűcs@mail.hu</td><td>balazs2</td></tr>",
                            "<tr><td>Bakódy Balázs</td><td>balazs3@gmail.com</td><td>balazs3</td></tr>",
                            "<tr><td>Horváth Bálint</td><td>balint@gmail.com</td><td>balint</td></tr>",
                            "<tr><td>Molnár Bálint</td><td>balint1@gmail.com</td><td>balint1</td></tr>",
                            "<tr><td>Vukasinovity Bálint</td><td>balint2@gmail.com</td><td>balint2</td></tr>",
                            "<tr><td>Endresz Bálint</td><td>bálint.endresz@mail.hu</td><td>balu</td></tr>",
                            "<tr><td>Bagi Beáta</td><td>beáta.bagi@mail.hu</td><td>beata4</td></tr>",
                            "<tr><td>Kerényi Beatrix</td><td>beatrix.kerényi@mail.hu</td><td>BEATRIXK</td></tr>",
                            "<tr><td>Szekendi Beatrix</td><td>beatrix.szekendi@mail.hu</td><td>BEATRIXS</td></tr>",
                            "<tr><td>Farkas Béla</td><td>BELAF@gmail.com</td><td>BELAF</td></tr>",
                            "<tr><td>Győrffy Bence</td><td>bence@gmail.com</td><td>bence</td></tr>",
                            "<tr><td>Bajusz Bence</td><td>bence.bajusz@mail.hu</td><td>BENCEB</td></tr>",
                            "<tr><td>Simon Bernadett</td><td>bernadett1@gmail.com</td><td>bernadett1</td></tr>",
                            "<tr><td>Kovács Bernadett</td><td>bernadett.kovács@mail.hu</td><td>bernadett2</td></tr>",
                            "<tr><td>Orbán Bernadett</td><td>bernadett.orbán@mail.hu</td><td>BERNADETTO</td></tr>",
                            "<tr><td>Csiger Bertalan</td><td>bertalan@gmail.com</td><td>bertalan</td></tr>",
                            "<tr><td>Székely Brigitta</td><td>brigitta.székely@mail.hu</td><td>brigitta</td></tr>",
                            "<tr><td>Nagymihály Csongor</td><td>csongor.nagymihály@mail.hu</td><td>csongor3</td></tr>",
                            "<tr><td>Vörös Dániel</td><td>daniel@gmail.com</td><td>dani</td></tr>",
                            "<tr><td>Rácz Dániel</td><td>dániel.rácz@mail.hu</td><td>daniel</td></tr>",
                            "<tr><td>Keszler Dániel</td><td>dániel.keszler@mail.hu</td><td>daniel1</td></tr>",
                            "<tr><td>Ambrus Dávid</td><td>david@gmail.com</td><td>david</td></tr>",
                            "<tr><td>Sobják Dávid</td><td>david1@gmail.com</td><td>david1</td></tr>",
                            "<tr><td>Barna Debóra</td><td>debóra.barna@mail.hu</td><td>debora</td></tr>",
                            "<tr><td>Tömböly Dénes</td><td>denes@gmail.com</td><td>denes</td></tr>",
                            "<tr><td>Bittmann Edit</td><td>edit.bittmann@mail.hu</td><td>edit</td></tr>",
                            "<tr><td>Kuruc Emese</td><td>emese.kuruc@mail.hu</td><td>emese</td></tr>",
                            "<tr><td>Balogh Eszter</td><td>eszter.balogh@mail.hu</td><td>eszter2</td></tr>",
                            "<tr><td>Fülöp Eszter</td><td>eszter.fülöp@mail.hu</td><td>eszter4</td></tr>",
                            "<tr><td>Érsek Eszter</td><td>eszter.érsek@mail.hu</td><td>ESZTERE</td></tr>",
                            "<tr><td>Enyedi Éva</td><td>eva@gmail.com</td><td>eva</td></tr>",
                            "<tr><td>Perlinger Éva</td><td>eva2@gmail.com</td><td>eva2</td></tr>",
                            "<tr><td>Viktor Éva</td><td>EVAV@gmail.com</td><td>EVAV</td></tr>",
                            "<tr><td>Orosz Ferenc</td><td>ferenc.orosz@mail.hu</td><td>ferenc1</td></tr>",
                            "<tr><td>Frank Fruzsina</td><td>fruzsina4@gmail.com</td><td>fruzsina4</td></tr>",
                            "<tr><td>Köves Gábor</td><td>gabor1@gmail.com</td><td>gabor1</td></tr>",
                            "<tr><td>Telek Gábor</td><td>gábor.telek@mail.hu</td><td>gabor4</td></tr>",
                            "<tr><td>Nagy Gabriella</td><td>gabriella1@gmail.com</td><td>gabriella1</td></tr>",
                            "<tr><td>Nyíri Georgij</td><td>georgij.nyíri@mail.hu</td><td>georgij</td></tr>",
                            "<tr><td>Bárci Gusztáv</td><td>gusztav@gmail.com</td><td>gusztav</td></tr>",
                            "<tr><td>Kornseé Gyöngyi</td><td>gyöngyi.kornseé@mail.hu</td><td>GYONGYIK</td></tr>",
                            "<tr><td>Oroszi György</td><td>GYORGYO@gmail.com</td><td>GYORGYO</td></tr>",
                            "<tr><td>Nádudvari Henrik</td><td>henrik.nádudvari@mail.hu</td><td>henrik3</td></tr>",
                            "<tr><td>Andor Ibolya</td><td>ibolya.andor@mail.hu</td><td>IBOLYAA</td></tr>",
                            "<tr><td>Bosnyák Ilona</td><td>ilona3@gmail.com</td><td>ilona3</td></tr>",
                            "<tr><td>Búza Imre</td><td>imre.búza@mail.hu</td><td>imre</td></tr>",
                            "<tr><td>Papp Imre</td><td>imre.papp@mail.hu</td><td>imre1</td></tr>",
                            "<tr><td>Soós István</td><td>istvan@gmail.com</td><td>istvan</td></tr>",
                            "<tr><td>Vizi István</td><td>istván.vizi@mail.hu</td><td>istvan1</td></tr>",
                            "<tr><td>Varga István</td><td>ISTVANV@gmail.com</td><td>ISTVANV</td></tr>",
                            "<tr><td>Harangozó János</td><td>janos3@gmail.com</td><td>janos3</td></tr>",
                            "<tr><td>Giliga János</td><td>JANOSG@gmail.com</td><td>JANOSG</td></tr>",
                            "<tr><td>Pálinkás János</td><td>JANOSP@gmail.com</td><td>JANOSP</td></tr>",
                            "<tr><td>Gergely József</td><td>jozsef@gmail.com</td><td>jozsef</td></tr>",
                            "<tr><td>Vajda József</td><td>józsef.vajda@mail.hu</td><td>jozsef2</td></tr>",
                            "<tr><td>Hídasi Judit</td><td>JUDITH@gmail.com</td><td>JUDITH</td></tr>",
                            "<tr><td>Tóth Júlia</td><td>julia@gmail.com</td><td>julia</td></tr>",
                            "<tr><td>Nagy Júlia</td><td>julia4@gmail.com</td><td>julia4</td></tr>",
                            "<tr><td>Szabó Julianna</td><td>julianna4@gmail.com</td><td>julianna4</td></tr>",
                            "<tr><td>Gondos Katalin</td><td>katalin.gondos@mail.hu</td><td>kata</td></tr>",
                            "<tr><td>Horváth Katalin</td><td>katalin.horváth@mail.hu</td><td>katalin</td></tr>",
                            "<tr><td>Kertész Katalin</td><td>katalin4@gmail.com</td><td>katalin4</td></tr>",
                            "<tr><td>Kovács Katalin</td><td>katalin.kovács@mail.hu</td><td>katka</td></tr>",
                            "<tr><td>Bakó Klaudia</td><td>klaudia.bakó@mail.hu</td><td>klaudia2</td></tr>",
                            "<tr><td>Lukács Kornél</td><td>kornél.lukács@mail.hu</td><td>kornel4</td></tr>",
                            "<tr><td>Poprádi Kristóf</td><td>kristof4@gmail.com</td><td>kristof4</td></tr>",
                            "<tr><td>Horváth Krisztina</td><td>kriszti@gmail.com</td><td>kriszti</td></tr>",
                            "<tr><td>Czérna Krisztián</td><td>krisztián.czérna@mail.hu</td><td>krisztian4</td></tr>",
                            "<tr><td>Bori Krisztina</td><td>krisztina.bori@mail.hu</td><td>krisztina1</td></tr>",
                            "<tr><td>Gyárfás Krisztina</td><td>KRISZTINAG@gmail.com</td><td>KRISZTINAG</td></tr>",
                            "<tr><td>Kiss Lajos</td><td>lajos.kiss@mail.hu</td><td>lajos</td></tr>",
                            "<tr><td>Nagymihály Lajos</td><td>lajos.nagymihály@mail.hu</td><td>lala</td></tr>",
                            "<tr><td>Móra László</td><td>lászló.móra@mail.hu</td><td>laszlo2</td></tr>",
                            "<tr><td>Antal László</td><td>lászló.antal@mail.hu</td><td>LASZLOA</td></tr>",
                            "<tr><td>Nagy László</td><td>lászló.nagy@mail.hu</td><td>LASZLON</td></tr>",
                            "<tr><td>Baráth Mária</td><td>mária.baráth@mail.hu</td><td>maria1</td></tr>",
                            "<tr><td>Kispál Márk</td><td>márk.kispál@mail.hu</td><td>mark</td></tr>",
                            "<tr><td>Horváth Márk</td><td>márk.horváth@mail.hu</td><td>MARKH</td></tr>",
                            "<tr><td>Kalacsi Márton</td><td>marton@gmail.com</td><td>marton</td></tr>",
                            "<tr><td>Koza Máté</td><td>máté.koza@mail.hu</td><td>MATEK</td></tr>",
                            "<tr><td>Botka Mátyás</td><td>matyas2@gmail.com</td><td>matyas2</td></tr>",
                            "<tr><td>Szilágyi Mátyás</td><td>mátyás.szilágyi@mail.hu</td><td>MATYASS</td></tr>",
                            "<tr><td>Juhász Mihály</td><td>mihály.juhász@mail.hu</td><td>MIHALYJ</td></tr>",
                            "<tr><td>Gondos Miklós</td><td>miklos2@gmail.com</td><td>miklos2</td></tr>",
                            "<tr><td>Balla Miklós</td><td>miklós.balla@mail.hu</td><td>MIKLOSB</td></tr>",
                            "<tr><td>Mohos Mónika</td><td>mónika.mohos@mail.hu</td><td>MONIKAM</td></tr>",
                            "<tr><td>Fő Nándor</td><td>nándor.fő@mail.hu</td><td>NANDORF</td></tr>",
                            "<tr><td>Horváth Nikolett</td><td>nikolett3@gmail.com</td><td>nikolett3</td></tr>",
                            "<tr><td>Kő Nikoletta</td><td>nikoletta4@gmail.com</td><td>nikoletta4</td></tr>",
                            "<tr><td>Tatár Nikoletta</td><td>nikoletta.tatár@mail.hu</td><td>NIKOLETTAT</td></tr>",
                            "<tr><td>Szűcs Norbert</td><td>norbert@gmail.com</td><td>norbert</td></tr>",
                            "<tr><td>Hegedűs Norbert</td><td>norbert.hegedűs@mail.hu</td><td>norbert2</td></tr>",
                            "<tr><td>Mile Norbert</td><td>norbert4@gmail.com</td><td>norbert4</td></tr>",
                            "<tr><td>Béres Norbert</td><td>norbert5@gmail.com</td><td>norbert5</td></tr>",
                            "<tr><td>Barabás Pál</td><td>pál.barabás@mail.hu</td><td>pal</td></tr>",
                            "<tr><td>Kozma Péter</td><td>peter1@gmail.com</td><td>peter1</td></tr>",
                            "<tr><td>Bozsó Péter</td><td>peter2@gmail.com</td><td>peter2</td></tr>",
                            "<tr><td>Szalai Péter</td><td>peter3@gmail.com</td><td>peter3</td></tr>",
                            "<tr><td>Bíró Péter</td><td>péter.bíró@mail.hu</td><td>peter4</td></tr>",
                            "<tr><td>Berendi Péter</td><td>péter.berendi@mail.hu</td><td>PETERB</td></tr>",
                            "<tr><td>Palágyi Polla</td><td>polla@gmail.com</td><td>polla</td></tr>",
                            "<tr><td>Rácz Rajmond</td><td>rajmond.rácz@mail.hu</td><td>rajmond4</td></tr>",
                            "<tr><td>Szikszai Réka</td><td>réka.szikszai@mail.hu</td><td>reka4</td></tr>",
                            "<tr><td>Szirmai Renáta</td><td>RENATAS@gmail.com</td><td>RENATAS</td></tr>",
                            "<tr><td>Patay Róbert</td><td>robert2@gmail.com</td><td>robert2</td></tr>",
                            "<tr><td>Iván Róbert</td><td>róbert.iván@mail.hu</td><td>ROBERTI</td></tr>",
                            "<tr><td>Tóth Roland</td><td>roland@gmail.com</td><td>roland</td></tr>",
                            "<tr><td>Ferencz Roland</td><td>roland.ferencz@mail.hu</td><td>roland1</td></tr>",
                            "<tr><td>Bucskó Róza</td><td>roza2@gmail.com</td><td>roza2</td></tr>",
                            "<tr><td>Karasz Sándor</td><td>sandor@gmail.com</td><td>sandor</td></tr>",
                            "<tr><td>Farkas Sándor</td><td>sándor.farkas@mail.hu</td><td>sandor3</td></tr>",
                            "<tr><td>Nagy Sándor</td><td>sandor4@gmail.com</td><td>sandor4</td></tr>",
                            "<tr><td>Farkas Sára</td><td>sára.farkas@mail.hu</td><td>sara</td></tr>",
                            "<tr><td>Foltényi Sebastián</td><td>SEBASTIANF@gmail.com</td><td>SEBASTIANF</td></tr>",
                            "<tr><td>Rab Sebestyén</td><td>sebestyen@gmail.com</td><td>sebestyen</td></tr>",
                            "<tr><td>Miklós Szabolcs</td><td>szabolcs.miklós@mail.hu</td><td>SZABOLCSM</td></tr>",
                            "<tr><td>Szalai Szilárd</td><td>szilárd.szalai@mail.hu</td><td>SZILARDS</td></tr>",
                            "<tr><td>Tari Szilvia</td><td>szilvia.tari@mail.hu</td><td>szilvia1</td></tr>",
                            "<tr><td>Miklós Tamara</td><td>tamara.miklós@mail.hu</td><td>tamara2</td></tr>",
                            "<tr><td>Antal Tamás</td><td>tamás.antal@mail.hu</td><td>tamas</td></tr>",
                            "<tr><td>Fényes Tamás</td><td>TAMASF@gmail.com</td><td>TAMASF</td></tr>",
                            "<tr><td>Gombos Tibor</td><td>tibor.gombos@mail.hu</td><td>tibor</td></tr>",
                            "<tr><td>Kazy Tihamér</td><td>tihamér.kazy@mail.hu</td><td>tihamer</td></tr>",
                            "<tr><td>Dusha Tímea</td><td>tímea.dusha@mail.hu</td><td>timea2</td></tr>",
                            "<tr><td>Turcsik Tünde</td><td>tunde@gmail.com</td><td>tunde</td></tr>",
                            "<tr><td>Feró Valentin</td><td>valentin.feró@mail.hu</td><td>valentin</td></tr>",
                            "<tr><td>Tankó Veronika</td><td>veronika4@gmail.com</td><td>veronika4</td></tr>",
                            "<tr><td>Boros Vivien</td><td>vivien3@gmail.com</td><td>vivien3</td></tr>",
                            "<tr><td>Fodor Zoltán</td><td>zoltán.fodor@mail.hu</td><td>zoltan</td></tr>",
                            "<tr><td>Pintér Zoltán</td><td>zoltán.pintér@mail.hu</td><td>ZOLTANP</td></tr>",
                            "<tr><td>Tóth Zoltán</td><td>zoltán.tóth@mail.hu</td><td>ZOLTANT</td></tr>",
                            "<tr><td>Molnár Zsófi</td><td>zsofi1@gmail.com</td><td>zsofi1</td></tr>",
                            "<tr><td>Józsa Zsolt</td><td>ZSOLTJ@gmail.com</td><td>ZSOLTJ</td></tr>",
                            "<tr><td>Pusztai Zsuzsanna</td><td>zsuzsanna@gmail.com</td><td>zsuzsa</td></tr>",
                            "<tr><td>Varsányi Zsuzsa</td><td>zsuzsa.varsányi@mail.hu</td><td>zsuzsa3</td></tr>",
                            "<tr><td>Barta Zsuzsanna</td><td>zsuzsanna.barta@mail.hu</td><td>zsuzsanna</td></tr>",
                            "<tr><td>Vajda Zsuzsa</td><td>zsuzsa.vajda@mail.hu</td><td>ZSUZSAV</td></tr>",
                            "</table>"
                        ]
                    }
                }
            ],
            "execution_count": 7
        },
        {
            "cell_type": "code",
            "source": [
                "SELECT v.USERNEV, v.NEV,RANK() OVER(ORDER BY COUNT(*)) AS 'rangsor'\r\n",
                "FROM Foglalas f JOIN Vendeg v ON f.UGYFEL_FK = v.USERNEV\r\n",
                "GROUP BY v.USERNEV, v.NEV"
            ],
            "metadata": {
                "azdata_cell_guid": "3647e025-f3d5-4179-bf8c-54c521dedc57",
                "language": "sql"
            },
            "outputs": [
                {
                    "output_type": "display_data",
                    "data": {
                        "text/html": "(195 rows affected)"
                    },
                    "metadata": {}
                },
                {
                    "output_type": "display_data",
                    "data": {
                        "text/html": "Total execution time: 00:00:00.013"
                    },
                    "metadata": {}
                },
                {
                    "output_type": "execute_result",
                    "metadata": {},
                    "execution_count": 32,
                    "data": {
                        "application/vnd.dataresource+json": {
                            "schema": {
                                "fields": [
                                    {
                                        "name": "USERNEV"
                                    },
                                    {
                                        "name": "NEV"
                                    },
                                    {
                                        "name": "rangsor"
                                    }
                                ]
                            },
                            "data": [
                                {
                                    "USERNEV": "ANDRASN",
                                    "NEV": "Nagy András",
                                    "rangsor": "1"
                                },
                                {
                                    "USERNEV": "andrea3",
                                    "NEV": "Szomor Andrea",
                                    "rangsor": "1"
                                },
                                {
                                    "USERNEV": "david4",
                                    "NEV": "Berta Dávid",
                                    "rangsor": "1"
                                },
                                {
                                    "USERNEV": "gabriella10",
                                    "NEV": "Vida Gabriella",
                                    "rangsor": "1"
                                },
                                {
                                    "USERNEV": "laszlo1",
                                    "NEV": "Farkas László",
                                    "rangsor": "1"
                                },
                                {
                                    "USERNEV": "szabolcs",
                                    "NEV": "Bodor Szabolcs",
                                    "rangsor": "1"
                                },
                                {
                                    "USERNEV": "tibor2",
                                    "NEV": "Dániel Tibor",
                                    "rangsor": "1"
                                },
                                {
                                    "USERNEV": "timea",
                                    "NEV": "Papós Tímea",
                                    "rangsor": "1"
                                },
                                {
                                    "USERNEV": "tibor",
                                    "NEV": "Gombos Tibor",
                                    "rangsor": "9"
                                },
                                {
                                    "USERNEV": "tamara2",
                                    "NEV": "Miklós Tamara",
                                    "rangsor": "9"
                                },
                                {
                                    "USERNEV": "ROBERTP",
                                    "NEV": "Pásztor Róbert",
                                    "rangsor": "9"
                                },
                                {
                                    "USERNEV": "VIKTORK",
                                    "NEV": "Keresztúri Viktor",
                                    "rangsor": "9"
                                },
                                {
                                    "USERNEV": "zoltan",
                                    "NEV": "Fodor Zoltán",
                                    "rangsor": "9"
                                },
                                {
                                    "USERNEV": "zsofi1",
                                    "NEV": "Molnár Zsófi",
                                    "rangsor": "9"
                                },
                                {
                                    "USERNEV": "kristof4",
                                    "NEV": "Poprádi Kristóf",
                                    "rangsor": "9"
                                },
                                {
                                    "USERNEV": "matyas2",
                                    "NEV": "Botka Mátyás",
                                    "rangsor": "9"
                                },
                                {
                                    "USERNEV": "eva",
                                    "NEV": "Enyedi Éva",
                                    "rangsor": "9"
                                },
                                {
                                    "USERNEV": "imre",
                                    "NEV": "Búza Imre",
                                    "rangsor": "9"
                                },
                                {
                                    "USERNEV": "ISTVANV",
                                    "NEV": "Varga István",
                                    "rangsor": "9"
                                },
                                {
                                    "USERNEV": "julia4",
                                    "NEV": "Nagy Júlia",
                                    "rangsor": "9"
                                },
                                {
                                    "USERNEV": "balint2",
                                    "NEV": "Vukasinovity Bálint",
                                    "rangsor": "9"
                                },
                                {
                                    "USERNEV": "balu",
                                    "NEV": "Endresz Bálint",
                                    "rangsor": "9"
                                },
                                {
                                    "USERNEV": "annamaria1",
                                    "NEV": "Szűcs Annamária",
                                    "rangsor": "9"
                                },
                                {
                                    "USERNEV": "adam3",
                                    "NEV": "Barkóci Ádám",
                                    "rangsor": "9"
                                },
                                {
                                    "USERNEV": "adam1",
                                    "NEV": "Kiss Ádám",
                                    "rangsor": "25"
                                },
                                {
                                    "USERNEV": "agnes3",
                                    "NEV": "Hartyánszky Ágnes",
                                    "rangsor": "25"
                                },
                                {
                                    "USERNEV": "AGNESK",
                                    "NEV": "Kovács Ágnes",
                                    "rangsor": "25"
                                },
                                {
                                    "USERNEV": "aladar",
                                    "NEV": "Dunai Aladár",
                                    "rangsor": "25"
                                },
                                {
                                    "USERNEV": "andras4",
                                    "NEV": "Back András",
                                    "rangsor": "25"
                                },
                                {
                                    "USERNEV": "ANDREAT",
                                    "NEV": "Tornyos Andrea",
                                    "rangsor": "25"
                                },
                                {
                                    "USERNEV": "aniko",
                                    "NEV": "Tóth Anikó",
                                    "rangsor": "25"
                                },
                                {
                                    "USERNEV": "balint",
                                    "NEV": "Horváth Bálint",
                                    "rangsor": "25"
                                },
                                {
                                    "USERNEV": "attila4",
                                    "NEV": "Baróti Attila",
                                    "rangsor": "25"
                                },
                                {
                                    "USERNEV": "attila",
                                    "NEV": "Csóti Attila",
                                    "rangsor": "25"
                                },
                                {
                                    "USERNEV": "JUDITH",
                                    "NEV": "Hídasi Judit",
                                    "rangsor": "25"
                                },
                                {
                                    "USERNEV": "jozsef",
                                    "NEV": "Gergely József",
                                    "rangsor": "25"
                                },
                                {
                                    "USERNEV": "istvan",
                                    "NEV": "Soós István",
                                    "rangsor": "25"
                                },
                                {
                                    "USERNEV": "eszter4",
                                    "NEV": "Fülöp Eszter",
                                    "rangsor": "25"
                                },
                                {
                                    "USERNEV": "henrik3",
                                    "NEV": "Nádudvari Henrik",
                                    "rangsor": "25"
                                },
                                {
                                    "USERNEV": "IBOLYAA",
                                    "NEV": "Andor Ibolya",
                                    "rangsor": "25"
                                },
                                {
                                    "USERNEV": "MATEK",
                                    "NEV": "Koza Máté",
                                    "rangsor": "25"
                                },
                                {
                                    "USERNEV": "miklos2",
                                    "NEV": "Gondos Miklós",
                                    "rangsor": "25"
                                },
                                {
                                    "USERNEV": "MIKLOSB",
                                    "NEV": "Balla Miklós",
                                    "rangsor": "25"
                                },
                                {
                                    "USERNEV": "NANDORF",
                                    "NEV": "Fő Nándor",
                                    "rangsor": "25"
                                },
                                {
                                    "USERNEV": "klaudia2",
                                    "NEV": "Bakó Klaudia",
                                    "rangsor": "25"
                                },
                                {
                                    "USERNEV": "kornel4",
                                    "NEV": "Lukács Kornél",
                                    "rangsor": "25"
                                },
                                {
                                    "USERNEV": "lajos",
                                    "NEV": "Kiss Lajos",
                                    "rangsor": "25"
                                },
                                {
                                    "USERNEV": "ZOLTANT",
                                    "NEV": "Tóth Zoltán",
                                    "rangsor": "25"
                                },
                                {
                                    "USERNEV": "zsuzsa",
                                    "NEV": "Pusztai Zsuzsanna",
                                    "rangsor": "25"
                                },
                                {
                                    "USERNEV": "roza2",
                                    "NEV": "Bucskó Róza",
                                    "rangsor": "25"
                                },
                                {
                                    "USERNEV": "norbert5",
                                    "NEV": "Béres Norbert",
                                    "rangsor": "25"
                                },
                                {
                                    "USERNEV": "rajmond4",
                                    "NEV": "Rácz Rajmond",
                                    "rangsor": "52"
                                },
                                {
                                    "USERNEV": "sandor",
                                    "NEV": "Karasz Sándor",
                                    "rangsor": "52"
                                },
                                {
                                    "USERNEV": "sandor4",
                                    "NEV": "Nagy Sándor",
                                    "rangsor": "52"
                                },
                                {
                                    "USERNEV": "roland",
                                    "NEV": "Tóth Roland",
                                    "rangsor": "52"
                                },
                                {
                                    "USERNEV": "roland1",
                                    "NEV": "Ferencz Roland",
                                    "rangsor": "52"
                                },
                                {
                                    "USERNEV": "robert2",
                                    "NEV": "Patay Róbert",
                                    "rangsor": "52"
                                },
                                {
                                    "USERNEV": "tamas",
                                    "NEV": "Antal Tamás",
                                    "rangsor": "52"
                                },
                                {
                                    "USERNEV": "sebestyen",
                                    "NEV": "Rab Sebestyén",
                                    "rangsor": "52"
                                },
                                {
                                    "USERNEV": "VIKTORIAU",
                                    "NEV": "Urbán Viktoria",
                                    "rangsor": "52"
                                },
                                {
                                    "USERNEV": "zsuzsa3",
                                    "NEV": "Varsányi Zsuzsa",
                                    "rangsor": "52"
                                },
                                {
                                    "USERNEV": "zsuzsanna",
                                    "NEV": "Barta Zsuzsanna",
                                    "rangsor": "52"
                                },
                                {
                                    "USERNEV": "zsolt1",
                                    "NEV": "Pulai Zsolt",
                                    "rangsor": "52"
                                },
                                {
                                    "USERNEV": "LASZLOA",
                                    "NEV": "Antal László",
                                    "rangsor": "52"
                                },
                                {
                                    "USERNEV": "MARKH",
                                    "NEV": "Horváth Márk",
                                    "rangsor": "52"
                                },
                                {
                                    "USERNEV": "nikolett3",
                                    "NEV": "Horváth Nikolett",
                                    "rangsor": "52"
                                },
                                {
                                    "USERNEV": "NIKOLETTAT",
                                    "NEV": "Tatár Nikoletta",
                                    "rangsor": "52"
                                },
                                {
                                    "USERNEV": "peter1",
                                    "NEV": "Kozma Péter",
                                    "rangsor": "52"
                                },
                                {
                                    "USERNEV": "peter2",
                                    "NEV": "Bozsó Péter",
                                    "rangsor": "52"
                                },
                                {
                                    "USERNEV": "ilona3",
                                    "NEV": "Bosnyák Ilona",
                                    "rangsor": "52"
                                },
                                {
                                    "USERNEV": "gabor4",
                                    "NEV": "Telek Gábor",
                                    "rangsor": "52"
                                },
                                {
                                    "USERNEV": "georgij",
                                    "NEV": "Nyíri Georgij",
                                    "rangsor": "52"
                                },
                                {
                                    "USERNEV": "ESZTERE",
                                    "NEV": "Érsek Eszter",
                                    "rangsor": "52"
                                },
                                {
                                    "USERNEV": "eva2",
                                    "NEV": "Perlinger Éva",
                                    "rangsor": "52"
                                },
                                {
                                    "USERNEV": "ferenc1",
                                    "NEV": "Orosz Ferenc",
                                    "rangsor": "52"
                                },
                                {
                                    "USERNEV": "istvan1",
                                    "NEV": "Vizi István",
                                    "rangsor": "52"
                                },
                                {
                                    "USERNEV": "julianna4",
                                    "NEV": "Szabó Julianna",
                                    "rangsor": "52"
                                },
                                {
                                    "USERNEV": "JANOSP",
                                    "NEV": "Pálinkás János",
                                    "rangsor": "52"
                                },
                                {
                                    "USERNEV": "ATTILAO",
                                    "NEV": "Opra Attila",
                                    "rangsor": "52"
                                },
                                {
                                    "USERNEV": "debora",
                                    "NEV": "Barna Debóra",
                                    "rangsor": "52"
                                },
                                {
                                    "USERNEV": "eszter",
                                    "NEV": "Molnár Eszter",
                                    "rangsor": "52"
                                },
                                {
                                    "USERNEV": "aniko4",
                                    "NEV": "Böröcz Anikó",
                                    "rangsor": "52"
                                },
                                {
                                    "USERNEV": "andrea4",
                                    "NEV": "Neizer Andrea",
                                    "rangsor": "52"
                                },
                                {
                                    "USERNEV": "anita",
                                    "NEV": "Hamvay-Kovács Anita",
                                    "rangsor": "52"
                                },
                                {
                                    "USERNEV": "ANDRASE",
                                    "NEV": "Erdei András",
                                    "rangsor": "85"
                                },
                                {
                                    "USERNEV": "andi",
                                    "NEV": "Maródi Andrea",
                                    "rangsor": "85"
                                },
                                {
                                    "USERNEV": "andras2",
                                    "NEV": "Tóth András",
                                    "rangsor": "85"
                                },
                                {
                                    "USERNEV": "agnes",
                                    "NEV": "Lengyel Ágnes",
                                    "rangsor": "85"
                                },
                                {
                                    "USERNEV": "dora3",
                                    "NEV": "Sarodi Dóra",
                                    "rangsor": "85"
                                },
                                {
                                    "USERNEV": "brigitta",
                                    "NEV": "Székely Brigitta",
                                    "rangsor": "85"
                                },
                                {
                                    "USERNEV": "brigitta3",
                                    "NEV": "Pataki Brigitta",
                                    "rangsor": "85"
                                },
                                {
                                    "USERNEV": "julia",
                                    "NEV": "Tóth Júlia",
                                    "rangsor": "85"
                                },
                                {
                                    "USERNEV": "jozsef2",
                                    "NEV": "Vajda József",
                                    "rangsor": "85"
                                },
                                {
                                    "USERNEV": "janos3",
                                    "NEV": "Harangozó János",
                                    "rangsor": "85"
                                },
                                {
                                    "USERNEV": "EVAV",
                                    "NEV": "Viktor Éva",
                                    "rangsor": "85"
                                },
                                {
                                    "USERNEV": "gusztav",
                                    "NEV": "Bárci Gusztáv",
                                    "rangsor": "85"
                                },
                                {
                                    "USERNEV": "norbert",
                                    "NEV": "Szűcs Norbert",
                                    "rangsor": "85"
                                },
                                {
                                    "USERNEV": "mark",
                                    "NEV": "Kispál Márk",
                                    "rangsor": "85"
                                },
                                {
                                    "USERNEV": "laszlo2",
                                    "NEV": "Móra László",
                                    "rangsor": "85"
                                },
                                {
                                    "USERNEV": "KRISZTINAG",
                                    "NEV": "Gyárfás Krisztina",
                                    "rangsor": "85"
                                },
                                {
                                    "USERNEV": "valentin",
                                    "NEV": "Feró Valentin",
                                    "rangsor": "85"
                                },
                                {
                                    "USERNEV": "timea2",
                                    "NEV": "Dusha Tímea",
                                    "rangsor": "85"
                                },
                                {
                                    "USERNEV": "SEBASTIANF",
                                    "NEV": "Foltényi Sebastián",
                                    "rangsor": "85"
                                },
                                {
                                    "USERNEV": "sandor3",
                                    "NEV": "Farkas Sándor",
                                    "rangsor": "85"
                                },
                                {
                                    "USERNEV": "reka4",
                                    "NEV": "Szikszai Réka",
                                    "rangsor": "85"
                                },
                                {
                                    "USERNEV": "MIHALYJ",
                                    "NEV": "Juhász Mihály",
                                    "rangsor": "85"
                                },
                                {
                                    "USERNEV": "RENATAS",
                                    "NEV": "Szirmai Renáta",
                                    "rangsor": "85"
                                },
                                {
                                    "USERNEV": "pal",
                                    "NEV": "Barabás Pál",
                                    "rangsor": "85"
                                },
                                {
                                    "USERNEV": "PETERB",
                                    "NEV": "Berendi Péter",
                                    "rangsor": "85"
                                },
                                {
                                    "USERNEV": "polla",
                                    "NEV": "Palágyi Polla",
                                    "rangsor": "110"
                                },
                                {
                                    "USERNEV": "RENATAK",
                                    "NEV": "Kardos Renáta",
                                    "rangsor": "110"
                                },
                                {
                                    "USERNEV": "tihamer",
                                    "NEV": "Kazy Tihamér",
                                    "rangsor": "110"
                                },
                                {
                                    "USERNEV": "veronika4",
                                    "NEV": "Tankó Veronika",
                                    "rangsor": "110"
                                },
                                {
                                    "USERNEV": "ZSOLTJ",
                                    "NEV": "Józsa Zsolt",
                                    "rangsor": "110"
                                },
                                {
                                    "USERNEV": "ZOLTANP",
                                    "NEV": "Pintér Zoltán",
                                    "rangsor": "110"
                                },
                                {
                                    "USERNEV": "ZSUZSAV",
                                    "NEV": "Vajda Zsuzsa",
                                    "rangsor": "110"
                                },
                                {
                                    "USERNEV": "krisztina1",
                                    "NEV": "Bori Krisztina",
                                    "rangsor": "110"
                                },
                                {
                                    "USERNEV": "KRISZTIANM",
                                    "NEV": "Mogyródi Krisztián",
                                    "rangsor": "110"
                                },
                                {
                                    "USERNEV": "kriszti",
                                    "NEV": "Horváth Krisztina",
                                    "rangsor": "110"
                                },
                                {
                                    "USERNEV": "lala",
                                    "NEV": "Nagymihály Lajos",
                                    "rangsor": "110"
                                },
                                {
                                    "USERNEV": "LASZLON",
                                    "NEV": "Nagy László",
                                    "rangsor": "110"
                                },
                                {
                                    "USERNEV": "MONIKAM",
                                    "NEV": "Mohos Mónika",
                                    "rangsor": "110"
                                },
                                {
                                    "USERNEV": "peter3",
                                    "NEV": "Szalai Péter",
                                    "rangsor": "110"
                                },
                                {
                                    "USERNEV": "gabriella1",
                                    "NEV": "Nagy Gabriella",
                                    "rangsor": "110"
                                },
                                {
                                    "USERNEV": "david1",
                                    "NEV": "Sobják Dávid",
                                    "rangsor": "110"
                                },
                                {
                                    "USERNEV": "gabor1",
                                    "NEV": "Köves Gábor",
                                    "rangsor": "110"
                                },
                                {
                                    "USERNEV": "katalin4",
                                    "NEV": "Kertész Katalin",
                                    "rangsor": "110"
                                },
                                {
                                    "USERNEV": "BENCEB",
                                    "NEV": "Bajusz Bence",
                                    "rangsor": "110"
                                },
                                {
                                    "USERNEV": "bertalan",
                                    "NEV": "Csiger Bertalan",
                                    "rangsor": "110"
                                },
                                {
                                    "USERNEV": "denes",
                                    "NEV": "Tömböly Dénes",
                                    "rangsor": "110"
                                },
                                {
                                    "USERNEV": "balazs1",
                                    "NEV": "Bozsik Balázs",
                                    "rangsor": "110"
                                },
                                {
                                    "USERNEV": "attila1",
                                    "NEV": "Gulyás Attila",
                                    "rangsor": "110"
                                },
                                {
                                    "USERNEV": "ARPADM",
                                    "NEV": "Móricz Árpád",
                                    "rangsor": "110"
                                },
                                {
                                    "USERNEV": "balazs3",
                                    "NEV": "Bakódy Balázs",
                                    "rangsor": "110"
                                },
                                {
                                    "USERNEV": "BEATRIXS",
                                    "NEV": "Szekendi Beatrix",
                                    "rangsor": "110"
                                },
                                {
                                    "USERNEV": "BELAF",
                                    "NEV": "Farkas Béla",
                                    "rangsor": "110"
                                },
                                {
                                    "USERNEV": "beata4",
                                    "NEV": "Bagi Beáta",
                                    "rangsor": "110"
                                },
                                {
                                    "USERNEV": "adam4",
                                    "NEV": "Bieniek Ádám",
                                    "rangsor": "110"
                                },
                                {
                                    "USERNEV": "AGNESH",
                                    "NEV": "Horváth Ágnes",
                                    "rangsor": "110"
                                },
                                {
                                    "USERNEV": "ANNAMARIAR",
                                    "NEV": "Regős Annamária",
                                    "rangsor": "110"
                                },
                                {
                                    "USERNEV": "aron2",
                                    "NEV": "Jakab Áron",
                                    "rangsor": "110"
                                },
                                {
                                    "USERNEV": "andrea",
                                    "NEV": "Kiss Andrea",
                                    "rangsor": "110"
                                },
                                {
                                    "USERNEV": "arpad2",
                                    "NEV": "Ötvös Árpád",
                                    "rangsor": "143"
                                },
                                {
                                    "USERNEV": "ARPADH",
                                    "NEV": "Horváth Árpád",
                                    "rangsor": "143"
                                },
                                {
                                    "USERNEV": "andras21",
                                    "NEV": "Molnár András",
                                    "rangsor": "143"
                                },
                                {
                                    "USERNEV": "alexandra",
                                    "NEV": "Bagóczki Alexandra",
                                    "rangsor": "143"
                                },
                                {
                                    "USERNEV": "daniel1",
                                    "NEV": "Keszler Dániel",
                                    "rangsor": "143"
                                },
                                {
                                    "USERNEV": "edit",
                                    "NEV": "Bittmann Edit",
                                    "rangsor": "143"
                                },
                                {
                                    "USERNEV": "emese",
                                    "NEV": "Kuruc Emese",
                                    "rangsor": "143"
                                },
                                {
                                    "USERNEV": "BERNADETTO",
                                    "NEV": "Orbán Bernadett",
                                    "rangsor": "143"
                                },
                                {
                                    "USERNEV": "bernadett1",
                                    "NEV": "Simon Bernadett",
                                    "rangsor": "143"
                                },
                                {
                                    "USERNEV": "kati",
                                    "NEV": "Zatykó Katalin",
                                    "rangsor": "143"
                                },
                                {
                                    "USERNEV": "JANOSG",
                                    "NEV": "Giliga János",
                                    "rangsor": "143"
                                },
                                {
                                    "USERNEV": "JOZSEFG",
                                    "NEV": "Gyuris József",
                                    "rangsor": "143"
                                },
                                {
                                    "USERNEV": "imre1",
                                    "NEV": "Papp Imre",
                                    "rangsor": "143"
                                },
                                {
                                    "USERNEV": "GYONGYIK",
                                    "NEV": "Kornseé Gyöngyi",
                                    "rangsor": "143"
                                },
                                {
                                    "USERNEV": "norbert2",
                                    "NEV": "Hegedűs Norbert",
                                    "rangsor": "143"
                                },
                                {
                                    "USERNEV": "nikoletta4",
                                    "NEV": "Kő Nikoletta",
                                    "rangsor": "143"
                                },
                                {
                                    "USERNEV": "marton",
                                    "NEV": "Kalacsi Márton",
                                    "rangsor": "143"
                                },
                                {
                                    "USERNEV": "vivien3",
                                    "NEV": "Boros Vivien",
                                    "rangsor": "143"
                                },
                                {
                                    "USERNEV": "SZABOLCSM",
                                    "NEV": "Miklós Szabolcs",
                                    "rangsor": "143"
                                },
                                {
                                    "USERNEV": "SZILARDS",
                                    "NEV": "Szalai Szilárd",
                                    "rangsor": "143"
                                },
                                {
                                    "USERNEV": "tunde",
                                    "NEV": "Turcsik Tünde",
                                    "rangsor": "163"
                                },
                                {
                                    "USERNEV": "ROBERTI",
                                    "NEV": "Iván Róbert",
                                    "rangsor": "163"
                                },
                                {
                                    "USERNEV": "maria1",
                                    "NEV": "Baráth Mária",
                                    "rangsor": "163"
                                },
                                {
                                    "USERNEV": "krisztina",
                                    "NEV": "Szedlár Krisztina",
                                    "rangsor": "163"
                                },
                                {
                                    "USERNEV": "MATYASS",
                                    "NEV": "Szilágyi Mátyás",
                                    "rangsor": "163"
                                },
                                {
                                    "USERNEV": "GYORGYO",
                                    "NEV": "Oroszi György",
                                    "rangsor": "163"
                                },
                                {
                                    "USERNEV": "fruzsina4",
                                    "NEV": "Frank Fruzsina",
                                    "rangsor": "163"
                                },
                                {
                                    "USERNEV": "bernadett2",
                                    "NEV": "Kovács Bernadett",
                                    "rangsor": "163"
                                },
                                {
                                    "USERNEV": "csongor3",
                                    "NEV": "Nagymihály Csongor",
                                    "rangsor": "163"
                                },
                                {
                                    "USERNEV": "andras3",
                                    "NEV": "Vígh András",
                                    "rangsor": "163"
                                },
                                {
                                    "USERNEV": "anett3",
                                    "NEV": "Pivarcsi Anett",
                                    "rangsor": "163"
                                },
                                {
                                    "USERNEV": "ANIKOS",
                                    "NEV": "Simon Anikó",
                                    "rangsor": "174"
                                },
                                {
                                    "USERNEV": "dani",
                                    "NEV": "Vörös Dániel",
                                    "rangsor": "174"
                                },
                                {
                                    "USERNEV": "daniel",
                                    "NEV": "Rácz Dániel",
                                    "rangsor": "174"
                                },
                                {
                                    "USERNEV": "david",
                                    "NEV": "Ambrus Dávid",
                                    "rangsor": "174"
                                },
                                {
                                    "USERNEV": "BEATRIXK",
                                    "NEV": "Kerényi Beatrix",
                                    "rangsor": "174"
                                },
                                {
                                    "USERNEV": "bence",
                                    "NEV": "Győrffy Bence",
                                    "rangsor": "174"
                                },
                                {
                                    "USERNEV": "katka",
                                    "NEV": "Kovács Katalin",
                                    "rangsor": "174"
                                },
                                {
                                    "USERNEV": "katalin",
                                    "NEV": "Horváth Katalin",
                                    "rangsor": "174"
                                },
                                {
                                    "USERNEV": "norbert4",
                                    "NEV": "Mile Norbert",
                                    "rangsor": "174"
                                },
                                {
                                    "USERNEV": "szilvia1",
                                    "NEV": "Tari Szilvia",
                                    "rangsor": "174"
                                },
                                {
                                    "USERNEV": "TAMASF",
                                    "NEV": "Fényes Tamás",
                                    "rangsor": "174"
                                },
                                {
                                    "USERNEV": "kata",
                                    "NEV": "Gondos Katalin",
                                    "rangsor": "185"
                                },
                                {
                                    "USERNEV": "balint1",
                                    "NEV": "Molnár Bálint",
                                    "rangsor": "185"
                                },
                                {
                                    "USERNEV": "balazs2",
                                    "NEV": "Szűcs Balázs",
                                    "rangsor": "185"
                                },
                                {
                                    "USERNEV": "eszter2",
                                    "NEV": "Balogh Eszter",
                                    "rangsor": "185"
                                },
                                {
                                    "USERNEV": "akos",
                                    "NEV": "Bíró Ákos",
                                    "rangsor": "185"
                                },
                                {
                                    "USERNEV": "peter4",
                                    "NEV": "Bíró Péter",
                                    "rangsor": "190"
                                },
                                {
                                    "USERNEV": "krisztian4",
                                    "NEV": "Czérna Krisztián",
                                    "rangsor": "190"
                                },
                                {
                                    "USERNEV": "sara",
                                    "NEV": "Farkas Sára",
                                    "rangsor": "190"
                                },
                                {
                                    "USERNEV": "zoltan4",
                                    "NEV": "Barna Zoltán",
                                    "rangsor": "190"
                                },
                                {
                                    "USERNEV": "andras41",
                                    "NEV": "Komjáti András",
                                    "rangsor": "194"
                                },
                                {
                                    "USERNEV": "ARONK",
                                    "NEV": "Kelemen Áron",
                                    "rangsor": "194"
                                }
                            ]
                        },
                        "text/html": [
                            "<table>",
                            "<tr><th>USERNEV</th><th>NEV</th><th>rangsor</th></tr>",
                            "<tr><td>ANDRASN</td><td>Nagy András</td><td>1</td></tr>",
                            "<tr><td>andrea3</td><td>Szomor Andrea</td><td>1</td></tr>",
                            "<tr><td>david4</td><td>Berta Dávid</td><td>1</td></tr>",
                            "<tr><td>gabriella10</td><td>Vida Gabriella</td><td>1</td></tr>",
                            "<tr><td>laszlo1</td><td>Farkas László</td><td>1</td></tr>",
                            "<tr><td>szabolcs</td><td>Bodor Szabolcs</td><td>1</td></tr>",
                            "<tr><td>tibor2</td><td>Dániel Tibor</td><td>1</td></tr>",
                            "<tr><td>timea</td><td>Papós Tímea</td><td>1</td></tr>",
                            "<tr><td>tibor</td><td>Gombos Tibor</td><td>9</td></tr>",
                            "<tr><td>tamara2</td><td>Miklós Tamara</td><td>9</td></tr>",
                            "<tr><td>ROBERTP</td><td>Pásztor Róbert</td><td>9</td></tr>",
                            "<tr><td>VIKTORK</td><td>Keresztúri Viktor</td><td>9</td></tr>",
                            "<tr><td>zoltan</td><td>Fodor Zoltán</td><td>9</td></tr>",
                            "<tr><td>zsofi1</td><td>Molnár Zsófi</td><td>9</td></tr>",
                            "<tr><td>kristof4</td><td>Poprádi Kristóf</td><td>9</td></tr>",
                            "<tr><td>matyas2</td><td>Botka Mátyás</td><td>9</td></tr>",
                            "<tr><td>eva</td><td>Enyedi Éva</td><td>9</td></tr>",
                            "<tr><td>imre</td><td>Búza Imre</td><td>9</td></tr>",
                            "<tr><td>ISTVANV</td><td>Varga István</td><td>9</td></tr>",
                            "<tr><td>julia4</td><td>Nagy Júlia</td><td>9</td></tr>",
                            "<tr><td>balint2</td><td>Vukasinovity Bálint</td><td>9</td></tr>",
                            "<tr><td>balu</td><td>Endresz Bálint</td><td>9</td></tr>",
                            "<tr><td>annamaria1</td><td>Szűcs Annamária</td><td>9</td></tr>",
                            "<tr><td>adam3</td><td>Barkóci Ádám</td><td>9</td></tr>",
                            "<tr><td>adam1</td><td>Kiss Ádám</td><td>25</td></tr>",
                            "<tr><td>agnes3</td><td>Hartyánszky Ágnes</td><td>25</td></tr>",
                            "<tr><td>AGNESK</td><td>Kovács Ágnes</td><td>25</td></tr>",
                            "<tr><td>aladar</td><td>Dunai Aladár</td><td>25</td></tr>",
                            "<tr><td>andras4</td><td>Back András</td><td>25</td></tr>",
                            "<tr><td>ANDREAT</td><td>Tornyos Andrea</td><td>25</td></tr>",
                            "<tr><td>aniko</td><td>Tóth Anikó</td><td>25</td></tr>",
                            "<tr><td>balint</td><td>Horváth Bálint</td><td>25</td></tr>",
                            "<tr><td>attila4</td><td>Baróti Attila</td><td>25</td></tr>",
                            "<tr><td>attila</td><td>Csóti Attila</td><td>25</td></tr>",
                            "<tr><td>JUDITH</td><td>Hídasi Judit</td><td>25</td></tr>",
                            "<tr><td>jozsef</td><td>Gergely József</td><td>25</td></tr>",
                            "<tr><td>istvan</td><td>Soós István</td><td>25</td></tr>",
                            "<tr><td>eszter4</td><td>Fülöp Eszter</td><td>25</td></tr>",
                            "<tr><td>henrik3</td><td>Nádudvari Henrik</td><td>25</td></tr>",
                            "<tr><td>IBOLYAA</td><td>Andor Ibolya</td><td>25</td></tr>",
                            "<tr><td>MATEK</td><td>Koza Máté</td><td>25</td></tr>",
                            "<tr><td>miklos2</td><td>Gondos Miklós</td><td>25</td></tr>",
                            "<tr><td>MIKLOSB</td><td>Balla Miklós</td><td>25</td></tr>",
                            "<tr><td>NANDORF</td><td>Fő Nándor</td><td>25</td></tr>",
                            "<tr><td>klaudia2</td><td>Bakó Klaudia</td><td>25</td></tr>",
                            "<tr><td>kornel4</td><td>Lukács Kornél</td><td>25</td></tr>",
                            "<tr><td>lajos</td><td>Kiss Lajos</td><td>25</td></tr>",
                            "<tr><td>ZOLTANT</td><td>Tóth Zoltán</td><td>25</td></tr>",
                            "<tr><td>zsuzsa</td><td>Pusztai Zsuzsanna</td><td>25</td></tr>",
                            "<tr><td>roza2</td><td>Bucskó Róza</td><td>25</td></tr>",
                            "<tr><td>norbert5</td><td>Béres Norbert</td><td>25</td></tr>",
                            "<tr><td>rajmond4</td><td>Rácz Rajmond</td><td>52</td></tr>",
                            "<tr><td>sandor</td><td>Karasz Sándor</td><td>52</td></tr>",
                            "<tr><td>sandor4</td><td>Nagy Sándor</td><td>52</td></tr>",
                            "<tr><td>roland</td><td>Tóth Roland</td><td>52</td></tr>",
                            "<tr><td>roland1</td><td>Ferencz Roland</td><td>52</td></tr>",
                            "<tr><td>robert2</td><td>Patay Róbert</td><td>52</td></tr>",
                            "<tr><td>tamas</td><td>Antal Tamás</td><td>52</td></tr>",
                            "<tr><td>sebestyen</td><td>Rab Sebestyén</td><td>52</td></tr>",
                            "<tr><td>VIKTORIAU</td><td>Urbán Viktoria</td><td>52</td></tr>",
                            "<tr><td>zsuzsa3</td><td>Varsányi Zsuzsa</td><td>52</td></tr>",
                            "<tr><td>zsuzsanna</td><td>Barta Zsuzsanna</td><td>52</td></tr>",
                            "<tr><td>zsolt1</td><td>Pulai Zsolt</td><td>52</td></tr>",
                            "<tr><td>LASZLOA</td><td>Antal László</td><td>52</td></tr>",
                            "<tr><td>MARKH</td><td>Horváth Márk</td><td>52</td></tr>",
                            "<tr><td>nikolett3</td><td>Horváth Nikolett</td><td>52</td></tr>",
                            "<tr><td>NIKOLETTAT</td><td>Tatár Nikoletta</td><td>52</td></tr>",
                            "<tr><td>peter1</td><td>Kozma Péter</td><td>52</td></tr>",
                            "<tr><td>peter2</td><td>Bozsó Péter</td><td>52</td></tr>",
                            "<tr><td>ilona3</td><td>Bosnyák Ilona</td><td>52</td></tr>",
                            "<tr><td>gabor4</td><td>Telek Gábor</td><td>52</td></tr>",
                            "<tr><td>georgij</td><td>Nyíri Georgij</td><td>52</td></tr>",
                            "<tr><td>ESZTERE</td><td>Érsek Eszter</td><td>52</td></tr>",
                            "<tr><td>eva2</td><td>Perlinger Éva</td><td>52</td></tr>",
                            "<tr><td>ferenc1</td><td>Orosz Ferenc</td><td>52</td></tr>",
                            "<tr><td>istvan1</td><td>Vizi István</td><td>52</td></tr>",
                            "<tr><td>julianna4</td><td>Szabó Julianna</td><td>52</td></tr>",
                            "<tr><td>JANOSP</td><td>Pálinkás János</td><td>52</td></tr>",
                            "<tr><td>ATTILAO</td><td>Opra Attila</td><td>52</td></tr>",
                            "<tr><td>debora</td><td>Barna Debóra</td><td>52</td></tr>",
                            "<tr><td>eszter</td><td>Molnár Eszter</td><td>52</td></tr>",
                            "<tr><td>aniko4</td><td>Böröcz Anikó</td><td>52</td></tr>",
                            "<tr><td>andrea4</td><td>Neizer Andrea</td><td>52</td></tr>",
                            "<tr><td>anita</td><td>Hamvay-Kovács Anita</td><td>52</td></tr>",
                            "<tr><td>ANDRASE</td><td>Erdei András</td><td>85</td></tr>",
                            "<tr><td>andi</td><td>Maródi Andrea</td><td>85</td></tr>",
                            "<tr><td>andras2</td><td>Tóth András</td><td>85</td></tr>",
                            "<tr><td>agnes</td><td>Lengyel Ágnes</td><td>85</td></tr>",
                            "<tr><td>dora3</td><td>Sarodi Dóra</td><td>85</td></tr>",
                            "<tr><td>brigitta</td><td>Székely Brigitta</td><td>85</td></tr>",
                            "<tr><td>brigitta3</td><td>Pataki Brigitta</td><td>85</td></tr>",
                            "<tr><td>julia</td><td>Tóth Júlia</td><td>85</td></tr>",
                            "<tr><td>jozsef2</td><td>Vajda József</td><td>85</td></tr>",
                            "<tr><td>janos3</td><td>Harangozó János</td><td>85</td></tr>",
                            "<tr><td>EVAV</td><td>Viktor Éva</td><td>85</td></tr>",
                            "<tr><td>gusztav</td><td>Bárci Gusztáv</td><td>85</td></tr>",
                            "<tr><td>norbert</td><td>Szűcs Norbert</td><td>85</td></tr>",
                            "<tr><td>mark</td><td>Kispál Márk</td><td>85</td></tr>",
                            "<tr><td>laszlo2</td><td>Móra László</td><td>85</td></tr>",
                            "<tr><td>KRISZTINAG</td><td>Gyárfás Krisztina</td><td>85</td></tr>",
                            "<tr><td>valentin</td><td>Feró Valentin</td><td>85</td></tr>",
                            "<tr><td>timea2</td><td>Dusha Tímea</td><td>85</td></tr>",
                            "<tr><td>SEBASTIANF</td><td>Foltényi Sebastián</td><td>85</td></tr>",
                            "<tr><td>sandor3</td><td>Farkas Sándor</td><td>85</td></tr>",
                            "<tr><td>reka4</td><td>Szikszai Réka</td><td>85</td></tr>",
                            "<tr><td>MIHALYJ</td><td>Juhász Mihály</td><td>85</td></tr>",
                            "<tr><td>RENATAS</td><td>Szirmai Renáta</td><td>85</td></tr>",
                            "<tr><td>pal</td><td>Barabás Pál</td><td>85</td></tr>",
                            "<tr><td>PETERB</td><td>Berendi Péter</td><td>85</td></tr>",
                            "<tr><td>polla</td><td>Palágyi Polla</td><td>110</td></tr>",
                            "<tr><td>RENATAK</td><td>Kardos Renáta</td><td>110</td></tr>",
                            "<tr><td>tihamer</td><td>Kazy Tihamér</td><td>110</td></tr>",
                            "<tr><td>veronika4</td><td>Tankó Veronika</td><td>110</td></tr>",
                            "<tr><td>ZSOLTJ</td><td>Józsa Zsolt</td><td>110</td></tr>",
                            "<tr><td>ZOLTANP</td><td>Pintér Zoltán</td><td>110</td></tr>",
                            "<tr><td>ZSUZSAV</td><td>Vajda Zsuzsa</td><td>110</td></tr>",
                            "<tr><td>krisztina1</td><td>Bori Krisztina</td><td>110</td></tr>",
                            "<tr><td>KRISZTIANM</td><td>Mogyródi Krisztián</td><td>110</td></tr>",
                            "<tr><td>kriszti</td><td>Horváth Krisztina</td><td>110</td></tr>",
                            "<tr><td>lala</td><td>Nagymihály Lajos</td><td>110</td></tr>",
                            "<tr><td>LASZLON</td><td>Nagy László</td><td>110</td></tr>",
                            "<tr><td>MONIKAM</td><td>Mohos Mónika</td><td>110</td></tr>",
                            "<tr><td>peter3</td><td>Szalai Péter</td><td>110</td></tr>",
                            "<tr><td>gabriella1</td><td>Nagy Gabriella</td><td>110</td></tr>",
                            "<tr><td>david1</td><td>Sobják Dávid</td><td>110</td></tr>",
                            "<tr><td>gabor1</td><td>Köves Gábor</td><td>110</td></tr>",
                            "<tr><td>katalin4</td><td>Kertész Katalin</td><td>110</td></tr>",
                            "<tr><td>BENCEB</td><td>Bajusz Bence</td><td>110</td></tr>",
                            "<tr><td>bertalan</td><td>Csiger Bertalan</td><td>110</td></tr>",
                            "<tr><td>denes</td><td>Tömböly Dénes</td><td>110</td></tr>",
                            "<tr><td>balazs1</td><td>Bozsik Balázs</td><td>110</td></tr>",
                            "<tr><td>attila1</td><td>Gulyás Attila</td><td>110</td></tr>",
                            "<tr><td>ARPADM</td><td>Móricz Árpád</td><td>110</td></tr>",
                            "<tr><td>balazs3</td><td>Bakódy Balázs</td><td>110</td></tr>",
                            "<tr><td>BEATRIXS</td><td>Szekendi Beatrix</td><td>110</td></tr>",
                            "<tr><td>BELAF</td><td>Farkas Béla</td><td>110</td></tr>",
                            "<tr><td>beata4</td><td>Bagi Beáta</td><td>110</td></tr>",
                            "<tr><td>adam4</td><td>Bieniek Ádám</td><td>110</td></tr>",
                            "<tr><td>AGNESH</td><td>Horváth Ágnes</td><td>110</td></tr>",
                            "<tr><td>ANNAMARIAR</td><td>Regős Annamária</td><td>110</td></tr>",
                            "<tr><td>aron2</td><td>Jakab Áron</td><td>110</td></tr>",
                            "<tr><td>andrea</td><td>Kiss Andrea</td><td>110</td></tr>",
                            "<tr><td>arpad2</td><td>Ötvös Árpád</td><td>143</td></tr>",
                            "<tr><td>ARPADH</td><td>Horváth Árpád</td><td>143</td></tr>",
                            "<tr><td>andras21</td><td>Molnár András</td><td>143</td></tr>",
                            "<tr><td>alexandra</td><td>Bagóczki Alexandra</td><td>143</td></tr>",
                            "<tr><td>daniel1</td><td>Keszler Dániel</td><td>143</td></tr>",
                            "<tr><td>edit</td><td>Bittmann Edit</td><td>143</td></tr>",
                            "<tr><td>emese</td><td>Kuruc Emese</td><td>143</td></tr>",
                            "<tr><td>BERNADETTO</td><td>Orbán Bernadett</td><td>143</td></tr>",
                            "<tr><td>bernadett1</td><td>Simon Bernadett</td><td>143</td></tr>",
                            "<tr><td>kati</td><td>Zatykó Katalin</td><td>143</td></tr>",
                            "<tr><td>JANOSG</td><td>Giliga János</td><td>143</td></tr>",
                            "<tr><td>JOZSEFG</td><td>Gyuris József</td><td>143</td></tr>",
                            "<tr><td>imre1</td><td>Papp Imre</td><td>143</td></tr>",
                            "<tr><td>GYONGYIK</td><td>Kornseé Gyöngyi</td><td>143</td></tr>",
                            "<tr><td>norbert2</td><td>Hegedűs Norbert</td><td>143</td></tr>",
                            "<tr><td>nikoletta4</td><td>Kő Nikoletta</td><td>143</td></tr>",
                            "<tr><td>marton</td><td>Kalacsi Márton</td><td>143</td></tr>",
                            "<tr><td>vivien3</td><td>Boros Vivien</td><td>143</td></tr>",
                            "<tr><td>SZABOLCSM</td><td>Miklós Szabolcs</td><td>143</td></tr>",
                            "<tr><td>SZILARDS</td><td>Szalai Szilárd</td><td>143</td></tr>",
                            "<tr><td>tunde</td><td>Turcsik Tünde</td><td>163</td></tr>",
                            "<tr><td>ROBERTI</td><td>Iván Róbert</td><td>163</td></tr>",
                            "<tr><td>maria1</td><td>Baráth Mária</td><td>163</td></tr>",
                            "<tr><td>krisztina</td><td>Szedlár Krisztina</td><td>163</td></tr>",
                            "<tr><td>MATYASS</td><td>Szilágyi Mátyás</td><td>163</td></tr>",
                            "<tr><td>GYORGYO</td><td>Oroszi György</td><td>163</td></tr>",
                            "<tr><td>fruzsina4</td><td>Frank Fruzsina</td><td>163</td></tr>",
                            "<tr><td>bernadett2</td><td>Kovács Bernadett</td><td>163</td></tr>",
                            "<tr><td>csongor3</td><td>Nagymihály Csongor</td><td>163</td></tr>",
                            "<tr><td>andras3</td><td>Vígh András</td><td>163</td></tr>",
                            "<tr><td>anett3</td><td>Pivarcsi Anett</td><td>163</td></tr>",
                            "<tr><td>ANIKOS</td><td>Simon Anikó</td><td>174</td></tr>",
                            "<tr><td>dani</td><td>Vörös Dániel</td><td>174</td></tr>",
                            "<tr><td>daniel</td><td>Rácz Dániel</td><td>174</td></tr>",
                            "<tr><td>david</td><td>Ambrus Dávid</td><td>174</td></tr>",
                            "<tr><td>BEATRIXK</td><td>Kerényi Beatrix</td><td>174</td></tr>",
                            "<tr><td>bence</td><td>Győrffy Bence</td><td>174</td></tr>",
                            "<tr><td>katka</td><td>Kovács Katalin</td><td>174</td></tr>",
                            "<tr><td>katalin</td><td>Horváth Katalin</td><td>174</td></tr>",
                            "<tr><td>norbert4</td><td>Mile Norbert</td><td>174</td></tr>",
                            "<tr><td>szilvia1</td><td>Tari Szilvia</td><td>174</td></tr>",
                            "<tr><td>TAMASF</td><td>Fényes Tamás</td><td>174</td></tr>",
                            "<tr><td>kata</td><td>Gondos Katalin</td><td>185</td></tr>",
                            "<tr><td>balint1</td><td>Molnár Bálint</td><td>185</td></tr>",
                            "<tr><td>balazs2</td><td>Szűcs Balázs</td><td>185</td></tr>",
                            "<tr><td>eszter2</td><td>Balogh Eszter</td><td>185</td></tr>",
                            "<tr><td>akos</td><td>Bíró Ákos</td><td>185</td></tr>",
                            "<tr><td>peter4</td><td>Bíró Péter</td><td>190</td></tr>",
                            "<tr><td>krisztian4</td><td>Czérna Krisztián</td><td>190</td></tr>",
                            "<tr><td>sara</td><td>Farkas Sára</td><td>190</td></tr>",
                            "<tr><td>zoltan4</td><td>Barna Zoltán</td><td>190</td></tr>",
                            "<tr><td>andras41</td><td>Komjáti András</td><td>194</td></tr>",
                            "<tr><td>ARONK</td><td>Kelemen Áron</td><td>194</td></tr>",
                            "</table>"
                        ]
                    }
                }
            ],
            "execution_count": 32
        },
        {
            "cell_type": "code",
            "source": [
                "SELECT sz.SZOBA_ID, DAY(METTOL) AS 'NAP', COUNT(f.FOGLALAS_PK) OVER (PARTITION BY sz.SZOBA_ID) AS 'SZOBANKENT', COUNT(f.FOGLALAS_PK) OVER (PARTITION BY DAY(METTOL)) AS 'NAPONTA' ,COUNT(f.FOGLALAS_PK) OVER (PARTITION BY sz.SZOBA_ID, DAY(METTOL)) AS 'SZOBANKENT NAPONTA'\r\n",
                "FROM FOGLALAS f JOIN Szoba sz ON f.SZOBA_FK = sz.SZOBA_ID"
            ],
            "metadata": {
                "azdata_cell_guid": "be18f0b9-e1c7-45bf-8098-9ea3239adde1",
                "language": "sql"
            },
            "outputs": [
                {
                    "output_type": "display_data",
                    "data": {
                        "text/html": "(1027 rows affected)"
                    },
                    "metadata": {}
                },
                {
                    "output_type": "display_data",
                    "data": {
                        "text/html": "Total execution time: 00:00:00.026"
                    },
                    "metadata": {}
                },
                {
                    "output_type": "execute_result",
                    "metadata": {},
                    "execution_count": 43,
                    "data": {
                        "application/vnd.dataresource+json": {
                            "schema": {
                                "fields": [
                                    {
                                        "name": "SZOBA_ID"
                                    },
                                    {
                                        "name": "NAP"
                                    },
                                    {
                                        "name": "SZOBANKENT"
                                    },
                                    {
                                        "name": "NAPONTA"
                                    },
                                    {
                                        "name": "SZOBANKENT NAPONTA"
                                    }
                                ]
                            },
                            "data": [
                                {
                                    "SZOBA_ID": "1",
                                    "NAP": "1",
                                    "SZOBANKENT": "8",
                                    "NAPONTA": "48",
                                    "SZOBANKENT NAPONTA": "1"
                                },
                                {
                                    "SZOBA_ID": "1",
                                    "NAP": "5",
                                    "SZOBANKENT": "8",
                                    "NAPONTA": "36",
                                    "SZOBANKENT NAPONTA": "1"
                                },
                                {
                                    "SZOBA_ID": "1",
                                    "NAP": "9",
                                    "SZOBANKENT": "8",
                                    "NAPONTA": "39",
                                    "SZOBANKENT NAPONTA": "1"
                                },
                                {
                                    "SZOBA_ID": "1",
                                    "NAP": "10",
                                    "SZOBANKENT": "8",
                                    "NAPONTA": "37",
                                    "SZOBANKENT NAPONTA": "1"
                                },
                                {
                                    "SZOBA_ID": "1",
                                    "NAP": "11",
                                    "SZOBANKENT": "8",
                                    "NAPONTA": "13",
                                    "SZOBANKENT NAPONTA": "1"
                                },
                                {
                                    "SZOBA_ID": "1",
                                    "NAP": "15",
                                    "SZOBANKENT": "8",
                                    "NAPONTA": "25",
                                    "SZOBANKENT NAPONTA": "1"
                                },
                                {
                                    "SZOBA_ID": "1",
                                    "NAP": "20",
                                    "SZOBANKENT": "8",
                                    "NAPONTA": "32",
                                    "SZOBANKENT NAPONTA": "1"
                                },
                                {
                                    "SZOBA_ID": "1",
                                    "NAP": "30",
                                    "SZOBANKENT": "8",
                                    "NAPONTA": "47",
                                    "SZOBANKENT NAPONTA": "1"
                                },
                                {
                                    "SZOBA_ID": "2",
                                    "NAP": "14",
                                    "SZOBANKENT": "4",
                                    "NAPONTA": "26",
                                    "SZOBANKENT NAPONTA": "1"
                                },
                                {
                                    "SZOBA_ID": "2",
                                    "NAP": "19",
                                    "SZOBANKENT": "4",
                                    "NAPONTA": "31",
                                    "SZOBANKENT NAPONTA": "1"
                                },
                                {
                                    "SZOBA_ID": "2",
                                    "NAP": "23",
                                    "SZOBANKENT": "4",
                                    "NAPONTA": "44",
                                    "SZOBANKENT NAPONTA": "1"
                                },
                                {
                                    "SZOBA_ID": "2",
                                    "NAP": "27",
                                    "SZOBANKENT": "4",
                                    "NAPONTA": "33",
                                    "SZOBANKENT NAPONTA": "1"
                                },
                                {
                                    "SZOBA_ID": "3",
                                    "NAP": "1",
                                    "SZOBANKENT": "8",
                                    "NAPONTA": "48",
                                    "SZOBANKENT NAPONTA": "1"
                                },
                                {
                                    "SZOBA_ID": "3",
                                    "NAP": "8",
                                    "SZOBANKENT": "8",
                                    "NAPONTA": "36",
                                    "SZOBANKENT NAPONTA": "1"
                                },
                                {
                                    "SZOBA_ID": "3",
                                    "NAP": "9",
                                    "SZOBANKENT": "8",
                                    "NAPONTA": "39",
                                    "SZOBANKENT NAPONTA": "1"
                                },
                                {
                                    "SZOBA_ID": "3",
                                    "NAP": "12",
                                    "SZOBANKENT": "8",
                                    "NAPONTA": "32",
                                    "SZOBANKENT NAPONTA": "1"
                                },
                                {
                                    "SZOBA_ID": "3",
                                    "NAP": "13",
                                    "SZOBANKENT": "8",
                                    "NAPONTA": "29",
                                    "SZOBANKENT NAPONTA": "1"
                                },
                                {
                                    "SZOBA_ID": "3",
                                    "NAP": "14",
                                    "SZOBANKENT": "8",
                                    "NAPONTA": "26",
                                    "SZOBANKENT NAPONTA": "1"
                                },
                                {
                                    "SZOBA_ID": "3",
                                    "NAP": "16",
                                    "SZOBANKENT": "8",
                                    "NAPONTA": "53",
                                    "SZOBANKENT NAPONTA": "2"
                                },
                                {
                                    "SZOBA_ID": "3",
                                    "NAP": "16",
                                    "SZOBANKENT": "8",
                                    "NAPONTA": "53",
                                    "SZOBANKENT NAPONTA": "2"
                                },
                                {
                                    "SZOBA_ID": "4",
                                    "NAP": "2",
                                    "SZOBANKENT": "6",
                                    "NAPONTA": "21",
                                    "SZOBANKENT NAPONTA": "1"
                                },
                                {
                                    "SZOBA_ID": "4",
                                    "NAP": "3",
                                    "SZOBANKENT": "6",
                                    "NAPONTA": "39",
                                    "SZOBANKENT NAPONTA": "1"
                                },
                                {
                                    "SZOBA_ID": "4",
                                    "NAP": "7",
                                    "SZOBANKENT": "6",
                                    "NAPONTA": "29",
                                    "SZOBANKENT NAPONTA": "1"
                                },
                                {
                                    "SZOBA_ID": "4",
                                    "NAP": "8",
                                    "SZOBANKENT": "6",
                                    "NAPONTA": "36",
                                    "SZOBANKENT NAPONTA": "1"
                                },
                                {
                                    "SZOBA_ID": "4",
                                    "NAP": "10",
                                    "SZOBANKENT": "6",
                                    "NAPONTA": "37",
                                    "SZOBANKENT NAPONTA": "1"
                                },
                                {
                                    "SZOBA_ID": "4",
                                    "NAP": "17",
                                    "SZOBANKENT": "6",
                                    "NAPONTA": "40",
                                    "SZOBANKENT NAPONTA": "1"
                                },
                                {
                                    "SZOBA_ID": "5",
                                    "NAP": "7",
                                    "SZOBANKENT": "4",
                                    "NAPONTA": "29",
                                    "SZOBANKENT NAPONTA": "1"
                                },
                                {
                                    "SZOBA_ID": "5",
                                    "NAP": "8",
                                    "SZOBANKENT": "4",
                                    "NAPONTA": "36",
                                    "SZOBANKENT NAPONTA": "1"
                                },
                                {
                                    "SZOBA_ID": "5",
                                    "NAP": "16",
                                    "SZOBANKENT": "4",
                                    "NAPONTA": "53",
                                    "SZOBANKENT NAPONTA": "1"
                                },
                                {
                                    "SZOBA_ID": "5",
                                    "NAP": "21",
                                    "SZOBANKENT": "4",
                                    "NAPONTA": "24",
                                    "SZOBANKENT NAPONTA": "1"
                                },
                                {
                                    "SZOBA_ID": "6",
                                    "NAP": "1",
                                    "SZOBANKENT": "6",
                                    "NAPONTA": "48",
                                    "SZOBANKENT NAPONTA": "1"
                                },
                                {
                                    "SZOBA_ID": "6",
                                    "NAP": "5",
                                    "SZOBANKENT": "6",
                                    "NAPONTA": "36",
                                    "SZOBANKENT NAPONTA": "1"
                                },
                                {
                                    "SZOBA_ID": "6",
                                    "NAP": "6",
                                    "SZOBANKENT": "6",
                                    "NAPONTA": "42",
                                    "SZOBANKENT NAPONTA": "1"
                                },
                                {
                                    "SZOBA_ID": "6",
                                    "NAP": "12",
                                    "SZOBANKENT": "6",
                                    "NAPONTA": "32",
                                    "SZOBANKENT NAPONTA": "1"
                                },
                                {
                                    "SZOBA_ID": "6",
                                    "NAP": "27",
                                    "SZOBANKENT": "6",
                                    "NAPONTA": "33",
                                    "SZOBANKENT NAPONTA": "1"
                                },
                                {
                                    "SZOBA_ID": "6",
                                    "NAP": "29",
                                    "SZOBANKENT": "6",
                                    "NAPONTA": "31",
                                    "SZOBANKENT NAPONTA": "1"
                                },
                                {
                                    "SZOBA_ID": "7",
                                    "NAP": "5",
                                    "SZOBANKENT": "6",
                                    "NAPONTA": "36",
                                    "SZOBANKENT NAPONTA": "1"
                                },
                                {
                                    "SZOBA_ID": "7",
                                    "NAP": "6",
                                    "SZOBANKENT": "6",
                                    "NAPONTA": "42",
                                    "SZOBANKENT NAPONTA": "2"
                                },
                                {
                                    "SZOBA_ID": "7",
                                    "NAP": "6",
                                    "SZOBANKENT": "6",
                                    "NAPONTA": "42",
                                    "SZOBANKENT NAPONTA": "2"
                                },
                                {
                                    "SZOBA_ID": "7",
                                    "NAP": "8",
                                    "SZOBANKENT": "6",
                                    "NAPONTA": "36",
                                    "SZOBANKENT NAPONTA": "1"
                                },
                                {
                                    "SZOBA_ID": "7",
                                    "NAP": "21",
                                    "SZOBANKENT": "6",
                                    "NAPONTA": "24",
                                    "SZOBANKENT NAPONTA": "1"
                                },
                                {
                                    "SZOBA_ID": "7",
                                    "NAP": "23",
                                    "SZOBANKENT": "6",
                                    "NAPONTA": "44",
                                    "SZOBANKENT NAPONTA": "1"
                                },
                                {
                                    "SZOBA_ID": "8",
                                    "NAP": "10",
                                    "SZOBANKENT": "5",
                                    "NAPONTA": "37",
                                    "SZOBANKENT NAPONTA": "1"
                                },
                                {
                                    "SZOBA_ID": "8",
                                    "NAP": "20",
                                    "SZOBANKENT": "5",
                                    "NAPONTA": "32",
                                    "SZOBANKENT NAPONTA": "1"
                                },
                                {
                                    "SZOBA_ID": "8",
                                    "NAP": "24",
                                    "SZOBANKENT": "5",
                                    "NAPONTA": "39",
                                    "SZOBANKENT NAPONTA": "1"
                                },
                                {
                                    "SZOBA_ID": "8",
                                    "NAP": "28",
                                    "SZOBANKENT": "5",
                                    "NAPONTA": "40",
                                    "SZOBANKENT NAPONTA": "1"
                                },
                                {
                                    "SZOBA_ID": "8",
                                    "NAP": "30",
                                    "SZOBANKENT": "5",
                                    "NAPONTA": "47",
                                    "SZOBANKENT NAPONTA": "1"
                                },
                                {
                                    "SZOBA_ID": "9",
                                    "NAP": "6",
                                    "SZOBANKENT": "6",
                                    "NAPONTA": "42",
                                    "SZOBANKENT NAPONTA": "1"
                                },
                                {
                                    "SZOBA_ID": "9",
                                    "NAP": "7",
                                    "SZOBANKENT": "6",
                                    "NAPONTA": "29",
                                    "SZOBANKENT NAPONTA": "1"
                                },
                                {
                                    "SZOBA_ID": "9",
                                    "NAP": "15",
                                    "SZOBANKENT": "6",
                                    "NAPONTA": "25",
                                    "SZOBANKENT NAPONTA": "1"
                                },
                                {
                                    "SZOBA_ID": "9",
                                    "NAP": "16",
                                    "SZOBANKENT": "6",
                                    "NAPONTA": "53",
                                    "SZOBANKENT NAPONTA": "1"
                                },
                                {
                                    "SZOBA_ID": "9",
                                    "NAP": "29",
                                    "SZOBANKENT": "6",
                                    "NAPONTA": "31",
                                    "SZOBANKENT NAPONTA": "1"
                                },
                                {
                                    "SZOBA_ID": "9",
                                    "NAP": "30",
                                    "SZOBANKENT": "6",
                                    "NAPONTA": "47",
                                    "SZOBANKENT NAPONTA": "1"
                                },
                                {
                                    "SZOBA_ID": "10",
                                    "NAP": "10",
                                    "SZOBANKENT": "4",
                                    "NAPONTA": "37",
                                    "SZOBANKENT NAPONTA": "1"
                                },
                                {
                                    "SZOBA_ID": "10",
                                    "NAP": "16",
                                    "SZOBANKENT": "4",
                                    "NAPONTA": "53",
                                    "SZOBANKENT NAPONTA": "1"
                                },
                                {
                                    "SZOBA_ID": "10",
                                    "NAP": "17",
                                    "SZOBANKENT": "4",
                                    "NAPONTA": "40",
                                    "SZOBANKENT NAPONTA": "1"
                                },
                                {
                                    "SZOBA_ID": "10",
                                    "NAP": "25",
                                    "SZOBANKENT": "4",
                                    "NAPONTA": "29",
                                    "SZOBANKENT NAPONTA": "1"
                                },
                                {
                                    "SZOBA_ID": "11",
                                    "NAP": "1",
                                    "SZOBANKENT": "4",
                                    "NAPONTA": "48",
                                    "SZOBANKENT NAPONTA": "1"
                                },
                                {
                                    "SZOBA_ID": "11",
                                    "NAP": "5",
                                    "SZOBANKENT": "4",
                                    "NAPONTA": "36",
                                    "SZOBANKENT NAPONTA": "1"
                                },
                                {
                                    "SZOBA_ID": "11",
                                    "NAP": "6",
                                    "SZOBANKENT": "4",
                                    "NAPONTA": "42",
                                    "SZOBANKENT NAPONTA": "1"
                                },
                                {
                                    "SZOBA_ID": "11",
                                    "NAP": "12",
                                    "SZOBANKENT": "4",
                                    "NAPONTA": "32",
                                    "SZOBANKENT NAPONTA": "1"
                                },
                                {
                                    "SZOBA_ID": "12",
                                    "NAP": "9",
                                    "SZOBANKENT": "9",
                                    "NAPONTA": "39",
                                    "SZOBANKENT NAPONTA": "3"
                                },
                                {
                                    "SZOBA_ID": "12",
                                    "NAP": "9",
                                    "SZOBANKENT": "9",
                                    "NAPONTA": "39",
                                    "SZOBANKENT NAPONTA": "3"
                                },
                                {
                                    "SZOBA_ID": "12",
                                    "NAP": "9",
                                    "SZOBANKENT": "9",
                                    "NAPONTA": "39",
                                    "SZOBANKENT NAPONTA": "3"
                                },
                                {
                                    "SZOBA_ID": "12",
                                    "NAP": "11",
                                    "SZOBANKENT": "9",
                                    "NAPONTA": "13",
                                    "SZOBANKENT NAPONTA": "1"
                                },
                                {
                                    "SZOBA_ID": "12",
                                    "NAP": "13",
                                    "SZOBANKENT": "9",
                                    "NAPONTA": "29",
                                    "SZOBANKENT NAPONTA": "1"
                                },
                                {
                                    "SZOBA_ID": "12",
                                    "NAP": "17",
                                    "SZOBANKENT": "9",
                                    "NAPONTA": "40",
                                    "SZOBANKENT NAPONTA": "1"
                                },
                                {
                                    "SZOBA_ID": "12",
                                    "NAP": "18",
                                    "SZOBANKENT": "9",
                                    "NAPONTA": "29",
                                    "SZOBANKENT NAPONTA": "1"
                                },
                                {
                                    "SZOBA_ID": "12",
                                    "NAP": "20",
                                    "SZOBANKENT": "9",
                                    "NAPONTA": "32",
                                    "SZOBANKENT NAPONTA": "1"
                                },
                                {
                                    "SZOBA_ID": "12",
                                    "NAP": "30",
                                    "SZOBANKENT": "9",
                                    "NAPONTA": "47",
                                    "SZOBANKENT NAPONTA": "1"
                                },
                                {
                                    "SZOBA_ID": "13",
                                    "NAP": "6",
                                    "SZOBANKENT": "4",
                                    "NAPONTA": "42",
                                    "SZOBANKENT NAPONTA": "1"
                                },
                                {
                                    "SZOBA_ID": "13",
                                    "NAP": "8",
                                    "SZOBANKENT": "4",
                                    "NAPONTA": "36",
                                    "SZOBANKENT NAPONTA": "1"
                                },
                                {
                                    "SZOBA_ID": "13",
                                    "NAP": "12",
                                    "SZOBANKENT": "4",
                                    "NAPONTA": "32",
                                    "SZOBANKENT NAPONTA": "1"
                                },
                                {
                                    "SZOBA_ID": "13",
                                    "NAP": "23",
                                    "SZOBANKENT": "4",
                                    "NAPONTA": "44",
                                    "SZOBANKENT NAPONTA": "1"
                                },
                                {
                                    "SZOBA_ID": "14",
                                    "NAP": "16",
                                    "SZOBANKENT": "3",
                                    "NAPONTA": "53",
                                    "SZOBANKENT NAPONTA": "1"
                                },
                                {
                                    "SZOBA_ID": "14",
                                    "NAP": "22",
                                    "SZOBANKENT": "3",
                                    "NAPONTA": "35",
                                    "SZOBANKENT NAPONTA": "1"
                                },
                                {
                                    "SZOBA_ID": "14",
                                    "NAP": "24",
                                    "SZOBANKENT": "3",
                                    "NAPONTA": "39",
                                    "SZOBANKENT NAPONTA": "1"
                                },
                                {
                                    "SZOBA_ID": "15",
                                    "NAP": "3",
                                    "SZOBANKENT": "6",
                                    "NAPONTA": "39",
                                    "SZOBANKENT NAPONTA": "1"
                                },
                                {
                                    "SZOBA_ID": "15",
                                    "NAP": "4",
                                    "SZOBANKENT": "6",
                                    "NAPONTA": "29",
                                    "SZOBANKENT NAPONTA": "1"
                                },
                                {
                                    "SZOBA_ID": "15",
                                    "NAP": "8",
                                    "SZOBANKENT": "6",
                                    "NAPONTA": "36",
                                    "SZOBANKENT NAPONTA": "1"
                                },
                                {
                                    "SZOBA_ID": "15",
                                    "NAP": "13",
                                    "SZOBANKENT": "6",
                                    "NAPONTA": "29",
                                    "SZOBANKENT NAPONTA": "1"
                                },
                                {
                                    "SZOBA_ID": "15",
                                    "NAP": "16",
                                    "SZOBANKENT": "6",
                                    "NAPONTA": "53",
                                    "SZOBANKENT NAPONTA": "2"
                                },
                                {
                                    "SZOBA_ID": "15",
                                    "NAP": "16",
                                    "SZOBANKENT": "6",
                                    "NAPONTA": "53",
                                    "SZOBANKENT NAPONTA": "2"
                                },
                                {
                                    "SZOBA_ID": "16",
                                    "NAP": "3",
                                    "SZOBANKENT": "5",
                                    "NAPONTA": "39",
                                    "SZOBANKENT NAPONTA": "1"
                                },
                                {
                                    "SZOBA_ID": "16",
                                    "NAP": "4",
                                    "SZOBANKENT": "5",
                                    "NAPONTA": "29",
                                    "SZOBANKENT NAPONTA": "1"
                                },
                                {
                                    "SZOBA_ID": "16",
                                    "NAP": "18",
                                    "SZOBANKENT": "5",
                                    "NAPONTA": "29",
                                    "SZOBANKENT NAPONTA": "1"
                                },
                                {
                                    "SZOBA_ID": "16",
                                    "NAP": "20",
                                    "SZOBANKENT": "5",
                                    "NAPONTA": "32",
                                    "SZOBANKENT NAPONTA": "1"
                                },
                                {
                                    "SZOBA_ID": "16",
                                    "NAP": "24",
                                    "SZOBANKENT": "5",
                                    "NAPONTA": "39",
                                    "SZOBANKENT NAPONTA": "1"
                                },
                                {
                                    "SZOBA_ID": "17",
                                    "NAP": "1",
                                    "SZOBANKENT": "6",
                                    "NAPONTA": "48",
                                    "SZOBANKENT NAPONTA": "1"
                                },
                                {
                                    "SZOBA_ID": "17",
                                    "NAP": "6",
                                    "SZOBANKENT": "6",
                                    "NAPONTA": "42",
                                    "SZOBANKENT NAPONTA": "1"
                                },
                                {
                                    "SZOBA_ID": "17",
                                    "NAP": "18",
                                    "SZOBANKENT": "6",
                                    "NAPONTA": "29",
                                    "SZOBANKENT NAPONTA": "1"
                                },
                                {
                                    "SZOBA_ID": "17",
                                    "NAP": "24",
                                    "SZOBANKENT": "6",
                                    "NAPONTA": "39",
                                    "SZOBANKENT NAPONTA": "1"
                                },
                                {
                                    "SZOBA_ID": "17",
                                    "NAP": "25",
                                    "SZOBANKENT": "6",
                                    "NAPONTA": "29",
                                    "SZOBANKENT NAPONTA": "1"
                                },
                                {
                                    "SZOBA_ID": "17",
                                    "NAP": "26",
                                    "SZOBANKENT": "6",
                                    "NAPONTA": "31",
                                    "SZOBANKENT NAPONTA": "1"
                                },
                                {
                                    "SZOBA_ID": "18",
                                    "NAP": "6",
                                    "SZOBANKENT": "6",
                                    "NAPONTA": "42",
                                    "SZOBANKENT NAPONTA": "1"
                                },
                                {
                                    "SZOBA_ID": "18",
                                    "NAP": "7",
                                    "SZOBANKENT": "6",
                                    "NAPONTA": "29",
                                    "SZOBANKENT NAPONTA": "1"
                                },
                                {
                                    "SZOBA_ID": "18",
                                    "NAP": "8",
                                    "SZOBANKENT": "6",
                                    "NAPONTA": "36",
                                    "SZOBANKENT NAPONTA": "1"
                                },
                                {
                                    "SZOBA_ID": "18",
                                    "NAP": "11",
                                    "SZOBANKENT": "6",
                                    "NAPONTA": "13",
                                    "SZOBANKENT NAPONTA": "1"
                                },
                                {
                                    "SZOBA_ID": "18",
                                    "NAP": "21",
                                    "SZOBANKENT": "6",
                                    "NAPONTA": "24",
                                    "SZOBANKENT NAPONTA": "1"
                                },
                                {
                                    "SZOBA_ID": "18",
                                    "NAP": "26",
                                    "SZOBANKENT": "6",
                                    "NAPONTA": "31",
                                    "SZOBANKENT NAPONTA": "1"
                                },
                                {
                                    "SZOBA_ID": "19",
                                    "NAP": "2",
                                    "SZOBANKENT": "6",
                                    "NAPONTA": "21",
                                    "SZOBANKENT NAPONTA": "1"
                                },
                                {
                                    "SZOBA_ID": "19",
                                    "NAP": "9",
                                    "SZOBANKENT": "6",
                                    "NAPONTA": "39",
                                    "SZOBANKENT NAPONTA": "1"
                                },
                                {
                                    "SZOBA_ID": "19",
                                    "NAP": "10",
                                    "SZOBANKENT": "6",
                                    "NAPONTA": "37",
                                    "SZOBANKENT NAPONTA": "1"
                                },
                                {
                                    "SZOBA_ID": "19",
                                    "NAP": "14",
                                    "SZOBANKENT": "6",
                                    "NAPONTA": "26",
                                    "SZOBANKENT NAPONTA": "2"
                                },
                                {
                                    "SZOBA_ID": "19",
                                    "NAP": "14",
                                    "SZOBANKENT": "6",
                                    "NAPONTA": "26",
                                    "SZOBANKENT NAPONTA": "2"
                                },
                                {
                                    "SZOBA_ID": "19",
                                    "NAP": "20",
                                    "SZOBANKENT": "6",
                                    "NAPONTA": "32",
                                    "SZOBANKENT NAPONTA": "1"
                                },
                                {
                                    "SZOBA_ID": "20",
                                    "NAP": "1",
                                    "SZOBANKENT": "5",
                                    "NAPONTA": "48",
                                    "SZOBANKENT NAPONTA": "2"
                                },
                                {
                                    "SZOBA_ID": "20",
                                    "NAP": "1",
                                    "SZOBANKENT": "5",
                                    "NAPONTA": "48",
                                    "SZOBANKENT NAPONTA": "2"
                                },
                                {
                                    "SZOBA_ID": "20",
                                    "NAP": "4",
                                    "SZOBANKENT": "5",
                                    "NAPONTA": "29",
                                    "SZOBANKENT NAPONTA": "1"
                                },
                                {
                                    "SZOBA_ID": "20",
                                    "NAP": "19",
                                    "SZOBANKENT": "5",
                                    "NAPONTA": "31",
                                    "SZOBANKENT NAPONTA": "1"
                                },
                                {
                                    "SZOBA_ID": "20",
                                    "NAP": "24",
                                    "SZOBANKENT": "5",
                                    "NAPONTA": "39",
                                    "SZOBANKENT NAPONTA": "1"
                                },
                                {
                                    "SZOBA_ID": "21",
                                    "NAP": "9",
                                    "SZOBANKENT": "4",
                                    "NAPONTA": "39",
                                    "SZOBANKENT NAPONTA": "1"
                                },
                                {
                                    "SZOBA_ID": "21",
                                    "NAP": "21",
                                    "SZOBANKENT": "4",
                                    "NAPONTA": "24",
                                    "SZOBANKENT NAPONTA": "2"
                                },
                                {
                                    "SZOBA_ID": "21",
                                    "NAP": "21",
                                    "SZOBANKENT": "4",
                                    "NAPONTA": "24",
                                    "SZOBANKENT NAPONTA": "2"
                                },
                                {
                                    "SZOBA_ID": "21",
                                    "NAP": "28",
                                    "SZOBANKENT": "4",
                                    "NAPONTA": "40",
                                    "SZOBANKENT NAPONTA": "1"
                                },
                                {
                                    "SZOBA_ID": "22",
                                    "NAP": "3",
                                    "SZOBANKENT": "6",
                                    "NAPONTA": "39",
                                    "SZOBANKENT NAPONTA": "1"
                                },
                                {
                                    "SZOBA_ID": "22",
                                    "NAP": "4",
                                    "SZOBANKENT": "6",
                                    "NAPONTA": "29",
                                    "SZOBANKENT NAPONTA": "1"
                                },
                                {
                                    "SZOBA_ID": "22",
                                    "NAP": "8",
                                    "SZOBANKENT": "6",
                                    "NAPONTA": "36",
                                    "SZOBANKENT NAPONTA": "1"
                                },
                                {
                                    "SZOBA_ID": "22",
                                    "NAP": "17",
                                    "SZOBANKENT": "6",
                                    "NAPONTA": "40",
                                    "SZOBANKENT NAPONTA": "1"
                                },
                                {
                                    "SZOBA_ID": "22",
                                    "NAP": "26",
                                    "SZOBANKENT": "6",
                                    "NAPONTA": "31",
                                    "SZOBANKENT NAPONTA": "1"
                                },
                                {
                                    "SZOBA_ID": "22",
                                    "NAP": "27",
                                    "SZOBANKENT": "6",
                                    "NAPONTA": "33",
                                    "SZOBANKENT NAPONTA": "1"
                                },
                                {
                                    "SZOBA_ID": "23",
                                    "NAP": "4",
                                    "SZOBANKENT": "3",
                                    "NAPONTA": "29",
                                    "SZOBANKENT NAPONTA": "1"
                                },
                                {
                                    "SZOBA_ID": "23",
                                    "NAP": "8",
                                    "SZOBANKENT": "3",
                                    "NAPONTA": "36",
                                    "SZOBANKENT NAPONTA": "1"
                                },
                                {
                                    "SZOBA_ID": "23",
                                    "NAP": "10",
                                    "SZOBANKENT": "3",
                                    "NAPONTA": "37",
                                    "SZOBANKENT NAPONTA": "1"
                                },
                                {
                                    "SZOBA_ID": "24",
                                    "NAP": "3",
                                    "SZOBANKENT": "3",
                                    "NAPONTA": "39",
                                    "SZOBANKENT NAPONTA": "1"
                                },
                                {
                                    "SZOBA_ID": "24",
                                    "NAP": "19",
                                    "SZOBANKENT": "3",
                                    "NAPONTA": "31",
                                    "SZOBANKENT NAPONTA": "1"
                                },
                                {
                                    "SZOBA_ID": "24",
                                    "NAP": "23",
                                    "SZOBANKENT": "3",
                                    "NAPONTA": "44",
                                    "SZOBANKENT NAPONTA": "1"
                                },
                                {
                                    "SZOBA_ID": "25",
                                    "NAP": "14",
                                    "SZOBANKENT": "2",
                                    "NAPONTA": "26",
                                    "SZOBANKENT NAPONTA": "2"
                                },
                                {
                                    "SZOBA_ID": "25",
                                    "NAP": "14",
                                    "SZOBANKENT": "2",
                                    "NAPONTA": "26",
                                    "SZOBANKENT NAPONTA": "2"
                                },
                                {
                                    "SZOBA_ID": "26",
                                    "NAP": "16",
                                    "SZOBANKENT": "2",
                                    "NAPONTA": "53",
                                    "SZOBANKENT NAPONTA": "1"
                                },
                                {
                                    "SZOBA_ID": "26",
                                    "NAP": "24",
                                    "SZOBANKENT": "2",
                                    "NAPONTA": "39",
                                    "SZOBANKENT NAPONTA": "1"
                                },
                                {
                                    "SZOBA_ID": "27",
                                    "NAP": "5",
                                    "SZOBANKENT": "7",
                                    "NAPONTA": "36",
                                    "SZOBANKENT NAPONTA": "2"
                                },
                                {
                                    "SZOBA_ID": "27",
                                    "NAP": "5",
                                    "SZOBANKENT": "7",
                                    "NAPONTA": "36",
                                    "SZOBANKENT NAPONTA": "2"
                                },
                                {
                                    "SZOBA_ID": "27",
                                    "NAP": "11",
                                    "SZOBANKENT": "7",
                                    "NAPONTA": "13",
                                    "SZOBANKENT NAPONTA": "1"
                                },
                                {
                                    "SZOBA_ID": "27",
                                    "NAP": "18",
                                    "SZOBANKENT": "7",
                                    "NAPONTA": "29",
                                    "SZOBANKENT NAPONTA": "1"
                                },
                                {
                                    "SZOBA_ID": "27",
                                    "NAP": "22",
                                    "SZOBANKENT": "7",
                                    "NAPONTA": "35",
                                    "SZOBANKENT NAPONTA": "1"
                                },
                                {
                                    "SZOBA_ID": "27",
                                    "NAP": "26",
                                    "SZOBANKENT": "7",
                                    "NAPONTA": "31",
                                    "SZOBANKENT NAPONTA": "1"
                                },
                                {
                                    "SZOBA_ID": "27",
                                    "NAP": "27",
                                    "SZOBANKENT": "7",
                                    "NAPONTA": "33",
                                    "SZOBANKENT NAPONTA": "1"
                                },
                                {
                                    "SZOBA_ID": "28",
                                    "NAP": "1",
                                    "SZOBANKENT": "6",
                                    "NAPONTA": "48",
                                    "SZOBANKENT NAPONTA": "1"
                                },
                                {
                                    "SZOBA_ID": "28",
                                    "NAP": "4",
                                    "SZOBANKENT": "6",
                                    "NAPONTA": "29",
                                    "SZOBANKENT NAPONTA": "1"
                                },
                                {
                                    "SZOBA_ID": "28",
                                    "NAP": "13",
                                    "SZOBANKENT": "6",
                                    "NAPONTA": "29",
                                    "SZOBANKENT NAPONTA": "1"
                                },
                                {
                                    "SZOBA_ID": "28",
                                    "NAP": "20",
                                    "SZOBANKENT": "6",
                                    "NAPONTA": "32",
                                    "SZOBANKENT NAPONTA": "1"
                                },
                                {
                                    "SZOBA_ID": "28",
                                    "NAP": "27",
                                    "SZOBANKENT": "6",
                                    "NAPONTA": "33",
                                    "SZOBANKENT NAPONTA": "1"
                                },
                                {
                                    "SZOBA_ID": "28",
                                    "NAP": "29",
                                    "SZOBANKENT": "6",
                                    "NAPONTA": "31",
                                    "SZOBANKENT NAPONTA": "1"
                                },
                                {
                                    "SZOBA_ID": "29",
                                    "NAP": "1",
                                    "SZOBANKENT": "6",
                                    "NAPONTA": "48",
                                    "SZOBANKENT NAPONTA": "2"
                                },
                                {
                                    "SZOBA_ID": "29",
                                    "NAP": "1",
                                    "SZOBANKENT": "6",
                                    "NAPONTA": "48",
                                    "SZOBANKENT NAPONTA": "2"
                                },
                                {
                                    "SZOBA_ID": "29",
                                    "NAP": "3",
                                    "SZOBANKENT": "6",
                                    "NAPONTA": "39",
                                    "SZOBANKENT NAPONTA": "1"
                                },
                                {
                                    "SZOBA_ID": "29",
                                    "NAP": "23",
                                    "SZOBANKENT": "6",
                                    "NAPONTA": "44",
                                    "SZOBANKENT NAPONTA": "2"
                                },
                                {
                                    "SZOBA_ID": "29",
                                    "NAP": "23",
                                    "SZOBANKENT": "6",
                                    "NAPONTA": "44",
                                    "SZOBANKENT NAPONTA": "2"
                                },
                                {
                                    "SZOBA_ID": "29",
                                    "NAP": "24",
                                    "SZOBANKENT": "6",
                                    "NAPONTA": "39",
                                    "SZOBANKENT NAPONTA": "1"
                                },
                                {
                                    "SZOBA_ID": "30",
                                    "NAP": "9",
                                    "SZOBANKENT": "3",
                                    "NAPONTA": "39",
                                    "SZOBANKENT NAPONTA": "1"
                                },
                                {
                                    "SZOBA_ID": "30",
                                    "NAP": "10",
                                    "SZOBANKENT": "3",
                                    "NAPONTA": "37",
                                    "SZOBANKENT NAPONTA": "1"
                                },
                                {
                                    "SZOBA_ID": "30",
                                    "NAP": "27",
                                    "SZOBANKENT": "3",
                                    "NAPONTA": "33",
                                    "SZOBANKENT NAPONTA": "1"
                                },
                                {
                                    "SZOBA_ID": "31",
                                    "NAP": "24",
                                    "SZOBANKENT": "3",
                                    "NAPONTA": "39",
                                    "SZOBANKENT NAPONTA": "1"
                                },
                                {
                                    "SZOBA_ID": "31",
                                    "NAP": "27",
                                    "SZOBANKENT": "3",
                                    "NAPONTA": "33",
                                    "SZOBANKENT NAPONTA": "2"
                                },
                                {
                                    "SZOBA_ID": "31",
                                    "NAP": "27",
                                    "SZOBANKENT": "3",
                                    "NAPONTA": "33",
                                    "SZOBANKENT NAPONTA": "2"
                                },
                                {
                                    "SZOBA_ID": "32",
                                    "NAP": "6",
                                    "SZOBANKENT": "1",
                                    "NAPONTA": "42",
                                    "SZOBANKENT NAPONTA": "1"
                                },
                                {
                                    "SZOBA_ID": "33",
                                    "NAP": "5",
                                    "SZOBANKENT": "6",
                                    "NAPONTA": "36",
                                    "SZOBANKENT NAPONTA": "2"
                                },
                                {
                                    "SZOBA_ID": "33",
                                    "NAP": "5",
                                    "SZOBANKENT": "6",
                                    "NAPONTA": "36",
                                    "SZOBANKENT NAPONTA": "2"
                                },
                                {
                                    "SZOBA_ID": "33",
                                    "NAP": "8",
                                    "SZOBANKENT": "6",
                                    "NAPONTA": "36",
                                    "SZOBANKENT NAPONTA": "1"
                                },
                                {
                                    "SZOBA_ID": "33",
                                    "NAP": "15",
                                    "SZOBANKENT": "6",
                                    "NAPONTA": "25",
                                    "SZOBANKENT NAPONTA": "1"
                                },
                                {
                                    "SZOBA_ID": "33",
                                    "NAP": "21",
                                    "SZOBANKENT": "6",
                                    "NAPONTA": "24",
                                    "SZOBANKENT NAPONTA": "1"
                                },
                                {
                                    "SZOBA_ID": "33",
                                    "NAP": "25",
                                    "SZOBANKENT": "6",
                                    "NAPONTA": "29",
                                    "SZOBANKENT NAPONTA": "1"
                                },
                                {
                                    "SZOBA_ID": "34",
                                    "NAP": "4",
                                    "SZOBANKENT": "4",
                                    "NAPONTA": "29",
                                    "SZOBANKENT NAPONTA": "1"
                                },
                                {
                                    "SZOBA_ID": "34",
                                    "NAP": "14",
                                    "SZOBANKENT": "4",
                                    "NAPONTA": "26",
                                    "SZOBANKENT NAPONTA": "1"
                                },
                                {
                                    "SZOBA_ID": "34",
                                    "NAP": "24",
                                    "SZOBANKENT": "4",
                                    "NAPONTA": "39",
                                    "SZOBANKENT NAPONTA": "1"
                                },
                                {
                                    "SZOBA_ID": "34",
                                    "NAP": "28",
                                    "SZOBANKENT": "4",
                                    "NAPONTA": "40",
                                    "SZOBANKENT NAPONTA": "1"
                                },
                                {
                                    "SZOBA_ID": "35",
                                    "NAP": "1",
                                    "SZOBANKENT": "9",
                                    "NAPONTA": "48",
                                    "SZOBANKENT NAPONTA": "1"
                                },
                                {
                                    "SZOBA_ID": "35",
                                    "NAP": "13",
                                    "SZOBANKENT": "9",
                                    "NAPONTA": "29",
                                    "SZOBANKENT NAPONTA": "2"
                                },
                                {
                                    "SZOBA_ID": "35",
                                    "NAP": "13",
                                    "SZOBANKENT": "9",
                                    "NAPONTA": "29",
                                    "SZOBANKENT NAPONTA": "2"
                                },
                                {
                                    "SZOBA_ID": "35",
                                    "NAP": "18",
                                    "SZOBANKENT": "9",
                                    "NAPONTA": "29",
                                    "SZOBANKENT NAPONTA": "2"
                                },
                                {
                                    "SZOBA_ID": "35",
                                    "NAP": "18",
                                    "SZOBANKENT": "9",
                                    "NAPONTA": "29",
                                    "SZOBANKENT NAPONTA": "2"
                                },
                                {
                                    "SZOBA_ID": "35",
                                    "NAP": "22",
                                    "SZOBANKENT": "9",
                                    "NAPONTA": "35",
                                    "SZOBANKENT NAPONTA": "1"
                                },
                                {
                                    "SZOBA_ID": "35",
                                    "NAP": "23",
                                    "SZOBANKENT": "9",
                                    "NAPONTA": "44",
                                    "SZOBANKENT NAPONTA": "1"
                                },
                                {
                                    "SZOBA_ID": "35",
                                    "NAP": "28",
                                    "SZOBANKENT": "9",
                                    "NAPONTA": "40",
                                    "SZOBANKENT NAPONTA": "1"
                                },
                                {
                                    "SZOBA_ID": "35",
                                    "NAP": "29",
                                    "SZOBANKENT": "9",
                                    "NAPONTA": "31",
                                    "SZOBANKENT NAPONTA": "1"
                                },
                                {
                                    "SZOBA_ID": "36",
                                    "NAP": "2",
                                    "SZOBANKENT": "6",
                                    "NAPONTA": "21",
                                    "SZOBANKENT NAPONTA": "1"
                                },
                                {
                                    "SZOBA_ID": "36",
                                    "NAP": "3",
                                    "SZOBANKENT": "6",
                                    "NAPONTA": "39",
                                    "SZOBANKENT NAPONTA": "3"
                                },
                                {
                                    "SZOBA_ID": "36",
                                    "NAP": "3",
                                    "SZOBANKENT": "6",
                                    "NAPONTA": "39",
                                    "SZOBANKENT NAPONTA": "3"
                                },
                                {
                                    "SZOBA_ID": "36",
                                    "NAP": "3",
                                    "SZOBANKENT": "6",
                                    "NAPONTA": "39",
                                    "SZOBANKENT NAPONTA": "3"
                                },
                                {
                                    "SZOBA_ID": "36",
                                    "NAP": "6",
                                    "SZOBANKENT": "6",
                                    "NAPONTA": "42",
                                    "SZOBANKENT NAPONTA": "1"
                                },
                                {
                                    "SZOBA_ID": "36",
                                    "NAP": "24",
                                    "SZOBANKENT": "6",
                                    "NAPONTA": "39",
                                    "SZOBANKENT NAPONTA": "1"
                                },
                                {
                                    "SZOBA_ID": "37",
                                    "NAP": "1",
                                    "SZOBANKENT": "3",
                                    "NAPONTA": "48",
                                    "SZOBANKENT NAPONTA": "1"
                                },
                                {
                                    "SZOBA_ID": "37",
                                    "NAP": "19",
                                    "SZOBANKENT": "3",
                                    "NAPONTA": "31",
                                    "SZOBANKENT NAPONTA": "1"
                                },
                                {
                                    "SZOBA_ID": "37",
                                    "NAP": "22",
                                    "SZOBANKENT": "3",
                                    "NAPONTA": "35",
                                    "SZOBANKENT NAPONTA": "1"
                                },
                                {
                                    "SZOBA_ID": "38",
                                    "NAP": "3",
                                    "SZOBANKENT": "8",
                                    "NAPONTA": "39",
                                    "SZOBANKENT NAPONTA": "1"
                                },
                                {
                                    "SZOBA_ID": "38",
                                    "NAP": "5",
                                    "SZOBANKENT": "8",
                                    "NAPONTA": "36",
                                    "SZOBANKENT NAPONTA": "1"
                                },
                                {
                                    "SZOBA_ID": "38",
                                    "NAP": "6",
                                    "SZOBANKENT": "8",
                                    "NAPONTA": "42",
                                    "SZOBANKENT NAPONTA": "1"
                                },
                                {
                                    "SZOBA_ID": "38",
                                    "NAP": "8",
                                    "SZOBANKENT": "8",
                                    "NAPONTA": "36",
                                    "SZOBANKENT NAPONTA": "1"
                                },
                                {
                                    "SZOBA_ID": "38",
                                    "NAP": "17",
                                    "SZOBANKENT": "8",
                                    "NAPONTA": "40",
                                    "SZOBANKENT NAPONTA": "1"
                                },
                                {
                                    "SZOBA_ID": "38",
                                    "NAP": "21",
                                    "SZOBANKENT": "8",
                                    "NAPONTA": "24",
                                    "SZOBANKENT NAPONTA": "1"
                                },
                                {
                                    "SZOBA_ID": "38",
                                    "NAP": "23",
                                    "SZOBANKENT": "8",
                                    "NAPONTA": "44",
                                    "SZOBANKENT NAPONTA": "1"
                                },
                                {
                                    "SZOBA_ID": "38",
                                    "NAP": "28",
                                    "SZOBANKENT": "8",
                                    "NAPONTA": "40",
                                    "SZOBANKENT NAPONTA": "1"
                                },
                                {
                                    "SZOBA_ID": "39",
                                    "NAP": "3",
                                    "SZOBANKENT": "7",
                                    "NAPONTA": "39",
                                    "SZOBANKENT NAPONTA": "1"
                                },
                                {
                                    "SZOBA_ID": "39",
                                    "NAP": "12",
                                    "SZOBANKENT": "7",
                                    "NAPONTA": "32",
                                    "SZOBANKENT NAPONTA": "1"
                                },
                                {
                                    "SZOBA_ID": "39",
                                    "NAP": "16",
                                    "SZOBANKENT": "7",
                                    "NAPONTA": "53",
                                    "SZOBANKENT NAPONTA": "1"
                                },
                                {
                                    "SZOBA_ID": "39",
                                    "NAP": "18",
                                    "SZOBANKENT": "7",
                                    "NAPONTA": "29",
                                    "SZOBANKENT NAPONTA": "1"
                                },
                                {
                                    "SZOBA_ID": "39",
                                    "NAP": "20",
                                    "SZOBANKENT": "7",
                                    "NAPONTA": "32",
                                    "SZOBANKENT NAPONTA": "1"
                                },
                                {
                                    "SZOBA_ID": "39",
                                    "NAP": "25",
                                    "SZOBANKENT": "7",
                                    "NAPONTA": "29",
                                    "SZOBANKENT NAPONTA": "1"
                                },
                                {
                                    "SZOBA_ID": "39",
                                    "NAP": "29",
                                    "SZOBANKENT": "7",
                                    "NAPONTA": "31",
                                    "SZOBANKENT NAPONTA": "1"
                                },
                                {
                                    "SZOBA_ID": "40",
                                    "NAP": "3",
                                    "SZOBANKENT": "4",
                                    "NAPONTA": "39",
                                    "SZOBANKENT NAPONTA": "1"
                                },
                                {
                                    "SZOBA_ID": "40",
                                    "NAP": "7",
                                    "SZOBANKENT": "4",
                                    "NAPONTA": "29",
                                    "SZOBANKENT NAPONTA": "2"
                                },
                                {
                                    "SZOBA_ID": "40",
                                    "NAP": "7",
                                    "SZOBANKENT": "4",
                                    "NAPONTA": "29",
                                    "SZOBANKENT NAPONTA": "2"
                                },
                                {
                                    "SZOBA_ID": "40",
                                    "NAP": "8",
                                    "SZOBANKENT": "4",
                                    "NAPONTA": "36",
                                    "SZOBANKENT NAPONTA": "1"
                                },
                                {
                                    "SZOBA_ID": "41",
                                    "NAP": "9",
                                    "SZOBANKENT": "2",
                                    "NAPONTA": "39",
                                    "SZOBANKENT NAPONTA": "1"
                                },
                                {
                                    "SZOBA_ID": "41",
                                    "NAP": "15",
                                    "SZOBANKENT": "2",
                                    "NAPONTA": "25",
                                    "SZOBANKENT NAPONTA": "1"
                                },
                                {
                                    "SZOBA_ID": "42",
                                    "NAP": "6",
                                    "SZOBANKENT": "6",
                                    "NAPONTA": "42",
                                    "SZOBANKENT NAPONTA": "1"
                                },
                                {
                                    "SZOBA_ID": "42",
                                    "NAP": "12",
                                    "SZOBANKENT": "6",
                                    "NAPONTA": "32",
                                    "SZOBANKENT NAPONTA": "1"
                                },
                                {
                                    "SZOBA_ID": "42",
                                    "NAP": "16",
                                    "SZOBANKENT": "6",
                                    "NAPONTA": "53",
                                    "SZOBANKENT NAPONTA": "1"
                                },
                                {
                                    "SZOBA_ID": "42",
                                    "NAP": "19",
                                    "SZOBANKENT": "6",
                                    "NAPONTA": "31",
                                    "SZOBANKENT NAPONTA": "1"
                                },
                                {
                                    "SZOBA_ID": "42",
                                    "NAP": "22",
                                    "SZOBANKENT": "6",
                                    "NAPONTA": "35",
                                    "SZOBANKENT NAPONTA": "1"
                                },
                                {
                                    "SZOBA_ID": "42",
                                    "NAP": "23",
                                    "SZOBANKENT": "6",
                                    "NAPONTA": "44",
                                    "SZOBANKENT NAPONTA": "1"
                                },
                                {
                                    "SZOBA_ID": "43",
                                    "NAP": "8",
                                    "SZOBANKENT": "8",
                                    "NAPONTA": "36",
                                    "SZOBANKENT NAPONTA": "1"
                                },
                                {
                                    "SZOBA_ID": "43",
                                    "NAP": "10",
                                    "SZOBANKENT": "8",
                                    "NAPONTA": "37",
                                    "SZOBANKENT NAPONTA": "1"
                                },
                                {
                                    "SZOBA_ID": "43",
                                    "NAP": "12",
                                    "SZOBANKENT": "8",
                                    "NAPONTA": "32",
                                    "SZOBANKENT NAPONTA": "1"
                                },
                                {
                                    "SZOBA_ID": "43",
                                    "NAP": "14",
                                    "SZOBANKENT": "8",
                                    "NAPONTA": "26",
                                    "SZOBANKENT NAPONTA": "1"
                                },
                                {
                                    "SZOBA_ID": "43",
                                    "NAP": "20",
                                    "SZOBANKENT": "8",
                                    "NAPONTA": "32",
                                    "SZOBANKENT NAPONTA": "1"
                                },
                                {
                                    "SZOBA_ID": "43",
                                    "NAP": "27",
                                    "SZOBANKENT": "8",
                                    "NAPONTA": "33",
                                    "SZOBANKENT NAPONTA": "1"
                                },
                                {
                                    "SZOBA_ID": "43",
                                    "NAP": "29",
                                    "SZOBANKENT": "8",
                                    "NAPONTA": "31",
                                    "SZOBANKENT NAPONTA": "1"
                                },
                                {
                                    "SZOBA_ID": "43",
                                    "NAP": "30",
                                    "SZOBANKENT": "8",
                                    "NAPONTA": "47",
                                    "SZOBANKENT NAPONTA": "1"
                                },
                                {
                                    "SZOBA_ID": "44",
                                    "NAP": "8",
                                    "SZOBANKENT": "6",
                                    "NAPONTA": "36",
                                    "SZOBANKENT NAPONTA": "1"
                                },
                                {
                                    "SZOBA_ID": "44",
                                    "NAP": "19",
                                    "SZOBANKENT": "6",
                                    "NAPONTA": "31",
                                    "SZOBANKENT NAPONTA": "2"
                                },
                                {
                                    "SZOBA_ID": "44",
                                    "NAP": "19",
                                    "SZOBANKENT": "6",
                                    "NAPONTA": "31",
                                    "SZOBANKENT NAPONTA": "2"
                                },
                                {
                                    "SZOBA_ID": "44",
                                    "NAP": "20",
                                    "SZOBANKENT": "6",
                                    "NAPONTA": "32",
                                    "SZOBANKENT NAPONTA": "1"
                                },
                                {
                                    "SZOBA_ID": "44",
                                    "NAP": "21",
                                    "SZOBANKENT": "6",
                                    "NAPONTA": "24",
                                    "SZOBANKENT NAPONTA": "1"
                                },
                                {
                                    "SZOBA_ID": "44",
                                    "NAP": "25",
                                    "SZOBANKENT": "6",
                                    "NAPONTA": "29",
                                    "SZOBANKENT NAPONTA": "1"
                                },
                                {
                                    "SZOBA_ID": "45",
                                    "NAP": "2",
                                    "SZOBANKENT": "5",
                                    "NAPONTA": "21",
                                    "SZOBANKENT NAPONTA": "1"
                                },
                                {
                                    "SZOBA_ID": "45",
                                    "NAP": "9",
                                    "SZOBANKENT": "5",
                                    "NAPONTA": "39",
                                    "SZOBANKENT NAPONTA": "1"
                                },
                                {
                                    "SZOBA_ID": "45",
                                    "NAP": "20",
                                    "SZOBANKENT": "5",
                                    "NAPONTA": "32",
                                    "SZOBANKENT NAPONTA": "2"
                                },
                                {
                                    "SZOBA_ID": "45",
                                    "NAP": "20",
                                    "SZOBANKENT": "5",
                                    "NAPONTA": "32",
                                    "SZOBANKENT NAPONTA": "2"
                                },
                                {
                                    "SZOBA_ID": "45",
                                    "NAP": "22",
                                    "SZOBANKENT": "5",
                                    "NAPONTA": "35",
                                    "SZOBANKENT NAPONTA": "1"
                                },
                                {
                                    "SZOBA_ID": "46",
                                    "NAP": "3",
                                    "SZOBANKENT": "4",
                                    "NAPONTA": "39",
                                    "SZOBANKENT NAPONTA": "1"
                                },
                                {
                                    "SZOBA_ID": "46",
                                    "NAP": "10",
                                    "SZOBANKENT": "4",
                                    "NAPONTA": "37",
                                    "SZOBANKENT NAPONTA": "1"
                                },
                                {
                                    "SZOBA_ID": "46",
                                    "NAP": "19",
                                    "SZOBANKENT": "4",
                                    "NAPONTA": "31",
                                    "SZOBANKENT NAPONTA": "1"
                                },
                                {
                                    "SZOBA_ID": "46",
                                    "NAP": "23",
                                    "SZOBANKENT": "4",
                                    "NAPONTA": "44",
                                    "SZOBANKENT NAPONTA": "1"
                                },
                                {
                                    "SZOBA_ID": "47",
                                    "NAP": "13",
                                    "SZOBANKENT": "2",
                                    "NAPONTA": "29",
                                    "SZOBANKENT NAPONTA": "1"
                                },
                                {
                                    "SZOBA_ID": "47",
                                    "NAP": "16",
                                    "SZOBANKENT": "2",
                                    "NAPONTA": "53",
                                    "SZOBANKENT NAPONTA": "1"
                                },
                                {
                                    "SZOBA_ID": "48",
                                    "NAP": "1",
                                    "SZOBANKENT": "9",
                                    "NAPONTA": "48",
                                    "SZOBANKENT NAPONTA": "1"
                                },
                                {
                                    "SZOBA_ID": "48",
                                    "NAP": "3",
                                    "SZOBANKENT": "9",
                                    "NAPONTA": "39",
                                    "SZOBANKENT NAPONTA": "1"
                                },
                                {
                                    "SZOBA_ID": "48",
                                    "NAP": "6",
                                    "SZOBANKENT": "9",
                                    "NAPONTA": "42",
                                    "SZOBANKENT NAPONTA": "1"
                                },
                                {
                                    "SZOBA_ID": "48",
                                    "NAP": "9",
                                    "SZOBANKENT": "9",
                                    "NAPONTA": "39",
                                    "SZOBANKENT NAPONTA": "1"
                                },
                                {
                                    "SZOBA_ID": "48",
                                    "NAP": "17",
                                    "SZOBANKENT": "9",
                                    "NAPONTA": "40",
                                    "SZOBANKENT NAPONTA": "1"
                                },
                                {
                                    "SZOBA_ID": "48",
                                    "NAP": "18",
                                    "SZOBANKENT": "9",
                                    "NAPONTA": "29",
                                    "SZOBANKENT NAPONTA": "1"
                                },
                                {
                                    "SZOBA_ID": "48",
                                    "NAP": "25",
                                    "SZOBANKENT": "9",
                                    "NAPONTA": "29",
                                    "SZOBANKENT NAPONTA": "2"
                                },
                                {
                                    "SZOBA_ID": "48",
                                    "NAP": "25",
                                    "SZOBANKENT": "9",
                                    "NAPONTA": "29",
                                    "SZOBANKENT NAPONTA": "2"
                                },
                                {
                                    "SZOBA_ID": "48",
                                    "NAP": "26",
                                    "SZOBANKENT": "9",
                                    "NAPONTA": "31",
                                    "SZOBANKENT NAPONTA": "1"
                                },
                                {
                                    "SZOBA_ID": "49",
                                    "NAP": "2",
                                    "SZOBANKENT": "7",
                                    "NAPONTA": "21",
                                    "SZOBANKENT NAPONTA": "1"
                                },
                                {
                                    "SZOBA_ID": "49",
                                    "NAP": "16",
                                    "SZOBANKENT": "7",
                                    "NAPONTA": "53",
                                    "SZOBANKENT NAPONTA": "1"
                                },
                                {
                                    "SZOBA_ID": "49",
                                    "NAP": "17",
                                    "SZOBANKENT": "7",
                                    "NAPONTA": "40",
                                    "SZOBANKENT NAPONTA": "1"
                                },
                                {
                                    "SZOBA_ID": "49",
                                    "NAP": "18",
                                    "SZOBANKENT": "7",
                                    "NAPONTA": "29",
                                    "SZOBANKENT NAPONTA": "1"
                                },
                                {
                                    "SZOBA_ID": "49",
                                    "NAP": "26",
                                    "SZOBANKENT": "7",
                                    "NAPONTA": "31",
                                    "SZOBANKENT NAPONTA": "2"
                                },
                                {
                                    "SZOBA_ID": "49",
                                    "NAP": "26",
                                    "SZOBANKENT": "7",
                                    "NAPONTA": "31",
                                    "SZOBANKENT NAPONTA": "2"
                                },
                                {
                                    "SZOBA_ID": "49",
                                    "NAP": "30",
                                    "SZOBANKENT": "7",
                                    "NAPONTA": "47",
                                    "SZOBANKENT NAPONTA": "1"
                                },
                                {
                                    "SZOBA_ID": "50",
                                    "NAP": "10",
                                    "SZOBANKENT": "4",
                                    "NAPONTA": "37",
                                    "SZOBANKENT NAPONTA": "1"
                                },
                                {
                                    "SZOBA_ID": "50",
                                    "NAP": "16",
                                    "SZOBANKENT": "4",
                                    "NAPONTA": "53",
                                    "SZOBANKENT NAPONTA": "1"
                                },
                                {
                                    "SZOBA_ID": "50",
                                    "NAP": "18",
                                    "SZOBANKENT": "4",
                                    "NAPONTA": "29",
                                    "SZOBANKENT NAPONTA": "1"
                                },
                                {
                                    "SZOBA_ID": "50",
                                    "NAP": "30",
                                    "SZOBANKENT": "4",
                                    "NAPONTA": "47",
                                    "SZOBANKENT NAPONTA": "1"
                                },
                                {
                                    "SZOBA_ID": "51",
                                    "NAP": "18",
                                    "SZOBANKENT": "5",
                                    "NAPONTA": "29",
                                    "SZOBANKENT NAPONTA": "1"
                                },
                                {
                                    "SZOBA_ID": "51",
                                    "NAP": "19",
                                    "SZOBANKENT": "5",
                                    "NAPONTA": "31",
                                    "SZOBANKENT NAPONTA": "1"
                                },
                                {
                                    "SZOBA_ID": "51",
                                    "NAP": "23",
                                    "SZOBANKENT": "5",
                                    "NAPONTA": "44",
                                    "SZOBANKENT NAPONTA": "1"
                                },
                                {
                                    "SZOBA_ID": "51",
                                    "NAP": "28",
                                    "SZOBANKENT": "5",
                                    "NAPONTA": "40",
                                    "SZOBANKENT NAPONTA": "2"
                                },
                                {
                                    "SZOBA_ID": "51",
                                    "NAP": "28",
                                    "SZOBANKENT": "5",
                                    "NAPONTA": "40",
                                    "SZOBANKENT NAPONTA": "2"
                                },
                                {
                                    "SZOBA_ID": "52",
                                    "NAP": "7",
                                    "SZOBANKENT": "5",
                                    "NAPONTA": "29",
                                    "SZOBANKENT NAPONTA": "1"
                                },
                                {
                                    "SZOBA_ID": "52",
                                    "NAP": "10",
                                    "SZOBANKENT": "5",
                                    "NAPONTA": "37",
                                    "SZOBANKENT NAPONTA": "1"
                                },
                                {
                                    "SZOBA_ID": "52",
                                    "NAP": "14",
                                    "SZOBANKENT": "5",
                                    "NAPONTA": "26",
                                    "SZOBANKENT NAPONTA": "1"
                                },
                                {
                                    "SZOBA_ID": "52",
                                    "NAP": "24",
                                    "SZOBANKENT": "5",
                                    "NAPONTA": "39",
                                    "SZOBANKENT NAPONTA": "1"
                                },
                                {
                                    "SZOBA_ID": "52",
                                    "NAP": "26",
                                    "SZOBANKENT": "5",
                                    "NAPONTA": "31",
                                    "SZOBANKENT NAPONTA": "1"
                                },
                                {
                                    "SZOBA_ID": "53",
                                    "NAP": "24",
                                    "SZOBANKENT": "2",
                                    "NAPONTA": "39",
                                    "SZOBANKENT NAPONTA": "1"
                                },
                                {
                                    "SZOBA_ID": "53",
                                    "NAP": "26",
                                    "SZOBANKENT": "2",
                                    "NAPONTA": "31",
                                    "SZOBANKENT NAPONTA": "1"
                                },
                                {
                                    "SZOBA_ID": "54",
                                    "NAP": "2",
                                    "SZOBANKENT": "6",
                                    "NAPONTA": "21",
                                    "SZOBANKENT NAPONTA": "1"
                                },
                                {
                                    "SZOBA_ID": "54",
                                    "NAP": "7",
                                    "SZOBANKENT": "6",
                                    "NAPONTA": "29",
                                    "SZOBANKENT NAPONTA": "1"
                                },
                                {
                                    "SZOBA_ID": "54",
                                    "NAP": "13",
                                    "SZOBANKENT": "6",
                                    "NAPONTA": "29",
                                    "SZOBANKENT NAPONTA": "1"
                                },
                                {
                                    "SZOBA_ID": "54",
                                    "NAP": "14",
                                    "SZOBANKENT": "6",
                                    "NAPONTA": "26",
                                    "SZOBANKENT NAPONTA": "1"
                                },
                                {
                                    "SZOBA_ID": "54",
                                    "NAP": "28",
                                    "SZOBANKENT": "6",
                                    "NAPONTA": "40",
                                    "SZOBANKENT NAPONTA": "1"
                                },
                                {
                                    "SZOBA_ID": "54",
                                    "NAP": "30",
                                    "SZOBANKENT": "6",
                                    "NAPONTA": "47",
                                    "SZOBANKENT NAPONTA": "1"
                                },
                                {
                                    "SZOBA_ID": "55",
                                    "NAP": "8",
                                    "SZOBANKENT": "8",
                                    "NAPONTA": "36",
                                    "SZOBANKENT NAPONTA": "1"
                                },
                                {
                                    "SZOBA_ID": "55",
                                    "NAP": "12",
                                    "SZOBANKENT": "8",
                                    "NAPONTA": "32",
                                    "SZOBANKENT NAPONTA": "1"
                                },
                                {
                                    "SZOBA_ID": "55",
                                    "NAP": "17",
                                    "SZOBANKENT": "8",
                                    "NAPONTA": "40",
                                    "SZOBANKENT NAPONTA": "1"
                                },
                                {
                                    "SZOBA_ID": "55",
                                    "NAP": "24",
                                    "SZOBANKENT": "8",
                                    "NAPONTA": "39",
                                    "SZOBANKENT NAPONTA": "1"
                                },
                                {
                                    "SZOBA_ID": "55",
                                    "NAP": "28",
                                    "SZOBANKENT": "8",
                                    "NAPONTA": "40",
                                    "SZOBANKENT NAPONTA": "3"
                                },
                                {
                                    "SZOBA_ID": "55",
                                    "NAP": "28",
                                    "SZOBANKENT": "8",
                                    "NAPONTA": "40",
                                    "SZOBANKENT NAPONTA": "3"
                                },
                                {
                                    "SZOBA_ID": "55",
                                    "NAP": "28",
                                    "SZOBANKENT": "8",
                                    "NAPONTA": "40",
                                    "SZOBANKENT NAPONTA": "3"
                                },
                                {
                                    "SZOBA_ID": "55",
                                    "NAP": "30",
                                    "SZOBANKENT": "8",
                                    "NAPONTA": "47",
                                    "SZOBANKENT NAPONTA": "1"
                                },
                                {
                                    "SZOBA_ID": "56",
                                    "NAP": "8",
                                    "SZOBANKENT": "2",
                                    "NAPONTA": "36",
                                    "SZOBANKENT NAPONTA": "1"
                                },
                                {
                                    "SZOBA_ID": "56",
                                    "NAP": "29",
                                    "SZOBANKENT": "2",
                                    "NAPONTA": "31",
                                    "SZOBANKENT NAPONTA": "1"
                                },
                                {
                                    "SZOBA_ID": "57",
                                    "NAP": "6",
                                    "SZOBANKENT": "4",
                                    "NAPONTA": "42",
                                    "SZOBANKENT NAPONTA": "2"
                                },
                                {
                                    "SZOBA_ID": "57",
                                    "NAP": "6",
                                    "SZOBANKENT": "4",
                                    "NAPONTA": "42",
                                    "SZOBANKENT NAPONTA": "2"
                                },
                                {
                                    "SZOBA_ID": "57",
                                    "NAP": "22",
                                    "SZOBANKENT": "4",
                                    "NAPONTA": "35",
                                    "SZOBANKENT NAPONTA": "1"
                                },
                                {
                                    "SZOBA_ID": "57",
                                    "NAP": "25",
                                    "SZOBANKENT": "4",
                                    "NAPONTA": "29",
                                    "SZOBANKENT NAPONTA": "1"
                                },
                                {
                                    "SZOBA_ID": "58",
                                    "NAP": "1",
                                    "SZOBANKENT": "13",
                                    "NAPONTA": "48",
                                    "SZOBANKENT NAPONTA": "1"
                                },
                                {
                                    "SZOBA_ID": "58",
                                    "NAP": "6",
                                    "SZOBANKENT": "13",
                                    "NAPONTA": "42",
                                    "SZOBANKENT NAPONTA": "1"
                                },
                                {
                                    "SZOBA_ID": "58",
                                    "NAP": "7",
                                    "SZOBANKENT": "13",
                                    "NAPONTA": "29",
                                    "SZOBANKENT NAPONTA": "1"
                                },
                                {
                                    "SZOBA_ID": "58",
                                    "NAP": "12",
                                    "SZOBANKENT": "13",
                                    "NAPONTA": "32",
                                    "SZOBANKENT NAPONTA": "1"
                                },
                                {
                                    "SZOBA_ID": "58",
                                    "NAP": "16",
                                    "SZOBANKENT": "13",
                                    "NAPONTA": "53",
                                    "SZOBANKENT NAPONTA": "1"
                                },
                                {
                                    "SZOBA_ID": "58",
                                    "NAP": "17",
                                    "SZOBANKENT": "13",
                                    "NAPONTA": "40",
                                    "SZOBANKENT NAPONTA": "1"
                                },
                                {
                                    "SZOBA_ID": "58",
                                    "NAP": "19",
                                    "SZOBANKENT": "13",
                                    "NAPONTA": "31",
                                    "SZOBANKENT NAPONTA": "1"
                                },
                                {
                                    "SZOBA_ID": "58",
                                    "NAP": "23",
                                    "SZOBANKENT": "13",
                                    "NAPONTA": "44",
                                    "SZOBANKENT NAPONTA": "2"
                                },
                                {
                                    "SZOBA_ID": "58",
                                    "NAP": "23",
                                    "SZOBANKENT": "13",
                                    "NAPONTA": "44",
                                    "SZOBANKENT NAPONTA": "2"
                                },
                                {
                                    "SZOBA_ID": "58",
                                    "NAP": "26",
                                    "SZOBANKENT": "13",
                                    "NAPONTA": "31",
                                    "SZOBANKENT NAPONTA": "1"
                                },
                                {
                                    "SZOBA_ID": "58",
                                    "NAP": "27",
                                    "SZOBANKENT": "13",
                                    "NAPONTA": "33",
                                    "SZOBANKENT NAPONTA": "1"
                                },
                                {
                                    "SZOBA_ID": "58",
                                    "NAP": "28",
                                    "SZOBANKENT": "13",
                                    "NAPONTA": "40",
                                    "SZOBANKENT NAPONTA": "1"
                                },
                                {
                                    "SZOBA_ID": "58",
                                    "NAP": "30",
                                    "SZOBANKENT": "13",
                                    "NAPONTA": "47",
                                    "SZOBANKENT NAPONTA": "1"
                                },
                                {
                                    "SZOBA_ID": "59",
                                    "NAP": "3",
                                    "SZOBANKENT": "7",
                                    "NAPONTA": "39",
                                    "SZOBANKENT NAPONTA": "1"
                                },
                                {
                                    "SZOBA_ID": "59",
                                    "NAP": "17",
                                    "SZOBANKENT": "7",
                                    "NAPONTA": "40",
                                    "SZOBANKENT NAPONTA": "1"
                                },
                                {
                                    "SZOBA_ID": "59",
                                    "NAP": "20",
                                    "SZOBANKENT": "7",
                                    "NAPONTA": "32",
                                    "SZOBANKENT NAPONTA": "1"
                                },
                                {
                                    "SZOBA_ID": "59",
                                    "NAP": "25",
                                    "SZOBANKENT": "7",
                                    "NAPONTA": "29",
                                    "SZOBANKENT NAPONTA": "2"
                                },
                                {
                                    "SZOBA_ID": "59",
                                    "NAP": "25",
                                    "SZOBANKENT": "7",
                                    "NAPONTA": "29",
                                    "SZOBANKENT NAPONTA": "2"
                                },
                                {
                                    "SZOBA_ID": "59",
                                    "NAP": "26",
                                    "SZOBANKENT": "7",
                                    "NAPONTA": "31",
                                    "SZOBANKENT NAPONTA": "1"
                                },
                                {
                                    "SZOBA_ID": "59",
                                    "NAP": "28",
                                    "SZOBANKENT": "7",
                                    "NAPONTA": "40",
                                    "SZOBANKENT NAPONTA": "1"
                                },
                                {
                                    "SZOBA_ID": "60",
                                    "NAP": "16",
                                    "SZOBANKENT": "1",
                                    "NAPONTA": "53",
                                    "SZOBANKENT NAPONTA": "1"
                                },
                                {
                                    "SZOBA_ID": "61",
                                    "NAP": "4",
                                    "SZOBANKENT": "5",
                                    "NAPONTA": "29",
                                    "SZOBANKENT NAPONTA": "1"
                                },
                                {
                                    "SZOBA_ID": "61",
                                    "NAP": "5",
                                    "SZOBANKENT": "5",
                                    "NAPONTA": "36",
                                    "SZOBANKENT NAPONTA": "1"
                                },
                                {
                                    "SZOBA_ID": "61",
                                    "NAP": "11",
                                    "SZOBANKENT": "5",
                                    "NAPONTA": "13",
                                    "SZOBANKENT NAPONTA": "1"
                                },
                                {
                                    "SZOBA_ID": "61",
                                    "NAP": "21",
                                    "SZOBANKENT": "5",
                                    "NAPONTA": "24",
                                    "SZOBANKENT NAPONTA": "1"
                                },
                                {
                                    "SZOBA_ID": "61",
                                    "NAP": "29",
                                    "SZOBANKENT": "5",
                                    "NAPONTA": "31",
                                    "SZOBANKENT NAPONTA": "1"
                                },
                                {
                                    "SZOBA_ID": "62",
                                    "NAP": "8",
                                    "SZOBANKENT": "5",
                                    "NAPONTA": "36",
                                    "SZOBANKENT NAPONTA": "1"
                                },
                                {
                                    "SZOBA_ID": "62",
                                    "NAP": "9",
                                    "SZOBANKENT": "5",
                                    "NAPONTA": "39",
                                    "SZOBANKENT NAPONTA": "2"
                                },
                                {
                                    "SZOBA_ID": "62",
                                    "NAP": "9",
                                    "SZOBANKENT": "5",
                                    "NAPONTA": "39",
                                    "SZOBANKENT NAPONTA": "2"
                                },
                                {
                                    "SZOBA_ID": "62",
                                    "NAP": "21",
                                    "SZOBANKENT": "5",
                                    "NAPONTA": "24",
                                    "SZOBANKENT NAPONTA": "1"
                                },
                                {
                                    "SZOBA_ID": "62",
                                    "NAP": "26",
                                    "SZOBANKENT": "5",
                                    "NAPONTA": "31",
                                    "SZOBANKENT NAPONTA": "1"
                                },
                                {
                                    "SZOBA_ID": "63",
                                    "NAP": "2",
                                    "SZOBANKENT": "4",
                                    "NAPONTA": "21",
                                    "SZOBANKENT NAPONTA": "2"
                                },
                                {
                                    "SZOBA_ID": "63",
                                    "NAP": "2",
                                    "SZOBANKENT": "4",
                                    "NAPONTA": "21",
                                    "SZOBANKENT NAPONTA": "2"
                                },
                                {
                                    "SZOBA_ID": "63",
                                    "NAP": "8",
                                    "SZOBANKENT": "4",
                                    "NAPONTA": "36",
                                    "SZOBANKENT NAPONTA": "1"
                                },
                                {
                                    "SZOBA_ID": "63",
                                    "NAP": "12",
                                    "SZOBANKENT": "4",
                                    "NAPONTA": "32",
                                    "SZOBANKENT NAPONTA": "1"
                                },
                                {
                                    "SZOBA_ID": "64",
                                    "NAP": "2",
                                    "SZOBANKENT": "6",
                                    "NAPONTA": "21",
                                    "SZOBANKENT NAPONTA": "1"
                                },
                                {
                                    "SZOBA_ID": "64",
                                    "NAP": "5",
                                    "SZOBANKENT": "6",
                                    "NAPONTA": "36",
                                    "SZOBANKENT NAPONTA": "1"
                                },
                                {
                                    "SZOBA_ID": "64",
                                    "NAP": "16",
                                    "SZOBANKENT": "6",
                                    "NAPONTA": "53",
                                    "SZOBANKENT NAPONTA": "1"
                                },
                                {
                                    "SZOBA_ID": "64",
                                    "NAP": "22",
                                    "SZOBANKENT": "6",
                                    "NAPONTA": "35",
                                    "SZOBANKENT NAPONTA": "1"
                                },
                                {
                                    "SZOBA_ID": "64",
                                    "NAP": "30",
                                    "SZOBANKENT": "6",
                                    "NAPONTA": "47",
                                    "SZOBANKENT NAPONTA": "1"
                                },
                                {
                                    "SZOBA_ID": "64",
                                    "NAP": "31",
                                    "SZOBANKENT": "6",
                                    "NAPONTA": "8",
                                    "SZOBANKENT NAPONTA": "1"
                                },
                                {
                                    "SZOBA_ID": "65",
                                    "NAP": "17",
                                    "SZOBANKENT": "1",
                                    "NAPONTA": "40",
                                    "SZOBANKENT NAPONTA": "1"
                                },
                                {
                                    "SZOBA_ID": "66",
                                    "NAP": "1",
                                    "SZOBANKENT": "4",
                                    "NAPONTA": "48",
                                    "SZOBANKENT NAPONTA": "1"
                                },
                                {
                                    "SZOBA_ID": "66",
                                    "NAP": "8",
                                    "SZOBANKENT": "4",
                                    "NAPONTA": "36",
                                    "SZOBANKENT NAPONTA": "1"
                                },
                                {
                                    "SZOBA_ID": "66",
                                    "NAP": "10",
                                    "SZOBANKENT": "4",
                                    "NAPONTA": "37",
                                    "SZOBANKENT NAPONTA": "1"
                                },
                                {
                                    "SZOBA_ID": "66",
                                    "NAP": "29",
                                    "SZOBANKENT": "4",
                                    "NAPONTA": "31",
                                    "SZOBANKENT NAPONTA": "1"
                                },
                                {
                                    "SZOBA_ID": "67",
                                    "NAP": "1",
                                    "SZOBANKENT": "6",
                                    "NAPONTA": "48",
                                    "SZOBANKENT NAPONTA": "1"
                                },
                                {
                                    "SZOBA_ID": "67",
                                    "NAP": "3",
                                    "SZOBANKENT": "6",
                                    "NAPONTA": "39",
                                    "SZOBANKENT NAPONTA": "1"
                                },
                                {
                                    "SZOBA_ID": "67",
                                    "NAP": "12",
                                    "SZOBANKENT": "6",
                                    "NAPONTA": "32",
                                    "SZOBANKENT NAPONTA": "1"
                                },
                                {
                                    "SZOBA_ID": "67",
                                    "NAP": "14",
                                    "SZOBANKENT": "6",
                                    "NAPONTA": "26",
                                    "SZOBANKENT NAPONTA": "1"
                                },
                                {
                                    "SZOBA_ID": "67",
                                    "NAP": "22",
                                    "SZOBANKENT": "6",
                                    "NAPONTA": "35",
                                    "SZOBANKENT NAPONTA": "1"
                                },
                                {
                                    "SZOBA_ID": "67",
                                    "NAP": "30",
                                    "SZOBANKENT": "6",
                                    "NAPONTA": "47",
                                    "SZOBANKENT NAPONTA": "1"
                                },
                                {
                                    "SZOBA_ID": "68",
                                    "NAP": "7",
                                    "SZOBANKENT": "3",
                                    "NAPONTA": "29",
                                    "SZOBANKENT NAPONTA": "1"
                                },
                                {
                                    "SZOBA_ID": "68",
                                    "NAP": "12",
                                    "SZOBANKENT": "3",
                                    "NAPONTA": "32",
                                    "SZOBANKENT NAPONTA": "1"
                                },
                                {
                                    "SZOBA_ID": "68",
                                    "NAP": "27",
                                    "SZOBANKENT": "3",
                                    "NAPONTA": "33",
                                    "SZOBANKENT NAPONTA": "1"
                                },
                                {
                                    "SZOBA_ID": "69",
                                    "NAP": "5",
                                    "SZOBANKENT": "4",
                                    "NAPONTA": "36",
                                    "SZOBANKENT NAPONTA": "1"
                                },
                                {
                                    "SZOBA_ID": "69",
                                    "NAP": "15",
                                    "SZOBANKENT": "4",
                                    "NAPONTA": "25",
                                    "SZOBANKENT NAPONTA": "1"
                                },
                                {
                                    "SZOBA_ID": "69",
                                    "NAP": "30",
                                    "SZOBANKENT": "4",
                                    "NAPONTA": "47",
                                    "SZOBANKENT NAPONTA": "1"
                                },
                                {
                                    "SZOBA_ID": "69",
                                    "NAP": "31",
                                    "SZOBANKENT": "4",
                                    "NAPONTA": "8",
                                    "SZOBANKENT NAPONTA": "1"
                                },
                                {
                                    "SZOBA_ID": "70",
                                    "NAP": "3",
                                    "SZOBANKENT": "11",
                                    "NAPONTA": "39",
                                    "SZOBANKENT NAPONTA": "1"
                                },
                                {
                                    "SZOBA_ID": "70",
                                    "NAP": "7",
                                    "SZOBANKENT": "11",
                                    "NAPONTA": "29",
                                    "SZOBANKENT NAPONTA": "1"
                                },
                                {
                                    "SZOBA_ID": "70",
                                    "NAP": "15",
                                    "SZOBANKENT": "11",
                                    "NAPONTA": "25",
                                    "SZOBANKENT NAPONTA": "1"
                                },
                                {
                                    "SZOBA_ID": "70",
                                    "NAP": "17",
                                    "SZOBANKENT": "11",
                                    "NAPONTA": "40",
                                    "SZOBANKENT NAPONTA": "1"
                                },
                                {
                                    "SZOBA_ID": "70",
                                    "NAP": "19",
                                    "SZOBANKENT": "11",
                                    "NAPONTA": "31",
                                    "SZOBANKENT NAPONTA": "1"
                                },
                                {
                                    "SZOBA_ID": "70",
                                    "NAP": "22",
                                    "SZOBANKENT": "11",
                                    "NAPONTA": "35",
                                    "SZOBANKENT NAPONTA": "1"
                                },
                                {
                                    "SZOBA_ID": "70",
                                    "NAP": "24",
                                    "SZOBANKENT": "11",
                                    "NAPONTA": "39",
                                    "SZOBANKENT NAPONTA": "1"
                                },
                                {
                                    "SZOBA_ID": "70",
                                    "NAP": "27",
                                    "SZOBANKENT": "11",
                                    "NAPONTA": "33",
                                    "SZOBANKENT NAPONTA": "2"
                                },
                                {
                                    "SZOBA_ID": "70",
                                    "NAP": "27",
                                    "SZOBANKENT": "11",
                                    "NAPONTA": "33",
                                    "SZOBANKENT NAPONTA": "2"
                                },
                                {
                                    "SZOBA_ID": "70",
                                    "NAP": "30",
                                    "SZOBANKENT": "11",
                                    "NAPONTA": "47",
                                    "SZOBANKENT NAPONTA": "2"
                                },
                                {
                                    "SZOBA_ID": "70",
                                    "NAP": "30",
                                    "SZOBANKENT": "11",
                                    "NAPONTA": "47",
                                    "SZOBANKENT NAPONTA": "2"
                                },
                                {
                                    "SZOBA_ID": "71",
                                    "NAP": "4",
                                    "SZOBANKENT": "3",
                                    "NAPONTA": "29",
                                    "SZOBANKENT NAPONTA": "1"
                                },
                                {
                                    "SZOBA_ID": "71",
                                    "NAP": "18",
                                    "SZOBANKENT": "3",
                                    "NAPONTA": "29",
                                    "SZOBANKENT NAPONTA": "1"
                                },
                                {
                                    "SZOBA_ID": "71",
                                    "NAP": "24",
                                    "SZOBANKENT": "3",
                                    "NAPONTA": "39",
                                    "SZOBANKENT NAPONTA": "1"
                                },
                                {
                                    "SZOBA_ID": "72",
                                    "NAP": "4",
                                    "SZOBANKENT": "4",
                                    "NAPONTA": "29",
                                    "SZOBANKENT NAPONTA": "1"
                                },
                                {
                                    "SZOBA_ID": "72",
                                    "NAP": "16",
                                    "SZOBANKENT": "4",
                                    "NAPONTA": "53",
                                    "SZOBANKENT NAPONTA": "1"
                                },
                                {
                                    "SZOBA_ID": "72",
                                    "NAP": "25",
                                    "SZOBANKENT": "4",
                                    "NAPONTA": "29",
                                    "SZOBANKENT NAPONTA": "2"
                                },
                                {
                                    "SZOBA_ID": "72",
                                    "NAP": "25",
                                    "SZOBANKENT": "4",
                                    "NAPONTA": "29",
                                    "SZOBANKENT NAPONTA": "2"
                                },
                                {
                                    "SZOBA_ID": "73",
                                    "NAP": "1",
                                    "SZOBANKENT": "4",
                                    "NAPONTA": "48",
                                    "SZOBANKENT NAPONTA": "1"
                                },
                                {
                                    "SZOBA_ID": "73",
                                    "NAP": "16",
                                    "SZOBANKENT": "4",
                                    "NAPONTA": "53",
                                    "SZOBANKENT NAPONTA": "1"
                                },
                                {
                                    "SZOBA_ID": "73",
                                    "NAP": "25",
                                    "SZOBANKENT": "4",
                                    "NAPONTA": "29",
                                    "SZOBANKENT NAPONTA": "1"
                                },
                                {
                                    "SZOBA_ID": "73",
                                    "NAP": "29",
                                    "SZOBANKENT": "4",
                                    "NAPONTA": "31",
                                    "SZOBANKENT NAPONTA": "1"
                                },
                                {
                                    "SZOBA_ID": "74",
                                    "NAP": "3",
                                    "SZOBANKENT": "9",
                                    "NAPONTA": "39",
                                    "SZOBANKENT NAPONTA": "1"
                                },
                                {
                                    "SZOBA_ID": "74",
                                    "NAP": "9",
                                    "SZOBANKENT": "9",
                                    "NAPONTA": "39",
                                    "SZOBANKENT NAPONTA": "1"
                                },
                                {
                                    "SZOBA_ID": "74",
                                    "NAP": "16",
                                    "SZOBANKENT": "9",
                                    "NAPONTA": "53",
                                    "SZOBANKENT NAPONTA": "1"
                                },
                                {
                                    "SZOBA_ID": "74",
                                    "NAP": "18",
                                    "SZOBANKENT": "9",
                                    "NAPONTA": "29",
                                    "SZOBANKENT NAPONTA": "1"
                                },
                                {
                                    "SZOBA_ID": "74",
                                    "NAP": "22",
                                    "SZOBANKENT": "9",
                                    "NAPONTA": "35",
                                    "SZOBANKENT NAPONTA": "2"
                                },
                                {
                                    "SZOBA_ID": "74",
                                    "NAP": "22",
                                    "SZOBANKENT": "9",
                                    "NAPONTA": "35",
                                    "SZOBANKENT NAPONTA": "2"
                                },
                                {
                                    "SZOBA_ID": "74",
                                    "NAP": "28",
                                    "SZOBANKENT": "9",
                                    "NAPONTA": "40",
                                    "SZOBANKENT NAPONTA": "1"
                                },
                                {
                                    "SZOBA_ID": "74",
                                    "NAP": "30",
                                    "SZOBANKENT": "9",
                                    "NAPONTA": "47",
                                    "SZOBANKENT NAPONTA": "2"
                                },
                                {
                                    "SZOBA_ID": "74",
                                    "NAP": "30",
                                    "SZOBANKENT": "9",
                                    "NAPONTA": "47",
                                    "SZOBANKENT NAPONTA": "2"
                                },
                                {
                                    "SZOBA_ID": "75",
                                    "NAP": "1",
                                    "SZOBANKENT": "3",
                                    "NAPONTA": "48",
                                    "SZOBANKENT NAPONTA": "1"
                                },
                                {
                                    "SZOBA_ID": "75",
                                    "NAP": "6",
                                    "SZOBANKENT": "3",
                                    "NAPONTA": "42",
                                    "SZOBANKENT NAPONTA": "1"
                                },
                                {
                                    "SZOBA_ID": "75",
                                    "NAP": "19",
                                    "SZOBANKENT": "3",
                                    "NAPONTA": "31",
                                    "SZOBANKENT NAPONTA": "1"
                                },
                                {
                                    "SZOBA_ID": "76",
                                    "NAP": "18",
                                    "SZOBANKENT": "3",
                                    "NAPONTA": "29",
                                    "SZOBANKENT NAPONTA": "1"
                                },
                                {
                                    "SZOBA_ID": "76",
                                    "NAP": "21",
                                    "SZOBANKENT": "3",
                                    "NAPONTA": "24",
                                    "SZOBANKENT NAPONTA": "1"
                                },
                                {
                                    "SZOBA_ID": "76",
                                    "NAP": "22",
                                    "SZOBANKENT": "3",
                                    "NAPONTA": "35",
                                    "SZOBANKENT NAPONTA": "1"
                                },
                                {
                                    "SZOBA_ID": "77",
                                    "NAP": "1",
                                    "SZOBANKENT": "6",
                                    "NAPONTA": "48",
                                    "SZOBANKENT NAPONTA": "1"
                                },
                                {
                                    "SZOBA_ID": "77",
                                    "NAP": "15",
                                    "SZOBANKENT": "6",
                                    "NAPONTA": "25",
                                    "SZOBANKENT NAPONTA": "1"
                                },
                                {
                                    "SZOBA_ID": "77",
                                    "NAP": "20",
                                    "SZOBANKENT": "6",
                                    "NAPONTA": "32",
                                    "SZOBANKENT NAPONTA": "1"
                                },
                                {
                                    "SZOBA_ID": "77",
                                    "NAP": "21",
                                    "SZOBANKENT": "6",
                                    "NAPONTA": "24",
                                    "SZOBANKENT NAPONTA": "1"
                                },
                                {
                                    "SZOBA_ID": "77",
                                    "NAP": "22",
                                    "SZOBANKENT": "6",
                                    "NAPONTA": "35",
                                    "SZOBANKENT NAPONTA": "1"
                                },
                                {
                                    "SZOBA_ID": "77",
                                    "NAP": "23",
                                    "SZOBANKENT": "6",
                                    "NAPONTA": "44",
                                    "SZOBANKENT NAPONTA": "1"
                                },
                                {
                                    "SZOBA_ID": "78",
                                    "NAP": "9",
                                    "SZOBANKENT": "6",
                                    "NAPONTA": "39",
                                    "SZOBANKENT NAPONTA": "1"
                                },
                                {
                                    "SZOBA_ID": "78",
                                    "NAP": "10",
                                    "SZOBANKENT": "6",
                                    "NAPONTA": "37",
                                    "SZOBANKENT NAPONTA": "1"
                                },
                                {
                                    "SZOBA_ID": "78",
                                    "NAP": "14",
                                    "SZOBANKENT": "6",
                                    "NAPONTA": "26",
                                    "SZOBANKENT NAPONTA": "1"
                                },
                                {
                                    "SZOBA_ID": "78",
                                    "NAP": "15",
                                    "SZOBANKENT": "6",
                                    "NAPONTA": "25",
                                    "SZOBANKENT NAPONTA": "1"
                                },
                                {
                                    "SZOBA_ID": "78",
                                    "NAP": "20",
                                    "SZOBANKENT": "6",
                                    "NAPONTA": "32",
                                    "SZOBANKENT NAPONTA": "1"
                                },
                                {
                                    "SZOBA_ID": "78",
                                    "NAP": "27",
                                    "SZOBANKENT": "6",
                                    "NAPONTA": "33",
                                    "SZOBANKENT NAPONTA": "1"
                                },
                                {
                                    "SZOBA_ID": "79",
                                    "NAP": "5",
                                    "SZOBANKENT": "5",
                                    "NAPONTA": "36",
                                    "SZOBANKENT NAPONTA": "1"
                                },
                                {
                                    "SZOBA_ID": "79",
                                    "NAP": "15",
                                    "SZOBANKENT": "5",
                                    "NAPONTA": "25",
                                    "SZOBANKENT NAPONTA": "1"
                                },
                                {
                                    "SZOBA_ID": "79",
                                    "NAP": "16",
                                    "SZOBANKENT": "5",
                                    "NAPONTA": "53",
                                    "SZOBANKENT NAPONTA": "2"
                                },
                                {
                                    "SZOBA_ID": "79",
                                    "NAP": "16",
                                    "SZOBANKENT": "5",
                                    "NAPONTA": "53",
                                    "SZOBANKENT NAPONTA": "2"
                                },
                                {
                                    "SZOBA_ID": "79",
                                    "NAP": "30",
                                    "SZOBANKENT": "5",
                                    "NAPONTA": "47",
                                    "SZOBANKENT NAPONTA": "1"
                                },
                                {
                                    "SZOBA_ID": "80",
                                    "NAP": "1",
                                    "SZOBANKENT": "7",
                                    "NAPONTA": "48",
                                    "SZOBANKENT NAPONTA": "1"
                                },
                                {
                                    "SZOBA_ID": "80",
                                    "NAP": "7",
                                    "SZOBANKENT": "7",
                                    "NAPONTA": "29",
                                    "SZOBANKENT NAPONTA": "1"
                                },
                                {
                                    "SZOBA_ID": "80",
                                    "NAP": "13",
                                    "SZOBANKENT": "7",
                                    "NAPONTA": "29",
                                    "SZOBANKENT NAPONTA": "1"
                                },
                                {
                                    "SZOBA_ID": "80",
                                    "NAP": "14",
                                    "SZOBANKENT": "7",
                                    "NAPONTA": "26",
                                    "SZOBANKENT NAPONTA": "1"
                                },
                                {
                                    "SZOBA_ID": "80",
                                    "NAP": "17",
                                    "SZOBANKENT": "7",
                                    "NAPONTA": "40",
                                    "SZOBANKENT NAPONTA": "1"
                                },
                                {
                                    "SZOBA_ID": "80",
                                    "NAP": "20",
                                    "SZOBANKENT": "7",
                                    "NAPONTA": "32",
                                    "SZOBANKENT NAPONTA": "1"
                                },
                                {
                                    "SZOBA_ID": "80",
                                    "NAP": "23",
                                    "SZOBANKENT": "7",
                                    "NAPONTA": "44",
                                    "SZOBANKENT NAPONTA": "1"
                                },
                                {
                                    "SZOBA_ID": "81",
                                    "NAP": "6",
                                    "SZOBANKENT": "5",
                                    "NAPONTA": "42",
                                    "SZOBANKENT NAPONTA": "1"
                                },
                                {
                                    "SZOBA_ID": "81",
                                    "NAP": "16",
                                    "SZOBANKENT": "5",
                                    "NAPONTA": "53",
                                    "SZOBANKENT NAPONTA": "2"
                                },
                                {
                                    "SZOBA_ID": "81",
                                    "NAP": "16",
                                    "SZOBANKENT": "5",
                                    "NAPONTA": "53",
                                    "SZOBANKENT NAPONTA": "2"
                                },
                                {
                                    "SZOBA_ID": "81",
                                    "NAP": "22",
                                    "SZOBANKENT": "5",
                                    "NAPONTA": "35",
                                    "SZOBANKENT NAPONTA": "1"
                                },
                                {
                                    "SZOBA_ID": "81",
                                    "NAP": "23",
                                    "SZOBANKENT": "5",
                                    "NAPONTA": "44",
                                    "SZOBANKENT NAPONTA": "1"
                                },
                                {
                                    "SZOBA_ID": "82",
                                    "NAP": "1",
                                    "SZOBANKENT": "6",
                                    "NAPONTA": "48",
                                    "SZOBANKENT NAPONTA": "1"
                                },
                                {
                                    "SZOBA_ID": "82",
                                    "NAP": "4",
                                    "SZOBANKENT": "6",
                                    "NAPONTA": "29",
                                    "SZOBANKENT NAPONTA": "1"
                                },
                                {
                                    "SZOBA_ID": "82",
                                    "NAP": "12",
                                    "SZOBANKENT": "6",
                                    "NAPONTA": "32",
                                    "SZOBANKENT NAPONTA": "1"
                                },
                                {
                                    "SZOBA_ID": "82",
                                    "NAP": "27",
                                    "SZOBANKENT": "6",
                                    "NAPONTA": "33",
                                    "SZOBANKENT NAPONTA": "1"
                                },
                                {
                                    "SZOBA_ID": "82",
                                    "NAP": "29",
                                    "SZOBANKENT": "6",
                                    "NAPONTA": "31",
                                    "SZOBANKENT NAPONTA": "2"
                                },
                                {
                                    "SZOBA_ID": "82",
                                    "NAP": "29",
                                    "SZOBANKENT": "6",
                                    "NAPONTA": "31",
                                    "SZOBANKENT NAPONTA": "2"
                                },
                                {
                                    "SZOBA_ID": "83",
                                    "NAP": "4",
                                    "SZOBANKENT": "8",
                                    "NAPONTA": "29",
                                    "SZOBANKENT NAPONTA": "1"
                                },
                                {
                                    "SZOBA_ID": "83",
                                    "NAP": "10",
                                    "SZOBANKENT": "8",
                                    "NAPONTA": "37",
                                    "SZOBANKENT NAPONTA": "1"
                                },
                                {
                                    "SZOBA_ID": "83",
                                    "NAP": "15",
                                    "SZOBANKENT": "8",
                                    "NAPONTA": "25",
                                    "SZOBANKENT NAPONTA": "1"
                                },
                                {
                                    "SZOBA_ID": "83",
                                    "NAP": "18",
                                    "SZOBANKENT": "8",
                                    "NAPONTA": "29",
                                    "SZOBANKENT NAPONTA": "1"
                                },
                                {
                                    "SZOBA_ID": "83",
                                    "NAP": "19",
                                    "SZOBANKENT": "8",
                                    "NAPONTA": "31",
                                    "SZOBANKENT NAPONTA": "1"
                                },
                                {
                                    "SZOBA_ID": "83",
                                    "NAP": "28",
                                    "SZOBANKENT": "8",
                                    "NAPONTA": "40",
                                    "SZOBANKENT NAPONTA": "1"
                                },
                                {
                                    "SZOBA_ID": "83",
                                    "NAP": "30",
                                    "SZOBANKENT": "8",
                                    "NAPONTA": "47",
                                    "SZOBANKENT NAPONTA": "2"
                                },
                                {
                                    "SZOBA_ID": "83",
                                    "NAP": "30",
                                    "SZOBANKENT": "8",
                                    "NAPONTA": "47",
                                    "SZOBANKENT NAPONTA": "2"
                                },
                                {
                                    "SZOBA_ID": "84",
                                    "NAP": "13",
                                    "SZOBANKENT": "4",
                                    "NAPONTA": "29",
                                    "SZOBANKENT NAPONTA": "1"
                                },
                                {
                                    "SZOBA_ID": "84",
                                    "NAP": "17",
                                    "SZOBANKENT": "4",
                                    "NAPONTA": "40",
                                    "SZOBANKENT NAPONTA": "1"
                                },
                                {
                                    "SZOBA_ID": "84",
                                    "NAP": "22",
                                    "SZOBANKENT": "4",
                                    "NAPONTA": "35",
                                    "SZOBANKENT NAPONTA": "1"
                                },
                                {
                                    "SZOBA_ID": "84",
                                    "NAP": "24",
                                    "SZOBANKENT": "4",
                                    "NAPONTA": "39",
                                    "SZOBANKENT NAPONTA": "1"
                                },
                                {
                                    "SZOBA_ID": "85",
                                    "NAP": "9",
                                    "SZOBANKENT": "4",
                                    "NAPONTA": "39",
                                    "SZOBANKENT NAPONTA": "1"
                                },
                                {
                                    "SZOBA_ID": "85",
                                    "NAP": "15",
                                    "SZOBANKENT": "4",
                                    "NAPONTA": "25",
                                    "SZOBANKENT NAPONTA": "1"
                                },
                                {
                                    "SZOBA_ID": "85",
                                    "NAP": "17",
                                    "SZOBANKENT": "4",
                                    "NAPONTA": "40",
                                    "SZOBANKENT NAPONTA": "1"
                                },
                                {
                                    "SZOBA_ID": "85",
                                    "NAP": "25",
                                    "SZOBANKENT": "4",
                                    "NAPONTA": "29",
                                    "SZOBANKENT NAPONTA": "1"
                                },
                                {
                                    "SZOBA_ID": "86",
                                    "NAP": "1",
                                    "SZOBANKENT": "5",
                                    "NAPONTA": "48",
                                    "SZOBANKENT NAPONTA": "1"
                                },
                                {
                                    "SZOBA_ID": "86",
                                    "NAP": "16",
                                    "SZOBANKENT": "5",
                                    "NAPONTA": "53",
                                    "SZOBANKENT NAPONTA": "1"
                                },
                                {
                                    "SZOBA_ID": "86",
                                    "NAP": "17",
                                    "SZOBANKENT": "5",
                                    "NAPONTA": "40",
                                    "SZOBANKENT NAPONTA": "1"
                                },
                                {
                                    "SZOBA_ID": "86",
                                    "NAP": "24",
                                    "SZOBANKENT": "5",
                                    "NAPONTA": "39",
                                    "SZOBANKENT NAPONTA": "1"
                                },
                                {
                                    "SZOBA_ID": "86",
                                    "NAP": "26",
                                    "SZOBANKENT": "5",
                                    "NAPONTA": "31",
                                    "SZOBANKENT NAPONTA": "1"
                                },
                                {
                                    "SZOBA_ID": "87",
                                    "NAP": "1",
                                    "SZOBANKENT": "5",
                                    "NAPONTA": "48",
                                    "SZOBANKENT NAPONTA": "1"
                                },
                                {
                                    "SZOBA_ID": "87",
                                    "NAP": "2",
                                    "SZOBANKENT": "5",
                                    "NAPONTA": "21",
                                    "SZOBANKENT NAPONTA": "1"
                                },
                                {
                                    "SZOBA_ID": "87",
                                    "NAP": "6",
                                    "SZOBANKENT": "5",
                                    "NAPONTA": "42",
                                    "SZOBANKENT NAPONTA": "2"
                                },
                                {
                                    "SZOBA_ID": "87",
                                    "NAP": "6",
                                    "SZOBANKENT": "5",
                                    "NAPONTA": "42",
                                    "SZOBANKENT NAPONTA": "2"
                                },
                                {
                                    "SZOBA_ID": "87",
                                    "NAP": "19",
                                    "SZOBANKENT": "5",
                                    "NAPONTA": "31",
                                    "SZOBANKENT NAPONTA": "1"
                                },
                                {
                                    "SZOBA_ID": "88",
                                    "NAP": "5",
                                    "SZOBANKENT": "8",
                                    "NAPONTA": "36",
                                    "SZOBANKENT NAPONTA": "1"
                                },
                                {
                                    "SZOBA_ID": "88",
                                    "NAP": "10",
                                    "SZOBANKENT": "8",
                                    "NAPONTA": "37",
                                    "SZOBANKENT NAPONTA": "1"
                                },
                                {
                                    "SZOBA_ID": "88",
                                    "NAP": "12",
                                    "SZOBANKENT": "8",
                                    "NAPONTA": "32",
                                    "SZOBANKENT NAPONTA": "1"
                                },
                                {
                                    "SZOBA_ID": "88",
                                    "NAP": "18",
                                    "SZOBANKENT": "8",
                                    "NAPONTA": "29",
                                    "SZOBANKENT NAPONTA": "1"
                                },
                                {
                                    "SZOBA_ID": "88",
                                    "NAP": "21",
                                    "SZOBANKENT": "8",
                                    "NAPONTA": "24",
                                    "SZOBANKENT NAPONTA": "1"
                                },
                                {
                                    "SZOBA_ID": "88",
                                    "NAP": "26",
                                    "SZOBANKENT": "8",
                                    "NAPONTA": "31",
                                    "SZOBANKENT NAPONTA": "2"
                                },
                                {
                                    "SZOBA_ID": "88",
                                    "NAP": "26",
                                    "SZOBANKENT": "8",
                                    "NAPONTA": "31",
                                    "SZOBANKENT NAPONTA": "2"
                                },
                                {
                                    "SZOBA_ID": "88",
                                    "NAP": "28",
                                    "SZOBANKENT": "8",
                                    "NAPONTA": "40",
                                    "SZOBANKENT NAPONTA": "1"
                                },
                                {
                                    "SZOBA_ID": "89",
                                    "NAP": "1",
                                    "SZOBANKENT": "8",
                                    "NAPONTA": "48",
                                    "SZOBANKENT NAPONTA": "1"
                                },
                                {
                                    "SZOBA_ID": "89",
                                    "NAP": "5",
                                    "SZOBANKENT": "8",
                                    "NAPONTA": "36",
                                    "SZOBANKENT NAPONTA": "1"
                                },
                                {
                                    "SZOBA_ID": "89",
                                    "NAP": "8",
                                    "SZOBANKENT": "8",
                                    "NAPONTA": "36",
                                    "SZOBANKENT NAPONTA": "1"
                                },
                                {
                                    "SZOBA_ID": "89",
                                    "NAP": "9",
                                    "SZOBANKENT": "8",
                                    "NAPONTA": "39",
                                    "SZOBANKENT NAPONTA": "1"
                                },
                                {
                                    "SZOBA_ID": "89",
                                    "NAP": "12",
                                    "SZOBANKENT": "8",
                                    "NAPONTA": "32",
                                    "SZOBANKENT NAPONTA": "1"
                                },
                                {
                                    "SZOBA_ID": "89",
                                    "NAP": "24",
                                    "SZOBANKENT": "8",
                                    "NAPONTA": "39",
                                    "SZOBANKENT NAPONTA": "2"
                                },
                                {
                                    "SZOBA_ID": "89",
                                    "NAP": "24",
                                    "SZOBANKENT": "8",
                                    "NAPONTA": "39",
                                    "SZOBANKENT NAPONTA": "2"
                                },
                                {
                                    "SZOBA_ID": "89",
                                    "NAP": "26",
                                    "SZOBANKENT": "8",
                                    "NAPONTA": "31",
                                    "SZOBANKENT NAPONTA": "1"
                                },
                                {
                                    "SZOBA_ID": "90",
                                    "NAP": "21",
                                    "SZOBANKENT": "4",
                                    "NAPONTA": "24",
                                    "SZOBANKENT NAPONTA": "2"
                                },
                                {
                                    "SZOBA_ID": "90",
                                    "NAP": "21",
                                    "SZOBANKENT": "4",
                                    "NAPONTA": "24",
                                    "SZOBANKENT NAPONTA": "2"
                                },
                                {
                                    "SZOBA_ID": "90",
                                    "NAP": "28",
                                    "SZOBANKENT": "4",
                                    "NAPONTA": "40",
                                    "SZOBANKENT NAPONTA": "1"
                                },
                                {
                                    "SZOBA_ID": "90",
                                    "NAP": "29",
                                    "SZOBANKENT": "4",
                                    "NAPONTA": "31",
                                    "SZOBANKENT NAPONTA": "1"
                                },
                                {
                                    "SZOBA_ID": "91",
                                    "NAP": "10",
                                    "SZOBANKENT": "4",
                                    "NAPONTA": "37",
                                    "SZOBANKENT NAPONTA": "1"
                                },
                                {
                                    "SZOBA_ID": "91",
                                    "NAP": "25",
                                    "SZOBANKENT": "4",
                                    "NAPONTA": "29",
                                    "SZOBANKENT NAPONTA": "1"
                                },
                                {
                                    "SZOBA_ID": "91",
                                    "NAP": "28",
                                    "SZOBANKENT": "4",
                                    "NAPONTA": "40",
                                    "SZOBANKENT NAPONTA": "2"
                                },
                                {
                                    "SZOBA_ID": "91",
                                    "NAP": "28",
                                    "SZOBANKENT": "4",
                                    "NAPONTA": "40",
                                    "SZOBANKENT NAPONTA": "2"
                                },
                                {
                                    "SZOBA_ID": "92",
                                    "NAP": "7",
                                    "SZOBANKENT": "6",
                                    "NAPONTA": "29",
                                    "SZOBANKENT NAPONTA": "1"
                                },
                                {
                                    "SZOBA_ID": "92",
                                    "NAP": "10",
                                    "SZOBANKENT": "6",
                                    "NAPONTA": "37",
                                    "SZOBANKENT NAPONTA": "1"
                                },
                                {
                                    "SZOBA_ID": "92",
                                    "NAP": "13",
                                    "SZOBANKENT": "6",
                                    "NAPONTA": "29",
                                    "SZOBANKENT NAPONTA": "1"
                                },
                                {
                                    "SZOBA_ID": "92",
                                    "NAP": "20",
                                    "SZOBANKENT": "6",
                                    "NAPONTA": "32",
                                    "SZOBANKENT NAPONTA": "1"
                                },
                                {
                                    "SZOBA_ID": "92",
                                    "NAP": "23",
                                    "SZOBANKENT": "6",
                                    "NAPONTA": "44",
                                    "SZOBANKENT NAPONTA": "1"
                                },
                                {
                                    "SZOBA_ID": "92",
                                    "NAP": "31",
                                    "SZOBANKENT": "6",
                                    "NAPONTA": "8",
                                    "SZOBANKENT NAPONTA": "1"
                                },
                                {
                                    "SZOBA_ID": "93",
                                    "NAP": "8",
                                    "SZOBANKENT": "5",
                                    "NAPONTA": "36",
                                    "SZOBANKENT NAPONTA": "1"
                                },
                                {
                                    "SZOBA_ID": "93",
                                    "NAP": "20",
                                    "SZOBANKENT": "5",
                                    "NAPONTA": "32",
                                    "SZOBANKENT NAPONTA": "1"
                                },
                                {
                                    "SZOBA_ID": "93",
                                    "NAP": "25",
                                    "SZOBANKENT": "5",
                                    "NAPONTA": "29",
                                    "SZOBANKENT NAPONTA": "1"
                                },
                                {
                                    "SZOBA_ID": "93",
                                    "NAP": "29",
                                    "SZOBANKENT": "5",
                                    "NAPONTA": "31",
                                    "SZOBANKENT NAPONTA": "1"
                                },
                                {
                                    "SZOBA_ID": "93",
                                    "NAP": "30",
                                    "SZOBANKENT": "5",
                                    "NAPONTA": "47",
                                    "SZOBANKENT NAPONTA": "1"
                                },
                                {
                                    "SZOBA_ID": "94",
                                    "NAP": "2",
                                    "SZOBANKENT": "10",
                                    "NAPONTA": "21",
                                    "SZOBANKENT NAPONTA": "1"
                                },
                                {
                                    "SZOBA_ID": "94",
                                    "NAP": "3",
                                    "SZOBANKENT": "10",
                                    "NAPONTA": "39",
                                    "SZOBANKENT NAPONTA": "1"
                                },
                                {
                                    "SZOBA_ID": "94",
                                    "NAP": "12",
                                    "SZOBANKENT": "10",
                                    "NAPONTA": "32",
                                    "SZOBANKENT NAPONTA": "1"
                                },
                                {
                                    "SZOBA_ID": "94",
                                    "NAP": "13",
                                    "SZOBANKENT": "10",
                                    "NAPONTA": "29",
                                    "SZOBANKENT NAPONTA": "1"
                                },
                                {
                                    "SZOBA_ID": "94",
                                    "NAP": "17",
                                    "SZOBANKENT": "10",
                                    "NAPONTA": "40",
                                    "SZOBANKENT NAPONTA": "1"
                                },
                                {
                                    "SZOBA_ID": "94",
                                    "NAP": "21",
                                    "SZOBANKENT": "10",
                                    "NAPONTA": "24",
                                    "SZOBANKENT NAPONTA": "1"
                                },
                                {
                                    "SZOBA_ID": "94",
                                    "NAP": "22",
                                    "SZOBANKENT": "10",
                                    "NAPONTA": "35",
                                    "SZOBANKENT NAPONTA": "1"
                                },
                                {
                                    "SZOBA_ID": "94",
                                    "NAP": "23",
                                    "SZOBANKENT": "10",
                                    "NAPONTA": "44",
                                    "SZOBANKENT NAPONTA": "2"
                                },
                                {
                                    "SZOBA_ID": "94",
                                    "NAP": "23",
                                    "SZOBANKENT": "10",
                                    "NAPONTA": "44",
                                    "SZOBANKENT NAPONTA": "2"
                                },
                                {
                                    "SZOBA_ID": "94",
                                    "NAP": "27",
                                    "SZOBANKENT": "10",
                                    "NAPONTA": "33",
                                    "SZOBANKENT NAPONTA": "1"
                                },
                                {
                                    "SZOBA_ID": "95",
                                    "NAP": "1",
                                    "SZOBANKENT": "4",
                                    "NAPONTA": "48",
                                    "SZOBANKENT NAPONTA": "1"
                                },
                                {
                                    "SZOBA_ID": "95",
                                    "NAP": "13",
                                    "SZOBANKENT": "4",
                                    "NAPONTA": "29",
                                    "SZOBANKENT NAPONTA": "1"
                                },
                                {
                                    "SZOBA_ID": "95",
                                    "NAP": "16",
                                    "SZOBANKENT": "4",
                                    "NAPONTA": "53",
                                    "SZOBANKENT NAPONTA": "1"
                                },
                                {
                                    "SZOBA_ID": "95",
                                    "NAP": "19",
                                    "SZOBANKENT": "4",
                                    "NAPONTA": "31",
                                    "SZOBANKENT NAPONTA": "1"
                                },
                                {
                                    "SZOBA_ID": "96",
                                    "NAP": "8",
                                    "SZOBANKENT": "7",
                                    "NAPONTA": "36",
                                    "SZOBANKENT NAPONTA": "1"
                                },
                                {
                                    "SZOBA_ID": "96",
                                    "NAP": "14",
                                    "SZOBANKENT": "7",
                                    "NAPONTA": "26",
                                    "SZOBANKENT NAPONTA": "2"
                                },
                                {
                                    "SZOBA_ID": "96",
                                    "NAP": "14",
                                    "SZOBANKENT": "7",
                                    "NAPONTA": "26",
                                    "SZOBANKENT NAPONTA": "2"
                                },
                                {
                                    "SZOBA_ID": "96",
                                    "NAP": "15",
                                    "SZOBANKENT": "7",
                                    "NAPONTA": "25",
                                    "SZOBANKENT NAPONTA": "1"
                                },
                                {
                                    "SZOBA_ID": "96",
                                    "NAP": "18",
                                    "SZOBANKENT": "7",
                                    "NAPONTA": "29",
                                    "SZOBANKENT NAPONTA": "1"
                                },
                                {
                                    "SZOBA_ID": "96",
                                    "NAP": "24",
                                    "SZOBANKENT": "7",
                                    "NAPONTA": "39",
                                    "SZOBANKENT NAPONTA": "1"
                                },
                                {
                                    "SZOBA_ID": "96",
                                    "NAP": "28",
                                    "SZOBANKENT": "7",
                                    "NAPONTA": "40",
                                    "SZOBANKENT NAPONTA": "1"
                                },
                                {
                                    "SZOBA_ID": "97",
                                    "NAP": "3",
                                    "SZOBANKENT": "7",
                                    "NAPONTA": "39",
                                    "SZOBANKENT NAPONTA": "1"
                                },
                                {
                                    "SZOBA_ID": "97",
                                    "NAP": "10",
                                    "SZOBANKENT": "7",
                                    "NAPONTA": "37",
                                    "SZOBANKENT NAPONTA": "1"
                                },
                                {
                                    "SZOBA_ID": "97",
                                    "NAP": "13",
                                    "SZOBANKENT": "7",
                                    "NAPONTA": "29",
                                    "SZOBANKENT NAPONTA": "1"
                                },
                                {
                                    "SZOBA_ID": "97",
                                    "NAP": "25",
                                    "SZOBANKENT": "7",
                                    "NAPONTA": "29",
                                    "SZOBANKENT NAPONTA": "1"
                                },
                                {
                                    "SZOBA_ID": "97",
                                    "NAP": "27",
                                    "SZOBANKENT": "7",
                                    "NAPONTA": "33",
                                    "SZOBANKENT NAPONTA": "2"
                                },
                                {
                                    "SZOBA_ID": "97",
                                    "NAP": "27",
                                    "SZOBANKENT": "7",
                                    "NAPONTA": "33",
                                    "SZOBANKENT NAPONTA": "2"
                                },
                                {
                                    "SZOBA_ID": "97",
                                    "NAP": "29",
                                    "SZOBANKENT": "7",
                                    "NAPONTA": "31",
                                    "SZOBANKENT NAPONTA": "1"
                                },
                                {
                                    "SZOBA_ID": "98",
                                    "NAP": "9",
                                    "SZOBANKENT": "4",
                                    "NAPONTA": "39",
                                    "SZOBANKENT NAPONTA": "1"
                                },
                                {
                                    "SZOBA_ID": "98",
                                    "NAP": "13",
                                    "SZOBANKENT": "4",
                                    "NAPONTA": "29",
                                    "SZOBANKENT NAPONTA": "1"
                                },
                                {
                                    "SZOBA_ID": "98",
                                    "NAP": "28",
                                    "SZOBANKENT": "4",
                                    "NAPONTA": "40",
                                    "SZOBANKENT NAPONTA": "1"
                                },
                                {
                                    "SZOBA_ID": "98",
                                    "NAP": "30",
                                    "SZOBANKENT": "4",
                                    "NAPONTA": "47",
                                    "SZOBANKENT NAPONTA": "1"
                                },
                                {
                                    "SZOBA_ID": "99",
                                    "NAP": "9",
                                    "SZOBANKENT": "5",
                                    "NAPONTA": "39",
                                    "SZOBANKENT NAPONTA": "1"
                                },
                                {
                                    "SZOBA_ID": "99",
                                    "NAP": "20",
                                    "SZOBANKENT": "5",
                                    "NAPONTA": "32",
                                    "SZOBANKENT NAPONTA": "2"
                                },
                                {
                                    "SZOBA_ID": "99",
                                    "NAP": "20",
                                    "SZOBANKENT": "5",
                                    "NAPONTA": "32",
                                    "SZOBANKENT NAPONTA": "2"
                                },
                                {
                                    "SZOBA_ID": "99",
                                    "NAP": "31",
                                    "SZOBANKENT": "5",
                                    "NAPONTA": "8",
                                    "SZOBANKENT NAPONTA": "2"
                                },
                                {
                                    "SZOBA_ID": "99",
                                    "NAP": "31",
                                    "SZOBANKENT": "5",
                                    "NAPONTA": "8",
                                    "SZOBANKENT NAPONTA": "2"
                                },
                                {
                                    "SZOBA_ID": "100",
                                    "NAP": "11",
                                    "SZOBANKENT": "4",
                                    "NAPONTA": "13",
                                    "SZOBANKENT NAPONTA": "1"
                                },
                                {
                                    "SZOBA_ID": "100",
                                    "NAP": "23",
                                    "SZOBANKENT": "4",
                                    "NAPONTA": "44",
                                    "SZOBANKENT NAPONTA": "1"
                                },
                                {
                                    "SZOBA_ID": "100",
                                    "NAP": "24",
                                    "SZOBANKENT": "4",
                                    "NAPONTA": "39",
                                    "SZOBANKENT NAPONTA": "1"
                                },
                                {
                                    "SZOBA_ID": "100",
                                    "NAP": "29",
                                    "SZOBANKENT": "4",
                                    "NAPONTA": "31",
                                    "SZOBANKENT NAPONTA": "1"
                                },
                                {
                                    "SZOBA_ID": "101",
                                    "NAP": "10",
                                    "SZOBANKENT": "3",
                                    "NAPONTA": "37",
                                    "SZOBANKENT NAPONTA": "1"
                                },
                                {
                                    "SZOBA_ID": "101",
                                    "NAP": "25",
                                    "SZOBANKENT": "3",
                                    "NAPONTA": "29",
                                    "SZOBANKENT NAPONTA": "1"
                                },
                                {
                                    "SZOBA_ID": "101",
                                    "NAP": "29",
                                    "SZOBANKENT": "3",
                                    "NAPONTA": "31",
                                    "SZOBANKENT NAPONTA": "1"
                                },
                                {
                                    "SZOBA_ID": "102",
                                    "NAP": "5",
                                    "SZOBANKENT": "2",
                                    "NAPONTA": "36",
                                    "SZOBANKENT NAPONTA": "1"
                                },
                                {
                                    "SZOBA_ID": "102",
                                    "NAP": "19",
                                    "SZOBANKENT": "2",
                                    "NAPONTA": "31",
                                    "SZOBANKENT NAPONTA": "1"
                                },
                                {
                                    "SZOBA_ID": "103",
                                    "NAP": "19",
                                    "SZOBANKENT": "4",
                                    "NAPONTA": "31",
                                    "SZOBANKENT NAPONTA": "1"
                                },
                                {
                                    "SZOBA_ID": "103",
                                    "NAP": "26",
                                    "SZOBANKENT": "4",
                                    "NAPONTA": "31",
                                    "SZOBANKENT NAPONTA": "1"
                                },
                                {
                                    "SZOBA_ID": "103",
                                    "NAP": "29",
                                    "SZOBANKENT": "4",
                                    "NAPONTA": "31",
                                    "SZOBANKENT NAPONTA": "1"
                                },
                                {
                                    "SZOBA_ID": "103",
                                    "NAP": "30",
                                    "SZOBANKENT": "4",
                                    "NAPONTA": "47",
                                    "SZOBANKENT NAPONTA": "1"
                                },
                                {
                                    "SZOBA_ID": "104",
                                    "NAP": "12",
                                    "SZOBANKENT": "4",
                                    "NAPONTA": "32",
                                    "SZOBANKENT NAPONTA": "1"
                                },
                                {
                                    "SZOBA_ID": "104",
                                    "NAP": "14",
                                    "SZOBANKENT": "4",
                                    "NAPONTA": "26",
                                    "SZOBANKENT NAPONTA": "1"
                                },
                                {
                                    "SZOBA_ID": "104",
                                    "NAP": "22",
                                    "SZOBANKENT": "4",
                                    "NAPONTA": "35",
                                    "SZOBANKENT NAPONTA": "1"
                                },
                                {
                                    "SZOBA_ID": "104",
                                    "NAP": "29",
                                    "SZOBANKENT": "4",
                                    "NAPONTA": "31",
                                    "SZOBANKENT NAPONTA": "1"
                                },
                                {
                                    "SZOBA_ID": "105",
                                    "NAP": "3",
                                    "SZOBANKENT": "2",
                                    "NAPONTA": "39",
                                    "SZOBANKENT NAPONTA": "1"
                                },
                                {
                                    "SZOBA_ID": "105",
                                    "NAP": "12",
                                    "SZOBANKENT": "2",
                                    "NAPONTA": "32",
                                    "SZOBANKENT NAPONTA": "1"
                                },
                                {
                                    "SZOBA_ID": "106",
                                    "NAP": "8",
                                    "SZOBANKENT": "6",
                                    "NAPONTA": "36",
                                    "SZOBANKENT NAPONTA": "1"
                                },
                                {
                                    "SZOBA_ID": "106",
                                    "NAP": "10",
                                    "SZOBANKENT": "6",
                                    "NAPONTA": "37",
                                    "SZOBANKENT NAPONTA": "1"
                                },
                                {
                                    "SZOBA_ID": "106",
                                    "NAP": "17",
                                    "SZOBANKENT": "6",
                                    "NAPONTA": "40",
                                    "SZOBANKENT NAPONTA": "1"
                                },
                                {
                                    "SZOBA_ID": "106",
                                    "NAP": "23",
                                    "SZOBANKENT": "6",
                                    "NAPONTA": "44",
                                    "SZOBANKENT NAPONTA": "1"
                                },
                                {
                                    "SZOBA_ID": "106",
                                    "NAP": "30",
                                    "SZOBANKENT": "6",
                                    "NAPONTA": "47",
                                    "SZOBANKENT NAPONTA": "2"
                                },
                                {
                                    "SZOBA_ID": "106",
                                    "NAP": "30",
                                    "SZOBANKENT": "6",
                                    "NAPONTA": "47",
                                    "SZOBANKENT NAPONTA": "2"
                                },
                                {
                                    "SZOBA_ID": "107",
                                    "NAP": "4",
                                    "SZOBANKENT": "5",
                                    "NAPONTA": "29",
                                    "SZOBANKENT NAPONTA": "1"
                                },
                                {
                                    "SZOBA_ID": "107",
                                    "NAP": "5",
                                    "SZOBANKENT": "5",
                                    "NAPONTA": "36",
                                    "SZOBANKENT NAPONTA": "1"
                                },
                                {
                                    "SZOBA_ID": "107",
                                    "NAP": "7",
                                    "SZOBANKENT": "5",
                                    "NAPONTA": "29",
                                    "SZOBANKENT NAPONTA": "1"
                                },
                                {
                                    "SZOBA_ID": "107",
                                    "NAP": "17",
                                    "SZOBANKENT": "5",
                                    "NAPONTA": "40",
                                    "SZOBANKENT NAPONTA": "1"
                                },
                                {
                                    "SZOBA_ID": "107",
                                    "NAP": "18",
                                    "SZOBANKENT": "5",
                                    "NAPONTA": "29",
                                    "SZOBANKENT NAPONTA": "1"
                                },
                                {
                                    "SZOBA_ID": "108",
                                    "NAP": "1",
                                    "SZOBANKENT": "2",
                                    "NAPONTA": "48",
                                    "SZOBANKENT NAPONTA": "1"
                                },
                                {
                                    "SZOBA_ID": "108",
                                    "NAP": "25",
                                    "SZOBANKENT": "2",
                                    "NAPONTA": "29",
                                    "SZOBANKENT NAPONTA": "1"
                                },
                                {
                                    "SZOBA_ID": "109",
                                    "NAP": "1",
                                    "SZOBANKENT": "7",
                                    "NAPONTA": "48",
                                    "SZOBANKENT NAPONTA": "1"
                                },
                                {
                                    "SZOBA_ID": "109",
                                    "NAP": "6",
                                    "SZOBANKENT": "7",
                                    "NAPONTA": "42",
                                    "SZOBANKENT NAPONTA": "1"
                                },
                                {
                                    "SZOBA_ID": "109",
                                    "NAP": "18",
                                    "SZOBANKENT": "7",
                                    "NAPONTA": "29",
                                    "SZOBANKENT NAPONTA": "1"
                                },
                                {
                                    "SZOBA_ID": "109",
                                    "NAP": "20",
                                    "SZOBANKENT": "7",
                                    "NAPONTA": "32",
                                    "SZOBANKENT NAPONTA": "1"
                                },
                                {
                                    "SZOBA_ID": "109",
                                    "NAP": "23",
                                    "SZOBANKENT": "7",
                                    "NAPONTA": "44",
                                    "SZOBANKENT NAPONTA": "2"
                                },
                                {
                                    "SZOBA_ID": "109",
                                    "NAP": "23",
                                    "SZOBANKENT": "7",
                                    "NAPONTA": "44",
                                    "SZOBANKENT NAPONTA": "2"
                                },
                                {
                                    "SZOBA_ID": "109",
                                    "NAP": "27",
                                    "SZOBANKENT": "7",
                                    "NAPONTA": "33",
                                    "SZOBANKENT NAPONTA": "1"
                                },
                                {
                                    "SZOBA_ID": "110",
                                    "NAP": "1",
                                    "SZOBANKENT": "8",
                                    "NAPONTA": "48",
                                    "SZOBANKENT NAPONTA": "1"
                                },
                                {
                                    "SZOBA_ID": "110",
                                    "NAP": "2",
                                    "SZOBANKENT": "8",
                                    "NAPONTA": "21",
                                    "SZOBANKENT NAPONTA": "1"
                                },
                                {
                                    "SZOBA_ID": "110",
                                    "NAP": "7",
                                    "SZOBANKENT": "8",
                                    "NAPONTA": "29",
                                    "SZOBANKENT NAPONTA": "2"
                                },
                                {
                                    "SZOBA_ID": "110",
                                    "NAP": "7",
                                    "SZOBANKENT": "8",
                                    "NAPONTA": "29",
                                    "SZOBANKENT NAPONTA": "2"
                                },
                                {
                                    "SZOBA_ID": "110",
                                    "NAP": "10",
                                    "SZOBANKENT": "8",
                                    "NAPONTA": "37",
                                    "SZOBANKENT NAPONTA": "1"
                                },
                                {
                                    "SZOBA_ID": "110",
                                    "NAP": "16",
                                    "SZOBANKENT": "8",
                                    "NAPONTA": "53",
                                    "SZOBANKENT NAPONTA": "1"
                                },
                                {
                                    "SZOBA_ID": "110",
                                    "NAP": "17",
                                    "SZOBANKENT": "8",
                                    "NAPONTA": "40",
                                    "SZOBANKENT NAPONTA": "1"
                                },
                                {
                                    "SZOBA_ID": "110",
                                    "NAP": "18",
                                    "SZOBANKENT": "8",
                                    "NAPONTA": "29",
                                    "SZOBANKENT NAPONTA": "1"
                                },
                                {
                                    "SZOBA_ID": "111",
                                    "NAP": "7",
                                    "SZOBANKENT": "5",
                                    "NAPONTA": "29",
                                    "SZOBANKENT NAPONTA": "1"
                                },
                                {
                                    "SZOBA_ID": "111",
                                    "NAP": "14",
                                    "SZOBANKENT": "5",
                                    "NAPONTA": "26",
                                    "SZOBANKENT NAPONTA": "1"
                                },
                                {
                                    "SZOBA_ID": "111",
                                    "NAP": "16",
                                    "SZOBANKENT": "5",
                                    "NAPONTA": "53",
                                    "SZOBANKENT NAPONTA": "1"
                                },
                                {
                                    "SZOBA_ID": "111",
                                    "NAP": "19",
                                    "SZOBANKENT": "5",
                                    "NAPONTA": "31",
                                    "SZOBANKENT NAPONTA": "1"
                                },
                                {
                                    "SZOBA_ID": "111",
                                    "NAP": "27",
                                    "SZOBANKENT": "5",
                                    "NAPONTA": "33",
                                    "SZOBANKENT NAPONTA": "1"
                                },
                                {
                                    "SZOBA_ID": "112",
                                    "NAP": "6",
                                    "SZOBANKENT": "5",
                                    "NAPONTA": "42",
                                    "SZOBANKENT NAPONTA": "2"
                                },
                                {
                                    "SZOBA_ID": "112",
                                    "NAP": "6",
                                    "SZOBANKENT": "5",
                                    "NAPONTA": "42",
                                    "SZOBANKENT NAPONTA": "2"
                                },
                                {
                                    "SZOBA_ID": "112",
                                    "NAP": "13",
                                    "SZOBANKENT": "5",
                                    "NAPONTA": "29",
                                    "SZOBANKENT NAPONTA": "1"
                                },
                                {
                                    "SZOBA_ID": "112",
                                    "NAP": "14",
                                    "SZOBANKENT": "5",
                                    "NAPONTA": "26",
                                    "SZOBANKENT NAPONTA": "1"
                                },
                                {
                                    "SZOBA_ID": "112",
                                    "NAP": "20",
                                    "SZOBANKENT": "5",
                                    "NAPONTA": "32",
                                    "SZOBANKENT NAPONTA": "1"
                                },
                                {
                                    "SZOBA_ID": "113",
                                    "NAP": "4",
                                    "SZOBANKENT": "5",
                                    "NAPONTA": "29",
                                    "SZOBANKENT NAPONTA": "1"
                                },
                                {
                                    "SZOBA_ID": "113",
                                    "NAP": "5",
                                    "SZOBANKENT": "5",
                                    "NAPONTA": "36",
                                    "SZOBANKENT NAPONTA": "2"
                                },
                                {
                                    "SZOBA_ID": "113",
                                    "NAP": "5",
                                    "SZOBANKENT": "5",
                                    "NAPONTA": "36",
                                    "SZOBANKENT NAPONTA": "2"
                                },
                                {
                                    "SZOBA_ID": "113",
                                    "NAP": "8",
                                    "SZOBANKENT": "5",
                                    "NAPONTA": "36",
                                    "SZOBANKENT NAPONTA": "1"
                                },
                                {
                                    "SZOBA_ID": "113",
                                    "NAP": "28",
                                    "SZOBANKENT": "5",
                                    "NAPONTA": "40",
                                    "SZOBANKENT NAPONTA": "1"
                                },
                                {
                                    "SZOBA_ID": "114",
                                    "NAP": "16",
                                    "SZOBANKENT": "4",
                                    "NAPONTA": "53",
                                    "SZOBANKENT NAPONTA": "2"
                                },
                                {
                                    "SZOBA_ID": "114",
                                    "NAP": "16",
                                    "SZOBANKENT": "4",
                                    "NAPONTA": "53",
                                    "SZOBANKENT NAPONTA": "2"
                                },
                                {
                                    "SZOBA_ID": "114",
                                    "NAP": "26",
                                    "SZOBANKENT": "4",
                                    "NAPONTA": "31",
                                    "SZOBANKENT NAPONTA": "1"
                                },
                                {
                                    "SZOBA_ID": "114",
                                    "NAP": "29",
                                    "SZOBANKENT": "4",
                                    "NAPONTA": "31",
                                    "SZOBANKENT NAPONTA": "1"
                                },
                                {
                                    "SZOBA_ID": "115",
                                    "NAP": "4",
                                    "SZOBANKENT": "7",
                                    "NAPONTA": "29",
                                    "SZOBANKENT NAPONTA": "1"
                                },
                                {
                                    "SZOBA_ID": "115",
                                    "NAP": "7",
                                    "SZOBANKENT": "7",
                                    "NAPONTA": "29",
                                    "SZOBANKENT NAPONTA": "1"
                                },
                                {
                                    "SZOBA_ID": "115",
                                    "NAP": "10",
                                    "SZOBANKENT": "7",
                                    "NAPONTA": "37",
                                    "SZOBANKENT NAPONTA": "1"
                                },
                                {
                                    "SZOBA_ID": "115",
                                    "NAP": "15",
                                    "SZOBANKENT": "7",
                                    "NAPONTA": "25",
                                    "SZOBANKENT NAPONTA": "1"
                                },
                                {
                                    "SZOBA_ID": "115",
                                    "NAP": "20",
                                    "SZOBANKENT": "7",
                                    "NAPONTA": "32",
                                    "SZOBANKENT NAPONTA": "1"
                                },
                                {
                                    "SZOBA_ID": "115",
                                    "NAP": "23",
                                    "SZOBANKENT": "7",
                                    "NAPONTA": "44",
                                    "SZOBANKENT NAPONTA": "1"
                                },
                                {
                                    "SZOBA_ID": "115",
                                    "NAP": "24",
                                    "SZOBANKENT": "7",
                                    "NAPONTA": "39",
                                    "SZOBANKENT NAPONTA": "1"
                                },
                                {
                                    "SZOBA_ID": "116",
                                    "NAP": "5",
                                    "SZOBANKENT": "2",
                                    "NAPONTA": "36",
                                    "SZOBANKENT NAPONTA": "1"
                                },
                                {
                                    "SZOBA_ID": "116",
                                    "NAP": "18",
                                    "SZOBANKENT": "2",
                                    "NAPONTA": "29",
                                    "SZOBANKENT NAPONTA": "1"
                                },
                                {
                                    "SZOBA_ID": "117",
                                    "NAP": "1",
                                    "SZOBANKENT": "8",
                                    "NAPONTA": "48",
                                    "SZOBANKENT NAPONTA": "1"
                                },
                                {
                                    "SZOBA_ID": "117",
                                    "NAP": "2",
                                    "SZOBANKENT": "8",
                                    "NAPONTA": "21",
                                    "SZOBANKENT NAPONTA": "1"
                                },
                                {
                                    "SZOBA_ID": "117",
                                    "NAP": "3",
                                    "SZOBANKENT": "8",
                                    "NAPONTA": "39",
                                    "SZOBANKENT NAPONTA": "1"
                                },
                                {
                                    "SZOBA_ID": "117",
                                    "NAP": "5",
                                    "SZOBANKENT": "8",
                                    "NAPONTA": "36",
                                    "SZOBANKENT NAPONTA": "1"
                                },
                                {
                                    "SZOBA_ID": "117",
                                    "NAP": "12",
                                    "SZOBANKENT": "8",
                                    "NAPONTA": "32",
                                    "SZOBANKENT NAPONTA": "1"
                                },
                                {
                                    "SZOBA_ID": "117",
                                    "NAP": "16",
                                    "SZOBANKENT": "8",
                                    "NAPONTA": "53",
                                    "SZOBANKENT NAPONTA": "1"
                                },
                                {
                                    "SZOBA_ID": "117",
                                    "NAP": "23",
                                    "SZOBANKENT": "8",
                                    "NAPONTA": "44",
                                    "SZOBANKENT NAPONTA": "1"
                                },
                                {
                                    "SZOBA_ID": "117",
                                    "NAP": "26",
                                    "SZOBANKENT": "8",
                                    "NAPONTA": "31",
                                    "SZOBANKENT NAPONTA": "1"
                                },
                                {
                                    "SZOBA_ID": "118",
                                    "NAP": "1",
                                    "SZOBANKENT": "7",
                                    "NAPONTA": "48",
                                    "SZOBANKENT NAPONTA": "1"
                                },
                                {
                                    "SZOBA_ID": "118",
                                    "NAP": "17",
                                    "SZOBANKENT": "7",
                                    "NAPONTA": "40",
                                    "SZOBANKENT NAPONTA": "1"
                                },
                                {
                                    "SZOBA_ID": "118",
                                    "NAP": "24",
                                    "SZOBANKENT": "7",
                                    "NAPONTA": "39",
                                    "SZOBANKENT NAPONTA": "1"
                                },
                                {
                                    "SZOBA_ID": "118",
                                    "NAP": "26",
                                    "SZOBANKENT": "7",
                                    "NAPONTA": "31",
                                    "SZOBANKENT NAPONTA": "1"
                                },
                                {
                                    "SZOBA_ID": "118",
                                    "NAP": "28",
                                    "SZOBANKENT": "7",
                                    "NAPONTA": "40",
                                    "SZOBANKENT NAPONTA": "1"
                                },
                                {
                                    "SZOBA_ID": "118",
                                    "NAP": "29",
                                    "SZOBANKENT": "7",
                                    "NAPONTA": "31",
                                    "SZOBANKENT NAPONTA": "1"
                                },
                                {
                                    "SZOBA_ID": "118",
                                    "NAP": "30",
                                    "SZOBANKENT": "7",
                                    "NAPONTA": "47",
                                    "SZOBANKENT NAPONTA": "1"
                                },
                                {
                                    "SZOBA_ID": "119",
                                    "NAP": "1",
                                    "SZOBANKENT": "5",
                                    "NAPONTA": "48",
                                    "SZOBANKENT NAPONTA": "1"
                                },
                                {
                                    "SZOBA_ID": "119",
                                    "NAP": "2",
                                    "SZOBANKENT": "5",
                                    "NAPONTA": "21",
                                    "SZOBANKENT NAPONTA": "1"
                                },
                                {
                                    "SZOBA_ID": "119",
                                    "NAP": "12",
                                    "SZOBANKENT": "5",
                                    "NAPONTA": "32",
                                    "SZOBANKENT NAPONTA": "1"
                                },
                                {
                                    "SZOBA_ID": "119",
                                    "NAP": "22",
                                    "SZOBANKENT": "5",
                                    "NAPONTA": "35",
                                    "SZOBANKENT NAPONTA": "1"
                                },
                                {
                                    "SZOBA_ID": "119",
                                    "NAP": "27",
                                    "SZOBANKENT": "5",
                                    "NAPONTA": "33",
                                    "SZOBANKENT NAPONTA": "1"
                                },
                                {
                                    "SZOBA_ID": "120",
                                    "NAP": "1",
                                    "SZOBANKENT": "6",
                                    "NAPONTA": "48",
                                    "SZOBANKENT NAPONTA": "1"
                                },
                                {
                                    "SZOBA_ID": "120",
                                    "NAP": "3",
                                    "SZOBANKENT": "6",
                                    "NAPONTA": "39",
                                    "SZOBANKENT NAPONTA": "1"
                                },
                                {
                                    "SZOBA_ID": "120",
                                    "NAP": "4",
                                    "SZOBANKENT": "6",
                                    "NAPONTA": "29",
                                    "SZOBANKENT NAPONTA": "1"
                                },
                                {
                                    "SZOBA_ID": "120",
                                    "NAP": "7",
                                    "SZOBANKENT": "6",
                                    "NAPONTA": "29",
                                    "SZOBANKENT NAPONTA": "1"
                                },
                                {
                                    "SZOBA_ID": "120",
                                    "NAP": "30",
                                    "SZOBANKENT": "6",
                                    "NAPONTA": "47",
                                    "SZOBANKENT NAPONTA": "2"
                                },
                                {
                                    "SZOBA_ID": "120",
                                    "NAP": "30",
                                    "SZOBANKENT": "6",
                                    "NAPONTA": "47",
                                    "SZOBANKENT NAPONTA": "2"
                                },
                                {
                                    "SZOBA_ID": "121",
                                    "NAP": "8",
                                    "SZOBANKENT": "8",
                                    "NAPONTA": "36",
                                    "SZOBANKENT NAPONTA": "1"
                                },
                                {
                                    "SZOBA_ID": "121",
                                    "NAP": "13",
                                    "SZOBANKENT": "8",
                                    "NAPONTA": "29",
                                    "SZOBANKENT NAPONTA": "1"
                                },
                                {
                                    "SZOBA_ID": "121",
                                    "NAP": "17",
                                    "SZOBANKENT": "8",
                                    "NAPONTA": "40",
                                    "SZOBANKENT NAPONTA": "1"
                                },
                                {
                                    "SZOBA_ID": "121",
                                    "NAP": "25",
                                    "SZOBANKENT": "8",
                                    "NAPONTA": "29",
                                    "SZOBANKENT NAPONTA": "2"
                                },
                                {
                                    "SZOBA_ID": "121",
                                    "NAP": "25",
                                    "SZOBANKENT": "8",
                                    "NAPONTA": "29",
                                    "SZOBANKENT NAPONTA": "2"
                                },
                                {
                                    "SZOBA_ID": "121",
                                    "NAP": "28",
                                    "SZOBANKENT": "8",
                                    "NAPONTA": "40",
                                    "SZOBANKENT NAPONTA": "1"
                                },
                                {
                                    "SZOBA_ID": "121",
                                    "NAP": "29",
                                    "SZOBANKENT": "8",
                                    "NAPONTA": "31",
                                    "SZOBANKENT NAPONTA": "1"
                                },
                                {
                                    "SZOBA_ID": "121",
                                    "NAP": "30",
                                    "SZOBANKENT": "8",
                                    "NAPONTA": "47",
                                    "SZOBANKENT NAPONTA": "1"
                                },
                                {
                                    "SZOBA_ID": "122",
                                    "NAP": "2",
                                    "SZOBANKENT": "9",
                                    "NAPONTA": "21",
                                    "SZOBANKENT NAPONTA": "1"
                                },
                                {
                                    "SZOBA_ID": "122",
                                    "NAP": "4",
                                    "SZOBANKENT": "9",
                                    "NAPONTA": "29",
                                    "SZOBANKENT NAPONTA": "2"
                                },
                                {
                                    "SZOBA_ID": "122",
                                    "NAP": "4",
                                    "SZOBANKENT": "9",
                                    "NAPONTA": "29",
                                    "SZOBANKENT NAPONTA": "2"
                                },
                                {
                                    "SZOBA_ID": "122",
                                    "NAP": "8",
                                    "SZOBANKENT": "9",
                                    "NAPONTA": "36",
                                    "SZOBANKENT NAPONTA": "1"
                                },
                                {
                                    "SZOBA_ID": "122",
                                    "NAP": "15",
                                    "SZOBANKENT": "9",
                                    "NAPONTA": "25",
                                    "SZOBANKENT NAPONTA": "1"
                                },
                                {
                                    "SZOBA_ID": "122",
                                    "NAP": "17",
                                    "SZOBANKENT": "9",
                                    "NAPONTA": "40",
                                    "SZOBANKENT NAPONTA": "1"
                                },
                                {
                                    "SZOBA_ID": "122",
                                    "NAP": "19",
                                    "SZOBANKENT": "9",
                                    "NAPONTA": "31",
                                    "SZOBANKENT NAPONTA": "1"
                                },
                                {
                                    "SZOBA_ID": "122",
                                    "NAP": "23",
                                    "SZOBANKENT": "9",
                                    "NAPONTA": "44",
                                    "SZOBANKENT NAPONTA": "1"
                                },
                                {
                                    "SZOBA_ID": "122",
                                    "NAP": "28",
                                    "SZOBANKENT": "9",
                                    "NAPONTA": "40",
                                    "SZOBANKENT NAPONTA": "1"
                                },
                                {
                                    "SZOBA_ID": "123",
                                    "NAP": "7",
                                    "SZOBANKENT": "5",
                                    "NAPONTA": "29",
                                    "SZOBANKENT NAPONTA": "1"
                                },
                                {
                                    "SZOBA_ID": "123",
                                    "NAP": "15",
                                    "SZOBANKENT": "5",
                                    "NAPONTA": "25",
                                    "SZOBANKENT NAPONTA": "1"
                                },
                                {
                                    "SZOBA_ID": "123",
                                    "NAP": "16",
                                    "SZOBANKENT": "5",
                                    "NAPONTA": "53",
                                    "SZOBANKENT NAPONTA": "1"
                                },
                                {
                                    "SZOBA_ID": "123",
                                    "NAP": "19",
                                    "SZOBANKENT": "5",
                                    "NAPONTA": "31",
                                    "SZOBANKENT NAPONTA": "1"
                                },
                                {
                                    "SZOBA_ID": "123",
                                    "NAP": "30",
                                    "SZOBANKENT": "5",
                                    "NAPONTA": "47",
                                    "SZOBANKENT NAPONTA": "1"
                                },
                                {
                                    "SZOBA_ID": "124",
                                    "NAP": "5",
                                    "SZOBANKENT": "6",
                                    "NAPONTA": "36",
                                    "SZOBANKENT NAPONTA": "1"
                                },
                                {
                                    "SZOBA_ID": "124",
                                    "NAP": "13",
                                    "SZOBANKENT": "6",
                                    "NAPONTA": "29",
                                    "SZOBANKENT NAPONTA": "1"
                                },
                                {
                                    "SZOBA_ID": "124",
                                    "NAP": "27",
                                    "SZOBANKENT": "6",
                                    "NAPONTA": "33",
                                    "SZOBANKENT NAPONTA": "1"
                                },
                                {
                                    "SZOBA_ID": "124",
                                    "NAP": "28",
                                    "SZOBANKENT": "6",
                                    "NAPONTA": "40",
                                    "SZOBANKENT NAPONTA": "1"
                                },
                                {
                                    "SZOBA_ID": "124",
                                    "NAP": "29",
                                    "SZOBANKENT": "6",
                                    "NAPONTA": "31",
                                    "SZOBANKENT NAPONTA": "2"
                                },
                                {
                                    "SZOBA_ID": "124",
                                    "NAP": "29",
                                    "SZOBANKENT": "6",
                                    "NAPONTA": "31",
                                    "SZOBANKENT NAPONTA": "2"
                                },
                                {
                                    "SZOBA_ID": "125",
                                    "NAP": "11",
                                    "SZOBANKENT": "1",
                                    "NAPONTA": "13",
                                    "SZOBANKENT NAPONTA": "1"
                                },
                                {
                                    "SZOBA_ID": "126",
                                    "NAP": "4",
                                    "SZOBANKENT": "6",
                                    "NAPONTA": "29",
                                    "SZOBANKENT NAPONTA": "1"
                                },
                                {
                                    "SZOBA_ID": "126",
                                    "NAP": "5",
                                    "SZOBANKENT": "6",
                                    "NAPONTA": "36",
                                    "SZOBANKENT NAPONTA": "1"
                                },
                                {
                                    "SZOBA_ID": "126",
                                    "NAP": "8",
                                    "SZOBANKENT": "6",
                                    "NAPONTA": "36",
                                    "SZOBANKENT NAPONTA": "1"
                                },
                                {
                                    "SZOBA_ID": "126",
                                    "NAP": "9",
                                    "SZOBANKENT": "6",
                                    "NAPONTA": "39",
                                    "SZOBANKENT NAPONTA": "1"
                                },
                                {
                                    "SZOBA_ID": "126",
                                    "NAP": "15",
                                    "SZOBANKENT": "6",
                                    "NAPONTA": "25",
                                    "SZOBANKENT NAPONTA": "1"
                                },
                                {
                                    "SZOBA_ID": "126",
                                    "NAP": "21",
                                    "SZOBANKENT": "6",
                                    "NAPONTA": "24",
                                    "SZOBANKENT NAPONTA": "1"
                                },
                                {
                                    "SZOBA_ID": "127",
                                    "NAP": "6",
                                    "SZOBANKENT": "7",
                                    "NAPONTA": "42",
                                    "SZOBANKENT NAPONTA": "1"
                                },
                                {
                                    "SZOBA_ID": "127",
                                    "NAP": "14",
                                    "SZOBANKENT": "7",
                                    "NAPONTA": "26",
                                    "SZOBANKENT NAPONTA": "1"
                                },
                                {
                                    "SZOBA_ID": "127",
                                    "NAP": "16",
                                    "SZOBANKENT": "7",
                                    "NAPONTA": "53",
                                    "SZOBANKENT NAPONTA": "1"
                                },
                                {
                                    "SZOBA_ID": "127",
                                    "NAP": "24",
                                    "SZOBANKENT": "7",
                                    "NAPONTA": "39",
                                    "SZOBANKENT NAPONTA": "1"
                                },
                                {
                                    "SZOBA_ID": "127",
                                    "NAP": "28",
                                    "SZOBANKENT": "7",
                                    "NAPONTA": "40",
                                    "SZOBANKENT NAPONTA": "1"
                                },
                                {
                                    "SZOBA_ID": "127",
                                    "NAP": "30",
                                    "SZOBANKENT": "7",
                                    "NAPONTA": "47",
                                    "SZOBANKENT NAPONTA": "2"
                                },
                                {
                                    "SZOBA_ID": "127",
                                    "NAP": "30",
                                    "SZOBANKENT": "7",
                                    "NAPONTA": "47",
                                    "SZOBANKENT NAPONTA": "2"
                                },
                                {
                                    "SZOBA_ID": "128",
                                    "NAP": "3",
                                    "SZOBANKENT": "5",
                                    "NAPONTA": "39",
                                    "SZOBANKENT NAPONTA": "1"
                                },
                                {
                                    "SZOBA_ID": "128",
                                    "NAP": "19",
                                    "SZOBANKENT": "5",
                                    "NAPONTA": "31",
                                    "SZOBANKENT NAPONTA": "1"
                                },
                                {
                                    "SZOBA_ID": "128",
                                    "NAP": "24",
                                    "SZOBANKENT": "5",
                                    "NAPONTA": "39",
                                    "SZOBANKENT NAPONTA": "1"
                                },
                                {
                                    "SZOBA_ID": "128",
                                    "NAP": "26",
                                    "SZOBANKENT": "5",
                                    "NAPONTA": "31",
                                    "SZOBANKENT NAPONTA": "2"
                                },
                                {
                                    "SZOBA_ID": "128",
                                    "NAP": "26",
                                    "SZOBANKENT": "5",
                                    "NAPONTA": "31",
                                    "SZOBANKENT NAPONTA": "2"
                                },
                                {
                                    "SZOBA_ID": "129",
                                    "NAP": "8",
                                    "SZOBANKENT": "4",
                                    "NAPONTA": "36",
                                    "SZOBANKENT NAPONTA": "1"
                                },
                                {
                                    "SZOBA_ID": "129",
                                    "NAP": "13",
                                    "SZOBANKENT": "4",
                                    "NAPONTA": "29",
                                    "SZOBANKENT NAPONTA": "1"
                                },
                                {
                                    "SZOBA_ID": "129",
                                    "NAP": "16",
                                    "SZOBANKENT": "4",
                                    "NAPONTA": "53",
                                    "SZOBANKENT NAPONTA": "1"
                                },
                                {
                                    "SZOBA_ID": "129",
                                    "NAP": "27",
                                    "SZOBANKENT": "4",
                                    "NAPONTA": "33",
                                    "SZOBANKENT NAPONTA": "1"
                                },
                                {
                                    "SZOBA_ID": "130",
                                    "NAP": "1",
                                    "SZOBANKENT": "6",
                                    "NAPONTA": "48",
                                    "SZOBANKENT NAPONTA": "1"
                                },
                                {
                                    "SZOBA_ID": "130",
                                    "NAP": "6",
                                    "SZOBANKENT": "6",
                                    "NAPONTA": "42",
                                    "SZOBANKENT NAPONTA": "1"
                                },
                                {
                                    "SZOBA_ID": "130",
                                    "NAP": "9",
                                    "SZOBANKENT": "6",
                                    "NAPONTA": "39",
                                    "SZOBANKENT NAPONTA": "1"
                                },
                                {
                                    "SZOBA_ID": "130",
                                    "NAP": "14",
                                    "SZOBANKENT": "6",
                                    "NAPONTA": "26",
                                    "SZOBANKENT NAPONTA": "1"
                                },
                                {
                                    "SZOBA_ID": "130",
                                    "NAP": "15",
                                    "SZOBANKENT": "6",
                                    "NAPONTA": "25",
                                    "SZOBANKENT NAPONTA": "1"
                                },
                                {
                                    "SZOBA_ID": "130",
                                    "NAP": "26",
                                    "SZOBANKENT": "6",
                                    "NAPONTA": "31",
                                    "SZOBANKENT NAPONTA": "1"
                                },
                                {
                                    "SZOBA_ID": "131",
                                    "NAP": "6",
                                    "SZOBANKENT": "5",
                                    "NAPONTA": "42",
                                    "SZOBANKENT NAPONTA": "2"
                                },
                                {
                                    "SZOBA_ID": "131",
                                    "NAP": "6",
                                    "SZOBANKENT": "5",
                                    "NAPONTA": "42",
                                    "SZOBANKENT NAPONTA": "2"
                                },
                                {
                                    "SZOBA_ID": "131",
                                    "NAP": "18",
                                    "SZOBANKENT": "5",
                                    "NAPONTA": "29",
                                    "SZOBANKENT NAPONTA": "1"
                                },
                                {
                                    "SZOBA_ID": "131",
                                    "NAP": "25",
                                    "SZOBANKENT": "5",
                                    "NAPONTA": "29",
                                    "SZOBANKENT NAPONTA": "1"
                                },
                                {
                                    "SZOBA_ID": "131",
                                    "NAP": "30",
                                    "SZOBANKENT": "5",
                                    "NAPONTA": "47",
                                    "SZOBANKENT NAPONTA": "1"
                                },
                                {
                                    "SZOBA_ID": "132",
                                    "NAP": "1",
                                    "SZOBANKENT": "6",
                                    "NAPONTA": "48",
                                    "SZOBANKENT NAPONTA": "2"
                                },
                                {
                                    "SZOBA_ID": "132",
                                    "NAP": "1",
                                    "SZOBANKENT": "6",
                                    "NAPONTA": "48",
                                    "SZOBANKENT NAPONTA": "2"
                                },
                                {
                                    "SZOBA_ID": "132",
                                    "NAP": "4",
                                    "SZOBANKENT": "6",
                                    "NAPONTA": "29",
                                    "SZOBANKENT NAPONTA": "1"
                                },
                                {
                                    "SZOBA_ID": "132",
                                    "NAP": "12",
                                    "SZOBANKENT": "6",
                                    "NAPONTA": "32",
                                    "SZOBANKENT NAPONTA": "1"
                                },
                                {
                                    "SZOBA_ID": "132",
                                    "NAP": "22",
                                    "SZOBANKENT": "6",
                                    "NAPONTA": "35",
                                    "SZOBANKENT NAPONTA": "1"
                                },
                                {
                                    "SZOBA_ID": "132",
                                    "NAP": "30",
                                    "SZOBANKENT": "6",
                                    "NAPONTA": "47",
                                    "SZOBANKENT NAPONTA": "1"
                                },
                                {
                                    "SZOBA_ID": "133",
                                    "NAP": "1",
                                    "SZOBANKENT": "6",
                                    "NAPONTA": "48",
                                    "SZOBANKENT NAPONTA": "1"
                                },
                                {
                                    "SZOBA_ID": "133",
                                    "NAP": "6",
                                    "SZOBANKENT": "6",
                                    "NAPONTA": "42",
                                    "SZOBANKENT NAPONTA": "1"
                                },
                                {
                                    "SZOBA_ID": "133",
                                    "NAP": "12",
                                    "SZOBANKENT": "6",
                                    "NAPONTA": "32",
                                    "SZOBANKENT NAPONTA": "1"
                                },
                                {
                                    "SZOBA_ID": "133",
                                    "NAP": "15",
                                    "SZOBANKENT": "6",
                                    "NAPONTA": "25",
                                    "SZOBANKENT NAPONTA": "1"
                                },
                                {
                                    "SZOBA_ID": "133",
                                    "NAP": "22",
                                    "SZOBANKENT": "6",
                                    "NAPONTA": "35",
                                    "SZOBANKENT NAPONTA": "1"
                                },
                                {
                                    "SZOBA_ID": "133",
                                    "NAP": "27",
                                    "SZOBANKENT": "6",
                                    "NAPONTA": "33",
                                    "SZOBANKENT NAPONTA": "1"
                                },
                                {
                                    "SZOBA_ID": "134",
                                    "NAP": "3",
                                    "SZOBANKENT": "6",
                                    "NAPONTA": "39",
                                    "SZOBANKENT NAPONTA": "1"
                                },
                                {
                                    "SZOBA_ID": "134",
                                    "NAP": "11",
                                    "SZOBANKENT": "6",
                                    "NAPONTA": "13",
                                    "SZOBANKENT NAPONTA": "1"
                                },
                                {
                                    "SZOBA_ID": "134",
                                    "NAP": "12",
                                    "SZOBANKENT": "6",
                                    "NAPONTA": "32",
                                    "SZOBANKENT NAPONTA": "1"
                                },
                                {
                                    "SZOBA_ID": "134",
                                    "NAP": "15",
                                    "SZOBANKENT": "6",
                                    "NAPONTA": "25",
                                    "SZOBANKENT NAPONTA": "1"
                                },
                                {
                                    "SZOBA_ID": "134",
                                    "NAP": "22",
                                    "SZOBANKENT": "6",
                                    "NAPONTA": "35",
                                    "SZOBANKENT NAPONTA": "1"
                                },
                                {
                                    "SZOBA_ID": "134",
                                    "NAP": "30",
                                    "SZOBANKENT": "6",
                                    "NAPONTA": "47",
                                    "SZOBANKENT NAPONTA": "1"
                                },
                                {
                                    "SZOBA_ID": "135",
                                    "NAP": "5",
                                    "SZOBANKENT": "3",
                                    "NAPONTA": "36",
                                    "SZOBANKENT NAPONTA": "1"
                                },
                                {
                                    "SZOBA_ID": "135",
                                    "NAP": "18",
                                    "SZOBANKENT": "3",
                                    "NAPONTA": "29",
                                    "SZOBANKENT NAPONTA": "1"
                                },
                                {
                                    "SZOBA_ID": "135",
                                    "NAP": "27",
                                    "SZOBANKENT": "3",
                                    "NAPONTA": "33",
                                    "SZOBANKENT NAPONTA": "1"
                                },
                                {
                                    "SZOBA_ID": "136",
                                    "NAP": "12",
                                    "SZOBANKENT": "3",
                                    "NAPONTA": "32",
                                    "SZOBANKENT NAPONTA": "1"
                                },
                                {
                                    "SZOBA_ID": "136",
                                    "NAP": "17",
                                    "SZOBANKENT": "3",
                                    "NAPONTA": "40",
                                    "SZOBANKENT NAPONTA": "1"
                                },
                                {
                                    "SZOBA_ID": "136",
                                    "NAP": "21",
                                    "SZOBANKENT": "3",
                                    "NAPONTA": "24",
                                    "SZOBANKENT NAPONTA": "1"
                                },
                                {
                                    "SZOBA_ID": "137",
                                    "NAP": "6",
                                    "SZOBANKENT": "6",
                                    "NAPONTA": "42",
                                    "SZOBANKENT NAPONTA": "1"
                                },
                                {
                                    "SZOBA_ID": "137",
                                    "NAP": "15",
                                    "SZOBANKENT": "6",
                                    "NAPONTA": "25",
                                    "SZOBANKENT NAPONTA": "1"
                                },
                                {
                                    "SZOBA_ID": "137",
                                    "NAP": "16",
                                    "SZOBANKENT": "6",
                                    "NAPONTA": "53",
                                    "SZOBANKENT NAPONTA": "1"
                                },
                                {
                                    "SZOBA_ID": "137",
                                    "NAP": "17",
                                    "SZOBANKENT": "6",
                                    "NAPONTA": "40",
                                    "SZOBANKENT NAPONTA": "1"
                                },
                                {
                                    "SZOBA_ID": "137",
                                    "NAP": "20",
                                    "SZOBANKENT": "6",
                                    "NAPONTA": "32",
                                    "SZOBANKENT NAPONTA": "1"
                                },
                                {
                                    "SZOBA_ID": "137",
                                    "NAP": "26",
                                    "SZOBANKENT": "6",
                                    "NAPONTA": "31",
                                    "SZOBANKENT NAPONTA": "1"
                                },
                                {
                                    "SZOBA_ID": "138",
                                    "NAP": "6",
                                    "SZOBANKENT": "7",
                                    "NAPONTA": "42",
                                    "SZOBANKENT NAPONTA": "1"
                                },
                                {
                                    "SZOBA_ID": "138",
                                    "NAP": "11",
                                    "SZOBANKENT": "7",
                                    "NAPONTA": "13",
                                    "SZOBANKENT NAPONTA": "1"
                                },
                                {
                                    "SZOBA_ID": "138",
                                    "NAP": "12",
                                    "SZOBANKENT": "7",
                                    "NAPONTA": "32",
                                    "SZOBANKENT NAPONTA": "1"
                                },
                                {
                                    "SZOBA_ID": "138",
                                    "NAP": "16",
                                    "SZOBANKENT": "7",
                                    "NAPONTA": "53",
                                    "SZOBANKENT NAPONTA": "1"
                                },
                                {
                                    "SZOBA_ID": "138",
                                    "NAP": "17",
                                    "SZOBANKENT": "7",
                                    "NAPONTA": "40",
                                    "SZOBANKENT NAPONTA": "2"
                                },
                                {
                                    "SZOBA_ID": "138",
                                    "NAP": "17",
                                    "SZOBANKENT": "7",
                                    "NAPONTA": "40",
                                    "SZOBANKENT NAPONTA": "2"
                                },
                                {
                                    "SZOBA_ID": "138",
                                    "NAP": "19",
                                    "SZOBANKENT": "7",
                                    "NAPONTA": "31",
                                    "SZOBANKENT NAPONTA": "1"
                                },
                                {
                                    "SZOBA_ID": "139",
                                    "NAP": "1",
                                    "SZOBANKENT": "7",
                                    "NAPONTA": "48",
                                    "SZOBANKENT NAPONTA": "1"
                                },
                                {
                                    "SZOBA_ID": "139",
                                    "NAP": "3",
                                    "SZOBANKENT": "7",
                                    "NAPONTA": "39",
                                    "SZOBANKENT NAPONTA": "1"
                                },
                                {
                                    "SZOBA_ID": "139",
                                    "NAP": "10",
                                    "SZOBANKENT": "7",
                                    "NAPONTA": "37",
                                    "SZOBANKENT NAPONTA": "1"
                                },
                                {
                                    "SZOBA_ID": "139",
                                    "NAP": "11",
                                    "SZOBANKENT": "7",
                                    "NAPONTA": "13",
                                    "SZOBANKENT NAPONTA": "1"
                                },
                                {
                                    "SZOBA_ID": "139",
                                    "NAP": "14",
                                    "SZOBANKENT": "7",
                                    "NAPONTA": "26",
                                    "SZOBANKENT NAPONTA": "1"
                                },
                                {
                                    "SZOBA_ID": "139",
                                    "NAP": "17",
                                    "SZOBANKENT": "7",
                                    "NAPONTA": "40",
                                    "SZOBANKENT NAPONTA": "1"
                                },
                                {
                                    "SZOBA_ID": "139",
                                    "NAP": "18",
                                    "SZOBANKENT": "7",
                                    "NAPONTA": "29",
                                    "SZOBANKENT NAPONTA": "1"
                                },
                                {
                                    "SZOBA_ID": "140",
                                    "NAP": "1",
                                    "SZOBANKENT": "8",
                                    "NAPONTA": "48",
                                    "SZOBANKENT NAPONTA": "1"
                                },
                                {
                                    "SZOBA_ID": "140",
                                    "NAP": "6",
                                    "SZOBANKENT": "8",
                                    "NAPONTA": "42",
                                    "SZOBANKENT NAPONTA": "1"
                                },
                                {
                                    "SZOBA_ID": "140",
                                    "NAP": "7",
                                    "SZOBANKENT": "8",
                                    "NAPONTA": "29",
                                    "SZOBANKENT NAPONTA": "1"
                                },
                                {
                                    "SZOBA_ID": "140",
                                    "NAP": "10",
                                    "SZOBANKENT": "8",
                                    "NAPONTA": "37",
                                    "SZOBANKENT NAPONTA": "1"
                                },
                                {
                                    "SZOBA_ID": "140",
                                    "NAP": "14",
                                    "SZOBANKENT": "8",
                                    "NAPONTA": "26",
                                    "SZOBANKENT NAPONTA": "1"
                                },
                                {
                                    "SZOBA_ID": "140",
                                    "NAP": "15",
                                    "SZOBANKENT": "8",
                                    "NAPONTA": "25",
                                    "SZOBANKENT NAPONTA": "1"
                                },
                                {
                                    "SZOBA_ID": "140",
                                    "NAP": "17",
                                    "SZOBANKENT": "8",
                                    "NAPONTA": "40",
                                    "SZOBANKENT NAPONTA": "1"
                                },
                                {
                                    "SZOBA_ID": "140",
                                    "NAP": "28",
                                    "SZOBANKENT": "8",
                                    "NAPONTA": "40",
                                    "SZOBANKENT NAPONTA": "1"
                                },
                                {
                                    "SZOBA_ID": "141",
                                    "NAP": "5",
                                    "SZOBANKENT": "6",
                                    "NAPONTA": "36",
                                    "SZOBANKENT NAPONTA": "1"
                                },
                                {
                                    "SZOBA_ID": "141",
                                    "NAP": "6",
                                    "SZOBANKENT": "6",
                                    "NAPONTA": "42",
                                    "SZOBANKENT NAPONTA": "2"
                                },
                                {
                                    "SZOBA_ID": "141",
                                    "NAP": "6",
                                    "SZOBANKENT": "6",
                                    "NAPONTA": "42",
                                    "SZOBANKENT NAPONTA": "2"
                                },
                                {
                                    "SZOBA_ID": "141",
                                    "NAP": "8",
                                    "SZOBANKENT": "6",
                                    "NAPONTA": "36",
                                    "SZOBANKENT NAPONTA": "1"
                                },
                                {
                                    "SZOBA_ID": "141",
                                    "NAP": "16",
                                    "SZOBANKENT": "6",
                                    "NAPONTA": "53",
                                    "SZOBANKENT NAPONTA": "1"
                                },
                                {
                                    "SZOBA_ID": "141",
                                    "NAP": "27",
                                    "SZOBANKENT": "6",
                                    "NAPONTA": "33",
                                    "SZOBANKENT NAPONTA": "1"
                                },
                                {
                                    "SZOBA_ID": "142",
                                    "NAP": "17",
                                    "SZOBANKENT": "2",
                                    "NAPONTA": "40",
                                    "SZOBANKENT NAPONTA": "2"
                                },
                                {
                                    "SZOBA_ID": "142",
                                    "NAP": "17",
                                    "SZOBANKENT": "2",
                                    "NAPONTA": "40",
                                    "SZOBANKENT NAPONTA": "2"
                                },
                                {
                                    "SZOBA_ID": "143",
                                    "NAP": "15",
                                    "SZOBANKENT": "7",
                                    "NAPONTA": "25",
                                    "SZOBANKENT NAPONTA": "1"
                                },
                                {
                                    "SZOBA_ID": "143",
                                    "NAP": "16",
                                    "SZOBANKENT": "7",
                                    "NAPONTA": "53",
                                    "SZOBANKENT NAPONTA": "1"
                                },
                                {
                                    "SZOBA_ID": "143",
                                    "NAP": "23",
                                    "SZOBANKENT": "7",
                                    "NAPONTA": "44",
                                    "SZOBANKENT NAPONTA": "2"
                                },
                                {
                                    "SZOBA_ID": "143",
                                    "NAP": "23",
                                    "SZOBANKENT": "7",
                                    "NAPONTA": "44",
                                    "SZOBANKENT NAPONTA": "2"
                                },
                                {
                                    "SZOBA_ID": "143",
                                    "NAP": "25",
                                    "SZOBANKENT": "7",
                                    "NAPONTA": "29",
                                    "SZOBANKENT NAPONTA": "1"
                                },
                                {
                                    "SZOBA_ID": "143",
                                    "NAP": "26",
                                    "SZOBANKENT": "7",
                                    "NAPONTA": "31",
                                    "SZOBANKENT NAPONTA": "1"
                                },
                                {
                                    "SZOBA_ID": "143",
                                    "NAP": "30",
                                    "SZOBANKENT": "7",
                                    "NAPONTA": "47",
                                    "SZOBANKENT NAPONTA": "1"
                                },
                                {
                                    "SZOBA_ID": "144",
                                    "NAP": "15",
                                    "SZOBANKENT": "5",
                                    "NAPONTA": "25",
                                    "SZOBANKENT NAPONTA": "1"
                                },
                                {
                                    "SZOBA_ID": "144",
                                    "NAP": "19",
                                    "SZOBANKENT": "5",
                                    "NAPONTA": "31",
                                    "SZOBANKENT NAPONTA": "1"
                                },
                                {
                                    "SZOBA_ID": "144",
                                    "NAP": "25",
                                    "SZOBANKENT": "5",
                                    "NAPONTA": "29",
                                    "SZOBANKENT NAPONTA": "1"
                                },
                                {
                                    "SZOBA_ID": "144",
                                    "NAP": "26",
                                    "SZOBANKENT": "5",
                                    "NAPONTA": "31",
                                    "SZOBANKENT NAPONTA": "1"
                                },
                                {
                                    "SZOBA_ID": "144",
                                    "NAP": "29",
                                    "SZOBANKENT": "5",
                                    "NAPONTA": "31",
                                    "SZOBANKENT NAPONTA": "1"
                                },
                                {
                                    "SZOBA_ID": "145",
                                    "NAP": "2",
                                    "SZOBANKENT": "6",
                                    "NAPONTA": "21",
                                    "SZOBANKENT NAPONTA": "1"
                                },
                                {
                                    "SZOBA_ID": "145",
                                    "NAP": "4",
                                    "SZOBANKENT": "6",
                                    "NAPONTA": "29",
                                    "SZOBANKENT NAPONTA": "1"
                                },
                                {
                                    "SZOBA_ID": "145",
                                    "NAP": "9",
                                    "SZOBANKENT": "6",
                                    "NAPONTA": "39",
                                    "SZOBANKENT NAPONTA": "1"
                                },
                                {
                                    "SZOBA_ID": "145",
                                    "NAP": "22",
                                    "SZOBANKENT": "6",
                                    "NAPONTA": "35",
                                    "SZOBANKENT NAPONTA": "1"
                                },
                                {
                                    "SZOBA_ID": "145",
                                    "NAP": "23",
                                    "SZOBANKENT": "6",
                                    "NAPONTA": "44",
                                    "SZOBANKENT NAPONTA": "2"
                                },
                                {
                                    "SZOBA_ID": "145",
                                    "NAP": "23",
                                    "SZOBANKENT": "6",
                                    "NAPONTA": "44",
                                    "SZOBANKENT NAPONTA": "2"
                                },
                                {
                                    "SZOBA_ID": "146",
                                    "NAP": "2",
                                    "SZOBANKENT": "6",
                                    "NAPONTA": "21",
                                    "SZOBANKENT NAPONTA": "1"
                                },
                                {
                                    "SZOBA_ID": "146",
                                    "NAP": "5",
                                    "SZOBANKENT": "6",
                                    "NAPONTA": "36",
                                    "SZOBANKENT NAPONTA": "1"
                                },
                                {
                                    "SZOBA_ID": "146",
                                    "NAP": "13",
                                    "SZOBANKENT": "6",
                                    "NAPONTA": "29",
                                    "SZOBANKENT NAPONTA": "1"
                                },
                                {
                                    "SZOBA_ID": "146",
                                    "NAP": "16",
                                    "SZOBANKENT": "6",
                                    "NAPONTA": "53",
                                    "SZOBANKENT NAPONTA": "1"
                                },
                                {
                                    "SZOBA_ID": "146",
                                    "NAP": "20",
                                    "SZOBANKENT": "6",
                                    "NAPONTA": "32",
                                    "SZOBANKENT NAPONTA": "1"
                                },
                                {
                                    "SZOBA_ID": "146",
                                    "NAP": "28",
                                    "SZOBANKENT": "6",
                                    "NAPONTA": "40",
                                    "SZOBANKENT NAPONTA": "1"
                                },
                                {
                                    "SZOBA_ID": "147",
                                    "NAP": "12",
                                    "SZOBANKENT": "1",
                                    "NAPONTA": "32",
                                    "SZOBANKENT NAPONTA": "1"
                                },
                                {
                                    "SZOBA_ID": "148",
                                    "NAP": "9",
                                    "SZOBANKENT": "6",
                                    "NAPONTA": "39",
                                    "SZOBANKENT NAPONTA": "1"
                                },
                                {
                                    "SZOBA_ID": "148",
                                    "NAP": "16",
                                    "SZOBANKENT": "6",
                                    "NAPONTA": "53",
                                    "SZOBANKENT NAPONTA": "1"
                                },
                                {
                                    "SZOBA_ID": "148",
                                    "NAP": "17",
                                    "SZOBANKENT": "6",
                                    "NAPONTA": "40",
                                    "SZOBANKENT NAPONTA": "1"
                                },
                                {
                                    "SZOBA_ID": "148",
                                    "NAP": "23",
                                    "SZOBANKENT": "6",
                                    "NAPONTA": "44",
                                    "SZOBANKENT NAPONTA": "2"
                                },
                                {
                                    "SZOBA_ID": "148",
                                    "NAP": "23",
                                    "SZOBANKENT": "6",
                                    "NAPONTA": "44",
                                    "SZOBANKENT NAPONTA": "2"
                                },
                                {
                                    "SZOBA_ID": "148",
                                    "NAP": "27",
                                    "SZOBANKENT": "6",
                                    "NAPONTA": "33",
                                    "SZOBANKENT NAPONTA": "1"
                                },
                                {
                                    "SZOBA_ID": "149",
                                    "NAP": "1",
                                    "SZOBANKENT": "7",
                                    "NAPONTA": "48",
                                    "SZOBANKENT NAPONTA": "1"
                                },
                                {
                                    "SZOBA_ID": "149",
                                    "NAP": "9",
                                    "SZOBANKENT": "7",
                                    "NAPONTA": "39",
                                    "SZOBANKENT NAPONTA": "1"
                                },
                                {
                                    "SZOBA_ID": "149",
                                    "NAP": "10",
                                    "SZOBANKENT": "7",
                                    "NAPONTA": "37",
                                    "SZOBANKENT NAPONTA": "1"
                                },
                                {
                                    "SZOBA_ID": "149",
                                    "NAP": "18",
                                    "SZOBANKENT": "7",
                                    "NAPONTA": "29",
                                    "SZOBANKENT NAPONTA": "1"
                                },
                                {
                                    "SZOBA_ID": "149",
                                    "NAP": "20",
                                    "SZOBANKENT": "7",
                                    "NAPONTA": "32",
                                    "SZOBANKENT NAPONTA": "1"
                                },
                                {
                                    "SZOBA_ID": "149",
                                    "NAP": "28",
                                    "SZOBANKENT": "7",
                                    "NAPONTA": "40",
                                    "SZOBANKENT NAPONTA": "1"
                                },
                                {
                                    "SZOBA_ID": "149",
                                    "NAP": "29",
                                    "SZOBANKENT": "7",
                                    "NAPONTA": "31",
                                    "SZOBANKENT NAPONTA": "1"
                                },
                                {
                                    "SZOBA_ID": "150",
                                    "NAP": "1",
                                    "SZOBANKENT": "6",
                                    "NAPONTA": "48",
                                    "SZOBANKENT NAPONTA": "2"
                                },
                                {
                                    "SZOBA_ID": "150",
                                    "NAP": "1",
                                    "SZOBANKENT": "6",
                                    "NAPONTA": "48",
                                    "SZOBANKENT NAPONTA": "2"
                                },
                                {
                                    "SZOBA_ID": "150",
                                    "NAP": "10",
                                    "SZOBANKENT": "6",
                                    "NAPONTA": "37",
                                    "SZOBANKENT NAPONTA": "1"
                                },
                                {
                                    "SZOBA_ID": "150",
                                    "NAP": "13",
                                    "SZOBANKENT": "6",
                                    "NAPONTA": "29",
                                    "SZOBANKENT NAPONTA": "1"
                                },
                                {
                                    "SZOBA_ID": "150",
                                    "NAP": "22",
                                    "SZOBANKENT": "6",
                                    "NAPONTA": "35",
                                    "SZOBANKENT NAPONTA": "1"
                                },
                                {
                                    "SZOBA_ID": "150",
                                    "NAP": "26",
                                    "SZOBANKENT": "6",
                                    "NAPONTA": "31",
                                    "SZOBANKENT NAPONTA": "1"
                                },
                                {
                                    "SZOBA_ID": "151",
                                    "NAP": "2",
                                    "SZOBANKENT": "3",
                                    "NAPONTA": "21",
                                    "SZOBANKENT NAPONTA": "1"
                                },
                                {
                                    "SZOBA_ID": "151",
                                    "NAP": "3",
                                    "SZOBANKENT": "3",
                                    "NAPONTA": "39",
                                    "SZOBANKENT NAPONTA": "1"
                                },
                                {
                                    "SZOBA_ID": "151",
                                    "NAP": "16",
                                    "SZOBANKENT": "3",
                                    "NAPONTA": "53",
                                    "SZOBANKENT NAPONTA": "1"
                                },
                                {
                                    "SZOBA_ID": "152",
                                    "NAP": "16",
                                    "SZOBANKENT": "4",
                                    "NAPONTA": "53",
                                    "SZOBANKENT NAPONTA": "1"
                                },
                                {
                                    "SZOBA_ID": "152",
                                    "NAP": "21",
                                    "SZOBANKENT": "4",
                                    "NAPONTA": "24",
                                    "SZOBANKENT NAPONTA": "1"
                                },
                                {
                                    "SZOBA_ID": "152",
                                    "NAP": "26",
                                    "SZOBANKENT": "4",
                                    "NAPONTA": "31",
                                    "SZOBANKENT NAPONTA": "1"
                                },
                                {
                                    "SZOBA_ID": "152",
                                    "NAP": "28",
                                    "SZOBANKENT": "4",
                                    "NAPONTA": "40",
                                    "SZOBANKENT NAPONTA": "1"
                                },
                                {
                                    "SZOBA_ID": "153",
                                    "NAP": "7",
                                    "SZOBANKENT": "5",
                                    "NAPONTA": "29",
                                    "SZOBANKENT NAPONTA": "1"
                                },
                                {
                                    "SZOBA_ID": "153",
                                    "NAP": "17",
                                    "SZOBANKENT": "5",
                                    "NAPONTA": "40",
                                    "SZOBANKENT NAPONTA": "1"
                                },
                                {
                                    "SZOBA_ID": "153",
                                    "NAP": "21",
                                    "SZOBANKENT": "5",
                                    "NAPONTA": "24",
                                    "SZOBANKENT NAPONTA": "1"
                                },
                                {
                                    "SZOBA_ID": "153",
                                    "NAP": "22",
                                    "SZOBANKENT": "5",
                                    "NAPONTA": "35",
                                    "SZOBANKENT NAPONTA": "1"
                                },
                                {
                                    "SZOBA_ID": "153",
                                    "NAP": "23",
                                    "SZOBANKENT": "5",
                                    "NAPONTA": "44",
                                    "SZOBANKENT NAPONTA": "1"
                                },
                                {
                                    "SZOBA_ID": "154",
                                    "NAP": "7",
                                    "SZOBANKENT": "5",
                                    "NAPONTA": "29",
                                    "SZOBANKENT NAPONTA": "1"
                                },
                                {
                                    "SZOBA_ID": "154",
                                    "NAP": "16",
                                    "SZOBANKENT": "5",
                                    "NAPONTA": "53",
                                    "SZOBANKENT NAPONTA": "2"
                                },
                                {
                                    "SZOBA_ID": "154",
                                    "NAP": "16",
                                    "SZOBANKENT": "5",
                                    "NAPONTA": "53",
                                    "SZOBANKENT NAPONTA": "2"
                                },
                                {
                                    "SZOBA_ID": "154",
                                    "NAP": "17",
                                    "SZOBANKENT": "5",
                                    "NAPONTA": "40",
                                    "SZOBANKENT NAPONTA": "1"
                                },
                                {
                                    "SZOBA_ID": "154",
                                    "NAP": "19",
                                    "SZOBANKENT": "5",
                                    "NAPONTA": "31",
                                    "SZOBANKENT NAPONTA": "1"
                                },
                                {
                                    "SZOBA_ID": "155",
                                    "NAP": "1",
                                    "SZOBANKENT": "5",
                                    "NAPONTA": "48",
                                    "SZOBANKENT NAPONTA": "1"
                                },
                                {
                                    "SZOBA_ID": "155",
                                    "NAP": "10",
                                    "SZOBANKENT": "5",
                                    "NAPONTA": "37",
                                    "SZOBANKENT NAPONTA": "1"
                                },
                                {
                                    "SZOBA_ID": "155",
                                    "NAP": "12",
                                    "SZOBANKENT": "5",
                                    "NAPONTA": "32",
                                    "SZOBANKENT NAPONTA": "1"
                                },
                                {
                                    "SZOBA_ID": "155",
                                    "NAP": "16",
                                    "SZOBANKENT": "5",
                                    "NAPONTA": "53",
                                    "SZOBANKENT NAPONTA": "1"
                                },
                                {
                                    "SZOBA_ID": "155",
                                    "NAP": "23",
                                    "SZOBANKENT": "5",
                                    "NAPONTA": "44",
                                    "SZOBANKENT NAPONTA": "1"
                                },
                                {
                                    "SZOBA_ID": "156",
                                    "NAP": "3",
                                    "SZOBANKENT": "7",
                                    "NAPONTA": "39",
                                    "SZOBANKENT NAPONTA": "1"
                                },
                                {
                                    "SZOBA_ID": "156",
                                    "NAP": "5",
                                    "SZOBANKENT": "7",
                                    "NAPONTA": "36",
                                    "SZOBANKENT NAPONTA": "1"
                                },
                                {
                                    "SZOBA_ID": "156",
                                    "NAP": "13",
                                    "SZOBANKENT": "7",
                                    "NAPONTA": "29",
                                    "SZOBANKENT NAPONTA": "1"
                                },
                                {
                                    "SZOBA_ID": "156",
                                    "NAP": "19",
                                    "SZOBANKENT": "7",
                                    "NAPONTA": "31",
                                    "SZOBANKENT NAPONTA": "1"
                                },
                                {
                                    "SZOBA_ID": "156",
                                    "NAP": "20",
                                    "SZOBANKENT": "7",
                                    "NAPONTA": "32",
                                    "SZOBANKENT NAPONTA": "1"
                                },
                                {
                                    "SZOBA_ID": "156",
                                    "NAP": "22",
                                    "SZOBANKENT": "7",
                                    "NAPONTA": "35",
                                    "SZOBANKENT NAPONTA": "1"
                                },
                                {
                                    "SZOBA_ID": "156",
                                    "NAP": "23",
                                    "SZOBANKENT": "7",
                                    "NAPONTA": "44",
                                    "SZOBANKENT NAPONTA": "1"
                                },
                                {
                                    "SZOBA_ID": "157",
                                    "NAP": "3",
                                    "SZOBANKENT": "5",
                                    "NAPONTA": "39",
                                    "SZOBANKENT NAPONTA": "1"
                                },
                                {
                                    "SZOBA_ID": "157",
                                    "NAP": "12",
                                    "SZOBANKENT": "5",
                                    "NAPONTA": "32",
                                    "SZOBANKENT NAPONTA": "1"
                                },
                                {
                                    "SZOBA_ID": "157",
                                    "NAP": "13",
                                    "SZOBANKENT": "5",
                                    "NAPONTA": "29",
                                    "SZOBANKENT NAPONTA": "1"
                                },
                                {
                                    "SZOBA_ID": "157",
                                    "NAP": "16",
                                    "SZOBANKENT": "5",
                                    "NAPONTA": "53",
                                    "SZOBANKENT NAPONTA": "1"
                                },
                                {
                                    "SZOBA_ID": "157",
                                    "NAP": "19",
                                    "SZOBANKENT": "5",
                                    "NAPONTA": "31",
                                    "SZOBANKENT NAPONTA": "1"
                                },
                                {
                                    "SZOBA_ID": "158",
                                    "NAP": "3",
                                    "SZOBANKENT": "3",
                                    "NAPONTA": "39",
                                    "SZOBANKENT NAPONTA": "1"
                                },
                                {
                                    "SZOBA_ID": "158",
                                    "NAP": "25",
                                    "SZOBANKENT": "3",
                                    "NAPONTA": "29",
                                    "SZOBANKENT NAPONTA": "1"
                                },
                                {
                                    "SZOBA_ID": "158",
                                    "NAP": "30",
                                    "SZOBANKENT": "3",
                                    "NAPONTA": "47",
                                    "SZOBANKENT NAPONTA": "1"
                                },
                                {
                                    "SZOBA_ID": "160",
                                    "NAP": "6",
                                    "SZOBANKENT": "5",
                                    "NAPONTA": "42",
                                    "SZOBANKENT NAPONTA": "1"
                                },
                                {
                                    "SZOBA_ID": "160",
                                    "NAP": "7",
                                    "SZOBANKENT": "5",
                                    "NAPONTA": "29",
                                    "SZOBANKENT NAPONTA": "2"
                                },
                                {
                                    "SZOBA_ID": "160",
                                    "NAP": "7",
                                    "SZOBANKENT": "5",
                                    "NAPONTA": "29",
                                    "SZOBANKENT NAPONTA": "2"
                                },
                                {
                                    "SZOBA_ID": "160",
                                    "NAP": "23",
                                    "SZOBANKENT": "5",
                                    "NAPONTA": "44",
                                    "SZOBANKENT NAPONTA": "1"
                                },
                                {
                                    "SZOBA_ID": "160",
                                    "NAP": "27",
                                    "SZOBANKENT": "5",
                                    "NAPONTA": "33",
                                    "SZOBANKENT NAPONTA": "1"
                                },
                                {
                                    "SZOBA_ID": "161",
                                    "NAP": "6",
                                    "SZOBANKENT": "6",
                                    "NAPONTA": "42",
                                    "SZOBANKENT NAPONTA": "1"
                                },
                                {
                                    "SZOBA_ID": "161",
                                    "NAP": "12",
                                    "SZOBANKENT": "6",
                                    "NAPONTA": "32",
                                    "SZOBANKENT NAPONTA": "1"
                                },
                                {
                                    "SZOBA_ID": "161",
                                    "NAP": "18",
                                    "SZOBANKENT": "6",
                                    "NAPONTA": "29",
                                    "SZOBANKENT NAPONTA": "1"
                                },
                                {
                                    "SZOBA_ID": "161",
                                    "NAP": "19",
                                    "SZOBANKENT": "6",
                                    "NAPONTA": "31",
                                    "SZOBANKENT NAPONTA": "1"
                                },
                                {
                                    "SZOBA_ID": "161",
                                    "NAP": "24",
                                    "SZOBANKENT": "6",
                                    "NAPONTA": "39",
                                    "SZOBANKENT NAPONTA": "1"
                                },
                                {
                                    "SZOBA_ID": "161",
                                    "NAP": "25",
                                    "SZOBANKENT": "6",
                                    "NAPONTA": "29",
                                    "SZOBANKENT NAPONTA": "1"
                                },
                                {
                                    "SZOBA_ID": "162",
                                    "NAP": "24",
                                    "SZOBANKENT": "3",
                                    "NAPONTA": "39",
                                    "SZOBANKENT NAPONTA": "1"
                                },
                                {
                                    "SZOBA_ID": "162",
                                    "NAP": "26",
                                    "SZOBANKENT": "3",
                                    "NAPONTA": "31",
                                    "SZOBANKENT NAPONTA": "1"
                                },
                                {
                                    "SZOBA_ID": "162",
                                    "NAP": "27",
                                    "SZOBANKENT": "3",
                                    "NAPONTA": "33",
                                    "SZOBANKENT NAPONTA": "1"
                                },
                                {
                                    "SZOBA_ID": "163",
                                    "NAP": "1",
                                    "SZOBANKENT": "7",
                                    "NAPONTA": "48",
                                    "SZOBANKENT NAPONTA": "2"
                                },
                                {
                                    "SZOBA_ID": "163",
                                    "NAP": "1",
                                    "SZOBANKENT": "7",
                                    "NAPONTA": "48",
                                    "SZOBANKENT NAPONTA": "2"
                                },
                                {
                                    "SZOBA_ID": "163",
                                    "NAP": "8",
                                    "SZOBANKENT": "7",
                                    "NAPONTA": "36",
                                    "SZOBANKENT NAPONTA": "1"
                                },
                                {
                                    "SZOBA_ID": "163",
                                    "NAP": "9",
                                    "SZOBANKENT": "7",
                                    "NAPONTA": "39",
                                    "SZOBANKENT NAPONTA": "1"
                                },
                                {
                                    "SZOBA_ID": "163",
                                    "NAP": "10",
                                    "SZOBANKENT": "7",
                                    "NAPONTA": "37",
                                    "SZOBANKENT NAPONTA": "1"
                                },
                                {
                                    "SZOBA_ID": "163",
                                    "NAP": "16",
                                    "SZOBANKENT": "7",
                                    "NAPONTA": "53",
                                    "SZOBANKENT NAPONTA": "1"
                                },
                                {
                                    "SZOBA_ID": "163",
                                    "NAP": "23",
                                    "SZOBANKENT": "7",
                                    "NAPONTA": "44",
                                    "SZOBANKENT NAPONTA": "1"
                                },
                                {
                                    "SZOBA_ID": "164",
                                    "NAP": "4",
                                    "SZOBANKENT": "5",
                                    "NAPONTA": "29",
                                    "SZOBANKENT NAPONTA": "1"
                                },
                                {
                                    "SZOBA_ID": "164",
                                    "NAP": "10",
                                    "SZOBANKENT": "5",
                                    "NAPONTA": "37",
                                    "SZOBANKENT NAPONTA": "1"
                                },
                                {
                                    "SZOBA_ID": "164",
                                    "NAP": "16",
                                    "SZOBANKENT": "5",
                                    "NAPONTA": "53",
                                    "SZOBANKENT NAPONTA": "1"
                                },
                                {
                                    "SZOBA_ID": "164",
                                    "NAP": "19",
                                    "SZOBANKENT": "5",
                                    "NAPONTA": "31",
                                    "SZOBANKENT NAPONTA": "1"
                                },
                                {
                                    "SZOBA_ID": "164",
                                    "NAP": "31",
                                    "SZOBANKENT": "5",
                                    "NAPONTA": "8",
                                    "SZOBANKENT NAPONTA": "1"
                                },
                                {
                                    "SZOBA_ID": "165",
                                    "NAP": "3",
                                    "SZOBANKENT": "7",
                                    "NAPONTA": "39",
                                    "SZOBANKENT NAPONTA": "3"
                                },
                                {
                                    "SZOBA_ID": "165",
                                    "NAP": "3",
                                    "SZOBANKENT": "7",
                                    "NAPONTA": "39",
                                    "SZOBANKENT NAPONTA": "3"
                                },
                                {
                                    "SZOBA_ID": "165",
                                    "NAP": "3",
                                    "SZOBANKENT": "7",
                                    "NAPONTA": "39",
                                    "SZOBANKENT NAPONTA": "3"
                                },
                                {
                                    "SZOBA_ID": "165",
                                    "NAP": "9",
                                    "SZOBANKENT": "7",
                                    "NAPONTA": "39",
                                    "SZOBANKENT NAPONTA": "1"
                                },
                                {
                                    "SZOBA_ID": "165",
                                    "NAP": "12",
                                    "SZOBANKENT": "7",
                                    "NAPONTA": "32",
                                    "SZOBANKENT NAPONTA": "1"
                                },
                                {
                                    "SZOBA_ID": "165",
                                    "NAP": "17",
                                    "SZOBANKENT": "7",
                                    "NAPONTA": "40",
                                    "SZOBANKENT NAPONTA": "1"
                                },
                                {
                                    "SZOBA_ID": "165",
                                    "NAP": "25",
                                    "SZOBANKENT": "7",
                                    "NAPONTA": "29",
                                    "SZOBANKENT NAPONTA": "1"
                                },
                                {
                                    "SZOBA_ID": "166",
                                    "NAP": "12",
                                    "SZOBANKENT": "3",
                                    "NAPONTA": "32",
                                    "SZOBANKENT NAPONTA": "1"
                                },
                                {
                                    "SZOBA_ID": "166",
                                    "NAP": "14",
                                    "SZOBANKENT": "3",
                                    "NAPONTA": "26",
                                    "SZOBANKENT NAPONTA": "1"
                                },
                                {
                                    "SZOBA_ID": "166",
                                    "NAP": "16",
                                    "SZOBANKENT": "3",
                                    "NAPONTA": "53",
                                    "SZOBANKENT NAPONTA": "1"
                                },
                                {
                                    "SZOBA_ID": "167",
                                    "NAP": "2",
                                    "SZOBANKENT": "2",
                                    "NAPONTA": "21",
                                    "SZOBANKENT NAPONTA": "1"
                                },
                                {
                                    "SZOBA_ID": "167",
                                    "NAP": "24",
                                    "SZOBANKENT": "2",
                                    "NAPONTA": "39",
                                    "SZOBANKENT NAPONTA": "1"
                                },
                                {
                                    "SZOBA_ID": "168",
                                    "NAP": "5",
                                    "SZOBANKENT": "5",
                                    "NAPONTA": "36",
                                    "SZOBANKENT NAPONTA": "1"
                                },
                                {
                                    "SZOBA_ID": "168",
                                    "NAP": "7",
                                    "SZOBANKENT": "5",
                                    "NAPONTA": "29",
                                    "SZOBANKENT NAPONTA": "1"
                                },
                                {
                                    "SZOBA_ID": "168",
                                    "NAP": "8",
                                    "SZOBANKENT": "5",
                                    "NAPONTA": "36",
                                    "SZOBANKENT NAPONTA": "1"
                                },
                                {
                                    "SZOBA_ID": "168",
                                    "NAP": "16",
                                    "SZOBANKENT": "5",
                                    "NAPONTA": "53",
                                    "SZOBANKENT NAPONTA": "1"
                                },
                                {
                                    "SZOBA_ID": "168",
                                    "NAP": "17",
                                    "SZOBANKENT": "5",
                                    "NAPONTA": "40",
                                    "SZOBANKENT NAPONTA": "1"
                                },
                                {
                                    "SZOBA_ID": "169",
                                    "NAP": "1",
                                    "SZOBANKENT": "6",
                                    "NAPONTA": "48",
                                    "SZOBANKENT NAPONTA": "1"
                                },
                                {
                                    "SZOBA_ID": "169",
                                    "NAP": "9",
                                    "SZOBANKENT": "6",
                                    "NAPONTA": "39",
                                    "SZOBANKENT NAPONTA": "2"
                                },
                                {
                                    "SZOBA_ID": "169",
                                    "NAP": "9",
                                    "SZOBANKENT": "6",
                                    "NAPONTA": "39",
                                    "SZOBANKENT NAPONTA": "2"
                                },
                                {
                                    "SZOBA_ID": "169",
                                    "NAP": "10",
                                    "SZOBANKENT": "6",
                                    "NAPONTA": "37",
                                    "SZOBANKENT NAPONTA": "1"
                                },
                                {
                                    "SZOBA_ID": "169",
                                    "NAP": "20",
                                    "SZOBANKENT": "6",
                                    "NAPONTA": "32",
                                    "SZOBANKENT NAPONTA": "1"
                                },
                                {
                                    "SZOBA_ID": "169",
                                    "NAP": "21",
                                    "SZOBANKENT": "6",
                                    "NAPONTA": "24",
                                    "SZOBANKENT NAPONTA": "1"
                                },
                                {
                                    "SZOBA_ID": "170",
                                    "NAP": "4",
                                    "SZOBANKENT": "5",
                                    "NAPONTA": "29",
                                    "SZOBANKENT NAPONTA": "1"
                                },
                                {
                                    "SZOBA_ID": "170",
                                    "NAP": "9",
                                    "SZOBANKENT": "5",
                                    "NAPONTA": "39",
                                    "SZOBANKENT NAPONTA": "1"
                                },
                                {
                                    "SZOBA_ID": "170",
                                    "NAP": "10",
                                    "SZOBANKENT": "5",
                                    "NAPONTA": "37",
                                    "SZOBANKENT NAPONTA": "2"
                                },
                                {
                                    "SZOBA_ID": "170",
                                    "NAP": "10",
                                    "SZOBANKENT": "5",
                                    "NAPONTA": "37",
                                    "SZOBANKENT NAPONTA": "2"
                                },
                                {
                                    "SZOBA_ID": "170",
                                    "NAP": "26",
                                    "SZOBANKENT": "5",
                                    "NAPONTA": "31",
                                    "SZOBANKENT NAPONTA": "1"
                                },
                                {
                                    "SZOBA_ID": "171",
                                    "NAP": "10",
                                    "SZOBANKENT": "5",
                                    "NAPONTA": "37",
                                    "SZOBANKENT NAPONTA": "1"
                                },
                                {
                                    "SZOBA_ID": "171",
                                    "NAP": "23",
                                    "SZOBANKENT": "5",
                                    "NAPONTA": "44",
                                    "SZOBANKENT NAPONTA": "2"
                                },
                                {
                                    "SZOBA_ID": "171",
                                    "NAP": "23",
                                    "SZOBANKENT": "5",
                                    "NAPONTA": "44",
                                    "SZOBANKENT NAPONTA": "2"
                                },
                                {
                                    "SZOBA_ID": "171",
                                    "NAP": "24",
                                    "SZOBANKENT": "5",
                                    "NAPONTA": "39",
                                    "SZOBANKENT NAPONTA": "1"
                                },
                                {
                                    "SZOBA_ID": "171",
                                    "NAP": "29",
                                    "SZOBANKENT": "5",
                                    "NAPONTA": "31",
                                    "SZOBANKENT NAPONTA": "1"
                                },
                                {
                                    "SZOBA_ID": "172",
                                    "NAP": "2",
                                    "SZOBANKENT": "9",
                                    "NAPONTA": "21",
                                    "SZOBANKENT NAPONTA": "2"
                                },
                                {
                                    "SZOBA_ID": "172",
                                    "NAP": "2",
                                    "SZOBANKENT": "9",
                                    "NAPONTA": "21",
                                    "SZOBANKENT NAPONTA": "2"
                                },
                                {
                                    "SZOBA_ID": "172",
                                    "NAP": "3",
                                    "SZOBANKENT": "9",
                                    "NAPONTA": "39",
                                    "SZOBANKENT NAPONTA": "1"
                                },
                                {
                                    "SZOBA_ID": "172",
                                    "NAP": "5",
                                    "SZOBANKENT": "9",
                                    "NAPONTA": "36",
                                    "SZOBANKENT NAPONTA": "1"
                                },
                                {
                                    "SZOBA_ID": "172",
                                    "NAP": "9",
                                    "SZOBANKENT": "9",
                                    "NAPONTA": "39",
                                    "SZOBANKENT NAPONTA": "1"
                                },
                                {
                                    "SZOBA_ID": "172",
                                    "NAP": "20",
                                    "SZOBANKENT": "9",
                                    "NAPONTA": "32",
                                    "SZOBANKENT NAPONTA": "1"
                                },
                                {
                                    "SZOBA_ID": "172",
                                    "NAP": "24",
                                    "SZOBANKENT": "9",
                                    "NAPONTA": "39",
                                    "SZOBANKENT NAPONTA": "2"
                                },
                                {
                                    "SZOBA_ID": "172",
                                    "NAP": "24",
                                    "SZOBANKENT": "9",
                                    "NAPONTA": "39",
                                    "SZOBANKENT NAPONTA": "2"
                                },
                                {
                                    "SZOBA_ID": "172",
                                    "NAP": "29",
                                    "SZOBANKENT": "9",
                                    "NAPONTA": "31",
                                    "SZOBANKENT NAPONTA": "1"
                                },
                                {
                                    "SZOBA_ID": "173",
                                    "NAP": "6",
                                    "SZOBANKENT": "4",
                                    "NAPONTA": "42",
                                    "SZOBANKENT NAPONTA": "2"
                                },
                                {
                                    "SZOBA_ID": "173",
                                    "NAP": "6",
                                    "SZOBANKENT": "4",
                                    "NAPONTA": "42",
                                    "SZOBANKENT NAPONTA": "2"
                                },
                                {
                                    "SZOBA_ID": "173",
                                    "NAP": "9",
                                    "SZOBANKENT": "4",
                                    "NAPONTA": "39",
                                    "SZOBANKENT NAPONTA": "1"
                                },
                                {
                                    "SZOBA_ID": "173",
                                    "NAP": "14",
                                    "SZOBANKENT": "4",
                                    "NAPONTA": "26",
                                    "SZOBANKENT NAPONTA": "1"
                                },
                                {
                                    "SZOBA_ID": "174",
                                    "NAP": "6",
                                    "SZOBANKENT": "4",
                                    "NAPONTA": "42",
                                    "SZOBANKENT NAPONTA": "2"
                                },
                                {
                                    "SZOBA_ID": "174",
                                    "NAP": "6",
                                    "SZOBANKENT": "4",
                                    "NAPONTA": "42",
                                    "SZOBANKENT NAPONTA": "2"
                                },
                                {
                                    "SZOBA_ID": "174",
                                    "NAP": "12",
                                    "SZOBANKENT": "4",
                                    "NAPONTA": "32",
                                    "SZOBANKENT NAPONTA": "1"
                                },
                                {
                                    "SZOBA_ID": "174",
                                    "NAP": "18",
                                    "SZOBANKENT": "4",
                                    "NAPONTA": "29",
                                    "SZOBANKENT NAPONTA": "1"
                                },
                                {
                                    "SZOBA_ID": "175",
                                    "NAP": "8",
                                    "SZOBANKENT": "5",
                                    "NAPONTA": "36",
                                    "SZOBANKENT NAPONTA": "1"
                                },
                                {
                                    "SZOBA_ID": "175",
                                    "NAP": "19",
                                    "SZOBANKENT": "5",
                                    "NAPONTA": "31",
                                    "SZOBANKENT NAPONTA": "1"
                                },
                                {
                                    "SZOBA_ID": "175",
                                    "NAP": "28",
                                    "SZOBANKENT": "5",
                                    "NAPONTA": "40",
                                    "SZOBANKENT NAPONTA": "1"
                                },
                                {
                                    "SZOBA_ID": "175",
                                    "NAP": "30",
                                    "SZOBANKENT": "5",
                                    "NAPONTA": "47",
                                    "SZOBANKENT NAPONTA": "2"
                                },
                                {
                                    "SZOBA_ID": "175",
                                    "NAP": "30",
                                    "SZOBANKENT": "5",
                                    "NAPONTA": "47",
                                    "SZOBANKENT NAPONTA": "2"
                                },
                                {
                                    "SZOBA_ID": "176",
                                    "NAP": "8",
                                    "SZOBANKENT": "6",
                                    "NAPONTA": "36",
                                    "SZOBANKENT NAPONTA": "1"
                                },
                                {
                                    "SZOBA_ID": "176",
                                    "NAP": "9",
                                    "SZOBANKENT": "6",
                                    "NAPONTA": "39",
                                    "SZOBANKENT NAPONTA": "1"
                                },
                                {
                                    "SZOBA_ID": "176",
                                    "NAP": "13",
                                    "SZOBANKENT": "6",
                                    "NAPONTA": "29",
                                    "SZOBANKENT NAPONTA": "1"
                                },
                                {
                                    "SZOBA_ID": "176",
                                    "NAP": "21",
                                    "SZOBANKENT": "6",
                                    "NAPONTA": "24",
                                    "SZOBANKENT NAPONTA": "1"
                                },
                                {
                                    "SZOBA_ID": "176",
                                    "NAP": "22",
                                    "SZOBANKENT": "6",
                                    "NAPONTA": "35",
                                    "SZOBANKENT NAPONTA": "1"
                                },
                                {
                                    "SZOBA_ID": "176",
                                    "NAP": "24",
                                    "SZOBANKENT": "6",
                                    "NAPONTA": "39",
                                    "SZOBANKENT NAPONTA": "1"
                                },
                                {
                                    "SZOBA_ID": "177",
                                    "NAP": "5",
                                    "SZOBANKENT": "4",
                                    "NAPONTA": "36",
                                    "SZOBANKENT NAPONTA": "1"
                                },
                                {
                                    "SZOBA_ID": "177",
                                    "NAP": "16",
                                    "SZOBANKENT": "4",
                                    "NAPONTA": "53",
                                    "SZOBANKENT NAPONTA": "1"
                                },
                                {
                                    "SZOBA_ID": "177",
                                    "NAP": "21",
                                    "SZOBANKENT": "4",
                                    "NAPONTA": "24",
                                    "SZOBANKENT NAPONTA": "1"
                                },
                                {
                                    "SZOBA_ID": "177",
                                    "NAP": "28",
                                    "SZOBANKENT": "4",
                                    "NAPONTA": "40",
                                    "SZOBANKENT NAPONTA": "1"
                                },
                                {
                                    "SZOBA_ID": "178",
                                    "NAP": "3",
                                    "SZOBANKENT": "4",
                                    "NAPONTA": "39",
                                    "SZOBANKENT NAPONTA": "1"
                                },
                                {
                                    "SZOBA_ID": "178",
                                    "NAP": "24",
                                    "SZOBANKENT": "4",
                                    "NAPONTA": "39",
                                    "SZOBANKENT NAPONTA": "1"
                                },
                                {
                                    "SZOBA_ID": "178",
                                    "NAP": "28",
                                    "SZOBANKENT": "4",
                                    "NAPONTA": "40",
                                    "SZOBANKENT NAPONTA": "2"
                                },
                                {
                                    "SZOBA_ID": "178",
                                    "NAP": "28",
                                    "SZOBANKENT": "4",
                                    "NAPONTA": "40",
                                    "SZOBANKENT NAPONTA": "2"
                                },
                                {
                                    "SZOBA_ID": "179",
                                    "NAP": "4",
                                    "SZOBANKENT": "3",
                                    "NAPONTA": "29",
                                    "SZOBANKENT NAPONTA": "1"
                                },
                                {
                                    "SZOBA_ID": "179",
                                    "NAP": "9",
                                    "SZOBANKENT": "3",
                                    "NAPONTA": "39",
                                    "SZOBANKENT NAPONTA": "1"
                                },
                                {
                                    "SZOBA_ID": "179",
                                    "NAP": "21",
                                    "SZOBANKENT": "3",
                                    "NAPONTA": "24",
                                    "SZOBANKENT NAPONTA": "1"
                                },
                                {
                                    "SZOBA_ID": "180",
                                    "NAP": "4",
                                    "SZOBANKENT": "3",
                                    "NAPONTA": "29",
                                    "SZOBANKENT NAPONTA": "1"
                                },
                                {
                                    "SZOBA_ID": "180",
                                    "NAP": "22",
                                    "SZOBANKENT": "3",
                                    "NAPONTA": "35",
                                    "SZOBANKENT NAPONTA": "1"
                                },
                                {
                                    "SZOBA_ID": "180",
                                    "NAP": "23",
                                    "SZOBANKENT": "3",
                                    "NAPONTA": "44",
                                    "SZOBANKENT NAPONTA": "1"
                                },
                                {
                                    "SZOBA_ID": "181",
                                    "NAP": "5",
                                    "SZOBANKENT": "6",
                                    "NAPONTA": "36",
                                    "SZOBANKENT NAPONTA": "1"
                                },
                                {
                                    "SZOBA_ID": "181",
                                    "NAP": "8",
                                    "SZOBANKENT": "6",
                                    "NAPONTA": "36",
                                    "SZOBANKENT NAPONTA": "1"
                                },
                                {
                                    "SZOBA_ID": "181",
                                    "NAP": "10",
                                    "SZOBANKENT": "6",
                                    "NAPONTA": "37",
                                    "SZOBANKENT NAPONTA": "1"
                                },
                                {
                                    "SZOBA_ID": "181",
                                    "NAP": "13",
                                    "SZOBANKENT": "6",
                                    "NAPONTA": "29",
                                    "SZOBANKENT NAPONTA": "1"
                                },
                                {
                                    "SZOBA_ID": "181",
                                    "NAP": "16",
                                    "SZOBANKENT": "6",
                                    "NAPONTA": "53",
                                    "SZOBANKENT NAPONTA": "1"
                                },
                                {
                                    "SZOBA_ID": "181",
                                    "NAP": "28",
                                    "SZOBANKENT": "6",
                                    "NAPONTA": "40",
                                    "SZOBANKENT NAPONTA": "1"
                                },
                                {
                                    "SZOBA_ID": "182",
                                    "NAP": "1",
                                    "SZOBANKENT": "12",
                                    "NAPONTA": "48",
                                    "SZOBANKENT NAPONTA": "1"
                                },
                                {
                                    "SZOBA_ID": "182",
                                    "NAP": "4",
                                    "SZOBANKENT": "12",
                                    "NAPONTA": "29",
                                    "SZOBANKENT NAPONTA": "1"
                                },
                                {
                                    "SZOBA_ID": "182",
                                    "NAP": "6",
                                    "SZOBANKENT": "12",
                                    "NAPONTA": "42",
                                    "SZOBANKENT NAPONTA": "1"
                                },
                                {
                                    "SZOBA_ID": "182",
                                    "NAP": "7",
                                    "SZOBANKENT": "12",
                                    "NAPONTA": "29",
                                    "SZOBANKENT NAPONTA": "1"
                                },
                                {
                                    "SZOBA_ID": "182",
                                    "NAP": "10",
                                    "SZOBANKENT": "12",
                                    "NAPONTA": "37",
                                    "SZOBANKENT NAPONTA": "1"
                                },
                                {
                                    "SZOBA_ID": "182",
                                    "NAP": "23",
                                    "SZOBANKENT": "12",
                                    "NAPONTA": "44",
                                    "SZOBANKENT NAPONTA": "1"
                                },
                                {
                                    "SZOBA_ID": "182",
                                    "NAP": "24",
                                    "SZOBANKENT": "12",
                                    "NAPONTA": "39",
                                    "SZOBANKENT NAPONTA": "1"
                                },
                                {
                                    "SZOBA_ID": "182",
                                    "NAP": "25",
                                    "SZOBANKENT": "12",
                                    "NAPONTA": "29",
                                    "SZOBANKENT NAPONTA": "1"
                                },
                                {
                                    "SZOBA_ID": "182",
                                    "NAP": "28",
                                    "SZOBANKENT": "12",
                                    "NAPONTA": "40",
                                    "SZOBANKENT NAPONTA": "1"
                                },
                                {
                                    "SZOBA_ID": "182",
                                    "NAP": "30",
                                    "SZOBANKENT": "12",
                                    "NAPONTA": "47",
                                    "SZOBANKENT NAPONTA": "3"
                                },
                                {
                                    "SZOBA_ID": "182",
                                    "NAP": "30",
                                    "SZOBANKENT": "12",
                                    "NAPONTA": "47",
                                    "SZOBANKENT NAPONTA": "3"
                                },
                                {
                                    "SZOBA_ID": "182",
                                    "NAP": "30",
                                    "SZOBANKENT": "12",
                                    "NAPONTA": "47",
                                    "SZOBANKENT NAPONTA": "3"
                                },
                                {
                                    "SZOBA_ID": "183",
                                    "NAP": "9",
                                    "SZOBANKENT": "4",
                                    "NAPONTA": "39",
                                    "SZOBANKENT NAPONTA": "1"
                                },
                                {
                                    "SZOBA_ID": "183",
                                    "NAP": "10",
                                    "SZOBANKENT": "4",
                                    "NAPONTA": "37",
                                    "SZOBANKENT NAPONTA": "1"
                                },
                                {
                                    "SZOBA_ID": "183",
                                    "NAP": "13",
                                    "SZOBANKENT": "4",
                                    "NAPONTA": "29",
                                    "SZOBANKENT NAPONTA": "1"
                                },
                                {
                                    "SZOBA_ID": "183",
                                    "NAP": "19",
                                    "SZOBANKENT": "4",
                                    "NAPONTA": "31",
                                    "SZOBANKENT NAPONTA": "1"
                                },
                                {
                                    "SZOBA_ID": "184",
                                    "NAP": "5",
                                    "SZOBANKENT": "4",
                                    "NAPONTA": "36",
                                    "SZOBANKENT NAPONTA": "1"
                                },
                                {
                                    "SZOBA_ID": "184",
                                    "NAP": "18",
                                    "SZOBANKENT": "4",
                                    "NAPONTA": "29",
                                    "SZOBANKENT NAPONTA": "1"
                                },
                                {
                                    "SZOBA_ID": "184",
                                    "NAP": "28",
                                    "SZOBANKENT": "4",
                                    "NAPONTA": "40",
                                    "SZOBANKENT NAPONTA": "1"
                                },
                                {
                                    "SZOBA_ID": "184",
                                    "NAP": "30",
                                    "SZOBANKENT": "4",
                                    "NAPONTA": "47",
                                    "SZOBANKENT NAPONTA": "1"
                                },
                                {
                                    "SZOBA_ID": "185",
                                    "NAP": "3",
                                    "SZOBANKENT": "12",
                                    "NAPONTA": "39",
                                    "SZOBANKENT NAPONTA": "1"
                                },
                                {
                                    "SZOBA_ID": "185",
                                    "NAP": "6",
                                    "SZOBANKENT": "12",
                                    "NAPONTA": "42",
                                    "SZOBANKENT NAPONTA": "1"
                                },
                                {
                                    "SZOBA_ID": "185",
                                    "NAP": "7",
                                    "SZOBANKENT": "12",
                                    "NAPONTA": "29",
                                    "SZOBANKENT NAPONTA": "1"
                                },
                                {
                                    "SZOBA_ID": "185",
                                    "NAP": "13",
                                    "SZOBANKENT": "12",
                                    "NAPONTA": "29",
                                    "SZOBANKENT NAPONTA": "1"
                                },
                                {
                                    "SZOBA_ID": "185",
                                    "NAP": "14",
                                    "SZOBANKENT": "12",
                                    "NAPONTA": "26",
                                    "SZOBANKENT NAPONTA": "1"
                                },
                                {
                                    "SZOBA_ID": "185",
                                    "NAP": "16",
                                    "SZOBANKENT": "12",
                                    "NAPONTA": "53",
                                    "SZOBANKENT NAPONTA": "1"
                                },
                                {
                                    "SZOBA_ID": "185",
                                    "NAP": "17",
                                    "SZOBANKENT": "12",
                                    "NAPONTA": "40",
                                    "SZOBANKENT NAPONTA": "1"
                                },
                                {
                                    "SZOBA_ID": "185",
                                    "NAP": "20",
                                    "SZOBANKENT": "12",
                                    "NAPONTA": "32",
                                    "SZOBANKENT NAPONTA": "1"
                                },
                                {
                                    "SZOBA_ID": "185",
                                    "NAP": "22",
                                    "SZOBANKENT": "12",
                                    "NAPONTA": "35",
                                    "SZOBANKENT NAPONTA": "1"
                                },
                                {
                                    "SZOBA_ID": "185",
                                    "NAP": "23",
                                    "SZOBANKENT": "12",
                                    "NAPONTA": "44",
                                    "SZOBANKENT NAPONTA": "1"
                                },
                                {
                                    "SZOBA_ID": "185",
                                    "NAP": "24",
                                    "SZOBANKENT": "12",
                                    "NAPONTA": "39",
                                    "SZOBANKENT NAPONTA": "1"
                                },
                                {
                                    "SZOBA_ID": "185",
                                    "NAP": "28",
                                    "SZOBANKENT": "12",
                                    "NAPONTA": "40",
                                    "SZOBANKENT NAPONTA": "1"
                                },
                                {
                                    "SZOBA_ID": "186",
                                    "NAP": "1",
                                    "SZOBANKENT": "4",
                                    "NAPONTA": "48",
                                    "SZOBANKENT NAPONTA": "1"
                                },
                                {
                                    "SZOBA_ID": "186",
                                    "NAP": "5",
                                    "SZOBANKENT": "4",
                                    "NAPONTA": "36",
                                    "SZOBANKENT NAPONTA": "1"
                                },
                                {
                                    "SZOBA_ID": "186",
                                    "NAP": "15",
                                    "SZOBANKENT": "4",
                                    "NAPONTA": "25",
                                    "SZOBANKENT NAPONTA": "1"
                                },
                                {
                                    "SZOBA_ID": "186",
                                    "NAP": "22",
                                    "SZOBANKENT": "4",
                                    "NAPONTA": "35",
                                    "SZOBANKENT NAPONTA": "1"
                                },
                                {
                                    "SZOBA_ID": "187",
                                    "NAP": "9",
                                    "SZOBANKENT": "7",
                                    "NAPONTA": "39",
                                    "SZOBANKENT NAPONTA": "1"
                                },
                                {
                                    "SZOBA_ID": "187",
                                    "NAP": "10",
                                    "SZOBANKENT": "7",
                                    "NAPONTA": "37",
                                    "SZOBANKENT NAPONTA": "1"
                                },
                                {
                                    "SZOBA_ID": "187",
                                    "NAP": "13",
                                    "SZOBANKENT": "7",
                                    "NAPONTA": "29",
                                    "SZOBANKENT NAPONTA": "1"
                                },
                                {
                                    "SZOBA_ID": "187",
                                    "NAP": "20",
                                    "SZOBANKENT": "7",
                                    "NAPONTA": "32",
                                    "SZOBANKENT NAPONTA": "1"
                                },
                                {
                                    "SZOBA_ID": "187",
                                    "NAP": "28",
                                    "SZOBANKENT": "7",
                                    "NAPONTA": "40",
                                    "SZOBANKENT NAPONTA": "1"
                                },
                                {
                                    "SZOBA_ID": "187",
                                    "NAP": "29",
                                    "SZOBANKENT": "7",
                                    "NAPONTA": "31",
                                    "SZOBANKENT NAPONTA": "1"
                                },
                                {
                                    "SZOBA_ID": "187",
                                    "NAP": "31",
                                    "SZOBANKENT": "7",
                                    "NAPONTA": "8",
                                    "SZOBANKENT NAPONTA": "1"
                                },
                                {
                                    "SZOBA_ID": "188",
                                    "NAP": "1",
                                    "SZOBANKENT": "6",
                                    "NAPONTA": "48",
                                    "SZOBANKENT NAPONTA": "1"
                                },
                                {
                                    "SZOBA_ID": "188",
                                    "NAP": "5",
                                    "SZOBANKENT": "6",
                                    "NAPONTA": "36",
                                    "SZOBANKENT NAPONTA": "1"
                                },
                                {
                                    "SZOBA_ID": "188",
                                    "NAP": "6",
                                    "SZOBANKENT": "6",
                                    "NAPONTA": "42",
                                    "SZOBANKENT NAPONTA": "1"
                                },
                                {
                                    "SZOBA_ID": "188",
                                    "NAP": "19",
                                    "SZOBANKENT": "6",
                                    "NAPONTA": "31",
                                    "SZOBANKENT NAPONTA": "1"
                                },
                                {
                                    "SZOBA_ID": "188",
                                    "NAP": "24",
                                    "SZOBANKENT": "6",
                                    "NAPONTA": "39",
                                    "SZOBANKENT NAPONTA": "1"
                                },
                                {
                                    "SZOBA_ID": "188",
                                    "NAP": "25",
                                    "SZOBANKENT": "6",
                                    "NAPONTA": "29",
                                    "SZOBANKENT NAPONTA": "1"
                                },
                                {
                                    "SZOBA_ID": "189",
                                    "NAP": "3",
                                    "SZOBANKENT": "5",
                                    "NAPONTA": "39",
                                    "SZOBANKENT NAPONTA": "1"
                                },
                                {
                                    "SZOBA_ID": "189",
                                    "NAP": "17",
                                    "SZOBANKENT": "5",
                                    "NAPONTA": "40",
                                    "SZOBANKENT NAPONTA": "1"
                                },
                                {
                                    "SZOBA_ID": "189",
                                    "NAP": "20",
                                    "SZOBANKENT": "5",
                                    "NAPONTA": "32",
                                    "SZOBANKENT NAPONTA": "1"
                                },
                                {
                                    "SZOBA_ID": "189",
                                    "NAP": "26",
                                    "SZOBANKENT": "5",
                                    "NAPONTA": "31",
                                    "SZOBANKENT NAPONTA": "1"
                                },
                                {
                                    "SZOBA_ID": "189",
                                    "NAP": "27",
                                    "SZOBANKENT": "5",
                                    "NAPONTA": "33",
                                    "SZOBANKENT NAPONTA": "1"
                                },
                                {
                                    "SZOBA_ID": "190",
                                    "NAP": "8",
                                    "SZOBANKENT": "5",
                                    "NAPONTA": "36",
                                    "SZOBANKENT NAPONTA": "1"
                                },
                                {
                                    "SZOBA_ID": "190",
                                    "NAP": "11",
                                    "SZOBANKENT": "5",
                                    "NAPONTA": "13",
                                    "SZOBANKENT NAPONTA": "1"
                                },
                                {
                                    "SZOBA_ID": "190",
                                    "NAP": "13",
                                    "SZOBANKENT": "5",
                                    "NAPONTA": "29",
                                    "SZOBANKENT NAPONTA": "1"
                                },
                                {
                                    "SZOBA_ID": "190",
                                    "NAP": "24",
                                    "SZOBANKENT": "5",
                                    "NAPONTA": "39",
                                    "SZOBANKENT NAPONTA": "1"
                                },
                                {
                                    "SZOBA_ID": "190",
                                    "NAP": "27",
                                    "SZOBANKENT": "5",
                                    "NAPONTA": "33",
                                    "SZOBANKENT NAPONTA": "1"
                                },
                                {
                                    "SZOBA_ID": "191",
                                    "NAP": "5",
                                    "SZOBANKENT": "5",
                                    "NAPONTA": "36",
                                    "SZOBANKENT NAPONTA": "1"
                                },
                                {
                                    "SZOBA_ID": "191",
                                    "NAP": "8",
                                    "SZOBANKENT": "5",
                                    "NAPONTA": "36",
                                    "SZOBANKENT NAPONTA": "1"
                                },
                                {
                                    "SZOBA_ID": "191",
                                    "NAP": "9",
                                    "SZOBANKENT": "5",
                                    "NAPONTA": "39",
                                    "SZOBANKENT NAPONTA": "1"
                                },
                                {
                                    "SZOBA_ID": "191",
                                    "NAP": "22",
                                    "SZOBANKENT": "5",
                                    "NAPONTA": "35",
                                    "SZOBANKENT NAPONTA": "1"
                                },
                                {
                                    "SZOBA_ID": "191",
                                    "NAP": "27",
                                    "SZOBANKENT": "5",
                                    "NAPONTA": "33",
                                    "SZOBANKENT NAPONTA": "1"
                                },
                                {
                                    "SZOBA_ID": "192",
                                    "NAP": "4",
                                    "SZOBANKENT": "2",
                                    "NAPONTA": "29",
                                    "SZOBANKENT NAPONTA": "1"
                                },
                                {
                                    "SZOBA_ID": "192",
                                    "NAP": "17",
                                    "SZOBANKENT": "2",
                                    "NAPONTA": "40",
                                    "SZOBANKENT NAPONTA": "1"
                                },
                                {
                                    "SZOBA_ID": "193",
                                    "NAP": "3",
                                    "SZOBANKENT": "7",
                                    "NAPONTA": "39",
                                    "SZOBANKENT NAPONTA": "1"
                                },
                                {
                                    "SZOBA_ID": "193",
                                    "NAP": "7",
                                    "SZOBANKENT": "7",
                                    "NAPONTA": "29",
                                    "SZOBANKENT NAPONTA": "1"
                                },
                                {
                                    "SZOBA_ID": "193",
                                    "NAP": "9",
                                    "SZOBANKENT": "7",
                                    "NAPONTA": "39",
                                    "SZOBANKENT NAPONTA": "1"
                                },
                                {
                                    "SZOBA_ID": "193",
                                    "NAP": "11",
                                    "SZOBANKENT": "7",
                                    "NAPONTA": "13",
                                    "SZOBANKENT NAPONTA": "1"
                                },
                                {
                                    "SZOBA_ID": "193",
                                    "NAP": "15",
                                    "SZOBANKENT": "7",
                                    "NAPONTA": "25",
                                    "SZOBANKENT NAPONTA": "1"
                                },
                                {
                                    "SZOBA_ID": "193",
                                    "NAP": "22",
                                    "SZOBANKENT": "7",
                                    "NAPONTA": "35",
                                    "SZOBANKENT NAPONTA": "1"
                                },
                                {
                                    "SZOBA_ID": "193",
                                    "NAP": "29",
                                    "SZOBANKENT": "7",
                                    "NAPONTA": "31",
                                    "SZOBANKENT NAPONTA": "1"
                                },
                                {
                                    "SZOBA_ID": "194",
                                    "NAP": "30",
                                    "SZOBANKENT": "1",
                                    "NAPONTA": "47",
                                    "SZOBANKENT NAPONTA": "1"
                                },
                                {
                                    "SZOBA_ID": "195",
                                    "NAP": "22",
                                    "SZOBANKENT": "6",
                                    "NAPONTA": "35",
                                    "SZOBANKENT NAPONTA": "1"
                                },
                                {
                                    "SZOBA_ID": "195",
                                    "NAP": "23",
                                    "SZOBANKENT": "6",
                                    "NAPONTA": "44",
                                    "SZOBANKENT NAPONTA": "1"
                                },
                                {
                                    "SZOBA_ID": "195",
                                    "NAP": "24",
                                    "SZOBANKENT": "6",
                                    "NAPONTA": "39",
                                    "SZOBANKENT NAPONTA": "1"
                                },
                                {
                                    "SZOBA_ID": "195",
                                    "NAP": "27",
                                    "SZOBANKENT": "6",
                                    "NAPONTA": "33",
                                    "SZOBANKENT NAPONTA": "1"
                                },
                                {
                                    "SZOBA_ID": "195",
                                    "NAP": "30",
                                    "SZOBANKENT": "6",
                                    "NAPONTA": "47",
                                    "SZOBANKENT NAPONTA": "1"
                                },
                                {
                                    "SZOBA_ID": "195",
                                    "NAP": "31",
                                    "SZOBANKENT": "6",
                                    "NAPONTA": "8",
                                    "SZOBANKENT NAPONTA": "1"
                                },
                                {
                                    "SZOBA_ID": "196",
                                    "NAP": "4",
                                    "SZOBANKENT": "4",
                                    "NAPONTA": "29",
                                    "SZOBANKENT NAPONTA": "1"
                                },
                                {
                                    "SZOBA_ID": "196",
                                    "NAP": "11",
                                    "SZOBANKENT": "4",
                                    "NAPONTA": "13",
                                    "SZOBANKENT NAPONTA": "1"
                                },
                                {
                                    "SZOBA_ID": "196",
                                    "NAP": "14",
                                    "SZOBANKENT": "4",
                                    "NAPONTA": "26",
                                    "SZOBANKENT NAPONTA": "1"
                                },
                                {
                                    "SZOBA_ID": "196",
                                    "NAP": "23",
                                    "SZOBANKENT": "4",
                                    "NAPONTA": "44",
                                    "SZOBANKENT NAPONTA": "1"
                                },
                                {
                                    "SZOBA_ID": "197",
                                    "NAP": "9",
                                    "SZOBANKENT": "6",
                                    "NAPONTA": "39",
                                    "SZOBANKENT NAPONTA": "1"
                                },
                                {
                                    "SZOBA_ID": "197",
                                    "NAP": "20",
                                    "SZOBANKENT": "6",
                                    "NAPONTA": "32",
                                    "SZOBANKENT NAPONTA": "1"
                                },
                                {
                                    "SZOBA_ID": "197",
                                    "NAP": "22",
                                    "SZOBANKENT": "6",
                                    "NAPONTA": "35",
                                    "SZOBANKENT NAPONTA": "1"
                                },
                                {
                                    "SZOBA_ID": "197",
                                    "NAP": "24",
                                    "SZOBANKENT": "6",
                                    "NAPONTA": "39",
                                    "SZOBANKENT NAPONTA": "1"
                                },
                                {
                                    "SZOBA_ID": "197",
                                    "NAP": "30",
                                    "SZOBANKENT": "6",
                                    "NAPONTA": "47",
                                    "SZOBANKENT NAPONTA": "2"
                                },
                                {
                                    "SZOBA_ID": "197",
                                    "NAP": "30",
                                    "SZOBANKENT": "6",
                                    "NAPONTA": "47",
                                    "SZOBANKENT NAPONTA": "2"
                                },
                                {
                                    "SZOBA_ID": "198",
                                    "NAP": "3",
                                    "SZOBANKENT": "8",
                                    "NAPONTA": "39",
                                    "SZOBANKENT NAPONTA": "1"
                                },
                                {
                                    "SZOBA_ID": "198",
                                    "NAP": "4",
                                    "SZOBANKENT": "8",
                                    "NAPONTA": "29",
                                    "SZOBANKENT NAPONTA": "1"
                                },
                                {
                                    "SZOBA_ID": "198",
                                    "NAP": "5",
                                    "SZOBANKENT": "8",
                                    "NAPONTA": "36",
                                    "SZOBANKENT NAPONTA": "1"
                                },
                                {
                                    "SZOBA_ID": "198",
                                    "NAP": "9",
                                    "SZOBANKENT": "8",
                                    "NAPONTA": "39",
                                    "SZOBANKENT NAPONTA": "1"
                                },
                                {
                                    "SZOBA_ID": "198",
                                    "NAP": "17",
                                    "SZOBANKENT": "8",
                                    "NAPONTA": "40",
                                    "SZOBANKENT NAPONTA": "1"
                                },
                                {
                                    "SZOBA_ID": "198",
                                    "NAP": "18",
                                    "SZOBANKENT": "8",
                                    "NAPONTA": "29",
                                    "SZOBANKENT NAPONTA": "1"
                                },
                                {
                                    "SZOBA_ID": "198",
                                    "NAP": "22",
                                    "SZOBANKENT": "8",
                                    "NAPONTA": "35",
                                    "SZOBANKENT NAPONTA": "1"
                                },
                                {
                                    "SZOBA_ID": "198",
                                    "NAP": "29",
                                    "SZOBANKENT": "8",
                                    "NAPONTA": "31",
                                    "SZOBANKENT NAPONTA": "1"
                                }
                            ]
                        },
                        "text/html": [
                            "<table>",
                            "<tr><th>SZOBA_ID</th><th>NAP</th><th>SZOBANKENT</th><th>NAPONTA</th><th>SZOBANKENT NAPONTA</th></tr>",
                            "<tr><td>1</td><td>1</td><td>8</td><td>48</td><td>1</td></tr>",
                            "<tr><td>1</td><td>5</td><td>8</td><td>36</td><td>1</td></tr>",
                            "<tr><td>1</td><td>9</td><td>8</td><td>39</td><td>1</td></tr>",
                            "<tr><td>1</td><td>10</td><td>8</td><td>37</td><td>1</td></tr>",
                            "<tr><td>1</td><td>11</td><td>8</td><td>13</td><td>1</td></tr>",
                            "<tr><td>1</td><td>15</td><td>8</td><td>25</td><td>1</td></tr>",
                            "<tr><td>1</td><td>20</td><td>8</td><td>32</td><td>1</td></tr>",
                            "<tr><td>1</td><td>30</td><td>8</td><td>47</td><td>1</td></tr>",
                            "<tr><td>2</td><td>14</td><td>4</td><td>26</td><td>1</td></tr>",
                            "<tr><td>2</td><td>19</td><td>4</td><td>31</td><td>1</td></tr>",
                            "<tr><td>2</td><td>23</td><td>4</td><td>44</td><td>1</td></tr>",
                            "<tr><td>2</td><td>27</td><td>4</td><td>33</td><td>1</td></tr>",
                            "<tr><td>3</td><td>1</td><td>8</td><td>48</td><td>1</td></tr>",
                            "<tr><td>3</td><td>8</td><td>8</td><td>36</td><td>1</td></tr>",
                            "<tr><td>3</td><td>9</td><td>8</td><td>39</td><td>1</td></tr>",
                            "<tr><td>3</td><td>12</td><td>8</td><td>32</td><td>1</td></tr>",
                            "<tr><td>3</td><td>13</td><td>8</td><td>29</td><td>1</td></tr>",
                            "<tr><td>3</td><td>14</td><td>8</td><td>26</td><td>1</td></tr>",
                            "<tr><td>3</td><td>16</td><td>8</td><td>53</td><td>2</td></tr>",
                            "<tr><td>3</td><td>16</td><td>8</td><td>53</td><td>2</td></tr>",
                            "<tr><td>4</td><td>2</td><td>6</td><td>21</td><td>1</td></tr>",
                            "<tr><td>4</td><td>3</td><td>6</td><td>39</td><td>1</td></tr>",
                            "<tr><td>4</td><td>7</td><td>6</td><td>29</td><td>1</td></tr>",
                            "<tr><td>4</td><td>8</td><td>6</td><td>36</td><td>1</td></tr>",
                            "<tr><td>4</td><td>10</td><td>6</td><td>37</td><td>1</td></tr>",
                            "<tr><td>4</td><td>17</td><td>6</td><td>40</td><td>1</td></tr>",
                            "<tr><td>5</td><td>7</td><td>4</td><td>29</td><td>1</td></tr>",
                            "<tr><td>5</td><td>8</td><td>4</td><td>36</td><td>1</td></tr>",
                            "<tr><td>5</td><td>16</td><td>4</td><td>53</td><td>1</td></tr>",
                            "<tr><td>5</td><td>21</td><td>4</td><td>24</td><td>1</td></tr>",
                            "<tr><td>6</td><td>1</td><td>6</td><td>48</td><td>1</td></tr>",
                            "<tr><td>6</td><td>5</td><td>6</td><td>36</td><td>1</td></tr>",
                            "<tr><td>6</td><td>6</td><td>6</td><td>42</td><td>1</td></tr>",
                            "<tr><td>6</td><td>12</td><td>6</td><td>32</td><td>1</td></tr>",
                            "<tr><td>6</td><td>27</td><td>6</td><td>33</td><td>1</td></tr>",
                            "<tr><td>6</td><td>29</td><td>6</td><td>31</td><td>1</td></tr>",
                            "<tr><td>7</td><td>5</td><td>6</td><td>36</td><td>1</td></tr>",
                            "<tr><td>7</td><td>6</td><td>6</td><td>42</td><td>2</td></tr>",
                            "<tr><td>7</td><td>6</td><td>6</td><td>42</td><td>2</td></tr>",
                            "<tr><td>7</td><td>8</td><td>6</td><td>36</td><td>1</td></tr>",
                            "<tr><td>7</td><td>21</td><td>6</td><td>24</td><td>1</td></tr>",
                            "<tr><td>7</td><td>23</td><td>6</td><td>44</td><td>1</td></tr>",
                            "<tr><td>8</td><td>10</td><td>5</td><td>37</td><td>1</td></tr>",
                            "<tr><td>8</td><td>20</td><td>5</td><td>32</td><td>1</td></tr>",
                            "<tr><td>8</td><td>24</td><td>5</td><td>39</td><td>1</td></tr>",
                            "<tr><td>8</td><td>28</td><td>5</td><td>40</td><td>1</td></tr>",
                            "<tr><td>8</td><td>30</td><td>5</td><td>47</td><td>1</td></tr>",
                            "<tr><td>9</td><td>6</td><td>6</td><td>42</td><td>1</td></tr>",
                            "<tr><td>9</td><td>7</td><td>6</td><td>29</td><td>1</td></tr>",
                            "<tr><td>9</td><td>15</td><td>6</td><td>25</td><td>1</td></tr>",
                            "<tr><td>9</td><td>16</td><td>6</td><td>53</td><td>1</td></tr>",
                            "<tr><td>9</td><td>29</td><td>6</td><td>31</td><td>1</td></tr>",
                            "<tr><td>9</td><td>30</td><td>6</td><td>47</td><td>1</td></tr>",
                            "<tr><td>10</td><td>10</td><td>4</td><td>37</td><td>1</td></tr>",
                            "<tr><td>10</td><td>16</td><td>4</td><td>53</td><td>1</td></tr>",
                            "<tr><td>10</td><td>17</td><td>4</td><td>40</td><td>1</td></tr>",
                            "<tr><td>10</td><td>25</td><td>4</td><td>29</td><td>1</td></tr>",
                            "<tr><td>11</td><td>1</td><td>4</td><td>48</td><td>1</td></tr>",
                            "<tr><td>11</td><td>5</td><td>4</td><td>36</td><td>1</td></tr>",
                            "<tr><td>11</td><td>6</td><td>4</td><td>42</td><td>1</td></tr>",
                            "<tr><td>11</td><td>12</td><td>4</td><td>32</td><td>1</td></tr>",
                            "<tr><td>12</td><td>9</td><td>9</td><td>39</td><td>3</td></tr>",
                            "<tr><td>12</td><td>9</td><td>9</td><td>39</td><td>3</td></tr>",
                            "<tr><td>12</td><td>9</td><td>9</td><td>39</td><td>3</td></tr>",
                            "<tr><td>12</td><td>11</td><td>9</td><td>13</td><td>1</td></tr>",
                            "<tr><td>12</td><td>13</td><td>9</td><td>29</td><td>1</td></tr>",
                            "<tr><td>12</td><td>17</td><td>9</td><td>40</td><td>1</td></tr>",
                            "<tr><td>12</td><td>18</td><td>9</td><td>29</td><td>1</td></tr>",
                            "<tr><td>12</td><td>20</td><td>9</td><td>32</td><td>1</td></tr>",
                            "<tr><td>12</td><td>30</td><td>9</td><td>47</td><td>1</td></tr>",
                            "<tr><td>13</td><td>6</td><td>4</td><td>42</td><td>1</td></tr>",
                            "<tr><td>13</td><td>8</td><td>4</td><td>36</td><td>1</td></tr>",
                            "<tr><td>13</td><td>12</td><td>4</td><td>32</td><td>1</td></tr>",
                            "<tr><td>13</td><td>23</td><td>4</td><td>44</td><td>1</td></tr>",
                            "<tr><td>14</td><td>16</td><td>3</td><td>53</td><td>1</td></tr>",
                            "<tr><td>14</td><td>22</td><td>3</td><td>35</td><td>1</td></tr>",
                            "<tr><td>14</td><td>24</td><td>3</td><td>39</td><td>1</td></tr>",
                            "<tr><td>15</td><td>3</td><td>6</td><td>39</td><td>1</td></tr>",
                            "<tr><td>15</td><td>4</td><td>6</td><td>29</td><td>1</td></tr>",
                            "<tr><td>15</td><td>8</td><td>6</td><td>36</td><td>1</td></tr>",
                            "<tr><td>15</td><td>13</td><td>6</td><td>29</td><td>1</td></tr>",
                            "<tr><td>15</td><td>16</td><td>6</td><td>53</td><td>2</td></tr>",
                            "<tr><td>15</td><td>16</td><td>6</td><td>53</td><td>2</td></tr>",
                            "<tr><td>16</td><td>3</td><td>5</td><td>39</td><td>1</td></tr>",
                            "<tr><td>16</td><td>4</td><td>5</td><td>29</td><td>1</td></tr>",
                            "<tr><td>16</td><td>18</td><td>5</td><td>29</td><td>1</td></tr>",
                            "<tr><td>16</td><td>20</td><td>5</td><td>32</td><td>1</td></tr>",
                            "<tr><td>16</td><td>24</td><td>5</td><td>39</td><td>1</td></tr>",
                            "<tr><td>17</td><td>1</td><td>6</td><td>48</td><td>1</td></tr>",
                            "<tr><td>17</td><td>6</td><td>6</td><td>42</td><td>1</td></tr>",
                            "<tr><td>17</td><td>18</td><td>6</td><td>29</td><td>1</td></tr>",
                            "<tr><td>17</td><td>24</td><td>6</td><td>39</td><td>1</td></tr>",
                            "<tr><td>17</td><td>25</td><td>6</td><td>29</td><td>1</td></tr>",
                            "<tr><td>17</td><td>26</td><td>6</td><td>31</td><td>1</td></tr>",
                            "<tr><td>18</td><td>6</td><td>6</td><td>42</td><td>1</td></tr>",
                            "<tr><td>18</td><td>7</td><td>6</td><td>29</td><td>1</td></tr>",
                            "<tr><td>18</td><td>8</td><td>6</td><td>36</td><td>1</td></tr>",
                            "<tr><td>18</td><td>11</td><td>6</td><td>13</td><td>1</td></tr>",
                            "<tr><td>18</td><td>21</td><td>6</td><td>24</td><td>1</td></tr>",
                            "<tr><td>18</td><td>26</td><td>6</td><td>31</td><td>1</td></tr>",
                            "<tr><td>19</td><td>2</td><td>6</td><td>21</td><td>1</td></tr>",
                            "<tr><td>19</td><td>9</td><td>6</td><td>39</td><td>1</td></tr>",
                            "<tr><td>19</td><td>10</td><td>6</td><td>37</td><td>1</td></tr>",
                            "<tr><td>19</td><td>14</td><td>6</td><td>26</td><td>2</td></tr>",
                            "<tr><td>19</td><td>14</td><td>6</td><td>26</td><td>2</td></tr>",
                            "<tr><td>19</td><td>20</td><td>6</td><td>32</td><td>1</td></tr>",
                            "<tr><td>20</td><td>1</td><td>5</td><td>48</td><td>2</td></tr>",
                            "<tr><td>20</td><td>1</td><td>5</td><td>48</td><td>2</td></tr>",
                            "<tr><td>20</td><td>4</td><td>5</td><td>29</td><td>1</td></tr>",
                            "<tr><td>20</td><td>19</td><td>5</td><td>31</td><td>1</td></tr>",
                            "<tr><td>20</td><td>24</td><td>5</td><td>39</td><td>1</td></tr>",
                            "<tr><td>21</td><td>9</td><td>4</td><td>39</td><td>1</td></tr>",
                            "<tr><td>21</td><td>21</td><td>4</td><td>24</td><td>2</td></tr>",
                            "<tr><td>21</td><td>21</td><td>4</td><td>24</td><td>2</td></tr>",
                            "<tr><td>21</td><td>28</td><td>4</td><td>40</td><td>1</td></tr>",
                            "<tr><td>22</td><td>3</td><td>6</td><td>39</td><td>1</td></tr>",
                            "<tr><td>22</td><td>4</td><td>6</td><td>29</td><td>1</td></tr>",
                            "<tr><td>22</td><td>8</td><td>6</td><td>36</td><td>1</td></tr>",
                            "<tr><td>22</td><td>17</td><td>6</td><td>40</td><td>1</td></tr>",
                            "<tr><td>22</td><td>26</td><td>6</td><td>31</td><td>1</td></tr>",
                            "<tr><td>22</td><td>27</td><td>6</td><td>33</td><td>1</td></tr>",
                            "<tr><td>23</td><td>4</td><td>3</td><td>29</td><td>1</td></tr>",
                            "<tr><td>23</td><td>8</td><td>3</td><td>36</td><td>1</td></tr>",
                            "<tr><td>23</td><td>10</td><td>3</td><td>37</td><td>1</td></tr>",
                            "<tr><td>24</td><td>3</td><td>3</td><td>39</td><td>1</td></tr>",
                            "<tr><td>24</td><td>19</td><td>3</td><td>31</td><td>1</td></tr>",
                            "<tr><td>24</td><td>23</td><td>3</td><td>44</td><td>1</td></tr>",
                            "<tr><td>25</td><td>14</td><td>2</td><td>26</td><td>2</td></tr>",
                            "<tr><td>25</td><td>14</td><td>2</td><td>26</td><td>2</td></tr>",
                            "<tr><td>26</td><td>16</td><td>2</td><td>53</td><td>1</td></tr>",
                            "<tr><td>26</td><td>24</td><td>2</td><td>39</td><td>1</td></tr>",
                            "<tr><td>27</td><td>5</td><td>7</td><td>36</td><td>2</td></tr>",
                            "<tr><td>27</td><td>5</td><td>7</td><td>36</td><td>2</td></tr>",
                            "<tr><td>27</td><td>11</td><td>7</td><td>13</td><td>1</td></tr>",
                            "<tr><td>27</td><td>18</td><td>7</td><td>29</td><td>1</td></tr>",
                            "<tr><td>27</td><td>22</td><td>7</td><td>35</td><td>1</td></tr>",
                            "<tr><td>27</td><td>26</td><td>7</td><td>31</td><td>1</td></tr>",
                            "<tr><td>27</td><td>27</td><td>7</td><td>33</td><td>1</td></tr>",
                            "<tr><td>28</td><td>1</td><td>6</td><td>48</td><td>1</td></tr>",
                            "<tr><td>28</td><td>4</td><td>6</td><td>29</td><td>1</td></tr>",
                            "<tr><td>28</td><td>13</td><td>6</td><td>29</td><td>1</td></tr>",
                            "<tr><td>28</td><td>20</td><td>6</td><td>32</td><td>1</td></tr>",
                            "<tr><td>28</td><td>27</td><td>6</td><td>33</td><td>1</td></tr>",
                            "<tr><td>28</td><td>29</td><td>6</td><td>31</td><td>1</td></tr>",
                            "<tr><td>29</td><td>1</td><td>6</td><td>48</td><td>2</td></tr>",
                            "<tr><td>29</td><td>1</td><td>6</td><td>48</td><td>2</td></tr>",
                            "<tr><td>29</td><td>3</td><td>6</td><td>39</td><td>1</td></tr>",
                            "<tr><td>29</td><td>23</td><td>6</td><td>44</td><td>2</td></tr>",
                            "<tr><td>29</td><td>23</td><td>6</td><td>44</td><td>2</td></tr>",
                            "<tr><td>29</td><td>24</td><td>6</td><td>39</td><td>1</td></tr>",
                            "<tr><td>30</td><td>9</td><td>3</td><td>39</td><td>1</td></tr>",
                            "<tr><td>30</td><td>10</td><td>3</td><td>37</td><td>1</td></tr>",
                            "<tr><td>30</td><td>27</td><td>3</td><td>33</td><td>1</td></tr>",
                            "<tr><td>31</td><td>24</td><td>3</td><td>39</td><td>1</td></tr>",
                            "<tr><td>31</td><td>27</td><td>3</td><td>33</td><td>2</td></tr>",
                            "<tr><td>31</td><td>27</td><td>3</td><td>33</td><td>2</td></tr>",
                            "<tr><td>32</td><td>6</td><td>1</td><td>42</td><td>1</td></tr>",
                            "<tr><td>33</td><td>5</td><td>6</td><td>36</td><td>2</td></tr>",
                            "<tr><td>33</td><td>5</td><td>6</td><td>36</td><td>2</td></tr>",
                            "<tr><td>33</td><td>8</td><td>6</td><td>36</td><td>1</td></tr>",
                            "<tr><td>33</td><td>15</td><td>6</td><td>25</td><td>1</td></tr>",
                            "<tr><td>33</td><td>21</td><td>6</td><td>24</td><td>1</td></tr>",
                            "<tr><td>33</td><td>25</td><td>6</td><td>29</td><td>1</td></tr>",
                            "<tr><td>34</td><td>4</td><td>4</td><td>29</td><td>1</td></tr>",
                            "<tr><td>34</td><td>14</td><td>4</td><td>26</td><td>1</td></tr>",
                            "<tr><td>34</td><td>24</td><td>4</td><td>39</td><td>1</td></tr>",
                            "<tr><td>34</td><td>28</td><td>4</td><td>40</td><td>1</td></tr>",
                            "<tr><td>35</td><td>1</td><td>9</td><td>48</td><td>1</td></tr>",
                            "<tr><td>35</td><td>13</td><td>9</td><td>29</td><td>2</td></tr>",
                            "<tr><td>35</td><td>13</td><td>9</td><td>29</td><td>2</td></tr>",
                            "<tr><td>35</td><td>18</td><td>9</td><td>29</td><td>2</td></tr>",
                            "<tr><td>35</td><td>18</td><td>9</td><td>29</td><td>2</td></tr>",
                            "<tr><td>35</td><td>22</td><td>9</td><td>35</td><td>1</td></tr>",
                            "<tr><td>35</td><td>23</td><td>9</td><td>44</td><td>1</td></tr>",
                            "<tr><td>35</td><td>28</td><td>9</td><td>40</td><td>1</td></tr>",
                            "<tr><td>35</td><td>29</td><td>9</td><td>31</td><td>1</td></tr>",
                            "<tr><td>36</td><td>2</td><td>6</td><td>21</td><td>1</td></tr>",
                            "<tr><td>36</td><td>3</td><td>6</td><td>39</td><td>3</td></tr>",
                            "<tr><td>36</td><td>3</td><td>6</td><td>39</td><td>3</td></tr>",
                            "<tr><td>36</td><td>3</td><td>6</td><td>39</td><td>3</td></tr>",
                            "<tr><td>36</td><td>6</td><td>6</td><td>42</td><td>1</td></tr>",
                            "<tr><td>36</td><td>24</td><td>6</td><td>39</td><td>1</td></tr>",
                            "<tr><td>37</td><td>1</td><td>3</td><td>48</td><td>1</td></tr>",
                            "<tr><td>37</td><td>19</td><td>3</td><td>31</td><td>1</td></tr>",
                            "<tr><td>37</td><td>22</td><td>3</td><td>35</td><td>1</td></tr>",
                            "<tr><td>38</td><td>3</td><td>8</td><td>39</td><td>1</td></tr>",
                            "<tr><td>38</td><td>5</td><td>8</td><td>36</td><td>1</td></tr>",
                            "<tr><td>38</td><td>6</td><td>8</td><td>42</td><td>1</td></tr>",
                            "<tr><td>38</td><td>8</td><td>8</td><td>36</td><td>1</td></tr>",
                            "<tr><td>38</td><td>17</td><td>8</td><td>40</td><td>1</td></tr>",
                            "<tr><td>38</td><td>21</td><td>8</td><td>24</td><td>1</td></tr>",
                            "<tr><td>38</td><td>23</td><td>8</td><td>44</td><td>1</td></tr>",
                            "<tr><td>38</td><td>28</td><td>8</td><td>40</td><td>1</td></tr>",
                            "<tr><td>39</td><td>3</td><td>7</td><td>39</td><td>1</td></tr>",
                            "<tr><td>39</td><td>12</td><td>7</td><td>32</td><td>1</td></tr>",
                            "<tr><td>39</td><td>16</td><td>7</td><td>53</td><td>1</td></tr>",
                            "<tr><td>39</td><td>18</td><td>7</td><td>29</td><td>1</td></tr>",
                            "<tr><td>39</td><td>20</td><td>7</td><td>32</td><td>1</td></tr>",
                            "<tr><td>39</td><td>25</td><td>7</td><td>29</td><td>1</td></tr>",
                            "<tr><td>39</td><td>29</td><td>7</td><td>31</td><td>1</td></tr>",
                            "<tr><td>40</td><td>3</td><td>4</td><td>39</td><td>1</td></tr>",
                            "<tr><td>40</td><td>7</td><td>4</td><td>29</td><td>2</td></tr>",
                            "<tr><td>40</td><td>7</td><td>4</td><td>29</td><td>2</td></tr>",
                            "<tr><td>40</td><td>8</td><td>4</td><td>36</td><td>1</td></tr>",
                            "<tr><td>41</td><td>9</td><td>2</td><td>39</td><td>1</td></tr>",
                            "<tr><td>41</td><td>15</td><td>2</td><td>25</td><td>1</td></tr>",
                            "<tr><td>42</td><td>6</td><td>6</td><td>42</td><td>1</td></tr>",
                            "<tr><td>42</td><td>12</td><td>6</td><td>32</td><td>1</td></tr>",
                            "<tr><td>42</td><td>16</td><td>6</td><td>53</td><td>1</td></tr>",
                            "<tr><td>42</td><td>19</td><td>6</td><td>31</td><td>1</td></tr>",
                            "<tr><td>42</td><td>22</td><td>6</td><td>35</td><td>1</td></tr>",
                            "<tr><td>42</td><td>23</td><td>6</td><td>44</td><td>1</td></tr>",
                            "<tr><td>43</td><td>8</td><td>8</td><td>36</td><td>1</td></tr>",
                            "<tr><td>43</td><td>10</td><td>8</td><td>37</td><td>1</td></tr>",
                            "<tr><td>43</td><td>12</td><td>8</td><td>32</td><td>1</td></tr>",
                            "<tr><td>43</td><td>14</td><td>8</td><td>26</td><td>1</td></tr>",
                            "<tr><td>43</td><td>20</td><td>8</td><td>32</td><td>1</td></tr>",
                            "<tr><td>43</td><td>27</td><td>8</td><td>33</td><td>1</td></tr>",
                            "<tr><td>43</td><td>29</td><td>8</td><td>31</td><td>1</td></tr>",
                            "<tr><td>43</td><td>30</td><td>8</td><td>47</td><td>1</td></tr>",
                            "<tr><td>44</td><td>8</td><td>6</td><td>36</td><td>1</td></tr>",
                            "<tr><td>44</td><td>19</td><td>6</td><td>31</td><td>2</td></tr>",
                            "<tr><td>44</td><td>19</td><td>6</td><td>31</td><td>2</td></tr>",
                            "<tr><td>44</td><td>20</td><td>6</td><td>32</td><td>1</td></tr>",
                            "<tr><td>44</td><td>21</td><td>6</td><td>24</td><td>1</td></tr>",
                            "<tr><td>44</td><td>25</td><td>6</td><td>29</td><td>1</td></tr>",
                            "<tr><td>45</td><td>2</td><td>5</td><td>21</td><td>1</td></tr>",
                            "<tr><td>45</td><td>9</td><td>5</td><td>39</td><td>1</td></tr>",
                            "<tr><td>45</td><td>20</td><td>5</td><td>32</td><td>2</td></tr>",
                            "<tr><td>45</td><td>20</td><td>5</td><td>32</td><td>2</td></tr>",
                            "<tr><td>45</td><td>22</td><td>5</td><td>35</td><td>1</td></tr>",
                            "<tr><td>46</td><td>3</td><td>4</td><td>39</td><td>1</td></tr>",
                            "<tr><td>46</td><td>10</td><td>4</td><td>37</td><td>1</td></tr>",
                            "<tr><td>46</td><td>19</td><td>4</td><td>31</td><td>1</td></tr>",
                            "<tr><td>46</td><td>23</td><td>4</td><td>44</td><td>1</td></tr>",
                            "<tr><td>47</td><td>13</td><td>2</td><td>29</td><td>1</td></tr>",
                            "<tr><td>47</td><td>16</td><td>2</td><td>53</td><td>1</td></tr>",
                            "<tr><td>48</td><td>1</td><td>9</td><td>48</td><td>1</td></tr>",
                            "<tr><td>48</td><td>3</td><td>9</td><td>39</td><td>1</td></tr>",
                            "<tr><td>48</td><td>6</td><td>9</td><td>42</td><td>1</td></tr>",
                            "<tr><td>48</td><td>9</td><td>9</td><td>39</td><td>1</td></tr>",
                            "<tr><td>48</td><td>17</td><td>9</td><td>40</td><td>1</td></tr>",
                            "<tr><td>48</td><td>18</td><td>9</td><td>29</td><td>1</td></tr>",
                            "<tr><td>48</td><td>25</td><td>9</td><td>29</td><td>2</td></tr>",
                            "<tr><td>48</td><td>25</td><td>9</td><td>29</td><td>2</td></tr>",
                            "<tr><td>48</td><td>26</td><td>9</td><td>31</td><td>1</td></tr>",
                            "<tr><td>49</td><td>2</td><td>7</td><td>21</td><td>1</td></tr>",
                            "<tr><td>49</td><td>16</td><td>7</td><td>53</td><td>1</td></tr>",
                            "<tr><td>49</td><td>17</td><td>7</td><td>40</td><td>1</td></tr>",
                            "<tr><td>49</td><td>18</td><td>7</td><td>29</td><td>1</td></tr>",
                            "<tr><td>49</td><td>26</td><td>7</td><td>31</td><td>2</td></tr>",
                            "<tr><td>49</td><td>26</td><td>7</td><td>31</td><td>2</td></tr>",
                            "<tr><td>49</td><td>30</td><td>7</td><td>47</td><td>1</td></tr>",
                            "<tr><td>50</td><td>10</td><td>4</td><td>37</td><td>1</td></tr>",
                            "<tr><td>50</td><td>16</td><td>4</td><td>53</td><td>1</td></tr>",
                            "<tr><td>50</td><td>18</td><td>4</td><td>29</td><td>1</td></tr>",
                            "<tr><td>50</td><td>30</td><td>4</td><td>47</td><td>1</td></tr>",
                            "<tr><td>51</td><td>18</td><td>5</td><td>29</td><td>1</td></tr>",
                            "<tr><td>51</td><td>19</td><td>5</td><td>31</td><td>1</td></tr>",
                            "<tr><td>51</td><td>23</td><td>5</td><td>44</td><td>1</td></tr>",
                            "<tr><td>51</td><td>28</td><td>5</td><td>40</td><td>2</td></tr>",
                            "<tr><td>51</td><td>28</td><td>5</td><td>40</td><td>2</td></tr>",
                            "<tr><td>52</td><td>7</td><td>5</td><td>29</td><td>1</td></tr>",
                            "<tr><td>52</td><td>10</td><td>5</td><td>37</td><td>1</td></tr>",
                            "<tr><td>52</td><td>14</td><td>5</td><td>26</td><td>1</td></tr>",
                            "<tr><td>52</td><td>24</td><td>5</td><td>39</td><td>1</td></tr>",
                            "<tr><td>52</td><td>26</td><td>5</td><td>31</td><td>1</td></tr>",
                            "<tr><td>53</td><td>24</td><td>2</td><td>39</td><td>1</td></tr>",
                            "<tr><td>53</td><td>26</td><td>2</td><td>31</td><td>1</td></tr>",
                            "<tr><td>54</td><td>2</td><td>6</td><td>21</td><td>1</td></tr>",
                            "<tr><td>54</td><td>7</td><td>6</td><td>29</td><td>1</td></tr>",
                            "<tr><td>54</td><td>13</td><td>6</td><td>29</td><td>1</td></tr>",
                            "<tr><td>54</td><td>14</td><td>6</td><td>26</td><td>1</td></tr>",
                            "<tr><td>54</td><td>28</td><td>6</td><td>40</td><td>1</td></tr>",
                            "<tr><td>54</td><td>30</td><td>6</td><td>47</td><td>1</td></tr>",
                            "<tr><td>55</td><td>8</td><td>8</td><td>36</td><td>1</td></tr>",
                            "<tr><td>55</td><td>12</td><td>8</td><td>32</td><td>1</td></tr>",
                            "<tr><td>55</td><td>17</td><td>8</td><td>40</td><td>1</td></tr>",
                            "<tr><td>55</td><td>24</td><td>8</td><td>39</td><td>1</td></tr>",
                            "<tr><td>55</td><td>28</td><td>8</td><td>40</td><td>3</td></tr>",
                            "<tr><td>55</td><td>28</td><td>8</td><td>40</td><td>3</td></tr>",
                            "<tr><td>55</td><td>28</td><td>8</td><td>40</td><td>3</td></tr>",
                            "<tr><td>55</td><td>30</td><td>8</td><td>47</td><td>1</td></tr>",
                            "<tr><td>56</td><td>8</td><td>2</td><td>36</td><td>1</td></tr>",
                            "<tr><td>56</td><td>29</td><td>2</td><td>31</td><td>1</td></tr>",
                            "<tr><td>57</td><td>6</td><td>4</td><td>42</td><td>2</td></tr>",
                            "<tr><td>57</td><td>6</td><td>4</td><td>42</td><td>2</td></tr>",
                            "<tr><td>57</td><td>22</td><td>4</td><td>35</td><td>1</td></tr>",
                            "<tr><td>57</td><td>25</td><td>4</td><td>29</td><td>1</td></tr>",
                            "<tr><td>58</td><td>1</td><td>13</td><td>48</td><td>1</td></tr>",
                            "<tr><td>58</td><td>6</td><td>13</td><td>42</td><td>1</td></tr>",
                            "<tr><td>58</td><td>7</td><td>13</td><td>29</td><td>1</td></tr>",
                            "<tr><td>58</td><td>12</td><td>13</td><td>32</td><td>1</td></tr>",
                            "<tr><td>58</td><td>16</td><td>13</td><td>53</td><td>1</td></tr>",
                            "<tr><td>58</td><td>17</td><td>13</td><td>40</td><td>1</td></tr>",
                            "<tr><td>58</td><td>19</td><td>13</td><td>31</td><td>1</td></tr>",
                            "<tr><td>58</td><td>23</td><td>13</td><td>44</td><td>2</td></tr>",
                            "<tr><td>58</td><td>23</td><td>13</td><td>44</td><td>2</td></tr>",
                            "<tr><td>58</td><td>26</td><td>13</td><td>31</td><td>1</td></tr>",
                            "<tr><td>58</td><td>27</td><td>13</td><td>33</td><td>1</td></tr>",
                            "<tr><td>58</td><td>28</td><td>13</td><td>40</td><td>1</td></tr>",
                            "<tr><td>58</td><td>30</td><td>13</td><td>47</td><td>1</td></tr>",
                            "<tr><td>59</td><td>3</td><td>7</td><td>39</td><td>1</td></tr>",
                            "<tr><td>59</td><td>17</td><td>7</td><td>40</td><td>1</td></tr>",
                            "<tr><td>59</td><td>20</td><td>7</td><td>32</td><td>1</td></tr>",
                            "<tr><td>59</td><td>25</td><td>7</td><td>29</td><td>2</td></tr>",
                            "<tr><td>59</td><td>25</td><td>7</td><td>29</td><td>2</td></tr>",
                            "<tr><td>59</td><td>26</td><td>7</td><td>31</td><td>1</td></tr>",
                            "<tr><td>59</td><td>28</td><td>7</td><td>40</td><td>1</td></tr>",
                            "<tr><td>60</td><td>16</td><td>1</td><td>53</td><td>1</td></tr>",
                            "<tr><td>61</td><td>4</td><td>5</td><td>29</td><td>1</td></tr>",
                            "<tr><td>61</td><td>5</td><td>5</td><td>36</td><td>1</td></tr>",
                            "<tr><td>61</td><td>11</td><td>5</td><td>13</td><td>1</td></tr>",
                            "<tr><td>61</td><td>21</td><td>5</td><td>24</td><td>1</td></tr>",
                            "<tr><td>61</td><td>29</td><td>5</td><td>31</td><td>1</td></tr>",
                            "<tr><td>62</td><td>8</td><td>5</td><td>36</td><td>1</td></tr>",
                            "<tr><td>62</td><td>9</td><td>5</td><td>39</td><td>2</td></tr>",
                            "<tr><td>62</td><td>9</td><td>5</td><td>39</td><td>2</td></tr>",
                            "<tr><td>62</td><td>21</td><td>5</td><td>24</td><td>1</td></tr>",
                            "<tr><td>62</td><td>26</td><td>5</td><td>31</td><td>1</td></tr>",
                            "<tr><td>63</td><td>2</td><td>4</td><td>21</td><td>2</td></tr>",
                            "<tr><td>63</td><td>2</td><td>4</td><td>21</td><td>2</td></tr>",
                            "<tr><td>63</td><td>8</td><td>4</td><td>36</td><td>1</td></tr>",
                            "<tr><td>63</td><td>12</td><td>4</td><td>32</td><td>1</td></tr>",
                            "<tr><td>64</td><td>2</td><td>6</td><td>21</td><td>1</td></tr>",
                            "<tr><td>64</td><td>5</td><td>6</td><td>36</td><td>1</td></tr>",
                            "<tr><td>64</td><td>16</td><td>6</td><td>53</td><td>1</td></tr>",
                            "<tr><td>64</td><td>22</td><td>6</td><td>35</td><td>1</td></tr>",
                            "<tr><td>64</td><td>30</td><td>6</td><td>47</td><td>1</td></tr>",
                            "<tr><td>64</td><td>31</td><td>6</td><td>8</td><td>1</td></tr>",
                            "<tr><td>65</td><td>17</td><td>1</td><td>40</td><td>1</td></tr>",
                            "<tr><td>66</td><td>1</td><td>4</td><td>48</td><td>1</td></tr>",
                            "<tr><td>66</td><td>8</td><td>4</td><td>36</td><td>1</td></tr>",
                            "<tr><td>66</td><td>10</td><td>4</td><td>37</td><td>1</td></tr>",
                            "<tr><td>66</td><td>29</td><td>4</td><td>31</td><td>1</td></tr>",
                            "<tr><td>67</td><td>1</td><td>6</td><td>48</td><td>1</td></tr>",
                            "<tr><td>67</td><td>3</td><td>6</td><td>39</td><td>1</td></tr>",
                            "<tr><td>67</td><td>12</td><td>6</td><td>32</td><td>1</td></tr>",
                            "<tr><td>67</td><td>14</td><td>6</td><td>26</td><td>1</td></tr>",
                            "<tr><td>67</td><td>22</td><td>6</td><td>35</td><td>1</td></tr>",
                            "<tr><td>67</td><td>30</td><td>6</td><td>47</td><td>1</td></tr>",
                            "<tr><td>68</td><td>7</td><td>3</td><td>29</td><td>1</td></tr>",
                            "<tr><td>68</td><td>12</td><td>3</td><td>32</td><td>1</td></tr>",
                            "<tr><td>68</td><td>27</td><td>3</td><td>33</td><td>1</td></tr>",
                            "<tr><td>69</td><td>5</td><td>4</td><td>36</td><td>1</td></tr>",
                            "<tr><td>69</td><td>15</td><td>4</td><td>25</td><td>1</td></tr>",
                            "<tr><td>69</td><td>30</td><td>4</td><td>47</td><td>1</td></tr>",
                            "<tr><td>69</td><td>31</td><td>4</td><td>8</td><td>1</td></tr>",
                            "<tr><td>70</td><td>3</td><td>11</td><td>39</td><td>1</td></tr>",
                            "<tr><td>70</td><td>7</td><td>11</td><td>29</td><td>1</td></tr>",
                            "<tr><td>70</td><td>15</td><td>11</td><td>25</td><td>1</td></tr>",
                            "<tr><td>70</td><td>17</td><td>11</td><td>40</td><td>1</td></tr>",
                            "<tr><td>70</td><td>19</td><td>11</td><td>31</td><td>1</td></tr>",
                            "<tr><td>70</td><td>22</td><td>11</td><td>35</td><td>1</td></tr>",
                            "<tr><td>70</td><td>24</td><td>11</td><td>39</td><td>1</td></tr>",
                            "<tr><td>70</td><td>27</td><td>11</td><td>33</td><td>2</td></tr>",
                            "<tr><td>70</td><td>27</td><td>11</td><td>33</td><td>2</td></tr>",
                            "<tr><td>70</td><td>30</td><td>11</td><td>47</td><td>2</td></tr>",
                            "<tr><td>70</td><td>30</td><td>11</td><td>47</td><td>2</td></tr>",
                            "<tr><td>71</td><td>4</td><td>3</td><td>29</td><td>1</td></tr>",
                            "<tr><td>71</td><td>18</td><td>3</td><td>29</td><td>1</td></tr>",
                            "<tr><td>71</td><td>24</td><td>3</td><td>39</td><td>1</td></tr>",
                            "<tr><td>72</td><td>4</td><td>4</td><td>29</td><td>1</td></tr>",
                            "<tr><td>72</td><td>16</td><td>4</td><td>53</td><td>1</td></tr>",
                            "<tr><td>72</td><td>25</td><td>4</td><td>29</td><td>2</td></tr>",
                            "<tr><td>72</td><td>25</td><td>4</td><td>29</td><td>2</td></tr>",
                            "<tr><td>73</td><td>1</td><td>4</td><td>48</td><td>1</td></tr>",
                            "<tr><td>73</td><td>16</td><td>4</td><td>53</td><td>1</td></tr>",
                            "<tr><td>73</td><td>25</td><td>4</td><td>29</td><td>1</td></tr>",
                            "<tr><td>73</td><td>29</td><td>4</td><td>31</td><td>1</td></tr>",
                            "<tr><td>74</td><td>3</td><td>9</td><td>39</td><td>1</td></tr>",
                            "<tr><td>74</td><td>9</td><td>9</td><td>39</td><td>1</td></tr>",
                            "<tr><td>74</td><td>16</td><td>9</td><td>53</td><td>1</td></tr>",
                            "<tr><td>74</td><td>18</td><td>9</td><td>29</td><td>1</td></tr>",
                            "<tr><td>74</td><td>22</td><td>9</td><td>35</td><td>2</td></tr>",
                            "<tr><td>74</td><td>22</td><td>9</td><td>35</td><td>2</td></tr>",
                            "<tr><td>74</td><td>28</td><td>9</td><td>40</td><td>1</td></tr>",
                            "<tr><td>74</td><td>30</td><td>9</td><td>47</td><td>2</td></tr>",
                            "<tr><td>74</td><td>30</td><td>9</td><td>47</td><td>2</td></tr>",
                            "<tr><td>75</td><td>1</td><td>3</td><td>48</td><td>1</td></tr>",
                            "<tr><td>75</td><td>6</td><td>3</td><td>42</td><td>1</td></tr>",
                            "<tr><td>75</td><td>19</td><td>3</td><td>31</td><td>1</td></tr>",
                            "<tr><td>76</td><td>18</td><td>3</td><td>29</td><td>1</td></tr>",
                            "<tr><td>76</td><td>21</td><td>3</td><td>24</td><td>1</td></tr>",
                            "<tr><td>76</td><td>22</td><td>3</td><td>35</td><td>1</td></tr>",
                            "<tr><td>77</td><td>1</td><td>6</td><td>48</td><td>1</td></tr>",
                            "<tr><td>77</td><td>15</td><td>6</td><td>25</td><td>1</td></tr>",
                            "<tr><td>77</td><td>20</td><td>6</td><td>32</td><td>1</td></tr>",
                            "<tr><td>77</td><td>21</td><td>6</td><td>24</td><td>1</td></tr>",
                            "<tr><td>77</td><td>22</td><td>6</td><td>35</td><td>1</td></tr>",
                            "<tr><td>77</td><td>23</td><td>6</td><td>44</td><td>1</td></tr>",
                            "<tr><td>78</td><td>9</td><td>6</td><td>39</td><td>1</td></tr>",
                            "<tr><td>78</td><td>10</td><td>6</td><td>37</td><td>1</td></tr>",
                            "<tr><td>78</td><td>14</td><td>6</td><td>26</td><td>1</td></tr>",
                            "<tr><td>78</td><td>15</td><td>6</td><td>25</td><td>1</td></tr>",
                            "<tr><td>78</td><td>20</td><td>6</td><td>32</td><td>1</td></tr>",
                            "<tr><td>78</td><td>27</td><td>6</td><td>33</td><td>1</td></tr>",
                            "<tr><td>79</td><td>5</td><td>5</td><td>36</td><td>1</td></tr>",
                            "<tr><td>79</td><td>15</td><td>5</td><td>25</td><td>1</td></tr>",
                            "<tr><td>79</td><td>16</td><td>5</td><td>53</td><td>2</td></tr>",
                            "<tr><td>79</td><td>16</td><td>5</td><td>53</td><td>2</td></tr>",
                            "<tr><td>79</td><td>30</td><td>5</td><td>47</td><td>1</td></tr>",
                            "<tr><td>80</td><td>1</td><td>7</td><td>48</td><td>1</td></tr>",
                            "<tr><td>80</td><td>7</td><td>7</td><td>29</td><td>1</td></tr>",
                            "<tr><td>80</td><td>13</td><td>7</td><td>29</td><td>1</td></tr>",
                            "<tr><td>80</td><td>14</td><td>7</td><td>26</td><td>1</td></tr>",
                            "<tr><td>80</td><td>17</td><td>7</td><td>40</td><td>1</td></tr>",
                            "<tr><td>80</td><td>20</td><td>7</td><td>32</td><td>1</td></tr>",
                            "<tr><td>80</td><td>23</td><td>7</td><td>44</td><td>1</td></tr>",
                            "<tr><td>81</td><td>6</td><td>5</td><td>42</td><td>1</td></tr>",
                            "<tr><td>81</td><td>16</td><td>5</td><td>53</td><td>2</td></tr>",
                            "<tr><td>81</td><td>16</td><td>5</td><td>53</td><td>2</td></tr>",
                            "<tr><td>81</td><td>22</td><td>5</td><td>35</td><td>1</td></tr>",
                            "<tr><td>81</td><td>23</td><td>5</td><td>44</td><td>1</td></tr>",
                            "<tr><td>82</td><td>1</td><td>6</td><td>48</td><td>1</td></tr>",
                            "<tr><td>82</td><td>4</td><td>6</td><td>29</td><td>1</td></tr>",
                            "<tr><td>82</td><td>12</td><td>6</td><td>32</td><td>1</td></tr>",
                            "<tr><td>82</td><td>27</td><td>6</td><td>33</td><td>1</td></tr>",
                            "<tr><td>82</td><td>29</td><td>6</td><td>31</td><td>2</td></tr>",
                            "<tr><td>82</td><td>29</td><td>6</td><td>31</td><td>2</td></tr>",
                            "<tr><td>83</td><td>4</td><td>8</td><td>29</td><td>1</td></tr>",
                            "<tr><td>83</td><td>10</td><td>8</td><td>37</td><td>1</td></tr>",
                            "<tr><td>83</td><td>15</td><td>8</td><td>25</td><td>1</td></tr>",
                            "<tr><td>83</td><td>18</td><td>8</td><td>29</td><td>1</td></tr>",
                            "<tr><td>83</td><td>19</td><td>8</td><td>31</td><td>1</td></tr>",
                            "<tr><td>83</td><td>28</td><td>8</td><td>40</td><td>1</td></tr>",
                            "<tr><td>83</td><td>30</td><td>8</td><td>47</td><td>2</td></tr>",
                            "<tr><td>83</td><td>30</td><td>8</td><td>47</td><td>2</td></tr>",
                            "<tr><td>84</td><td>13</td><td>4</td><td>29</td><td>1</td></tr>",
                            "<tr><td>84</td><td>17</td><td>4</td><td>40</td><td>1</td></tr>",
                            "<tr><td>84</td><td>22</td><td>4</td><td>35</td><td>1</td></tr>",
                            "<tr><td>84</td><td>24</td><td>4</td><td>39</td><td>1</td></tr>",
                            "<tr><td>85</td><td>9</td><td>4</td><td>39</td><td>1</td></tr>",
                            "<tr><td>85</td><td>15</td><td>4</td><td>25</td><td>1</td></tr>",
                            "<tr><td>85</td><td>17</td><td>4</td><td>40</td><td>1</td></tr>",
                            "<tr><td>85</td><td>25</td><td>4</td><td>29</td><td>1</td></tr>",
                            "<tr><td>86</td><td>1</td><td>5</td><td>48</td><td>1</td></tr>",
                            "<tr><td>86</td><td>16</td><td>5</td><td>53</td><td>1</td></tr>",
                            "<tr><td>86</td><td>17</td><td>5</td><td>40</td><td>1</td></tr>",
                            "<tr><td>86</td><td>24</td><td>5</td><td>39</td><td>1</td></tr>",
                            "<tr><td>86</td><td>26</td><td>5</td><td>31</td><td>1</td></tr>",
                            "<tr><td>87</td><td>1</td><td>5</td><td>48</td><td>1</td></tr>",
                            "<tr><td>87</td><td>2</td><td>5</td><td>21</td><td>1</td></tr>",
                            "<tr><td>87</td><td>6</td><td>5</td><td>42</td><td>2</td></tr>",
                            "<tr><td>87</td><td>6</td><td>5</td><td>42</td><td>2</td></tr>",
                            "<tr><td>87</td><td>19</td><td>5</td><td>31</td><td>1</td></tr>",
                            "<tr><td>88</td><td>5</td><td>8</td><td>36</td><td>1</td></tr>",
                            "<tr><td>88</td><td>10</td><td>8</td><td>37</td><td>1</td></tr>",
                            "<tr><td>88</td><td>12</td><td>8</td><td>32</td><td>1</td></tr>",
                            "<tr><td>88</td><td>18</td><td>8</td><td>29</td><td>1</td></tr>",
                            "<tr><td>88</td><td>21</td><td>8</td><td>24</td><td>1</td></tr>",
                            "<tr><td>88</td><td>26</td><td>8</td><td>31</td><td>2</td></tr>",
                            "<tr><td>88</td><td>26</td><td>8</td><td>31</td><td>2</td></tr>",
                            "<tr><td>88</td><td>28</td><td>8</td><td>40</td><td>1</td></tr>",
                            "<tr><td>89</td><td>1</td><td>8</td><td>48</td><td>1</td></tr>",
                            "<tr><td>89</td><td>5</td><td>8</td><td>36</td><td>1</td></tr>",
                            "<tr><td>89</td><td>8</td><td>8</td><td>36</td><td>1</td></tr>",
                            "<tr><td>89</td><td>9</td><td>8</td><td>39</td><td>1</td></tr>",
                            "<tr><td>89</td><td>12</td><td>8</td><td>32</td><td>1</td></tr>",
                            "<tr><td>89</td><td>24</td><td>8</td><td>39</td><td>2</td></tr>",
                            "<tr><td>89</td><td>24</td><td>8</td><td>39</td><td>2</td></tr>",
                            "<tr><td>89</td><td>26</td><td>8</td><td>31</td><td>1</td></tr>",
                            "<tr><td>90</td><td>21</td><td>4</td><td>24</td><td>2</td></tr>",
                            "<tr><td>90</td><td>21</td><td>4</td><td>24</td><td>2</td></tr>",
                            "<tr><td>90</td><td>28</td><td>4</td><td>40</td><td>1</td></tr>",
                            "<tr><td>90</td><td>29</td><td>4</td><td>31</td><td>1</td></tr>",
                            "<tr><td>91</td><td>10</td><td>4</td><td>37</td><td>1</td></tr>",
                            "<tr><td>91</td><td>25</td><td>4</td><td>29</td><td>1</td></tr>",
                            "<tr><td>91</td><td>28</td><td>4</td><td>40</td><td>2</td></tr>",
                            "<tr><td>91</td><td>28</td><td>4</td><td>40</td><td>2</td></tr>",
                            "<tr><td>92</td><td>7</td><td>6</td><td>29</td><td>1</td></tr>",
                            "<tr><td>92</td><td>10</td><td>6</td><td>37</td><td>1</td></tr>",
                            "<tr><td>92</td><td>13</td><td>6</td><td>29</td><td>1</td></tr>",
                            "<tr><td>92</td><td>20</td><td>6</td><td>32</td><td>1</td></tr>",
                            "<tr><td>92</td><td>23</td><td>6</td><td>44</td><td>1</td></tr>",
                            "<tr><td>92</td><td>31</td><td>6</td><td>8</td><td>1</td></tr>",
                            "<tr><td>93</td><td>8</td><td>5</td><td>36</td><td>1</td></tr>",
                            "<tr><td>93</td><td>20</td><td>5</td><td>32</td><td>1</td></tr>",
                            "<tr><td>93</td><td>25</td><td>5</td><td>29</td><td>1</td></tr>",
                            "<tr><td>93</td><td>29</td><td>5</td><td>31</td><td>1</td></tr>",
                            "<tr><td>93</td><td>30</td><td>5</td><td>47</td><td>1</td></tr>",
                            "<tr><td>94</td><td>2</td><td>10</td><td>21</td><td>1</td></tr>",
                            "<tr><td>94</td><td>3</td><td>10</td><td>39</td><td>1</td></tr>",
                            "<tr><td>94</td><td>12</td><td>10</td><td>32</td><td>1</td></tr>",
                            "<tr><td>94</td><td>13</td><td>10</td><td>29</td><td>1</td></tr>",
                            "<tr><td>94</td><td>17</td><td>10</td><td>40</td><td>1</td></tr>",
                            "<tr><td>94</td><td>21</td><td>10</td><td>24</td><td>1</td></tr>",
                            "<tr><td>94</td><td>22</td><td>10</td><td>35</td><td>1</td></tr>",
                            "<tr><td>94</td><td>23</td><td>10</td><td>44</td><td>2</td></tr>",
                            "<tr><td>94</td><td>23</td><td>10</td><td>44</td><td>2</td></tr>",
                            "<tr><td>94</td><td>27</td><td>10</td><td>33</td><td>1</td></tr>",
                            "<tr><td>95</td><td>1</td><td>4</td><td>48</td><td>1</td></tr>",
                            "<tr><td>95</td><td>13</td><td>4</td><td>29</td><td>1</td></tr>",
                            "<tr><td>95</td><td>16</td><td>4</td><td>53</td><td>1</td></tr>",
                            "<tr><td>95</td><td>19</td><td>4</td><td>31</td><td>1</td></tr>",
                            "<tr><td>96</td><td>8</td><td>7</td><td>36</td><td>1</td></tr>",
                            "<tr><td>96</td><td>14</td><td>7</td><td>26</td><td>2</td></tr>",
                            "<tr><td>96</td><td>14</td><td>7</td><td>26</td><td>2</td></tr>",
                            "<tr><td>96</td><td>15</td><td>7</td><td>25</td><td>1</td></tr>",
                            "<tr><td>96</td><td>18</td><td>7</td><td>29</td><td>1</td></tr>",
                            "<tr><td>96</td><td>24</td><td>7</td><td>39</td><td>1</td></tr>",
                            "<tr><td>96</td><td>28</td><td>7</td><td>40</td><td>1</td></tr>",
                            "<tr><td>97</td><td>3</td><td>7</td><td>39</td><td>1</td></tr>",
                            "<tr><td>97</td><td>10</td><td>7</td><td>37</td><td>1</td></tr>",
                            "<tr><td>97</td><td>13</td><td>7</td><td>29</td><td>1</td></tr>",
                            "<tr><td>97</td><td>25</td><td>7</td><td>29</td><td>1</td></tr>",
                            "<tr><td>97</td><td>27</td><td>7</td><td>33</td><td>2</td></tr>",
                            "<tr><td>97</td><td>27</td><td>7</td><td>33</td><td>2</td></tr>",
                            "<tr><td>97</td><td>29</td><td>7</td><td>31</td><td>1</td></tr>",
                            "<tr><td>98</td><td>9</td><td>4</td><td>39</td><td>1</td></tr>",
                            "<tr><td>98</td><td>13</td><td>4</td><td>29</td><td>1</td></tr>",
                            "<tr><td>98</td><td>28</td><td>4</td><td>40</td><td>1</td></tr>",
                            "<tr><td>98</td><td>30</td><td>4</td><td>47</td><td>1</td></tr>",
                            "<tr><td>99</td><td>9</td><td>5</td><td>39</td><td>1</td></tr>",
                            "<tr><td>99</td><td>20</td><td>5</td><td>32</td><td>2</td></tr>",
                            "<tr><td>99</td><td>20</td><td>5</td><td>32</td><td>2</td></tr>",
                            "<tr><td>99</td><td>31</td><td>5</td><td>8</td><td>2</td></tr>",
                            "<tr><td>99</td><td>31</td><td>5</td><td>8</td><td>2</td></tr>",
                            "<tr><td>100</td><td>11</td><td>4</td><td>13</td><td>1</td></tr>",
                            "<tr><td>100</td><td>23</td><td>4</td><td>44</td><td>1</td></tr>",
                            "<tr><td>100</td><td>24</td><td>4</td><td>39</td><td>1</td></tr>",
                            "<tr><td>100</td><td>29</td><td>4</td><td>31</td><td>1</td></tr>",
                            "<tr><td>101</td><td>10</td><td>3</td><td>37</td><td>1</td></tr>",
                            "<tr><td>101</td><td>25</td><td>3</td><td>29</td><td>1</td></tr>",
                            "<tr><td>101</td><td>29</td><td>3</td><td>31</td><td>1</td></tr>",
                            "<tr><td>102</td><td>5</td><td>2</td><td>36</td><td>1</td></tr>",
                            "<tr><td>102</td><td>19</td><td>2</td><td>31</td><td>1</td></tr>",
                            "<tr><td>103</td><td>19</td><td>4</td><td>31</td><td>1</td></tr>",
                            "<tr><td>103</td><td>26</td><td>4</td><td>31</td><td>1</td></tr>",
                            "<tr><td>103</td><td>29</td><td>4</td><td>31</td><td>1</td></tr>",
                            "<tr><td>103</td><td>30</td><td>4</td><td>47</td><td>1</td></tr>",
                            "<tr><td>104</td><td>12</td><td>4</td><td>32</td><td>1</td></tr>",
                            "<tr><td>104</td><td>14</td><td>4</td><td>26</td><td>1</td></tr>",
                            "<tr><td>104</td><td>22</td><td>4</td><td>35</td><td>1</td></tr>",
                            "<tr><td>104</td><td>29</td><td>4</td><td>31</td><td>1</td></tr>",
                            "<tr><td>105</td><td>3</td><td>2</td><td>39</td><td>1</td></tr>",
                            "<tr><td>105</td><td>12</td><td>2</td><td>32</td><td>1</td></tr>",
                            "<tr><td>106</td><td>8</td><td>6</td><td>36</td><td>1</td></tr>",
                            "<tr><td>106</td><td>10</td><td>6</td><td>37</td><td>1</td></tr>",
                            "<tr><td>106</td><td>17</td><td>6</td><td>40</td><td>1</td></tr>",
                            "<tr><td>106</td><td>23</td><td>6</td><td>44</td><td>1</td></tr>",
                            "<tr><td>106</td><td>30</td><td>6</td><td>47</td><td>2</td></tr>",
                            "<tr><td>106</td><td>30</td><td>6</td><td>47</td><td>2</td></tr>",
                            "<tr><td>107</td><td>4</td><td>5</td><td>29</td><td>1</td></tr>",
                            "<tr><td>107</td><td>5</td><td>5</td><td>36</td><td>1</td></tr>",
                            "<tr><td>107</td><td>7</td><td>5</td><td>29</td><td>1</td></tr>",
                            "<tr><td>107</td><td>17</td><td>5</td><td>40</td><td>1</td></tr>",
                            "<tr><td>107</td><td>18</td><td>5</td><td>29</td><td>1</td></tr>",
                            "<tr><td>108</td><td>1</td><td>2</td><td>48</td><td>1</td></tr>",
                            "<tr><td>108</td><td>25</td><td>2</td><td>29</td><td>1</td></tr>",
                            "<tr><td>109</td><td>1</td><td>7</td><td>48</td><td>1</td></tr>",
                            "<tr><td>109</td><td>6</td><td>7</td><td>42</td><td>1</td></tr>",
                            "<tr><td>109</td><td>18</td><td>7</td><td>29</td><td>1</td></tr>",
                            "<tr><td>109</td><td>20</td><td>7</td><td>32</td><td>1</td></tr>",
                            "<tr><td>109</td><td>23</td><td>7</td><td>44</td><td>2</td></tr>",
                            "<tr><td>109</td><td>23</td><td>7</td><td>44</td><td>2</td></tr>",
                            "<tr><td>109</td><td>27</td><td>7</td><td>33</td><td>1</td></tr>",
                            "<tr><td>110</td><td>1</td><td>8</td><td>48</td><td>1</td></tr>",
                            "<tr><td>110</td><td>2</td><td>8</td><td>21</td><td>1</td></tr>",
                            "<tr><td>110</td><td>7</td><td>8</td><td>29</td><td>2</td></tr>",
                            "<tr><td>110</td><td>7</td><td>8</td><td>29</td><td>2</td></tr>",
                            "<tr><td>110</td><td>10</td><td>8</td><td>37</td><td>1</td></tr>",
                            "<tr><td>110</td><td>16</td><td>8</td><td>53</td><td>1</td></tr>",
                            "<tr><td>110</td><td>17</td><td>8</td><td>40</td><td>1</td></tr>",
                            "<tr><td>110</td><td>18</td><td>8</td><td>29</td><td>1</td></tr>",
                            "<tr><td>111</td><td>7</td><td>5</td><td>29</td><td>1</td></tr>",
                            "<tr><td>111</td><td>14</td><td>5</td><td>26</td><td>1</td></tr>",
                            "<tr><td>111</td><td>16</td><td>5</td><td>53</td><td>1</td></tr>",
                            "<tr><td>111</td><td>19</td><td>5</td><td>31</td><td>1</td></tr>",
                            "<tr><td>111</td><td>27</td><td>5</td><td>33</td><td>1</td></tr>",
                            "<tr><td>112</td><td>6</td><td>5</td><td>42</td><td>2</td></tr>",
                            "<tr><td>112</td><td>6</td><td>5</td><td>42</td><td>2</td></tr>",
                            "<tr><td>112</td><td>13</td><td>5</td><td>29</td><td>1</td></tr>",
                            "<tr><td>112</td><td>14</td><td>5</td><td>26</td><td>1</td></tr>",
                            "<tr><td>112</td><td>20</td><td>5</td><td>32</td><td>1</td></tr>",
                            "<tr><td>113</td><td>4</td><td>5</td><td>29</td><td>1</td></tr>",
                            "<tr><td>113</td><td>5</td><td>5</td><td>36</td><td>2</td></tr>",
                            "<tr><td>113</td><td>5</td><td>5</td><td>36</td><td>2</td></tr>",
                            "<tr><td>113</td><td>8</td><td>5</td><td>36</td><td>1</td></tr>",
                            "<tr><td>113</td><td>28</td><td>5</td><td>40</td><td>1</td></tr>",
                            "<tr><td>114</td><td>16</td><td>4</td><td>53</td><td>2</td></tr>",
                            "<tr><td>114</td><td>16</td><td>4</td><td>53</td><td>2</td></tr>",
                            "<tr><td>114</td><td>26</td><td>4</td><td>31</td><td>1</td></tr>",
                            "<tr><td>114</td><td>29</td><td>4</td><td>31</td><td>1</td></tr>",
                            "<tr><td>115</td><td>4</td><td>7</td><td>29</td><td>1</td></tr>",
                            "<tr><td>115</td><td>7</td><td>7</td><td>29</td><td>1</td></tr>",
                            "<tr><td>115</td><td>10</td><td>7</td><td>37</td><td>1</td></tr>",
                            "<tr><td>115</td><td>15</td><td>7</td><td>25</td><td>1</td></tr>",
                            "<tr><td>115</td><td>20</td><td>7</td><td>32</td><td>1</td></tr>",
                            "<tr><td>115</td><td>23</td><td>7</td><td>44</td><td>1</td></tr>",
                            "<tr><td>115</td><td>24</td><td>7</td><td>39</td><td>1</td></tr>",
                            "<tr><td>116</td><td>5</td><td>2</td><td>36</td><td>1</td></tr>",
                            "<tr><td>116</td><td>18</td><td>2</td><td>29</td><td>1</td></tr>",
                            "<tr><td>117</td><td>1</td><td>8</td><td>48</td><td>1</td></tr>",
                            "<tr><td>117</td><td>2</td><td>8</td><td>21</td><td>1</td></tr>",
                            "<tr><td>117</td><td>3</td><td>8</td><td>39</td><td>1</td></tr>",
                            "<tr><td>117</td><td>5</td><td>8</td><td>36</td><td>1</td></tr>",
                            "<tr><td>117</td><td>12</td><td>8</td><td>32</td><td>1</td></tr>",
                            "<tr><td>117</td><td>16</td><td>8</td><td>53</td><td>1</td></tr>",
                            "<tr><td>117</td><td>23</td><td>8</td><td>44</td><td>1</td></tr>",
                            "<tr><td>117</td><td>26</td><td>8</td><td>31</td><td>1</td></tr>",
                            "<tr><td>118</td><td>1</td><td>7</td><td>48</td><td>1</td></tr>",
                            "<tr><td>118</td><td>17</td><td>7</td><td>40</td><td>1</td></tr>",
                            "<tr><td>118</td><td>24</td><td>7</td><td>39</td><td>1</td></tr>",
                            "<tr><td>118</td><td>26</td><td>7</td><td>31</td><td>1</td></tr>",
                            "<tr><td>118</td><td>28</td><td>7</td><td>40</td><td>1</td></tr>",
                            "<tr><td>118</td><td>29</td><td>7</td><td>31</td><td>1</td></tr>",
                            "<tr><td>118</td><td>30</td><td>7</td><td>47</td><td>1</td></tr>",
                            "<tr><td>119</td><td>1</td><td>5</td><td>48</td><td>1</td></tr>",
                            "<tr><td>119</td><td>2</td><td>5</td><td>21</td><td>1</td></tr>",
                            "<tr><td>119</td><td>12</td><td>5</td><td>32</td><td>1</td></tr>",
                            "<tr><td>119</td><td>22</td><td>5</td><td>35</td><td>1</td></tr>",
                            "<tr><td>119</td><td>27</td><td>5</td><td>33</td><td>1</td></tr>",
                            "<tr><td>120</td><td>1</td><td>6</td><td>48</td><td>1</td></tr>",
                            "<tr><td>120</td><td>3</td><td>6</td><td>39</td><td>1</td></tr>",
                            "<tr><td>120</td><td>4</td><td>6</td><td>29</td><td>1</td></tr>",
                            "<tr><td>120</td><td>7</td><td>6</td><td>29</td><td>1</td></tr>",
                            "<tr><td>120</td><td>30</td><td>6</td><td>47</td><td>2</td></tr>",
                            "<tr><td>120</td><td>30</td><td>6</td><td>47</td><td>2</td></tr>",
                            "<tr><td>121</td><td>8</td><td>8</td><td>36</td><td>1</td></tr>",
                            "<tr><td>121</td><td>13</td><td>8</td><td>29</td><td>1</td></tr>",
                            "<tr><td>121</td><td>17</td><td>8</td><td>40</td><td>1</td></tr>",
                            "<tr><td>121</td><td>25</td><td>8</td><td>29</td><td>2</td></tr>",
                            "<tr><td>121</td><td>25</td><td>8</td><td>29</td><td>2</td></tr>",
                            "<tr><td>121</td><td>28</td><td>8</td><td>40</td><td>1</td></tr>",
                            "<tr><td>121</td><td>29</td><td>8</td><td>31</td><td>1</td></tr>",
                            "<tr><td>121</td><td>30</td><td>8</td><td>47</td><td>1</td></tr>",
                            "<tr><td>122</td><td>2</td><td>9</td><td>21</td><td>1</td></tr>",
                            "<tr><td>122</td><td>4</td><td>9</td><td>29</td><td>2</td></tr>",
                            "<tr><td>122</td><td>4</td><td>9</td><td>29</td><td>2</td></tr>",
                            "<tr><td>122</td><td>8</td><td>9</td><td>36</td><td>1</td></tr>",
                            "<tr><td>122</td><td>15</td><td>9</td><td>25</td><td>1</td></tr>",
                            "<tr><td>122</td><td>17</td><td>9</td><td>40</td><td>1</td></tr>",
                            "<tr><td>122</td><td>19</td><td>9</td><td>31</td><td>1</td></tr>",
                            "<tr><td>122</td><td>23</td><td>9</td><td>44</td><td>1</td></tr>",
                            "<tr><td>122</td><td>28</td><td>9</td><td>40</td><td>1</td></tr>",
                            "<tr><td>123</td><td>7</td><td>5</td><td>29</td><td>1</td></tr>",
                            "<tr><td>123</td><td>15</td><td>5</td><td>25</td><td>1</td></tr>",
                            "<tr><td>123</td><td>16</td><td>5</td><td>53</td><td>1</td></tr>",
                            "<tr><td>123</td><td>19</td><td>5</td><td>31</td><td>1</td></tr>",
                            "<tr><td>123</td><td>30</td><td>5</td><td>47</td><td>1</td></tr>",
                            "<tr><td>124</td><td>5</td><td>6</td><td>36</td><td>1</td></tr>",
                            "<tr><td>124</td><td>13</td><td>6</td><td>29</td><td>1</td></tr>",
                            "<tr><td>124</td><td>27</td><td>6</td><td>33</td><td>1</td></tr>",
                            "<tr><td>124</td><td>28</td><td>6</td><td>40</td><td>1</td></tr>",
                            "<tr><td>124</td><td>29</td><td>6</td><td>31</td><td>2</td></tr>",
                            "<tr><td>124</td><td>29</td><td>6</td><td>31</td><td>2</td></tr>",
                            "<tr><td>125</td><td>11</td><td>1</td><td>13</td><td>1</td></tr>",
                            "<tr><td>126</td><td>4</td><td>6</td><td>29</td><td>1</td></tr>",
                            "<tr><td>126</td><td>5</td><td>6</td><td>36</td><td>1</td></tr>",
                            "<tr><td>126</td><td>8</td><td>6</td><td>36</td><td>1</td></tr>",
                            "<tr><td>126</td><td>9</td><td>6</td><td>39</td><td>1</td></tr>",
                            "<tr><td>126</td><td>15</td><td>6</td><td>25</td><td>1</td></tr>",
                            "<tr><td>126</td><td>21</td><td>6</td><td>24</td><td>1</td></tr>",
                            "<tr><td>127</td><td>6</td><td>7</td><td>42</td><td>1</td></tr>",
                            "<tr><td>127</td><td>14</td><td>7</td><td>26</td><td>1</td></tr>",
                            "<tr><td>127</td><td>16</td><td>7</td><td>53</td><td>1</td></tr>",
                            "<tr><td>127</td><td>24</td><td>7</td><td>39</td><td>1</td></tr>",
                            "<tr><td>127</td><td>28</td><td>7</td><td>40</td><td>1</td></tr>",
                            "<tr><td>127</td><td>30</td><td>7</td><td>47</td><td>2</td></tr>",
                            "<tr><td>127</td><td>30</td><td>7</td><td>47</td><td>2</td></tr>",
                            "<tr><td>128</td><td>3</td><td>5</td><td>39</td><td>1</td></tr>",
                            "<tr><td>128</td><td>19</td><td>5</td><td>31</td><td>1</td></tr>",
                            "<tr><td>128</td><td>24</td><td>5</td><td>39</td><td>1</td></tr>",
                            "<tr><td>128</td><td>26</td><td>5</td><td>31</td><td>2</td></tr>",
                            "<tr><td>128</td><td>26</td><td>5</td><td>31</td><td>2</td></tr>",
                            "<tr><td>129</td><td>8</td><td>4</td><td>36</td><td>1</td></tr>",
                            "<tr><td>129</td><td>13</td><td>4</td><td>29</td><td>1</td></tr>",
                            "<tr><td>129</td><td>16</td><td>4</td><td>53</td><td>1</td></tr>",
                            "<tr><td>129</td><td>27</td><td>4</td><td>33</td><td>1</td></tr>",
                            "<tr><td>130</td><td>1</td><td>6</td><td>48</td><td>1</td></tr>",
                            "<tr><td>130</td><td>6</td><td>6</td><td>42</td><td>1</td></tr>",
                            "<tr><td>130</td><td>9</td><td>6</td><td>39</td><td>1</td></tr>",
                            "<tr><td>130</td><td>14</td><td>6</td><td>26</td><td>1</td></tr>",
                            "<tr><td>130</td><td>15</td><td>6</td><td>25</td><td>1</td></tr>",
                            "<tr><td>130</td><td>26</td><td>6</td><td>31</td><td>1</td></tr>",
                            "<tr><td>131</td><td>6</td><td>5</td><td>42</td><td>2</td></tr>",
                            "<tr><td>131</td><td>6</td><td>5</td><td>42</td><td>2</td></tr>",
                            "<tr><td>131</td><td>18</td><td>5</td><td>29</td><td>1</td></tr>",
                            "<tr><td>131</td><td>25</td><td>5</td><td>29</td><td>1</td></tr>",
                            "<tr><td>131</td><td>30</td><td>5</td><td>47</td><td>1</td></tr>",
                            "<tr><td>132</td><td>1</td><td>6</td><td>48</td><td>2</td></tr>",
                            "<tr><td>132</td><td>1</td><td>6</td><td>48</td><td>2</td></tr>",
                            "<tr><td>132</td><td>4</td><td>6</td><td>29</td><td>1</td></tr>",
                            "<tr><td>132</td><td>12</td><td>6</td><td>32</td><td>1</td></tr>",
                            "<tr><td>132</td><td>22</td><td>6</td><td>35</td><td>1</td></tr>",
                            "<tr><td>132</td><td>30</td><td>6</td><td>47</td><td>1</td></tr>",
                            "<tr><td>133</td><td>1</td><td>6</td><td>48</td><td>1</td></tr>",
                            "<tr><td>133</td><td>6</td><td>6</td><td>42</td><td>1</td></tr>",
                            "<tr><td>133</td><td>12</td><td>6</td><td>32</td><td>1</td></tr>",
                            "<tr><td>133</td><td>15</td><td>6</td><td>25</td><td>1</td></tr>",
                            "<tr><td>133</td><td>22</td><td>6</td><td>35</td><td>1</td></tr>",
                            "<tr><td>133</td><td>27</td><td>6</td><td>33</td><td>1</td></tr>",
                            "<tr><td>134</td><td>3</td><td>6</td><td>39</td><td>1</td></tr>",
                            "<tr><td>134</td><td>11</td><td>6</td><td>13</td><td>1</td></tr>",
                            "<tr><td>134</td><td>12</td><td>6</td><td>32</td><td>1</td></tr>",
                            "<tr><td>134</td><td>15</td><td>6</td><td>25</td><td>1</td></tr>",
                            "<tr><td>134</td><td>22</td><td>6</td><td>35</td><td>1</td></tr>",
                            "<tr><td>134</td><td>30</td><td>6</td><td>47</td><td>1</td></tr>",
                            "<tr><td>135</td><td>5</td><td>3</td><td>36</td><td>1</td></tr>",
                            "<tr><td>135</td><td>18</td><td>3</td><td>29</td><td>1</td></tr>",
                            "<tr><td>135</td><td>27</td><td>3</td><td>33</td><td>1</td></tr>",
                            "<tr><td>136</td><td>12</td><td>3</td><td>32</td><td>1</td></tr>",
                            "<tr><td>136</td><td>17</td><td>3</td><td>40</td><td>1</td></tr>",
                            "<tr><td>136</td><td>21</td><td>3</td><td>24</td><td>1</td></tr>",
                            "<tr><td>137</td><td>6</td><td>6</td><td>42</td><td>1</td></tr>",
                            "<tr><td>137</td><td>15</td><td>6</td><td>25</td><td>1</td></tr>",
                            "<tr><td>137</td><td>16</td><td>6</td><td>53</td><td>1</td></tr>",
                            "<tr><td>137</td><td>17</td><td>6</td><td>40</td><td>1</td></tr>",
                            "<tr><td>137</td><td>20</td><td>6</td><td>32</td><td>1</td></tr>",
                            "<tr><td>137</td><td>26</td><td>6</td><td>31</td><td>1</td></tr>",
                            "<tr><td>138</td><td>6</td><td>7</td><td>42</td><td>1</td></tr>",
                            "<tr><td>138</td><td>11</td><td>7</td><td>13</td><td>1</td></tr>",
                            "<tr><td>138</td><td>12</td><td>7</td><td>32</td><td>1</td></tr>",
                            "<tr><td>138</td><td>16</td><td>7</td><td>53</td><td>1</td></tr>",
                            "<tr><td>138</td><td>17</td><td>7</td><td>40</td><td>2</td></tr>",
                            "<tr><td>138</td><td>17</td><td>7</td><td>40</td><td>2</td></tr>",
                            "<tr><td>138</td><td>19</td><td>7</td><td>31</td><td>1</td></tr>",
                            "<tr><td>139</td><td>1</td><td>7</td><td>48</td><td>1</td></tr>",
                            "<tr><td>139</td><td>3</td><td>7</td><td>39</td><td>1</td></tr>",
                            "<tr><td>139</td><td>10</td><td>7</td><td>37</td><td>1</td></tr>",
                            "<tr><td>139</td><td>11</td><td>7</td><td>13</td><td>1</td></tr>",
                            "<tr><td>139</td><td>14</td><td>7</td><td>26</td><td>1</td></tr>",
                            "<tr><td>139</td><td>17</td><td>7</td><td>40</td><td>1</td></tr>",
                            "<tr><td>139</td><td>18</td><td>7</td><td>29</td><td>1</td></tr>",
                            "<tr><td>140</td><td>1</td><td>8</td><td>48</td><td>1</td></tr>",
                            "<tr><td>140</td><td>6</td><td>8</td><td>42</td><td>1</td></tr>",
                            "<tr><td>140</td><td>7</td><td>8</td><td>29</td><td>1</td></tr>",
                            "<tr><td>140</td><td>10</td><td>8</td><td>37</td><td>1</td></tr>",
                            "<tr><td>140</td><td>14</td><td>8</td><td>26</td><td>1</td></tr>",
                            "<tr><td>140</td><td>15</td><td>8</td><td>25</td><td>1</td></tr>",
                            "<tr><td>140</td><td>17</td><td>8</td><td>40</td><td>1</td></tr>",
                            "<tr><td>140</td><td>28</td><td>8</td><td>40</td><td>1</td></tr>",
                            "<tr><td>141</td><td>5</td><td>6</td><td>36</td><td>1</td></tr>",
                            "<tr><td>141</td><td>6</td><td>6</td><td>42</td><td>2</td></tr>",
                            "<tr><td>141</td><td>6</td><td>6</td><td>42</td><td>2</td></tr>",
                            "<tr><td>141</td><td>8</td><td>6</td><td>36</td><td>1</td></tr>",
                            "<tr><td>141</td><td>16</td><td>6</td><td>53</td><td>1</td></tr>",
                            "<tr><td>141</td><td>27</td><td>6</td><td>33</td><td>1</td></tr>",
                            "<tr><td>142</td><td>17</td><td>2</td><td>40</td><td>2</td></tr>",
                            "<tr><td>142</td><td>17</td><td>2</td><td>40</td><td>2</td></tr>",
                            "<tr><td>143</td><td>15</td><td>7</td><td>25</td><td>1</td></tr>",
                            "<tr><td>143</td><td>16</td><td>7</td><td>53</td><td>1</td></tr>",
                            "<tr><td>143</td><td>23</td><td>7</td><td>44</td><td>2</td></tr>",
                            "<tr><td>143</td><td>23</td><td>7</td><td>44</td><td>2</td></tr>",
                            "<tr><td>143</td><td>25</td><td>7</td><td>29</td><td>1</td></tr>",
                            "<tr><td>143</td><td>26</td><td>7</td><td>31</td><td>1</td></tr>",
                            "<tr><td>143</td><td>30</td><td>7</td><td>47</td><td>1</td></tr>",
                            "<tr><td>144</td><td>15</td><td>5</td><td>25</td><td>1</td></tr>",
                            "<tr><td>144</td><td>19</td><td>5</td><td>31</td><td>1</td></tr>",
                            "<tr><td>144</td><td>25</td><td>5</td><td>29</td><td>1</td></tr>",
                            "<tr><td>144</td><td>26</td><td>5</td><td>31</td><td>1</td></tr>",
                            "<tr><td>144</td><td>29</td><td>5</td><td>31</td><td>1</td></tr>",
                            "<tr><td>145</td><td>2</td><td>6</td><td>21</td><td>1</td></tr>",
                            "<tr><td>145</td><td>4</td><td>6</td><td>29</td><td>1</td></tr>",
                            "<tr><td>145</td><td>9</td><td>6</td><td>39</td><td>1</td></tr>",
                            "<tr><td>145</td><td>22</td><td>6</td><td>35</td><td>1</td></tr>",
                            "<tr><td>145</td><td>23</td><td>6</td><td>44</td><td>2</td></tr>",
                            "<tr><td>145</td><td>23</td><td>6</td><td>44</td><td>2</td></tr>",
                            "<tr><td>146</td><td>2</td><td>6</td><td>21</td><td>1</td></tr>",
                            "<tr><td>146</td><td>5</td><td>6</td><td>36</td><td>1</td></tr>",
                            "<tr><td>146</td><td>13</td><td>6</td><td>29</td><td>1</td></tr>",
                            "<tr><td>146</td><td>16</td><td>6</td><td>53</td><td>1</td></tr>",
                            "<tr><td>146</td><td>20</td><td>6</td><td>32</td><td>1</td></tr>",
                            "<tr><td>146</td><td>28</td><td>6</td><td>40</td><td>1</td></tr>",
                            "<tr><td>147</td><td>12</td><td>1</td><td>32</td><td>1</td></tr>",
                            "<tr><td>148</td><td>9</td><td>6</td><td>39</td><td>1</td></tr>",
                            "<tr><td>148</td><td>16</td><td>6</td><td>53</td><td>1</td></tr>",
                            "<tr><td>148</td><td>17</td><td>6</td><td>40</td><td>1</td></tr>",
                            "<tr><td>148</td><td>23</td><td>6</td><td>44</td><td>2</td></tr>",
                            "<tr><td>148</td><td>23</td><td>6</td><td>44</td><td>2</td></tr>",
                            "<tr><td>148</td><td>27</td><td>6</td><td>33</td><td>1</td></tr>",
                            "<tr><td>149</td><td>1</td><td>7</td><td>48</td><td>1</td></tr>",
                            "<tr><td>149</td><td>9</td><td>7</td><td>39</td><td>1</td></tr>",
                            "<tr><td>149</td><td>10</td><td>7</td><td>37</td><td>1</td></tr>",
                            "<tr><td>149</td><td>18</td><td>7</td><td>29</td><td>1</td></tr>",
                            "<tr><td>149</td><td>20</td><td>7</td><td>32</td><td>1</td></tr>",
                            "<tr><td>149</td><td>28</td><td>7</td><td>40</td><td>1</td></tr>",
                            "<tr><td>149</td><td>29</td><td>7</td><td>31</td><td>1</td></tr>",
                            "<tr><td>150</td><td>1</td><td>6</td><td>48</td><td>2</td></tr>",
                            "<tr><td>150</td><td>1</td><td>6</td><td>48</td><td>2</td></tr>",
                            "<tr><td>150</td><td>10</td><td>6</td><td>37</td><td>1</td></tr>",
                            "<tr><td>150</td><td>13</td><td>6</td><td>29</td><td>1</td></tr>",
                            "<tr><td>150</td><td>22</td><td>6</td><td>35</td><td>1</td></tr>",
                            "<tr><td>150</td><td>26</td><td>6</td><td>31</td><td>1</td></tr>",
                            "<tr><td>151</td><td>2</td><td>3</td><td>21</td><td>1</td></tr>",
                            "<tr><td>151</td><td>3</td><td>3</td><td>39</td><td>1</td></tr>",
                            "<tr><td>151</td><td>16</td><td>3</td><td>53</td><td>1</td></tr>",
                            "<tr><td>152</td><td>16</td><td>4</td><td>53</td><td>1</td></tr>",
                            "<tr><td>152</td><td>21</td><td>4</td><td>24</td><td>1</td></tr>",
                            "<tr><td>152</td><td>26</td><td>4</td><td>31</td><td>1</td></tr>",
                            "<tr><td>152</td><td>28</td><td>4</td><td>40</td><td>1</td></tr>",
                            "<tr><td>153</td><td>7</td><td>5</td><td>29</td><td>1</td></tr>",
                            "<tr><td>153</td><td>17</td><td>5</td><td>40</td><td>1</td></tr>",
                            "<tr><td>153</td><td>21</td><td>5</td><td>24</td><td>1</td></tr>",
                            "<tr><td>153</td><td>22</td><td>5</td><td>35</td><td>1</td></tr>",
                            "<tr><td>153</td><td>23</td><td>5</td><td>44</td><td>1</td></tr>",
                            "<tr><td>154</td><td>7</td><td>5</td><td>29</td><td>1</td></tr>",
                            "<tr><td>154</td><td>16</td><td>5</td><td>53</td><td>2</td></tr>",
                            "<tr><td>154</td><td>16</td><td>5</td><td>53</td><td>2</td></tr>",
                            "<tr><td>154</td><td>17</td><td>5</td><td>40</td><td>1</td></tr>",
                            "<tr><td>154</td><td>19</td><td>5</td><td>31</td><td>1</td></tr>",
                            "<tr><td>155</td><td>1</td><td>5</td><td>48</td><td>1</td></tr>",
                            "<tr><td>155</td><td>10</td><td>5</td><td>37</td><td>1</td></tr>",
                            "<tr><td>155</td><td>12</td><td>5</td><td>32</td><td>1</td></tr>",
                            "<tr><td>155</td><td>16</td><td>5</td><td>53</td><td>1</td></tr>",
                            "<tr><td>155</td><td>23</td><td>5</td><td>44</td><td>1</td></tr>",
                            "<tr><td>156</td><td>3</td><td>7</td><td>39</td><td>1</td></tr>",
                            "<tr><td>156</td><td>5</td><td>7</td><td>36</td><td>1</td></tr>",
                            "<tr><td>156</td><td>13</td><td>7</td><td>29</td><td>1</td></tr>",
                            "<tr><td>156</td><td>19</td><td>7</td><td>31</td><td>1</td></tr>",
                            "<tr><td>156</td><td>20</td><td>7</td><td>32</td><td>1</td></tr>",
                            "<tr><td>156</td><td>22</td><td>7</td><td>35</td><td>1</td></tr>",
                            "<tr><td>156</td><td>23</td><td>7</td><td>44</td><td>1</td></tr>",
                            "<tr><td>157</td><td>3</td><td>5</td><td>39</td><td>1</td></tr>",
                            "<tr><td>157</td><td>12</td><td>5</td><td>32</td><td>1</td></tr>",
                            "<tr><td>157</td><td>13</td><td>5</td><td>29</td><td>1</td></tr>",
                            "<tr><td>157</td><td>16</td><td>5</td><td>53</td><td>1</td></tr>",
                            "<tr><td>157</td><td>19</td><td>5</td><td>31</td><td>1</td></tr>",
                            "<tr><td>158</td><td>3</td><td>3</td><td>39</td><td>1</td></tr>",
                            "<tr><td>158</td><td>25</td><td>3</td><td>29</td><td>1</td></tr>",
                            "<tr><td>158</td><td>30</td><td>3</td><td>47</td><td>1</td></tr>",
                            "<tr><td>160</td><td>6</td><td>5</td><td>42</td><td>1</td></tr>",
                            "<tr><td>160</td><td>7</td><td>5</td><td>29</td><td>2</td></tr>",
                            "<tr><td>160</td><td>7</td><td>5</td><td>29</td><td>2</td></tr>",
                            "<tr><td>160</td><td>23</td><td>5</td><td>44</td><td>1</td></tr>",
                            "<tr><td>160</td><td>27</td><td>5</td><td>33</td><td>1</td></tr>",
                            "<tr><td>161</td><td>6</td><td>6</td><td>42</td><td>1</td></tr>",
                            "<tr><td>161</td><td>12</td><td>6</td><td>32</td><td>1</td></tr>",
                            "<tr><td>161</td><td>18</td><td>6</td><td>29</td><td>1</td></tr>",
                            "<tr><td>161</td><td>19</td><td>6</td><td>31</td><td>1</td></tr>",
                            "<tr><td>161</td><td>24</td><td>6</td><td>39</td><td>1</td></tr>",
                            "<tr><td>161</td><td>25</td><td>6</td><td>29</td><td>1</td></tr>",
                            "<tr><td>162</td><td>24</td><td>3</td><td>39</td><td>1</td></tr>",
                            "<tr><td>162</td><td>26</td><td>3</td><td>31</td><td>1</td></tr>",
                            "<tr><td>162</td><td>27</td><td>3</td><td>33</td><td>1</td></tr>",
                            "<tr><td>163</td><td>1</td><td>7</td><td>48</td><td>2</td></tr>",
                            "<tr><td>163</td><td>1</td><td>7</td><td>48</td><td>2</td></tr>",
                            "<tr><td>163</td><td>8</td><td>7</td><td>36</td><td>1</td></tr>",
                            "<tr><td>163</td><td>9</td><td>7</td><td>39</td><td>1</td></tr>",
                            "<tr><td>163</td><td>10</td><td>7</td><td>37</td><td>1</td></tr>",
                            "<tr><td>163</td><td>16</td><td>7</td><td>53</td><td>1</td></tr>",
                            "<tr><td>163</td><td>23</td><td>7</td><td>44</td><td>1</td></tr>",
                            "<tr><td>164</td><td>4</td><td>5</td><td>29</td><td>1</td></tr>",
                            "<tr><td>164</td><td>10</td><td>5</td><td>37</td><td>1</td></tr>",
                            "<tr><td>164</td><td>16</td><td>5</td><td>53</td><td>1</td></tr>",
                            "<tr><td>164</td><td>19</td><td>5</td><td>31</td><td>1</td></tr>",
                            "<tr><td>164</td><td>31</td><td>5</td><td>8</td><td>1</td></tr>",
                            "<tr><td>165</td><td>3</td><td>7</td><td>39</td><td>3</td></tr>",
                            "<tr><td>165</td><td>3</td><td>7</td><td>39</td><td>3</td></tr>",
                            "<tr><td>165</td><td>3</td><td>7</td><td>39</td><td>3</td></tr>",
                            "<tr><td>165</td><td>9</td><td>7</td><td>39</td><td>1</td></tr>",
                            "<tr><td>165</td><td>12</td><td>7</td><td>32</td><td>1</td></tr>",
                            "<tr><td>165</td><td>17</td><td>7</td><td>40</td><td>1</td></tr>",
                            "<tr><td>165</td><td>25</td><td>7</td><td>29</td><td>1</td></tr>",
                            "<tr><td>166</td><td>12</td><td>3</td><td>32</td><td>1</td></tr>",
                            "<tr><td>166</td><td>14</td><td>3</td><td>26</td><td>1</td></tr>",
                            "<tr><td>166</td><td>16</td><td>3</td><td>53</td><td>1</td></tr>",
                            "<tr><td>167</td><td>2</td><td>2</td><td>21</td><td>1</td></tr>",
                            "<tr><td>167</td><td>24</td><td>2</td><td>39</td><td>1</td></tr>",
                            "<tr><td>168</td><td>5</td><td>5</td><td>36</td><td>1</td></tr>",
                            "<tr><td>168</td><td>7</td><td>5</td><td>29</td><td>1</td></tr>",
                            "<tr><td>168</td><td>8</td><td>5</td><td>36</td><td>1</td></tr>",
                            "<tr><td>168</td><td>16</td><td>5</td><td>53</td><td>1</td></tr>",
                            "<tr><td>168</td><td>17</td><td>5</td><td>40</td><td>1</td></tr>",
                            "<tr><td>169</td><td>1</td><td>6</td><td>48</td><td>1</td></tr>",
                            "<tr><td>169</td><td>9</td><td>6</td><td>39</td><td>2</td></tr>",
                            "<tr><td>169</td><td>9</td><td>6</td><td>39</td><td>2</td></tr>",
                            "<tr><td>169</td><td>10</td><td>6</td><td>37</td><td>1</td></tr>",
                            "<tr><td>169</td><td>20</td><td>6</td><td>32</td><td>1</td></tr>",
                            "<tr><td>169</td><td>21</td><td>6</td><td>24</td><td>1</td></tr>",
                            "<tr><td>170</td><td>4</td><td>5</td><td>29</td><td>1</td></tr>",
                            "<tr><td>170</td><td>9</td><td>5</td><td>39</td><td>1</td></tr>",
                            "<tr><td>170</td><td>10</td><td>5</td><td>37</td><td>2</td></tr>",
                            "<tr><td>170</td><td>10</td><td>5</td><td>37</td><td>2</td></tr>",
                            "<tr><td>170</td><td>26</td><td>5</td><td>31</td><td>1</td></tr>",
                            "<tr><td>171</td><td>10</td><td>5</td><td>37</td><td>1</td></tr>",
                            "<tr><td>171</td><td>23</td><td>5</td><td>44</td><td>2</td></tr>",
                            "<tr><td>171</td><td>23</td><td>5</td><td>44</td><td>2</td></tr>",
                            "<tr><td>171</td><td>24</td><td>5</td><td>39</td><td>1</td></tr>",
                            "<tr><td>171</td><td>29</td><td>5</td><td>31</td><td>1</td></tr>",
                            "<tr><td>172</td><td>2</td><td>9</td><td>21</td><td>2</td></tr>",
                            "<tr><td>172</td><td>2</td><td>9</td><td>21</td><td>2</td></tr>",
                            "<tr><td>172</td><td>3</td><td>9</td><td>39</td><td>1</td></tr>",
                            "<tr><td>172</td><td>5</td><td>9</td><td>36</td><td>1</td></tr>",
                            "<tr><td>172</td><td>9</td><td>9</td><td>39</td><td>1</td></tr>",
                            "<tr><td>172</td><td>20</td><td>9</td><td>32</td><td>1</td></tr>",
                            "<tr><td>172</td><td>24</td><td>9</td><td>39</td><td>2</td></tr>",
                            "<tr><td>172</td><td>24</td><td>9</td><td>39</td><td>2</td></tr>",
                            "<tr><td>172</td><td>29</td><td>9</td><td>31</td><td>1</td></tr>",
                            "<tr><td>173</td><td>6</td><td>4</td><td>42</td><td>2</td></tr>",
                            "<tr><td>173</td><td>6</td><td>4</td><td>42</td><td>2</td></tr>",
                            "<tr><td>173</td><td>9</td><td>4</td><td>39</td><td>1</td></tr>",
                            "<tr><td>173</td><td>14</td><td>4</td><td>26</td><td>1</td></tr>",
                            "<tr><td>174</td><td>6</td><td>4</td><td>42</td><td>2</td></tr>",
                            "<tr><td>174</td><td>6</td><td>4</td><td>42</td><td>2</td></tr>",
                            "<tr><td>174</td><td>12</td><td>4</td><td>32</td><td>1</td></tr>",
                            "<tr><td>174</td><td>18</td><td>4</td><td>29</td><td>1</td></tr>",
                            "<tr><td>175</td><td>8</td><td>5</td><td>36</td><td>1</td></tr>",
                            "<tr><td>175</td><td>19</td><td>5</td><td>31</td><td>1</td></tr>",
                            "<tr><td>175</td><td>28</td><td>5</td><td>40</td><td>1</td></tr>",
                            "<tr><td>175</td><td>30</td><td>5</td><td>47</td><td>2</td></tr>",
                            "<tr><td>175</td><td>30</td><td>5</td><td>47</td><td>2</td></tr>",
                            "<tr><td>176</td><td>8</td><td>6</td><td>36</td><td>1</td></tr>",
                            "<tr><td>176</td><td>9</td><td>6</td><td>39</td><td>1</td></tr>",
                            "<tr><td>176</td><td>13</td><td>6</td><td>29</td><td>1</td></tr>",
                            "<tr><td>176</td><td>21</td><td>6</td><td>24</td><td>1</td></tr>",
                            "<tr><td>176</td><td>22</td><td>6</td><td>35</td><td>1</td></tr>",
                            "<tr><td>176</td><td>24</td><td>6</td><td>39</td><td>1</td></tr>",
                            "<tr><td>177</td><td>5</td><td>4</td><td>36</td><td>1</td></tr>",
                            "<tr><td>177</td><td>16</td><td>4</td><td>53</td><td>1</td></tr>",
                            "<tr><td>177</td><td>21</td><td>4</td><td>24</td><td>1</td></tr>",
                            "<tr><td>177</td><td>28</td><td>4</td><td>40</td><td>1</td></tr>",
                            "<tr><td>178</td><td>3</td><td>4</td><td>39</td><td>1</td></tr>",
                            "<tr><td>178</td><td>24</td><td>4</td><td>39</td><td>1</td></tr>",
                            "<tr><td>178</td><td>28</td><td>4</td><td>40</td><td>2</td></tr>",
                            "<tr><td>178</td><td>28</td><td>4</td><td>40</td><td>2</td></tr>",
                            "<tr><td>179</td><td>4</td><td>3</td><td>29</td><td>1</td></tr>",
                            "<tr><td>179</td><td>9</td><td>3</td><td>39</td><td>1</td></tr>",
                            "<tr><td>179</td><td>21</td><td>3</td><td>24</td><td>1</td></tr>",
                            "<tr><td>180</td><td>4</td><td>3</td><td>29</td><td>1</td></tr>",
                            "<tr><td>180</td><td>22</td><td>3</td><td>35</td><td>1</td></tr>",
                            "<tr><td>180</td><td>23</td><td>3</td><td>44</td><td>1</td></tr>",
                            "<tr><td>181</td><td>5</td><td>6</td><td>36</td><td>1</td></tr>",
                            "<tr><td>181</td><td>8</td><td>6</td><td>36</td><td>1</td></tr>",
                            "<tr><td>181</td><td>10</td><td>6</td><td>37</td><td>1</td></tr>",
                            "<tr><td>181</td><td>13</td><td>6</td><td>29</td><td>1</td></tr>",
                            "<tr><td>181</td><td>16</td><td>6</td><td>53</td><td>1</td></tr>",
                            "<tr><td>181</td><td>28</td><td>6</td><td>40</td><td>1</td></tr>",
                            "<tr><td>182</td><td>1</td><td>12</td><td>48</td><td>1</td></tr>",
                            "<tr><td>182</td><td>4</td><td>12</td><td>29</td><td>1</td></tr>",
                            "<tr><td>182</td><td>6</td><td>12</td><td>42</td><td>1</td></tr>",
                            "<tr><td>182</td><td>7</td><td>12</td><td>29</td><td>1</td></tr>",
                            "<tr><td>182</td><td>10</td><td>12</td><td>37</td><td>1</td></tr>",
                            "<tr><td>182</td><td>23</td><td>12</td><td>44</td><td>1</td></tr>",
                            "<tr><td>182</td><td>24</td><td>12</td><td>39</td><td>1</td></tr>",
                            "<tr><td>182</td><td>25</td><td>12</td><td>29</td><td>1</td></tr>",
                            "<tr><td>182</td><td>28</td><td>12</td><td>40</td><td>1</td></tr>",
                            "<tr><td>182</td><td>30</td><td>12</td><td>47</td><td>3</td></tr>",
                            "<tr><td>182</td><td>30</td><td>12</td><td>47</td><td>3</td></tr>",
                            "<tr><td>182</td><td>30</td><td>12</td><td>47</td><td>3</td></tr>",
                            "<tr><td>183</td><td>9</td><td>4</td><td>39</td><td>1</td></tr>",
                            "<tr><td>183</td><td>10</td><td>4</td><td>37</td><td>1</td></tr>",
                            "<tr><td>183</td><td>13</td><td>4</td><td>29</td><td>1</td></tr>",
                            "<tr><td>183</td><td>19</td><td>4</td><td>31</td><td>1</td></tr>",
                            "<tr><td>184</td><td>5</td><td>4</td><td>36</td><td>1</td></tr>",
                            "<tr><td>184</td><td>18</td><td>4</td><td>29</td><td>1</td></tr>",
                            "<tr><td>184</td><td>28</td><td>4</td><td>40</td><td>1</td></tr>",
                            "<tr><td>184</td><td>30</td><td>4</td><td>47</td><td>1</td></tr>",
                            "<tr><td>185</td><td>3</td><td>12</td><td>39</td><td>1</td></tr>",
                            "<tr><td>185</td><td>6</td><td>12</td><td>42</td><td>1</td></tr>",
                            "<tr><td>185</td><td>7</td><td>12</td><td>29</td><td>1</td></tr>",
                            "<tr><td>185</td><td>13</td><td>12</td><td>29</td><td>1</td></tr>",
                            "<tr><td>185</td><td>14</td><td>12</td><td>26</td><td>1</td></tr>",
                            "<tr><td>185</td><td>16</td><td>12</td><td>53</td><td>1</td></tr>",
                            "<tr><td>185</td><td>17</td><td>12</td><td>40</td><td>1</td></tr>",
                            "<tr><td>185</td><td>20</td><td>12</td><td>32</td><td>1</td></tr>",
                            "<tr><td>185</td><td>22</td><td>12</td><td>35</td><td>1</td></tr>",
                            "<tr><td>185</td><td>23</td><td>12</td><td>44</td><td>1</td></tr>",
                            "<tr><td>185</td><td>24</td><td>12</td><td>39</td><td>1</td></tr>",
                            "<tr><td>185</td><td>28</td><td>12</td><td>40</td><td>1</td></tr>",
                            "<tr><td>186</td><td>1</td><td>4</td><td>48</td><td>1</td></tr>",
                            "<tr><td>186</td><td>5</td><td>4</td><td>36</td><td>1</td></tr>",
                            "<tr><td>186</td><td>15</td><td>4</td><td>25</td><td>1</td></tr>",
                            "<tr><td>186</td><td>22</td><td>4</td><td>35</td><td>1</td></tr>",
                            "<tr><td>187</td><td>9</td><td>7</td><td>39</td><td>1</td></tr>",
                            "<tr><td>187</td><td>10</td><td>7</td><td>37</td><td>1</td></tr>",
                            "<tr><td>187</td><td>13</td><td>7</td><td>29</td><td>1</td></tr>",
                            "<tr><td>187</td><td>20</td><td>7</td><td>32</td><td>1</td></tr>",
                            "<tr><td>187</td><td>28</td><td>7</td><td>40</td><td>1</td></tr>",
                            "<tr><td>187</td><td>29</td><td>7</td><td>31</td><td>1</td></tr>",
                            "<tr><td>187</td><td>31</td><td>7</td><td>8</td><td>1</td></tr>",
                            "<tr><td>188</td><td>1</td><td>6</td><td>48</td><td>1</td></tr>",
                            "<tr><td>188</td><td>5</td><td>6</td><td>36</td><td>1</td></tr>",
                            "<tr><td>188</td><td>6</td><td>6</td><td>42</td><td>1</td></tr>",
                            "<tr><td>188</td><td>19</td><td>6</td><td>31</td><td>1</td></tr>",
                            "<tr><td>188</td><td>24</td><td>6</td><td>39</td><td>1</td></tr>",
                            "<tr><td>188</td><td>25</td><td>6</td><td>29</td><td>1</td></tr>",
                            "<tr><td>189</td><td>3</td><td>5</td><td>39</td><td>1</td></tr>",
                            "<tr><td>189</td><td>17</td><td>5</td><td>40</td><td>1</td></tr>",
                            "<tr><td>189</td><td>20</td><td>5</td><td>32</td><td>1</td></tr>",
                            "<tr><td>189</td><td>26</td><td>5</td><td>31</td><td>1</td></tr>",
                            "<tr><td>189</td><td>27</td><td>5</td><td>33</td><td>1</td></tr>",
                            "<tr><td>190</td><td>8</td><td>5</td><td>36</td><td>1</td></tr>",
                            "<tr><td>190</td><td>11</td><td>5</td><td>13</td><td>1</td></tr>",
                            "<tr><td>190</td><td>13</td><td>5</td><td>29</td><td>1</td></tr>",
                            "<tr><td>190</td><td>24</td><td>5</td><td>39</td><td>1</td></tr>",
                            "<tr><td>190</td><td>27</td><td>5</td><td>33</td><td>1</td></tr>",
                            "<tr><td>191</td><td>5</td><td>5</td><td>36</td><td>1</td></tr>",
                            "<tr><td>191</td><td>8</td><td>5</td><td>36</td><td>1</td></tr>",
                            "<tr><td>191</td><td>9</td><td>5</td><td>39</td><td>1</td></tr>",
                            "<tr><td>191</td><td>22</td><td>5</td><td>35</td><td>1</td></tr>",
                            "<tr><td>191</td><td>27</td><td>5</td><td>33</td><td>1</td></tr>",
                            "<tr><td>192</td><td>4</td><td>2</td><td>29</td><td>1</td></tr>",
                            "<tr><td>192</td><td>17</td><td>2</td><td>40</td><td>1</td></tr>",
                            "<tr><td>193</td><td>3</td><td>7</td><td>39</td><td>1</td></tr>",
                            "<tr><td>193</td><td>7</td><td>7</td><td>29</td><td>1</td></tr>",
                            "<tr><td>193</td><td>9</td><td>7</td><td>39</td><td>1</td></tr>",
                            "<tr><td>193</td><td>11</td><td>7</td><td>13</td><td>1</td></tr>",
                            "<tr><td>193</td><td>15</td><td>7</td><td>25</td><td>1</td></tr>",
                            "<tr><td>193</td><td>22</td><td>7</td><td>35</td><td>1</td></tr>",
                            "<tr><td>193</td><td>29</td><td>7</td><td>31</td><td>1</td></tr>",
                            "<tr><td>194</td><td>30</td><td>1</td><td>47</td><td>1</td></tr>",
                            "<tr><td>195</td><td>22</td><td>6</td><td>35</td><td>1</td></tr>",
                            "<tr><td>195</td><td>23</td><td>6</td><td>44</td><td>1</td></tr>",
                            "<tr><td>195</td><td>24</td><td>6</td><td>39</td><td>1</td></tr>",
                            "<tr><td>195</td><td>27</td><td>6</td><td>33</td><td>1</td></tr>",
                            "<tr><td>195</td><td>30</td><td>6</td><td>47</td><td>1</td></tr>",
                            "<tr><td>195</td><td>31</td><td>6</td><td>8</td><td>1</td></tr>",
                            "<tr><td>196</td><td>4</td><td>4</td><td>29</td><td>1</td></tr>",
                            "<tr><td>196</td><td>11</td><td>4</td><td>13</td><td>1</td></tr>",
                            "<tr><td>196</td><td>14</td><td>4</td><td>26</td><td>1</td></tr>",
                            "<tr><td>196</td><td>23</td><td>4</td><td>44</td><td>1</td></tr>",
                            "<tr><td>197</td><td>9</td><td>6</td><td>39</td><td>1</td></tr>",
                            "<tr><td>197</td><td>20</td><td>6</td><td>32</td><td>1</td></tr>",
                            "<tr><td>197</td><td>22</td><td>6</td><td>35</td><td>1</td></tr>",
                            "<tr><td>197</td><td>24</td><td>6</td><td>39</td><td>1</td></tr>",
                            "<tr><td>197</td><td>30</td><td>6</td><td>47</td><td>2</td></tr>",
                            "<tr><td>197</td><td>30</td><td>6</td><td>47</td><td>2</td></tr>",
                            "<tr><td>198</td><td>3</td><td>8</td><td>39</td><td>1</td></tr>",
                            "<tr><td>198</td><td>4</td><td>8</td><td>29</td><td>1</td></tr>",
                            "<tr><td>198</td><td>5</td><td>8</td><td>36</td><td>1</td></tr>",
                            "<tr><td>198</td><td>9</td><td>8</td><td>39</td><td>1</td></tr>",
                            "<tr><td>198</td><td>17</td><td>8</td><td>40</td><td>1</td></tr>",
                            "<tr><td>198</td><td>18</td><td>8</td><td>29</td><td>1</td></tr>",
                            "<tr><td>198</td><td>22</td><td>8</td><td>35</td><td>1</td></tr>",
                            "<tr><td>198</td><td>29</td><td>8</td><td>31</td><td>1</td></tr>",
                            "</table>"
                        ]
                    }
                }
            ],
            "execution_count": 43
        },
        {
            "cell_type": "code",
            "source": [
                "CREATE TABLE #MASKED_GUEST\r\n",
                "(\r\n",
                "    USERNEV NVARCHAR(20),\r\n",
                "    NEV NVARCHAR(50) MASKED WITH (FUNCTION = 'partial(2, \"XXXX\", 3)'),\r\n",
                "    EMAIL NVARCHAR(60),\r\n",
                "    SZAML_CIM NVARCHAR(100),\r\n",
                "    SZUL_DAT date\r\n",
                ")"
            ],
            "metadata": {
                "azdata_cell_guid": "54eff7d5-472d-45c0-908f-ec9e03efcafe",
                "language": "sql"
            },
            "outputs": [],
            "execution_count": null
        },
        {
            "cell_type": "markdown",
            "source": [
                "Redis"
            ],
            "metadata": {
                "azdata_cell_guid": "8917380f-e91a-414f-857e-07947f37d8cd"
            },
            "attachments": {}
        },
        {
            "cell_type": "code",
            "source": [
                "HSET iro:1 nev 'Toth Otto' nemzetiseg 'magyar'\r\n",
                "HSET iro:2 nev 'Kovacs Bela' nemzetiseg 'magyar'\r\n",
                "HSET konyv:1:1 cim 'Otto elete' mufaj 'kaland'\r\n",
                "HSET konyv:2:2 cim 'Kovacs elete' mufaj 'regeny'"
            ],
            "metadata": {
                "azdata_cell_guid": "7e20f6f5-0926-4164-b5cd-1e8dc4f13405",
                "language": "sql"
            },
            "outputs": [],
            "execution_count": null
        },
        {
            "cell_type": "markdown",
            "source": [
                "Cassandra"
            ],
            "metadata": {
                "azdata_cell_guid": "a0b084e7-fcd2-4f74-821e-e5100cbddf73"
            },
            "attachments": {}
        },
        {
            "cell_type": "code",
            "source": [
                "CREATE TABLE STUDENT\r\n",
                "\r\n",
                "(\r\n",
                "\r\n",
                "    ID INT PRIMARY KEY,\r\n",
                "\r\n",
                "    Nev TEXT,\r\n",
                "\r\n",
                "    Teljesitett_felevek LIST<INT>,\r\n",
                "\r\n",
                "    Eredmenyek MAP<INT, DECIMAL>,\r\n",
                "\r\n",
                "    Nyelvtudas SET<TEXT>\r\n",
                "\r\n",
                ");\r\n",
                "\r\n",
                "INSERT INTO STUDENT (ID, Nev, Teljesitett_felevek, Eredmenyek, Nyelvtudas) VALUES (1, 'Kovacs Bela', [1, 2, 3], {1: 3.00, 2: 4.55, 3: 4.10}, {'angol', 'francia'});\r\n",
                "\r\n",
                "INSERT INTO STUDENT (ID, Nev, Teljesitett_felevek, Eredmenyek, Nyelvtudas) VALUES (2, 'Toth Otto', [1, 2], {1: 4.00, 2: 4.75}, {'spanyol', 'német'});\r\n",
                "\r\n",
                ""
            ],
            "metadata": {
                "azdata_cell_guid": "622899a1-a3ef-45e8-9c8a-a0e9758e80b9",
                "language": "sql"
            },
            "outputs": [],
            "execution_count": null
        },
        {
            "cell_type": "markdown",
            "source": [
                "Neo4j"
            ],
            "metadata": {
                "azdata_cell_guid": "f89f26f9-35d3-46bd-ae35-99b1dae4cfd7"
            },
            "attachments": {}
        },
        {
            "cell_type": "code",
            "source": [
                "MATCH (tom:Person {name: \"Tom Hanks\"})-[:ACTED_IN]->(movie)<-[:ACTED_IN]-(other:Person)\r\n",
                "WHERE other <> tom\r\n",
                "RETURN DISTINCT other.name AS Szerepeltek_Tommal\r\n",
                ""
            ],
            "metadata": {
                "azdata_cell_guid": "1fb83b49-3f3c-473b-9ef4-5259223ac137",
                "language": "sql"
            },
            "outputs": [],
            "execution_count": null
        }
    ]
}