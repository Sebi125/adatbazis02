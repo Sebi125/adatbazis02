{
    "metadata": {
        "kernelspec": {
            "name": "SQL",
            "display_name": "SQL",
            "language": "sql"
        },
        "language_info": {
            "name": "sql",
            "version": ""
        }
    },
    "nbformat_minor": 2,
    "nbformat": 4,
    "cells": [
        {
            "cell_type": "code",
            "source": [
                "SELECT TIPUS, HELY, ROUND(AVG(CSILLAGOK_SZAMA), 2)\r\n",
                "FROM Szallashely\r\n",
                "WHERE HELY NOT LIKE '%-%'\r\n",
                "GROUP BY GROUPING SETS((TIPUS), (HELY))"
            ],
            "metadata": {
                "azdata_cell_guid": "06eef51d-8ed0-49bc-b635-840e0a3f01f8",
                "language": "sql"
            },
            "outputs": [
                {
                    "output_type": "display_data",
                    "data": {
                        "text/html": "(11 rows affected)"
                    },
                    "metadata": {}
                },
                {
                    "output_type": "display_data",
                    "data": {
                        "text/html": "Total execution time: 00:00:00.011"
                    },
                    "metadata": {}
                },
                {
                    "output_type": "execute_result",
                    "execution_count": 12,
                    "data": {
                        "application/vnd.dataresource+json": {
                            "schema": {
                                "fields": [
                                    {
                                        "name": "TIPUS"
                                    },
                                    {
                                        "name": "HELY"
                                    },
                                    {
                                        "name": "(No column name)"
                                    }
                                ]
                            },
                            "data": [
                                {
                                    "TIPUS": "NULL",
                                    "HELY": "Békés megye",
                                    "(No column name)": "3"
                                },
                                {
                                    "TIPUS": "NULL",
                                    "HELY": "Budapest",
                                    "(No column name)": "2"
                                },
                                {
                                    "TIPUS": "NULL",
                                    "HELY": "Csongrád megye",
                                    "(No column name)": "1"
                                },
                                {
                                    "TIPUS": "NULL",
                                    "HELY": "Hajdúbihar megye",
                                    "(No column name)": "0"
                                },
                                {
                                    "TIPUS": "NULL",
                                    "HELY": "Pest megye",
                                    "(No column name)": "3"
                                },
                                {
                                    "TIPUS": "NULL",
                                    "HELY": "Tolna megye",
                                    "(No column name)": "4"
                                },
                                {
                                    "TIPUS": "Apartman",
                                    "HELY": "NULL",
                                    "(No column name)": "0"
                                },
                                {
                                    "TIPUS": "Diákszálló",
                                    "HELY": "NULL",
                                    "(No column name)": "0"
                                },
                                {
                                    "TIPUS": "Hotel",
                                    "HELY": "NULL",
                                    "(No column name)": "3"
                                },
                                {
                                    "TIPUS": "panzió",
                                    "HELY": "NULL",
                                    "(No column name)": "3"
                                },
                                {
                                    "TIPUS": "vendégház",
                                    "HELY": "NULL",
                                    "(No column name)": "0"
                                }
                            ]
                        },
                        "text/html": "<table><tr><th>TIPUS</th><th>HELY</th><th>(No column name)</th></tr><tr><td>NULL</td><td>Békés megye</td><td>3</td></tr><tr><td>NULL</td><td>Budapest</td><td>2</td></tr><tr><td>NULL</td><td>Csongrád megye</td><td>1</td></tr><tr><td>NULL</td><td>Hajdúbihar megye</td><td>0</td></tr><tr><td>NULL</td><td>Pest megye</td><td>3</td></tr><tr><td>NULL</td><td>Tolna megye</td><td>4</td></tr><tr><td>Apartman</td><td>NULL</td><td>0</td></tr><tr><td>Diákszálló</td><td>NULL</td><td>0</td></tr><tr><td>Hotel</td><td>NULL</td><td>3</td></tr><tr><td>panzió</td><td>NULL</td><td>3</td></tr><tr><td>vendégház</td><td>NULL</td><td>0</td></tr></table>"
                    },
                    "metadata": {}
                }
            ],
            "execution_count": 12
        },
        {
            "cell_type": "code",
            "source": [
                "SELECT SZOBA_FK, FOGLALAS_PK, DATEDIFF(d, METTOL, MEDDIG) AS 'Időtartam napokban', LAG(DATEDIFF(d, METTOL, MEDDIG), 1, 0) OVER(PARTITION BY SZOBA_FK ORDER BY FOGLALAS_PK) AS 'Előző'\r\n",
                "FROM Foglalas"
            ],
            "metadata": {
                "azdata_cell_guid": "cc1a3b19-4009-48ed-b639-e182ccb08dd2",
                "language": "sql"
            },
            "outputs": [
                {
                    "output_type": "display_data",
                    "data": {
                        "text/html": "(1027 rows affected)"
                    },
                    "metadata": {}
                },
                {
                    "output_type": "display_data",
                    "data": {
                        "text/html": "Total execution time: 00:00:00.018"
                    },
                    "metadata": {}
                },
                {
                    "output_type": "execute_result",
                    "execution_count": 30,
                    "data": {
                        "application/vnd.dataresource+json": {
                            "schema": {
                                "fields": [
                                    {
                                        "name": "SZOBA_FK"
                                    },
                                    {
                                        "name": "FOGLALAS_PK"
                                    },
                                    {
                                        "name": "Időtartam napokban"
                                    },
                                    {
                                        "name": "Előző"
                                    }
                                ]
                            },
                            "data": [
                                {
                                    "SZOBA_FK": "1",
                                    "FOGLALAS_PK": "620",
                                    "Időtartam napokban": "5",
                                    "Előző": "0"
                                },
                                {
                                    "SZOBA_FK": "1",
                                    "FOGLALAS_PK": "738",
                                    "Időtartam napokban": "7",
                                    "Előző": "5"
                                },
                                {
                                    "SZOBA_FK": "1",
                                    "FOGLALAS_PK": "803",
                                    "Időtartam napokban": "4",
                                    "Előző": "7"
                                },
                                {
                                    "SZOBA_FK": "1",
                                    "FOGLALAS_PK": "949",
                                    "Időtartam napokban": "1",
                                    "Előző": "4"
                                },
                                {
                                    "SZOBA_FK": "1",
                                    "FOGLALAS_PK": "1137",
                                    "Időtartam napokban": "2",
                                    "Előző": "1"
                                },
                                {
                                    "SZOBA_FK": "1",
                                    "FOGLALAS_PK": "1152",
                                    "Időtartam napokban": "1",
                                    "Előző": "2"
                                },
                                {
                                    "SZOBA_FK": "1",
                                    "FOGLALAS_PK": "1274",
                                    "Időtartam napokban": "1",
                                    "Előző": "1"
                                },
                                {
                                    "SZOBA_FK": "1",
                                    "FOGLALAS_PK": "1334",
                                    "Időtartam napokban": "4",
                                    "Előző": "1"
                                },
                                {
                                    "SZOBA_FK": "2",
                                    "FOGLALAS_PK": "828",
                                    "Időtartam napokban": "3",
                                    "Előző": "0"
                                },
                                {
                                    "SZOBA_FK": "2",
                                    "FOGLALAS_PK": "1051",
                                    "Időtartam napokban": "1",
                                    "Előző": "3"
                                },
                                {
                                    "SZOBA_FK": "2",
                                    "FOGLALAS_PK": "1069",
                                    "Időtartam napokban": "7",
                                    "Előző": "1"
                                },
                                {
                                    "SZOBA_FK": "2",
                                    "FOGLALAS_PK": "1311",
                                    "Időtartam napokban": "7",
                                    "Előző": "7"
                                },
                                {
                                    "SZOBA_FK": "3",
                                    "FOGLALAS_PK": "629",
                                    "Időtartam napokban": "4",
                                    "Előző": "0"
                                },
                                {
                                    "SZOBA_FK": "3",
                                    "FOGLALAS_PK": "666",
                                    "Időtartam napokban": "6",
                                    "Előző": "4"
                                },
                                {
                                    "SZOBA_FK": "3",
                                    "FOGLALAS_PK": "788",
                                    "Időtartam napokban": "6",
                                    "Előző": "6"
                                },
                                {
                                    "SZOBA_FK": "3",
                                    "FOGLALAS_PK": "1038",
                                    "Időtartam napokban": "3",
                                    "Előző": "6"
                                },
                                {
                                    "SZOBA_FK": "3",
                                    "FOGLALAS_PK": "1110",
                                    "Időtartam napokban": "7",
                                    "Előző": "3"
                                },
                                {
                                    "SZOBA_FK": "3",
                                    "FOGLALAS_PK": "1151",
                                    "Időtartam napokban": "1",
                                    "Előző": "7"
                                },
                                {
                                    "SZOBA_FK": "3",
                                    "FOGLALAS_PK": "1434",
                                    "Időtartam napokban": "5",
                                    "Előző": "1"
                                },
                                {
                                    "SZOBA_FK": "3",
                                    "FOGLALAS_PK": "1544",
                                    "Időtartam napokban": "5",
                                    "Előző": "5"
                                },
                                {
                                    "SZOBA_FK": "4",
                                    "FOGLALAS_PK": "651",
                                    "Időtartam napokban": "7",
                                    "Előző": "0"
                                },
                                {
                                    "SZOBA_FK": "4",
                                    "FOGLALAS_PK": "946",
                                    "Időtartam napokban": "5",
                                    "Előző": "7"
                                },
                                {
                                    "SZOBA_FK": "4",
                                    "FOGLALAS_PK": "1001",
                                    "Időtartam napokban": "7",
                                    "Előző": "5"
                                },
                                {
                                    "SZOBA_FK": "4",
                                    "FOGLALAS_PK": "1127",
                                    "Időtartam napokban": "3",
                                    "Előző": "7"
                                },
                                {
                                    "SZOBA_FK": "4",
                                    "FOGLALAS_PK": "1132",
                                    "Időtartam napokban": "6",
                                    "Előző": "3"
                                },
                                {
                                    "SZOBA_FK": "4",
                                    "FOGLALAS_PK": "1492",
                                    "Időtartam napokban": "6",
                                    "Előző": "6"
                                },
                                {
                                    "SZOBA_FK": "5",
                                    "FOGLALAS_PK": "564",
                                    "Időtartam napokban": "2",
                                    "Előző": "0"
                                },
                                {
                                    "SZOBA_FK": "5",
                                    "FOGLALAS_PK": "965",
                                    "Időtartam napokban": "7",
                                    "Előző": "2"
                                },
                                {
                                    "SZOBA_FK": "5",
                                    "FOGLALAS_PK": "1073",
                                    "Időtartam napokban": "5",
                                    "Előző": "7"
                                },
                                {
                                    "SZOBA_FK": "5",
                                    "FOGLALAS_PK": "1257",
                                    "Időtartam napokban": "3",
                                    "Előző": "5"
                                },
                                {
                                    "SZOBA_FK": "6",
                                    "FOGLALAS_PK": "560",
                                    "Időtartam napokban": "6",
                                    "Előző": "0"
                                },
                                {
                                    "SZOBA_FK": "6",
                                    "FOGLALAS_PK": "772",
                                    "Időtartam napokban": "6",
                                    "Előző": "6"
                                },
                                {
                                    "SZOBA_FK": "6",
                                    "FOGLALAS_PK": "850",
                                    "Időtartam napokban": "2",
                                    "Előző": "6"
                                },
                                {
                                    "SZOBA_FK": "6",
                                    "FOGLALAS_PK": "873",
                                    "Időtartam napokban": "3",
                                    "Előző": "2"
                                },
                                {
                                    "SZOBA_FK": "6",
                                    "FOGLALAS_PK": "990",
                                    "Időtartam napokban": "4",
                                    "Előző": "3"
                                },
                                {
                                    "SZOBA_FK": "6",
                                    "FOGLALAS_PK": "1099",
                                    "Időtartam napokban": "4",
                                    "Előző": "4"
                                },
                                {
                                    "SZOBA_FK": "7",
                                    "FOGLALAS_PK": "562",
                                    "Időtartam napokban": "4",
                                    "Előző": "0"
                                },
                                {
                                    "SZOBA_FK": "7",
                                    "FOGLALAS_PK": "759",
                                    "Időtartam napokban": "7",
                                    "Előző": "4"
                                },
                                {
                                    "SZOBA_FK": "7",
                                    "FOGLALAS_PK": "1131",
                                    "Időtartam napokban": "1",
                                    "Előző": "7"
                                },
                                {
                                    "SZOBA_FK": "7",
                                    "FOGLALAS_PK": "1175",
                                    "Időtartam napokban": "4",
                                    "Előző": "1"
                                },
                                {
                                    "SZOBA_FK": "7",
                                    "FOGLALAS_PK": "1182",
                                    "Időtartam napokban": "4",
                                    "Előző": "4"
                                },
                                {
                                    "SZOBA_FK": "7",
                                    "FOGLALAS_PK": "1252",
                                    "Időtartam napokban": "2",
                                    "Előző": "4"
                                },
                                {
                                    "SZOBA_FK": "8",
                                    "FOGLALAS_PK": "694",
                                    "Időtartam napokban": "4",
                                    "Előző": "0"
                                },
                                {
                                    "SZOBA_FK": "8",
                                    "FOGLALAS_PK": "818",
                                    "Időtartam napokban": "4",
                                    "Előző": "4"
                                },
                                {
                                    "SZOBA_FK": "8",
                                    "FOGLALAS_PK": "832",
                                    "Időtartam napokban": "4",
                                    "Előző": "4"
                                },
                                {
                                    "SZOBA_FK": "8",
                                    "FOGLALAS_PK": "882",
                                    "Időtartam napokban": "1",
                                    "Előző": "4"
                                },
                                {
                                    "SZOBA_FK": "8",
                                    "FOGLALAS_PK": "947",
                                    "Időtartam napokban": "3",
                                    "Előző": "1"
                                },
                                {
                                    "SZOBA_FK": "9",
                                    "FOGLALAS_PK": "609",
                                    "Időtartam napokban": "2",
                                    "Előző": "0"
                                },
                                {
                                    "SZOBA_FK": "9",
                                    "FOGLALAS_PK": "1157",
                                    "Időtartam napokban": "6",
                                    "Előző": "2"
                                },
                                {
                                    "SZOBA_FK": "9",
                                    "FOGLALAS_PK": "1220",
                                    "Időtartam napokban": "3",
                                    "Előző": "6"
                                },
                                {
                                    "SZOBA_FK": "9",
                                    "FOGLALAS_PK": "1260",
                                    "Időtartam napokban": "6",
                                    "Előző": "3"
                                },
                                {
                                    "SZOBA_FK": "9",
                                    "FOGLALAS_PK": "1423",
                                    "Időtartam napokban": "3",
                                    "Előző": "6"
                                },
                                {
                                    "SZOBA_FK": "9",
                                    "FOGLALAS_PK": "1537",
                                    "Időtartam napokban": "3",
                                    "Előző": "3"
                                },
                                {
                                    "SZOBA_FK": "10",
                                    "FOGLALAS_PK": "569",
                                    "Időtartam napokban": "3",
                                    "Előző": "0"
                                },
                                {
                                    "SZOBA_FK": "10",
                                    "FOGLALAS_PK": "790",
                                    "Időtartam napokban": "5",
                                    "Előző": "3"
                                },
                                {
                                    "SZOBA_FK": "10",
                                    "FOGLALAS_PK": "795",
                                    "Időtartam napokban": "4",
                                    "Előző": "5"
                                },
                                {
                                    "SZOBA_FK": "10",
                                    "FOGLALAS_PK": "1319",
                                    "Időtartam napokban": "6",
                                    "Előző": "4"
                                },
                                {
                                    "SZOBA_FK": "11",
                                    "FOGLALAS_PK": "918",
                                    "Időtartam napokban": "6",
                                    "Előző": "0"
                                },
                                {
                                    "SZOBA_FK": "11",
                                    "FOGLALAS_PK": "1123",
                                    "Időtartam napokban": "5",
                                    "Előző": "6"
                                },
                                {
                                    "SZOBA_FK": "11",
                                    "FOGLALAS_PK": "1236",
                                    "Időtartam napokban": "1",
                                    "Előző": "5"
                                },
                                {
                                    "SZOBA_FK": "11",
                                    "FOGLALAS_PK": "1523",
                                    "Időtartam napokban": "1",
                                    "Előző": "1"
                                },
                                {
                                    "SZOBA_FK": "12",
                                    "FOGLALAS_PK": "697",
                                    "Időtartam napokban": "2",
                                    "Előző": "0"
                                },
                                {
                                    "SZOBA_FK": "12",
                                    "FOGLALAS_PK": "775",
                                    "Időtartam napokban": "4",
                                    "Előző": "2"
                                },
                                {
                                    "SZOBA_FK": "12",
                                    "FOGLALAS_PK": "876",
                                    "Időtartam napokban": "7",
                                    "Előző": "4"
                                },
                                {
                                    "SZOBA_FK": "12",
                                    "FOGLALAS_PK": "951",
                                    "Időtartam napokban": "3",
                                    "Előző": "7"
                                },
                                {
                                    "SZOBA_FK": "12",
                                    "FOGLALAS_PK": "970",
                                    "Időtartam napokban": "2",
                                    "Előző": "3"
                                },
                                {
                                    "SZOBA_FK": "12",
                                    "FOGLALAS_PK": "1020",
                                    "Időtartam napokban": "5",
                                    "Előző": "2"
                                },
                                {
                                    "SZOBA_FK": "12",
                                    "FOGLALAS_PK": "1140",
                                    "Időtartam napokban": "3",
                                    "Előző": "5"
                                },
                                {
                                    "SZOBA_FK": "12",
                                    "FOGLALAS_PK": "1164",
                                    "Időtartam napokban": "5",
                                    "Előző": "3"
                                },
                                {
                                    "SZOBA_FK": "12",
                                    "FOGLALAS_PK": "1430",
                                    "Időtartam napokban": "2",
                                    "Előző": "5"
                                },
                                {
                                    "SZOBA_FK": "13",
                                    "FOGLALAS_PK": "763",
                                    "Időtartam napokban": "4",
                                    "Előző": "0"
                                },
                                {
                                    "SZOBA_FK": "13",
                                    "FOGLALAS_PK": "1044",
                                    "Időtartam napokban": "6",
                                    "Előző": "4"
                                },
                                {
                                    "SZOBA_FK": "13",
                                    "FOGLALAS_PK": "1347",
                                    "Időtartam napokban": "3",
                                    "Előző": "6"
                                },
                                {
                                    "SZOBA_FK": "13",
                                    "FOGLALAS_PK": "1469",
                                    "Időtartam napokban": "2",
                                    "Előző": "3"
                                },
                                {
                                    "SZOBA_FK": "14",
                                    "FOGLALAS_PK": "663",
                                    "Időtartam napokban": "1",
                                    "Előző": "0"
                                },
                                {
                                    "SZOBA_FK": "14",
                                    "FOGLALAS_PK": "813",
                                    "Időtartam napokban": "3",
                                    "Előző": "1"
                                },
                                {
                                    "SZOBA_FK": "14",
                                    "FOGLALAS_PK": "1542",
                                    "Időtartam napokban": "4",
                                    "Előző": "3"
                                },
                                {
                                    "SZOBA_FK": "15",
                                    "FOGLALAS_PK": "791",
                                    "Időtartam napokban": "5",
                                    "Előző": "0"
                                },
                                {
                                    "SZOBA_FK": "15",
                                    "FOGLALAS_PK": "1028",
                                    "Időtartam napokban": "2",
                                    "Előző": "5"
                                },
                                {
                                    "SZOBA_FK": "15",
                                    "FOGLALAS_PK": "1129",
                                    "Időtartam napokban": "4",
                                    "Előző": "2"
                                },
                                {
                                    "SZOBA_FK": "15",
                                    "FOGLALAS_PK": "1244",
                                    "Időtartam napokban": "1",
                                    "Előző": "4"
                                },
                                {
                                    "SZOBA_FK": "15",
                                    "FOGLALAS_PK": "1418",
                                    "Időtartam napokban": "4",
                                    "Előző": "1"
                                },
                                {
                                    "SZOBA_FK": "15",
                                    "FOGLALAS_PK": "1442",
                                    "Időtartam napokban": "3",
                                    "Előző": "4"
                                },
                                {
                                    "SZOBA_FK": "16",
                                    "FOGLALAS_PK": "687",
                                    "Időtartam napokban": "3",
                                    "Előző": "0"
                                },
                                {
                                    "SZOBA_FK": "16",
                                    "FOGLALAS_PK": "856",
                                    "Időtartam napokban": "6",
                                    "Előző": "3"
                                },
                                {
                                    "SZOBA_FK": "16",
                                    "FOGLALAS_PK": "896",
                                    "Időtartam napokban": "1",
                                    "Előző": "6"
                                },
                                {
                                    "SZOBA_FK": "16",
                                    "FOGLALAS_PK": "973",
                                    "Időtartam napokban": "1",
                                    "Előző": "1"
                                },
                                {
                                    "SZOBA_FK": "16",
                                    "FOGLALAS_PK": "1498",
                                    "Időtartam napokban": "7",
                                    "Előző": "1"
                                },
                                {
                                    "SZOBA_FK": "17",
                                    "FOGLALAS_PK": "602",
                                    "Időtartam napokban": "6",
                                    "Előző": "0"
                                },
                                {
                                    "SZOBA_FK": "17",
                                    "FOGLALAS_PK": "713",
                                    "Időtartam napokban": "6",
                                    "Előző": "6"
                                },
                                {
                                    "SZOBA_FK": "17",
                                    "FOGLALAS_PK": "744",
                                    "Időtartam napokban": "1",
                                    "Előző": "6"
                                },
                                {
                                    "SZOBA_FK": "17",
                                    "FOGLALAS_PK": "916",
                                    "Időtartam napokban": "2",
                                    "Előző": "1"
                                },
                                {
                                    "SZOBA_FK": "17",
                                    "FOGLALAS_PK": "1316",
                                    "Időtartam napokban": "5",
                                    "Előző": "2"
                                },
                                {
                                    "SZOBA_FK": "17",
                                    "FOGLALAS_PK": "1549",
                                    "Időtartam napokban": "3",
                                    "Előző": "5"
                                },
                                {
                                    "SZOBA_FK": "18",
                                    "FOGLALAS_PK": "626",
                                    "Időtartam napokban": "3",
                                    "Előző": "0"
                                },
                                {
                                    "SZOBA_FK": "18",
                                    "FOGLALAS_PK": "767",
                                    "Időtartam napokban": "3",
                                    "Előző": "3"
                                },
                                {
                                    "SZOBA_FK": "18",
                                    "FOGLALAS_PK": "1035",
                                    "Időtartam napokban": "6",
                                    "Előző": "3"
                                },
                                {
                                    "SZOBA_FK": "18",
                                    "FOGLALAS_PK": "1173",
                                    "Időtartam napokban": "6",
                                    "Előző": "6"
                                },
                                {
                                    "SZOBA_FK": "18",
                                    "FOGLALAS_PK": "1198",
                                    "Időtartam napokban": "4",
                                    "Előző": "6"
                                },
                                {
                                    "SZOBA_FK": "18",
                                    "FOGLALAS_PK": "1505",
                                    "Időtartam napokban": "6",
                                    "Előző": "4"
                                },
                                {
                                    "SZOBA_FK": "19",
                                    "FOGLALAS_PK": "696",
                                    "Időtartam napokban": "1",
                                    "Előző": "0"
                                },
                                {
                                    "SZOBA_FK": "19",
                                    "FOGLALAS_PK": "778",
                                    "Időtartam napokban": "1",
                                    "Előző": "1"
                                },
                                {
                                    "SZOBA_FK": "19",
                                    "FOGLALAS_PK": "948",
                                    "Időtartam napokban": "2",
                                    "Előző": "1"
                                },
                                {
                                    "SZOBA_FK": "19",
                                    "FOGLALAS_PK": "1139",
                                    "Időtartam napokban": "7",
                                    "Előző": "2"
                                },
                                {
                                    "SZOBA_FK": "19",
                                    "FOGLALAS_PK": "1237",
                                    "Időtartam napokban": "1",
                                    "Előző": "7"
                                },
                                {
                                    "SZOBA_FK": "19",
                                    "FOGLALAS_PK": "1533",
                                    "Időtartam napokban": "1",
                                    "Előző": "1"
                                },
                                {
                                    "SZOBA_FK": "20",
                                    "FOGLALAS_PK": "755",
                                    "Időtartam napokban": "6",
                                    "Előző": "0"
                                },
                                {
                                    "SZOBA_FK": "20",
                                    "FOGLALAS_PK": "820",
                                    "Időtartam napokban": "1",
                                    "Előző": "6"
                                },
                                {
                                    "SZOBA_FK": "20",
                                    "FOGLALAS_PK": "1070",
                                    "Időtartam napokban": "1",
                                    "Előző": "1"
                                },
                                {
                                    "SZOBA_FK": "20",
                                    "FOGLALAS_PK": "1106",
                                    "Időtartam napokban": "2",
                                    "Előző": "1"
                                },
                                {
                                    "SZOBA_FK": "20",
                                    "FOGLALAS_PK": "1114",
                                    "Időtartam napokban": "5",
                                    "Előző": "2"
                                },
                                {
                                    "SZOBA_FK": "21",
                                    "FOGLALAS_PK": "566",
                                    "Időtartam napokban": "6",
                                    "Előző": "0"
                                },
                                {
                                    "SZOBA_FK": "21",
                                    "FOGLALAS_PK": "660",
                                    "Időtartam napokban": "5",
                                    "Előző": "6"
                                },
                                {
                                    "SZOBA_FK": "21",
                                    "FOGLALAS_PK": "805",
                                    "Időtartam napokban": "1",
                                    "Előző": "5"
                                },
                                {
                                    "SZOBA_FK": "21",
                                    "FOGLALAS_PK": "1212",
                                    "Időtartam napokban": "6",
                                    "Előző": "1"
                                },
                                {
                                    "SZOBA_FK": "22",
                                    "FOGLALAS_PK": "906",
                                    "Időtartam napokban": "1",
                                    "Előző": "0"
                                },
                                {
                                    "SZOBA_FK": "22",
                                    "FOGLALAS_PK": "1005",
                                    "Időtartam napokban": "3",
                                    "Előző": "1"
                                },
                                {
                                    "SZOBA_FK": "22",
                                    "FOGLALAS_PK": "1130",
                                    "Időtartam napokban": "1",
                                    "Előző": "3"
                                },
                                {
                                    "SZOBA_FK": "22",
                                    "FOGLALAS_PK": "1195",
                                    "Időtartam napokban": "6",
                                    "Előző": "1"
                                },
                                {
                                    "SZOBA_FK": "22",
                                    "FOGLALAS_PK": "1206",
                                    "Időtartam napokban": "7",
                                    "Előző": "6"
                                },
                                {
                                    "SZOBA_FK": "22",
                                    "FOGLALAS_PK": "1287",
                                    "Időtartam napokban": "3",
                                    "Előző": "7"
                                },
                                {
                                    "SZOBA_FK": "23",
                                    "FOGLALAS_PK": "848",
                                    "Időtartam napokban": "1",
                                    "Előző": "0"
                                },
                                {
                                    "SZOBA_FK": "23",
                                    "FOGLALAS_PK": "934",
                                    "Időtartam napokban": "1",
                                    "Előző": "1"
                                },
                                {
                                    "SZOBA_FK": "23",
                                    "FOGLALAS_PK": "945",
                                    "Időtartam napokban": "7",
                                    "Előző": "1"
                                },
                                {
                                    "SZOBA_FK": "24",
                                    "FOGLALAS_PK": "852",
                                    "Időtartam napokban": "2",
                                    "Előző": "0"
                                },
                                {
                                    "SZOBA_FK": "24",
                                    "FOGLALAS_PK": "1167",
                                    "Időtartam napokban": "1",
                                    "Előző": "2"
                                },
                                {
                                    "SZOBA_FK": "24",
                                    "FOGLALAS_PK": "1415",
                                    "Időtartam napokban": "3",
                                    "Előző": "1"
                                },
                                {
                                    "SZOBA_FK": "25",
                                    "FOGLALAS_PK": "1052",
                                    "Időtartam napokban": "3",
                                    "Előző": "0"
                                },
                                {
                                    "SZOBA_FK": "25",
                                    "FOGLALAS_PK": "1362",
                                    "Időtartam napokban": "2",
                                    "Előző": "3"
                                },
                                {
                                    "SZOBA_FK": "26",
                                    "FOGLALAS_PK": "1158",
                                    "Időtartam napokban": "2",
                                    "Előző": "0"
                                },
                                {
                                    "SZOBA_FK": "26",
                                    "FOGLALAS_PK": "1388",
                                    "Időtartam napokban": "3",
                                    "Előző": "2"
                                },
                                {
                                    "SZOBA_FK": "27",
                                    "FOGLALAS_PK": "758",
                                    "Időtartam napokban": "3",
                                    "Előző": "0"
                                },
                                {
                                    "SZOBA_FK": "27",
                                    "FOGLALAS_PK": "807",
                                    "Időtartam napokban": "2",
                                    "Előző": "3"
                                },
                                {
                                    "SZOBA_FK": "27",
                                    "FOGLALAS_PK": "1031",
                                    "Időtartam napokban": "2",
                                    "Előző": "2"
                                },
                                {
                                    "SZOBA_FK": "27",
                                    "FOGLALAS_PK": "1082",
                                    "Időtartam napokban": "5",
                                    "Előző": "2"
                                },
                                {
                                    "SZOBA_FK": "27",
                                    "FOGLALAS_PK": "1275",
                                    "Időtartam napokban": "6",
                                    "Előző": "5"
                                },
                                {
                                    "SZOBA_FK": "27",
                                    "FOGLALAS_PK": "1377",
                                    "Időtartam napokban": "1",
                                    "Előző": "6"
                                },
                                {
                                    "SZOBA_FK": "27",
                                    "FOGLALAS_PK": "1476",
                                    "Időtartam napokban": "1",
                                    "Előző": "1"
                                },
                                {
                                    "SZOBA_FK": "28",
                                    "FOGLALAS_PK": "725",
                                    "Időtartam napokban": "5",
                                    "Előző": "0"
                                },
                                {
                                    "SZOBA_FK": "28",
                                    "FOGLALAS_PK": "872",
                                    "Időtartam napokban": "5",
                                    "Előző": "5"
                                },
                                {
                                    "SZOBA_FK": "28",
                                    "FOGLALAS_PK": "886",
                                    "Időtartam napokban": "4",
                                    "Előző": "5"
                                },
                                {
                                    "SZOBA_FK": "28",
                                    "FOGLALAS_PK": "901",
                                    "Időtartam napokban": "4",
                                    "Előző": "4"
                                },
                                {
                                    "SZOBA_FK": "28",
                                    "FOGLALAS_PK": "1150",
                                    "Időtartam napokban": "6",
                                    "Előző": "4"
                                },
                                {
                                    "SZOBA_FK": "28",
                                    "FOGLALAS_PK": "1459",
                                    "Időtartam napokban": "2",
                                    "Előző": "6"
                                },
                                {
                                    "SZOBA_FK": "29",
                                    "FOGLALAS_PK": "611",
                                    "Időtartam napokban": "5",
                                    "Előző": "0"
                                },
                                {
                                    "SZOBA_FK": "29",
                                    "FOGLALAS_PK": "894",
                                    "Időtartam napokban": "1",
                                    "Előző": "5"
                                },
                                {
                                    "SZOBA_FK": "29",
                                    "FOGLALAS_PK": "1076",
                                    "Időtartam napokban": "7",
                                    "Előző": "1"
                                },
                                {
                                    "SZOBA_FK": "29",
                                    "FOGLALAS_PK": "1185",
                                    "Időtartam napokban": "5",
                                    "Előző": "7"
                                },
                                {
                                    "SZOBA_FK": "29",
                                    "FOGLALAS_PK": "1235",
                                    "Időtartam napokban": "7",
                                    "Előző": "5"
                                },
                                {
                                    "SZOBA_FK": "29",
                                    "FOGLALAS_PK": "1568",
                                    "Időtartam napokban": "7",
                                    "Előző": "7"
                                },
                                {
                                    "SZOBA_FK": "30",
                                    "FOGLALAS_PK": "604",
                                    "Időtartam napokban": "2",
                                    "Előző": "0"
                                },
                                {
                                    "SZOBA_FK": "30",
                                    "FOGLALAS_PK": "1023",
                                    "Időtartam napokban": "7",
                                    "Előző": "2"
                                },
                                {
                                    "SZOBA_FK": "30",
                                    "FOGLALAS_PK": "1136",
                                    "Időtartam napokban": "5",
                                    "Előző": "7"
                                },
                                {
                                    "SZOBA_FK": "31",
                                    "FOGLALAS_PK": "598",
                                    "Időtartam napokban": "2",
                                    "Előző": "0"
                                },
                                {
                                    "SZOBA_FK": "31",
                                    "FOGLALAS_PK": "606",
                                    "Időtartam napokban": "1",
                                    "Előző": "2"
                                },
                                {
                                    "SZOBA_FK": "31",
                                    "FOGLALAS_PK": "728",
                                    "Időtartam napokban": "4",
                                    "Előző": "1"
                                },
                                {
                                    "SZOBA_FK": "32",
                                    "FOGLALAS_PK": "920",
                                    "Időtartam napokban": "4",
                                    "Előző": "0"
                                },
                                {
                                    "SZOBA_FK": "33",
                                    "FOGLALAS_PK": "624",
                                    "Időtartam napokban": "6",
                                    "Előző": "0"
                                },
                                {
                                    "SZOBA_FK": "33",
                                    "FOGLALAS_PK": "1012",
                                    "Időtartam napokban": "7",
                                    "Előző": "6"
                                },
                                {
                                    "SZOBA_FK": "33",
                                    "FOGLALAS_PK": "1053",
                                    "Időtartam napokban": "1",
                                    "Előző": "7"
                                },
                                {
                                    "SZOBA_FK": "33",
                                    "FOGLALAS_PK": "1321",
                                    "Időtartam napokban": "4",
                                    "Előző": "1"
                                },
                                {
                                    "SZOBA_FK": "33",
                                    "FOGLALAS_PK": "1344",
                                    "Időtartam napokban": "5",
                                    "Előző": "4"
                                },
                                {
                                    "SZOBA_FK": "33",
                                    "FOGLALAS_PK": "1381",
                                    "Időtartam napokban": "6",
                                    "Előző": "5"
                                },
                                {
                                    "SZOBA_FK": "34",
                                    "FOGLALAS_PK": "777",
                                    "Időtartam napokban": "3",
                                    "Előző": "0"
                                },
                                {
                                    "SZOBA_FK": "34",
                                    "FOGLALAS_PK": "821",
                                    "Időtartam napokban": "1",
                                    "Előző": "3"
                                },
                                {
                                    "SZOBA_FK": "34",
                                    "FOGLALAS_PK": "870",
                                    "Időtartam napokban": "6",
                                    "Előző": "1"
                                },
                                {
                                    "SZOBA_FK": "34",
                                    "FOGLALAS_PK": "904",
                                    "Időtartam napokban": "2",
                                    "Előző": "6"
                                },
                                {
                                    "SZOBA_FK": "35",
                                    "FOGLALAS_PK": "686",
                                    "Időtartam napokban": "6",
                                    "Előző": "0"
                                },
                                {
                                    "SZOBA_FK": "35",
                                    "FOGLALAS_PK": "707",
                                    "Időtartam napokban": "2",
                                    "Előző": "6"
                                },
                                {
                                    "SZOBA_FK": "35",
                                    "FOGLALAS_PK": "829",
                                    "Időtartam napokban": "2",
                                    "Előző": "2"
                                },
                                {
                                    "SZOBA_FK": "35",
                                    "FOGLALAS_PK": "971",
                                    "Időtartam napokban": "3",
                                    "Előző": "2"
                                },
                                {
                                    "SZOBA_FK": "35",
                                    "FOGLALAS_PK": "979",
                                    "Időtartam napokban": "7",
                                    "Előző": "3"
                                },
                                {
                                    "SZOBA_FK": "35",
                                    "FOGLALAS_PK": "1411",
                                    "Időtartam napokban": "1",
                                    "Előző": "7"
                                },
                                {
                                    "SZOBA_FK": "35",
                                    "FOGLALAS_PK": "1436",
                                    "Időtartam napokban": "1",
                                    "Előző": "1"
                                },
                                {
                                    "SZOBA_FK": "35",
                                    "FOGLALAS_PK": "1480",
                                    "Időtartam napokban": "37",
                                    "Előző": "1"
                                },
                                {
                                    "SZOBA_FK": "35",
                                    "FOGLALAS_PK": "1529",
                                    "Időtartam napokban": "4",
                                    "Előző": "37"
                                },
                                {
                                    "SZOBA_FK": "36",
                                    "FOGLALAS_PK": "748",
                                    "Időtartam napokban": "2",
                                    "Előző": "0"
                                },
                                {
                                    "SZOBA_FK": "36",
                                    "FOGLALAS_PK": "750",
                                    "Időtartam napokban": "6",
                                    "Előző": "2"
                                },
                                {
                                    "SZOBA_FK": "36",
                                    "FOGLALAS_PK": "895",
                                    "Időtartam napokban": "5",
                                    "Előző": "6"
                                },
                                {
                                    "SZOBA_FK": "36",
                                    "FOGLALAS_PK": "919",
                                    "Időtartam napokban": "1",
                                    "Előző": "5"
                                },
                                {
                                    "SZOBA_FK": "36",
                                    "FOGLALAS_PK": "985",
                                    "Időtartam napokban": "6",
                                    "Előző": "1"
                                },
                                {
                                    "SZOBA_FK": "36",
                                    "FOGLALAS_PK": "1003",
                                    "Időtartam napokban": "4",
                                    "Előző": "6"
                                },
                                {
                                    "SZOBA_FK": "37",
                                    "FOGLALAS_PK": "688",
                                    "Időtartam napokban": "2",
                                    "Előző": "0"
                                },
                                {
                                    "SZOBA_FK": "37",
                                    "FOGLALAS_PK": "705",
                                    "Időtartam napokban": "4",
                                    "Előző": "2"
                                },
                                {
                                    "SZOBA_FK": "37",
                                    "FOGLALAS_PK": "1335",
                                    "Időtartam napokban": "7",
                                    "Előző": "4"
                                },
                                {
                                    "SZOBA_FK": "38",
                                    "FOGLALAS_PK": "627",
                                    "Időtartam napokban": "6",
                                    "Előző": "0"
                                },
                                {
                                    "SZOBA_FK": "38",
                                    "FOGLALAS_PK": "1033",
                                    "Időtartam napokban": "2",
                                    "Előző": "6"
                                },
                                {
                                    "SZOBA_FK": "38",
                                    "FOGLALAS_PK": "1060",
                                    "Időtartam napokban": "2",
                                    "Előző": "2"
                                },
                                {
                                    "SZOBA_FK": "38",
                                    "FOGLALAS_PK": "1078",
                                    "Időtartam napokban": "7",
                                    "Előző": "2"
                                },
                                {
                                    "SZOBA_FK": "38",
                                    "FOGLALAS_PK": "1351",
                                    "Időtartam napokban": "4",
                                    "Előző": "7"
                                },
                                {
                                    "SZOBA_FK": "38",
                                    "FOGLALAS_PK": "1416",
                                    "Időtartam napokban": "5",
                                    "Előző": "4"
                                },
                                {
                                    "SZOBA_FK": "38",
                                    "FOGLALAS_PK": "1478",
                                    "Időtartam napokban": "4",
                                    "Előző": "5"
                                },
                                {
                                    "SZOBA_FK": "38",
                                    "FOGLALAS_PK": "1556",
                                    "Időtartam napokban": "6",
                                    "Előző": "4"
                                },
                                {
                                    "SZOBA_FK": "39",
                                    "FOGLALAS_PK": "601",
                                    "Időtartam napokban": "6",
                                    "Előző": "0"
                                },
                                {
                                    "SZOBA_FK": "39",
                                    "FOGLALAS_PK": "899",
                                    "Időtartam napokban": "6",
                                    "Előző": "6"
                                },
                                {
                                    "SZOBA_FK": "39",
                                    "FOGLALAS_PK": "1214",
                                    "Időtartam napokban": "5",
                                    "Előző": "6"
                                },
                                {
                                    "SZOBA_FK": "39",
                                    "FOGLALAS_PK": "1380",
                                    "Időtartam napokban": "5",
                                    "Előző": "5"
                                },
                                {
                                    "SZOBA_FK": "39",
                                    "FOGLALAS_PK": "1435",
                                    "Időtartam napokban": "7",
                                    "Előző": "5"
                                },
                                {
                                    "SZOBA_FK": "39",
                                    "FOGLALAS_PK": "1454",
                                    "Időtartam napokban": "1",
                                    "Előző": "7"
                                },
                                {
                                    "SZOBA_FK": "39",
                                    "FOGLALAS_PK": "1538",
                                    "Időtartam napokban": "2",
                                    "Előző": "1"
                                },
                                {
                                    "SZOBA_FK": "40",
                                    "FOGLALAS_PK": "924",
                                    "Időtartam napokban": "5",
                                    "Előző": "0"
                                },
                                {
                                    "SZOBA_FK": "40",
                                    "FOGLALAS_PK": "932",
                                    "Időtartam napokban": "6",
                                    "Előző": "5"
                                },
                                {
                                    "SZOBA_FK": "40",
                                    "FOGLALAS_PK": "1018",
                                    "Időtartam napokban": "5",
                                    "Előző": "6"
                                },
                                {
                                    "SZOBA_FK": "40",
                                    "FOGLALAS_PK": "1118",
                                    "Időtartam napokban": "5",
                                    "Előző": "5"
                                },
                                {
                                    "SZOBA_FK": "41",
                                    "FOGLALAS_PK": "960",
                                    "Időtartam napokban": "6",
                                    "Előző": "0"
                                },
                                {
                                    "SZOBA_FK": "41",
                                    "FOGLALAS_PK": "1144",
                                    "Időtartam napokban": "1",
                                    "Előző": "6"
                                },
                                {
                                    "SZOBA_FK": "42",
                                    "FOGLALAS_PK": "561",
                                    "Időtartam napokban": "4",
                                    "Előző": "0"
                                },
                                {
                                    "SZOBA_FK": "42",
                                    "FOGLALAS_PK": "590",
                                    "Időtartam napokban": "5",
                                    "Előző": "4"
                                },
                                {
                                    "SZOBA_FK": "42",
                                    "FOGLALAS_PK": "770",
                                    "Időtartam napokban": "3",
                                    "Előző": "5"
                                },
                                {
                                    "SZOBA_FK": "42",
                                    "FOGLALAS_PK": "851",
                                    "Időtartam napokban": "7",
                                    "Előző": "3"
                                },
                                {
                                    "SZOBA_FK": "42",
                                    "FOGLALAS_PK": "1309",
                                    "Időtartam napokban": "2",
                                    "Előző": "7"
                                },
                                {
                                    "SZOBA_FK": "42",
                                    "FOGLALAS_PK": "1444",
                                    "Időtartam napokban": "6",
                                    "Előző": "2"
                                },
                                {
                                    "SZOBA_FK": "43",
                                    "FOGLALAS_PK": "670",
                                    "Időtartam napokban": "4",
                                    "Előző": "0"
                                },
                                {
                                    "SZOBA_FK": "43",
                                    "FOGLALAS_PK": "1019",
                                    "Időtartam napokban": "4",
                                    "Előző": "4"
                                },
                                {
                                    "SZOBA_FK": "43",
                                    "FOGLALAS_PK": "1088",
                                    "Időtartam napokban": "2",
                                    "Előző": "4"
                                },
                                {
                                    "SZOBA_FK": "43",
                                    "FOGLALAS_PK": "1207",
                                    "Időtartam napokban": "1",
                                    "Előző": "2"
                                },
                                {
                                    "SZOBA_FK": "43",
                                    "FOGLALAS_PK": "1227",
                                    "Időtartam napokban": "5",
                                    "Előző": "1"
                                },
                                {
                                    "SZOBA_FK": "43",
                                    "FOGLALAS_PK": "1270",
                                    "Időtartam napokban": "4",
                                    "Előző": "5"
                                },
                                {
                                    "SZOBA_FK": "43",
                                    "FOGLALAS_PK": "1524",
                                    "Időtartam napokban": "1",
                                    "Előző": "4"
                                },
                                {
                                    "SZOBA_FK": "43",
                                    "FOGLALAS_PK": "1553",
                                    "Időtartam napokban": "5",
                                    "Előző": "1"
                                },
                                {
                                    "SZOBA_FK": "44",
                                    "FOGLALAS_PK": "589",
                                    "Időtartam napokban": "2",
                                    "Előző": "0"
                                },
                                {
                                    "SZOBA_FK": "44",
                                    "FOGLALAS_PK": "658",
                                    "Időtartam napokban": "6",
                                    "Előző": "2"
                                },
                                {
                                    "SZOBA_FK": "44",
                                    "FOGLALAS_PK": "823",
                                    "Időtartam napokban": "2",
                                    "Előző": "6"
                                },
                                {
                                    "SZOBA_FK": "44",
                                    "FOGLALAS_PK": "1295",
                                    "Időtartam napokban": "2",
                                    "Előző": "2"
                                },
                                {
                                    "SZOBA_FK": "44",
                                    "FOGLALAS_PK": "1425",
                                    "Időtartam napokban": "2",
                                    "Előző": "2"
                                },
                                {
                                    "SZOBA_FK": "44",
                                    "FOGLALAS_PK": "1552",
                                    "Időtartam napokban": "2",
                                    "Előző": "2"
                                },
                                {
                                    "SZOBA_FK": "45",
                                    "FOGLALAS_PK": "800",
                                    "Időtartam napokban": "5",
                                    "Előző": "0"
                                },
                                {
                                    "SZOBA_FK": "45",
                                    "FOGLALAS_PK": "802",
                                    "Időtartam napokban": "7",
                                    "Előző": "5"
                                },
                                {
                                    "SZOBA_FK": "45",
                                    "FOGLALAS_PK": "846",
                                    "Időtartam napokban": "3",
                                    "Előző": "7"
                                },
                                {
                                    "SZOBA_FK": "45",
                                    "FOGLALAS_PK": "1135",
                                    "Időtartam napokban": "3",
                                    "Előző": "3"
                                },
                                {
                                    "SZOBA_FK": "45",
                                    "FOGLALAS_PK": "1303",
                                    "Időtartam napokban": "2",
                                    "Előző": "3"
                                },
                                {
                                    "SZOBA_FK": "46",
                                    "FOGLALAS_PK": "752",
                                    "Időtartam napokban": "5",
                                    "Előző": "0"
                                },
                                {
                                    "SZOBA_FK": "46",
                                    "FOGLALAS_PK": "1187",
                                    "Időtartam napokban": "7",
                                    "Előző": "5"
                                },
                                {
                                    "SZOBA_FK": "46",
                                    "FOGLALAS_PK": "1291",
                                    "Időtartam napokban": "3",
                                    "Előző": "7"
                                },
                                {
                                    "SZOBA_FK": "46",
                                    "FOGLALAS_PK": "1515",
                                    "Időtartam napokban": "4",
                                    "Előző": "3"
                                },
                                {
                                    "SZOBA_FK": "47",
                                    "FOGLALAS_PK": "955",
                                    "Időtartam napokban": "1",
                                    "Előző": "0"
                                },
                                {
                                    "SZOBA_FK": "47",
                                    "FOGLALAS_PK": "1056",
                                    "Időtartam napokban": "7",
                                    "Előző": "1"
                                },
                                {
                                    "SZOBA_FK": "48",
                                    "FOGLALAS_PK": "603",
                                    "Időtartam napokban": "3",
                                    "Előző": "0"
                                },
                                {
                                    "SZOBA_FK": "48",
                                    "FOGLALAS_PK": "628",
                                    "Időtartam napokban": "2",
                                    "Előző": "3"
                                },
                                {
                                    "SZOBA_FK": "48",
                                    "FOGLALAS_PK": "824",
                                    "Időtartam napokban": "2",
                                    "Előző": "2"
                                },
                                {
                                    "SZOBA_FK": "48",
                                    "FOGLALAS_PK": "914",
                                    "Időtartam napokban": "5",
                                    "Előző": "2"
                                },
                                {
                                    "SZOBA_FK": "48",
                                    "FOGLALAS_PK": "986",
                                    "Időtartam napokban": "5",
                                    "Előző": "5"
                                },
                                {
                                    "SZOBA_FK": "48",
                                    "FOGLALAS_PK": "1243",
                                    "Időtartam napokban": "6",
                                    "Előző": "5"
                                },
                                {
                                    "SZOBA_FK": "48",
                                    "FOGLALAS_PK": "1546",
                                    "Időtartam napokban": "3",
                                    "Előző": "6"
                                },
                                {
                                    "SZOBA_FK": "48",
                                    "FOGLALAS_PK": "1547",
                                    "Időtartam napokban": "1",
                                    "Előző": "3"
                                },
                                {
                                    "SZOBA_FK": "48",
                                    "FOGLALAS_PK": "1581",
                                    "Időtartam napokban": "5",
                                    "Előző": "1"
                                },
                                {
                                    "SZOBA_FK": "49",
                                    "FOGLALAS_PK": "793",
                                    "Időtartam napokban": "6",
                                    "Előző": "0"
                                },
                                {
                                    "SZOBA_FK": "49",
                                    "FOGLALAS_PK": "826",
                                    "Időtartam napokban": "4",
                                    "Előző": "6"
                                },
                                {
                                    "SZOBA_FK": "49",
                                    "FOGLALAS_PK": "888",
                                    "Időtartam napokban": "7",
                                    "Előző": "4"
                                },
                                {
                                    "SZOBA_FK": "49",
                                    "FOGLALAS_PK": "1066",
                                    "Időtartam napokban": "7",
                                    "Előző": "7"
                                },
                                {
                                    "SZOBA_FK": "49",
                                    "FOGLALAS_PK": "1200",
                                    "Időtartam napokban": "7",
                                    "Előző": "7"
                                },
                                {
                                    "SZOBA_FK": "49",
                                    "FOGLALAS_PK": "1221",
                                    "Időtartam napokban": "2",
                                    "Előző": "7"
                                },
                                {
                                    "SZOBA_FK": "49",
                                    "FOGLALAS_PK": "1536",
                                    "Időtartam napokban": "6",
                                    "Előző": "2"
                                },
                                {
                                    "SZOBA_FK": "50",
                                    "FOGLALAS_PK": "787",
                                    "Időtartam napokban": "3",
                                    "Előző": "0"
                                },
                                {
                                    "SZOBA_FK": "50",
                                    "FOGLALAS_PK": "1063",
                                    "Időtartam napokban": "2",
                                    "Előző": "3"
                                },
                                {
                                    "SZOBA_FK": "50",
                                    "FOGLALAS_PK": "1224",
                                    "Időtartam napokban": "1",
                                    "Előző": "2"
                                },
                                {
                                    "SZOBA_FK": "50",
                                    "FOGLALAS_PK": "1272",
                                    "Időtartam napokban": "1",
                                    "Előző": "1"
                                },
                                {
                                    "SZOBA_FK": "51",
                                    "FOGLALAS_PK": "811",
                                    "Időtartam napokban": "2",
                                    "Előző": "0"
                                },
                                {
                                    "SZOBA_FK": "51",
                                    "FOGLALAS_PK": "865",
                                    "Időtartam napokban": "7",
                                    "Előző": "2"
                                },
                                {
                                    "SZOBA_FK": "51",
                                    "FOGLALAS_PK": "1165",
                                    "Időtartam napokban": "5",
                                    "Előző": "7"
                                },
                                {
                                    "SZOBA_FK": "51",
                                    "FOGLALAS_PK": "1477",
                                    "Időtartam napokban": "6",
                                    "Előző": "5"
                                },
                                {
                                    "SZOBA_FK": "51",
                                    "FOGLALAS_PK": "1550",
                                    "Időtartam napokban": "1",
                                    "Előző": "6"
                                },
                                {
                                    "SZOBA_FK": "52",
                                    "FOGLALAS_PK": "822",
                                    "Időtartam napokban": "7",
                                    "Előző": "0"
                                },
                                {
                                    "SZOBA_FK": "52",
                                    "FOGLALAS_PK": "1202",
                                    "Időtartam napokban": "2",
                                    "Előző": "7"
                                },
                                {
                                    "SZOBA_FK": "52",
                                    "FOGLALAS_PK": "1258",
                                    "Időtartam napokban": "5",
                                    "Előző": "2"
                                },
                                {
                                    "SZOBA_FK": "52",
                                    "FOGLALAS_PK": "1431",
                                    "Időtartam napokban": "5",
                                    "Előző": "5"
                                },
                                {
                                    "SZOBA_FK": "52",
                                    "FOGLALAS_PK": "1534",
                                    "Időtartam napokban": "5",
                                    "Előző": "5"
                                },
                                {
                                    "SZOBA_FK": "53",
                                    "FOGLALAS_PK": "855",
                                    "Időtartam napokban": "1",
                                    "Előző": "0"
                                },
                                {
                                    "SZOBA_FK": "53",
                                    "FOGLALAS_PK": "987",
                                    "Időtartam napokban": "4",
                                    "Előző": "1"
                                },
                                {
                                    "SZOBA_FK": "54",
                                    "FOGLALAS_PK": "622",
                                    "Időtartam napokban": "7",
                                    "Előző": "0"
                                },
                                {
                                    "SZOBA_FK": "54",
                                    "FOGLALAS_PK": "642",
                                    "Időtartam napokban": "5",
                                    "Előző": "7"
                                },
                                {
                                    "SZOBA_FK": "54",
                                    "FOGLALAS_PK": "668",
                                    "Időtartam napokban": "1",
                                    "Előző": "5"
                                },
                                {
                                    "SZOBA_FK": "54",
                                    "FOGLALAS_PK": "889",
                                    "Időtartam napokban": "2",
                                    "Előző": "1"
                                },
                                {
                                    "SZOBA_FK": "54",
                                    "FOGLALAS_PK": "1096",
                                    "Időtartam napokban": "4",
                                    "Előző": "2"
                                },
                                {
                                    "SZOBA_FK": "54",
                                    "FOGLALAS_PK": "1328",
                                    "Időtartam napokban": "4",
                                    "Előző": "4"
                                },
                                {
                                    "SZOBA_FK": "55",
                                    "FOGLALAS_PK": "734",
                                    "Időtartam napokban": "6",
                                    "Előző": "0"
                                },
                                {
                                    "SZOBA_FK": "55",
                                    "FOGLALAS_PK": "1086",
                                    "Időtartam napokban": "5",
                                    "Előző": "6"
                                },
                                {
                                    "SZOBA_FK": "55",
                                    "FOGLALAS_PK": "1163",
                                    "Időtartam napokban": "2",
                                    "Előző": "5"
                                },
                                {
                                    "SZOBA_FK": "55",
                                    "FOGLALAS_PK": "1232",
                                    "Időtartam napokban": "7",
                                    "Előző": "2"
                                },
                                {
                                    "SZOBA_FK": "55",
                                    "FOGLALAS_PK": "1327",
                                    "Időtartam napokban": "6",
                                    "Előző": "7"
                                },
                                {
                                    "SZOBA_FK": "55",
                                    "FOGLALAS_PK": "1386",
                                    "Időtartam napokban": "2",
                                    "Előző": "6"
                                },
                                {
                                    "SZOBA_FK": "55",
                                    "FOGLALAS_PK": "1512",
                                    "Időtartam napokban": "1",
                                    "Előző": "2"
                                },
                                {
                                    "SZOBA_FK": "55",
                                    "FOGLALAS_PK": "1520",
                                    "Időtartam napokban": "1",
                                    "Előző": "1"
                                },
                                {
                                    "SZOBA_FK": "56",
                                    "FOGLALAS_PK": "838",
                                    "Időtartam napokban": "2",
                                    "Előző": "0"
                                },
                                {
                                    "SZOBA_FK": "56",
                                    "FOGLALAS_PK": "935",
                                    "Időtartam napokban": "4",
                                    "Előző": "2"
                                },
                                {
                                    "SZOBA_FK": "57",
                                    "FOGLALAS_PK": "1348",
                                    "Időtartam napokban": "1",
                                    "Előző": "0"
                                },
                                {
                                    "SZOBA_FK": "57",
                                    "FOGLALAS_PK": "1389",
                                    "Időtartam napokban": "1",
                                    "Előző": "1"
                                },
                                {
                                    "SZOBA_FK": "57",
                                    "FOGLALAS_PK": "1466",
                                    "Időtartam napokban": "7",
                                    "Előző": "1"
                                },
                                {
                                    "SZOBA_FK": "57",
                                    "FOGLALAS_PK": "1504",
                                    "Időtartam napokban": "4",
                                    "Előző": "7"
                                },
                                {
                                    "SZOBA_FK": "58",
                                    "FOGLALAS_PK": "719",
                                    "Időtartam napokban": "3",
                                    "Előző": "0"
                                },
                                {
                                    "SZOBA_FK": "58",
                                    "FOGLALAS_PK": "773",
                                    "Időtartam napokban": "2",
                                    "Előző": "3"
                                },
                                {
                                    "SZOBA_FK": "58",
                                    "FOGLALAS_PK": "883",
                                    "Időtartam napokban": "5",
                                    "Előző": "2"
                                },
                                {
                                    "SZOBA_FK": "58",
                                    "FOGLALAS_PK": "1113",
                                    "Időtartam napokban": "3",
                                    "Előző": "5"
                                },
                                {
                                    "SZOBA_FK": "58",
                                    "FOGLALAS_PK": "1186",
                                    "Időtartam napokban": "6",
                                    "Előző": "3"
                                },
                                {
                                    "SZOBA_FK": "58",
                                    "FOGLALAS_PK": "1208",
                                    "Időtartam napokban": "6",
                                    "Előző": "6"
                                },
                                {
                                    "SZOBA_FK": "58",
                                    "FOGLALAS_PK": "1255",
                                    "Időtartam napokban": "7",
                                    "Előző": "6"
                                },
                                {
                                    "SZOBA_FK": "58",
                                    "FOGLALAS_PK": "1261",
                                    "Időtartam napokban": "6",
                                    "Előző": "7"
                                },
                                {
                                    "SZOBA_FK": "58",
                                    "FOGLALAS_PK": "1285",
                                    "Időtartam napokban": "7",
                                    "Előző": "6"
                                },
                                {
                                    "SZOBA_FK": "58",
                                    "FOGLALAS_PK": "1293",
                                    "Időtartam napokban": "3",
                                    "Előző": "7"
                                },
                                {
                                    "SZOBA_FK": "58",
                                    "FOGLALAS_PK": "1307",
                                    "Időtartam napokban": "6",
                                    "Előző": "3"
                                },
                                {
                                    "SZOBA_FK": "58",
                                    "FOGLALAS_PK": "1322",
                                    "Időtartam napokban": "3",
                                    "Előző": "6"
                                },
                                {
                                    "SZOBA_FK": "58",
                                    "FOGLALAS_PK": "1451",
                                    "Időtartam napokban": "6",
                                    "Előző": "3"
                                },
                                {
                                    "SZOBA_FK": "59",
                                    "FOGLALAS_PK": "1080",
                                    "Időtartam napokban": "1",
                                    "Előző": "0"
                                },
                                {
                                    "SZOBA_FK": "59",
                                    "FOGLALAS_PK": "1084",
                                    "Időtartam napokban": "2",
                                    "Előző": "1"
                                },
                                {
                                    "SZOBA_FK": "59",
                                    "FOGLALAS_PK": "1170",
                                    "Időtartam napokban": "5",
                                    "Előző": "2"
                                },
                                {
                                    "SZOBA_FK": "59",
                                    "FOGLALAS_PK": "1191",
                                    "Időtartam napokban": "6",
                                    "Előző": "5"
                                },
                                {
                                    "SZOBA_FK": "59",
                                    "FOGLALAS_PK": "1239",
                                    "Időtartam napokban": "2",
                                    "Előző": "6"
                                },
                                {
                                    "SZOBA_FK": "59",
                                    "FOGLALAS_PK": "1288",
                                    "Időtartam napokban": "3",
                                    "Előző": "2"
                                },
                                {
                                    "SZOBA_FK": "59",
                                    "FOGLALAS_PK": "1573",
                                    "Időtartam napokban": "1",
                                    "Előző": "3"
                                },
                                {
                                    "SZOBA_FK": "60",
                                    "FOGLALAS_PK": "676",
                                    "Időtartam napokban": "2",
                                    "Előző": "0"
                                },
                                {
                                    "SZOBA_FK": "61",
                                    "FOGLALAS_PK": "701",
                                    "Időtartam napokban": "2",
                                    "Előző": "0"
                                },
                                {
                                    "SZOBA_FK": "61",
                                    "FOGLALAS_PK": "756",
                                    "Időtartam napokban": "6",
                                    "Előző": "2"
                                },
                                {
                                    "SZOBA_FK": "61",
                                    "FOGLALAS_PK": "1148",
                                    "Időtartam napokban": "3",
                                    "Előző": "6"
                                },
                                {
                                    "SZOBA_FK": "61",
                                    "FOGLALAS_PK": "1218",
                                    "Időtartam napokban": "2",
                                    "Előző": "3"
                                },
                                {
                                    "SZOBA_FK": "61",
                                    "FOGLALAS_PK": "1496",
                                    "Időtartam napokban": "7",
                                    "Előző": "2"
                                },
                                {
                                    "SZOBA_FK": "62",
                                    "FOGLALAS_PK": "702",
                                    "Időtartam napokban": "5",
                                    "Előző": "0"
                                },
                                {
                                    "SZOBA_FK": "62",
                                    "FOGLALAS_PK": "936",
                                    "Időtartam napokban": "3",
                                    "Előző": "5"
                                },
                                {
                                    "SZOBA_FK": "62",
                                    "FOGLALAS_PK": "938",
                                    "Időtartam napokban": "1",
                                    "Előző": "3"
                                },
                                {
                                    "SZOBA_FK": "62",
                                    "FOGLALAS_PK": "1081",
                                    "Időtartam napokban": "7",
                                    "Előző": "1"
                                },
                                {
                                    "SZOBA_FK": "62",
                                    "FOGLALAS_PK": "1426",
                                    "Időtartam napokban": "4",
                                    "Előző": "7"
                                },
                                {
                                    "SZOBA_FK": "63",
                                    "FOGLALAS_PK": "625",
                                    "Időtartam napokban": "3",
                                    "Előző": "0"
                                },
                                {
                                    "SZOBA_FK": "63",
                                    "FOGLALAS_PK": "769",
                                    "Időtartam napokban": "5",
                                    "Előző": "3"
                                },
                                {
                                    "SZOBA_FK": "63",
                                    "FOGLALAS_PK": "845",
                                    "Időtartam napokban": "1",
                                    "Előző": "5"
                                },
                                {
                                    "SZOBA_FK": "63",
                                    "FOGLALAS_PK": "891",
                                    "Időtartam napokban": "6",
                                    "Előző": "1"
                                },
                                {
                                    "SZOBA_FK": "64",
                                    "FOGLALAS_PK": "875",
                                    "Időtartam napokban": "2",
                                    "Előző": "0"
                                },
                                {
                                    "SZOBA_FK": "64",
                                    "FOGLALAS_PK": "1122",
                                    "Időtartam napokban": "4",
                                    "Előző": "2"
                                },
                                {
                                    "SZOBA_FK": "64",
                                    "FOGLALAS_PK": "1233",
                                    "Időtartam napokban": "7",
                                    "Előző": "4"
                                },
                                {
                                    "SZOBA_FK": "64",
                                    "FOGLALAS_PK": "1446",
                                    "Időtartam napokban": "6",
                                    "Előző": "7"
                                },
                                {
                                    "SZOBA_FK": "64",
                                    "FOGLALAS_PK": "1465",
                                    "Időtartam napokban": "4",
                                    "Előző": "6"
                                },
                                {
                                    "SZOBA_FK": "64",
                                    "FOGLALAS_PK": "1582",
                                    "Időtartam napokban": "1",
                                    "Előző": "4"
                                },
                                {
                                    "SZOBA_FK": "65",
                                    "FOGLALAS_PK": "650",
                                    "Időtartam napokban": "6",
                                    "Előző": "0"
                                },
                                {
                                    "SZOBA_FK": "66",
                                    "FOGLALAS_PK": "736",
                                    "Időtartam napokban": "3",
                                    "Előző": "0"
                                },
                                {
                                    "SZOBA_FK": "66",
                                    "FOGLALAS_PK": "950",
                                    "Időtartam napokban": "3",
                                    "Előző": "3"
                                },
                                {
                                    "SZOBA_FK": "66",
                                    "FOGLALAS_PK": "1234",
                                    "Időtartam napokban": "3",
                                    "Előző": "3"
                                },
                                {
                                    "SZOBA_FK": "66",
                                    "FOGLALAS_PK": "1264",
                                    "Időtartam napokban": "4",
                                    "Előző": "3"
                                },
                                {
                                    "SZOBA_FK": "67",
                                    "FOGLALAS_PK": "638",
                                    "Időtartam napokban": "5",
                                    "Előző": "0"
                                },
                                {
                                    "SZOBA_FK": "67",
                                    "FOGLALAS_PK": "645",
                                    "Időtartam napokban": "6",
                                    "Előző": "5"
                                },
                                {
                                    "SZOBA_FK": "67",
                                    "FOGLALAS_PK": "874",
                                    "Időtartam napokban": "6",
                                    "Előző": "6"
                                },
                                {
                                    "SZOBA_FK": "67",
                                    "FOGLALAS_PK": "1382",
                                    "Időtartam napokban": "1",
                                    "Előző": "6"
                                },
                                {
                                    "SZOBA_FK": "67",
                                    "FOGLALAS_PK": "1580",
                                    "Időtartam napokban": "5",
                                    "Előző": "1"
                                },
                                {
                                    "SZOBA_FK": "67",
                                    "FOGLALAS_PK": "1584",
                                    "Időtartam napokban": "1",
                                    "Előző": "5"
                                },
                                {
                                    "SZOBA_FK": "68",
                                    "FOGLALAS_PK": "563",
                                    "Időtartam napokban": "5",
                                    "Előző": "0"
                                },
                                {
                                    "SZOBA_FK": "68",
                                    "FOGLALAS_PK": "1027",
                                    "Időtartam napokban": "7",
                                    "Előző": "5"
                                },
                                {
                                    "SZOBA_FK": "68",
                                    "FOGLALAS_PK": "1324",
                                    "Időtartam napokban": "4",
                                    "Előző": "7"
                                },
                                {
                                    "SZOBA_FK": "69",
                                    "FOGLALAS_PK": "885",
                                    "Időtartam napokban": "1",
                                    "Előző": "0"
                                },
                                {
                                    "SZOBA_FK": "69",
                                    "FOGLALAS_PK": "1055",
                                    "Időtartam napokban": "5",
                                    "Előző": "1"
                                },
                                {
                                    "SZOBA_FK": "69",
                                    "FOGLALAS_PK": "1225",
                                    "Időtartam napokban": "5",
                                    "Előző": "5"
                                },
                                {
                                    "SZOBA_FK": "69",
                                    "FOGLALAS_PK": "1246",
                                    "Időtartam napokban": "7",
                                    "Előző": "5"
                                },
                                {
                                    "SZOBA_FK": "70",
                                    "FOGLALAS_PK": "585",
                                    "Időtartam napokban": "5",
                                    "Előző": "0"
                                },
                                {
                                    "SZOBA_FK": "70",
                                    "FOGLALAS_PK": "704",
                                    "Időtartam napokban": "3",
                                    "Előző": "5"
                                },
                                {
                                    "SZOBA_FK": "70",
                                    "FOGLALAS_PK": "814",
                                    "Időtartam napokban": "3",
                                    "Előző": "3"
                                },
                                {
                                    "SZOBA_FK": "70",
                                    "FOGLALAS_PK": "860",
                                    "Időtartam napokban": "2",
                                    "Előző": "3"
                                },
                                {
                                    "SZOBA_FK": "70",
                                    "FOGLALAS_PK": "1006",
                                    "Időtartam napokban": "3",
                                    "Előző": "2"
                                },
                                {
                                    "SZOBA_FK": "70",
                                    "FOGLALAS_PK": "1092",
                                    "Időtartam napokban": "3",
                                    "Előző": "3"
                                },
                                {
                                    "SZOBA_FK": "70",
                                    "FOGLALAS_PK": "1126",
                                    "Időtartam napokban": "3",
                                    "Előző": "3"
                                },
                                {
                                    "SZOBA_FK": "70",
                                    "FOGLALAS_PK": "1325",
                                    "Időtartam napokban": "7",
                                    "Előző": "3"
                                },
                                {
                                    "SZOBA_FK": "70",
                                    "FOGLALAS_PK": "1333",
                                    "Időtartam napokban": "6",
                                    "Előző": "7"
                                },
                                {
                                    "SZOBA_FK": "70",
                                    "FOGLALAS_PK": "1365",
                                    "Időtartam napokban": "3",
                                    "Előző": "6"
                                },
                                {
                                    "SZOBA_FK": "70",
                                    "FOGLALAS_PK": "1457",
                                    "Időtartam napokban": "7",
                                    "Előző": "3"
                                },
                                {
                                    "SZOBA_FK": "71",
                                    "FOGLALAS_PK": "681",
                                    "Időtartam napokban": "3",
                                    "Előző": "0"
                                },
                                {
                                    "SZOBA_FK": "71",
                                    "FOGLALAS_PK": "712",
                                    "Időtartam napokban": "1",
                                    "Előző": "3"
                                },
                                {
                                    "SZOBA_FK": "71",
                                    "FOGLALAS_PK": "1009",
                                    "Időtartam napokban": "1",
                                    "Előző": "1"
                                },
                                {
                                    "SZOBA_FK": "72",
                                    "FOGLALAS_PK": "902",
                                    "Időtartam napokban": "5",
                                    "Előző": "0"
                                },
                                {
                                    "SZOBA_FK": "72",
                                    "FOGLALAS_PK": "961",
                                    "Időtartam napokban": "6",
                                    "Előző": "5"
                                },
                                {
                                    "SZOBA_FK": "72",
                                    "FOGLALAS_PK": "1318",
                                    "Időtartam napokban": "2",
                                    "Előző": "6"
                                },
                                {
                                    "SZOBA_FK": "72",
                                    "FOGLALAS_PK": "1396",
                                    "Időtartam napokban": "3",
                                    "Előző": "2"
                                },
                                {
                                    "SZOBA_FK": "73",
                                    "FOGLALAS_PK": "714",
                                    "Időtartam napokban": "7",
                                    "Előző": "0"
                                },
                                {
                                    "SZOBA_FK": "73",
                                    "FOGLALAS_PK": "1000",
                                    "Időtartam napokban": "4",
                                    "Előző": "7"
                                },
                                {
                                    "SZOBA_FK": "73",
                                    "FOGLALAS_PK": "1159",
                                    "Időtartam napokban": "5",
                                    "Előző": "4"
                                },
                                {
                                    "SZOBA_FK": "73",
                                    "FOGLALAS_PK": "1331",
                                    "Időtartam napokban": "4",
                                    "Előző": "5"
                                },
                                {
                                    "SZOBA_FK": "74",
                                    "FOGLALAS_PK": "595",
                                    "Időtartam napokban": "7",
                                    "Előző": "0"
                                },
                                {
                                    "SZOBA_FK": "74",
                                    "FOGLALAS_PK": "797",
                                    "Időtartam napokban": "5",
                                    "Előző": "7"
                                },
                                {
                                    "SZOBA_FK": "74",
                                    "FOGLALAS_PK": "830",
                                    "Időtartam napokban": "1",
                                    "Előző": "5"
                                },
                                {
                                    "SZOBA_FK": "74",
                                    "FOGLALAS_PK": "847",
                                    "Időtartam napokban": "3",
                                    "Előző": "1"
                                },
                                {
                                    "SZOBA_FK": "74",
                                    "FOGLALAS_PK": "877",
                                    "Időtartam napokban": "4",
                                    "Előző": "3"
                                },
                                {
                                    "SZOBA_FK": "74",
                                    "FOGLALAS_PK": "940",
                                    "Időtartam napokban": "5",
                                    "Előző": "4"
                                },
                                {
                                    "SZOBA_FK": "74",
                                    "FOGLALAS_PK": "963",
                                    "Időtartam napokban": "1",
                                    "Előző": "5"
                                },
                                {
                                    "SZOBA_FK": "74",
                                    "FOGLALAS_PK": "1093",
                                    "Időtartam napokban": "6",
                                    "Előző": "1"
                                },
                                {
                                    "SZOBA_FK": "74",
                                    "FOGLALAS_PK": "1179",
                                    "Időtartam napokban": "7",
                                    "Előző": "6"
                                },
                                {
                                    "SZOBA_FK": "75",
                                    "FOGLALAS_PK": "1013",
                                    "Időtartam napokban": "5",
                                    "Előző": "0"
                                },
                                {
                                    "SZOBA_FK": "75",
                                    "FOGLALAS_PK": "1412",
                                    "Időtartam napokban": "2",
                                    "Előző": "5"
                                },
                                {
                                    "SZOBA_FK": "75",
                                    "FOGLALAS_PK": "1458",
                                    "Időtartam napokban": "1",
                                    "Előző": "2"
                                },
                                {
                                    "SZOBA_FK": "76",
                                    "FOGLALAS_PK": "683",
                                    "Időtartam napokban": "7",
                                    "Előző": "0"
                                },
                                {
                                    "SZOBA_FK": "76",
                                    "FOGLALAS_PK": "976",
                                    "Időtartam napokban": "2",
                                    "Előző": "7"
                                },
                                {
                                    "SZOBA_FK": "76",
                                    "FOGLALAS_PK": "1557",
                                    "Időtartam napokban": "3",
                                    "Előző": "2"
                                },
                                {
                                    "SZOBA_FK": "77",
                                    "FOGLALAS_PK": "593",
                                    "Időtartam napokban": "3",
                                    "Előző": "0"
                                },
                                {
                                    "SZOBA_FK": "77",
                                    "FOGLALAS_PK": "698",
                                    "Időtartam napokban": "4",
                                    "Előző": "3"
                                },
                                {
                                    "SZOBA_FK": "77",
                                    "FOGLALAS_PK": "982",
                                    "Időtartam napokban": "3",
                                    "Előző": "4"
                                },
                                {
                                    "SZOBA_FK": "77",
                                    "FOGLALAS_PK": "1104",
                                    "Időtartam napokban": "1",
                                    "Előző": "3"
                                },
                                {
                                    "SZOBA_FK": "77",
                                    "FOGLALAS_PK": "1439",
                                    "Időtartam napokban": "6",
                                    "Előző": "1"
                                },
                                {
                                    "SZOBA_FK": "77",
                                    "FOGLALAS_PK": "1461",
                                    "Időtartam napokban": "4",
                                    "Előző": "6"
                                },
                                {
                                    "SZOBA_FK": "78",
                                    "FOGLALAS_PK": "568",
                                    "Időtartam napokban": "1",
                                    "Előző": "0"
                                },
                                {
                                    "SZOBA_FK": "78",
                                    "FOGLALAS_PK": "646",
                                    "Időtartam napokban": "3",
                                    "Előző": "1"
                                },
                                {
                                    "SZOBA_FK": "78",
                                    "FOGLALAS_PK": "700",
                                    "Időtartam napokban": "5",
                                    "Előző": "3"
                                },
                                {
                                    "SZOBA_FK": "78",
                                    "FOGLALAS_PK": "1268",
                                    "Időtartam napokban": "2",
                                    "Előző": "5"
                                },
                                {
                                    "SZOBA_FK": "78",
                                    "FOGLALAS_PK": "1281",
                                    "Időtartam napokban": "3",
                                    "Előző": "2"
                                },
                                {
                                    "SZOBA_FK": "78",
                                    "FOGLALAS_PK": "1577",
                                    "Időtartam napokban": "7",
                                    "Előző": "3"
                                },
                                {
                                    "SZOBA_FK": "79",
                                    "FOGLALAS_PK": "583",
                                    "Időtartam napokban": "6",
                                    "Előző": "0"
                                },
                                {
                                    "SZOBA_FK": "79",
                                    "FOGLALAS_PK": "1054",
                                    "Időtartam napokban": "1",
                                    "Előző": "6"
                                },
                                {
                                    "SZOBA_FK": "79",
                                    "FOGLALAS_PK": "1229",
                                    "Időtartam napokban": "7",
                                    "Előző": "1"
                                },
                                {
                                    "SZOBA_FK": "79",
                                    "FOGLALAS_PK": "1345",
                                    "Időtartam napokban": "3",
                                    "Előző": "7"
                                },
                                {
                                    "SZOBA_FK": "79",
                                    "FOGLALAS_PK": "1447",
                                    "Időtartam napokban": "4",
                                    "Előző": "3"
                                },
                                {
                                    "SZOBA_FK": "80",
                                    "FOGLALAS_PK": "667",
                                    "Időtartam napokban": "6",
                                    "Előző": "0"
                                },
                                {
                                    "SZOBA_FK": "80",
                                    "FOGLALAS_PK": "887",
                                    "Időtartam napokban": "6",
                                    "Előző": "6"
                                },
                                {
                                    "SZOBA_FK": "80",
                                    "FOGLALAS_PK": "929",
                                    "Időtartam napokban": "2",
                                    "Előző": "6"
                                },
                                {
                                    "SZOBA_FK": "80",
                                    "FOGLALAS_PK": "983",
                                    "Időtartam napokban": "6",
                                    "Előző": "2"
                                },
                                {
                                    "SZOBA_FK": "80",
                                    "FOGLALAS_PK": "1071",
                                    "Időtartam napokban": "4",
                                    "Előző": "6"
                                },
                                {
                                    "SZOBA_FK": "80",
                                    "FOGLALAS_PK": "1279",
                                    "Időtartam napokban": "5",
                                    "Előző": "4"
                                },
                                {
                                    "SZOBA_FK": "80",
                                    "FOGLALAS_PK": "1367",
                                    "Időtartam napokban": "3",
                                    "Előző": "5"
                                },
                                {
                                    "SZOBA_FK": "81",
                                    "FOGLALAS_PK": "1366",
                                    "Időtartam napokban": "5",
                                    "Előző": "0"
                                },
                                {
                                    "SZOBA_FK": "81",
                                    "FOGLALAS_PK": "1443",
                                    "Időtartam napokban": "7",
                                    "Előző": "5"
                                },
                                {
                                    "SZOBA_FK": "81",
                                    "FOGLALAS_PK": "1464",
                                    "Időtartam napokban": "7",
                                    "Előző": "7"
                                },
                                {
                                    "SZOBA_FK": "81",
                                    "FOGLALAS_PK": "1506",
                                    "Időtartam napokban": "3",
                                    "Előző": "7"
                                },
                                {
                                    "SZOBA_FK": "81",
                                    "FOGLALAS_PK": "1562",
                                    "Időtartam napokban": "3",
                                    "Előző": "3"
                                },
                                {
                                    "SZOBA_FK": "82",
                                    "FOGLALAS_PK": "862",
                                    "Időtartam napokban": "4",
                                    "Előző": "0"
                                },
                                {
                                    "SZOBA_FK": "82",
                                    "FOGLALAS_PK": "871",
                                    "Időtartam napokban": "5",
                                    "Előző": "4"
                                },
                                {
                                    "SZOBA_FK": "82",
                                    "FOGLALAS_PK": "997",
                                    "Időtartam napokban": "6",
                                    "Előző": "5"
                                },
                                {
                                    "SZOBA_FK": "82",
                                    "FOGLALAS_PK": "1277",
                                    "Időtartam napokban": "5",
                                    "Előző": "6"
                                },
                                {
                                    "SZOBA_FK": "82",
                                    "FOGLALAS_PK": "1341",
                                    "Időtartam napokban": "2",
                                    "Előző": "5"
                                },
                                {
                                    "SZOBA_FK": "82",
                                    "FOGLALAS_PK": "1406",
                                    "Időtartam napokban": "1",
                                    "Előző": "2"
                                },
                                {
                                    "SZOBA_FK": "83",
                                    "FOGLALAS_PK": "572",
                                    "Időtartam napokban": "7",
                                    "Előző": "0"
                                },
                                {
                                    "SZOBA_FK": "83",
                                    "FOGLALAS_PK": "674",
                                    "Időtartam napokban": "4",
                                    "Előző": "7"
                                },
                                {
                                    "SZOBA_FK": "83",
                                    "FOGLALAS_PK": "798",
                                    "Időtartam napokban": "4",
                                    "Előző": "4"
                                },
                                {
                                    "SZOBA_FK": "83",
                                    "FOGLALAS_PK": "869",
                                    "Időtartam napokban": "6",
                                    "Előző": "4"
                                },
                                {
                                    "SZOBA_FK": "83",
                                    "FOGLALAS_PK": "878",
                                    "Időtartam napokban": "6",
                                    "Előző": "6"
                                },
                                {
                                    "SZOBA_FK": "83",
                                    "FOGLALAS_PK": "995",
                                    "Időtartam napokban": "5",
                                    "Előző": "6"
                                },
                                {
                                    "SZOBA_FK": "83",
                                    "FOGLALAS_PK": "1119",
                                    "Időtartam napokban": "6",
                                    "Előző": "5"
                                },
                                {
                                    "SZOBA_FK": "83",
                                    "FOGLALAS_PK": "1379",
                                    "Időtartam napokban": "7",
                                    "Előző": "6"
                                },
                                {
                                    "SZOBA_FK": "84",
                                    "FOGLALAS_PK": "819",
                                    "Időtartam napokban": "2",
                                    "Előző": "0"
                                },
                                {
                                    "SZOBA_FK": "84",
                                    "FOGLALAS_PK": "954",
                                    "Időtartam napokban": "5",
                                    "Előző": "2"
                                },
                                {
                                    "SZOBA_FK": "84",
                                    "FOGLALAS_PK": "1376",
                                    "Időtartam napokban": "5",
                                    "Előző": "5"
                                },
                                {
                                    "SZOBA_FK": "84",
                                    "FOGLALAS_PK": "1384",
                                    "Időtartam napokban": "7",
                                    "Előző": "5"
                                },
                                {
                                    "SZOBA_FK": "85",
                                    "FOGLALAS_PK": "647",
                                    "Időtartam napokban": "3",
                                    "Előző": "0"
                                },
                                {
                                    "SZOBA_FK": "85",
                                    "FOGLALAS_PK": "1059",
                                    "Időtartam napokban": "3",
                                    "Előző": "3"
                                },
                                {
                                    "SZOBA_FK": "85",
                                    "FOGLALAS_PK": "1320",
                                    "Időtartam napokban": "1",
                                    "Előző": "3"
                                },
                                {
                                    "SZOBA_FK": "85",
                                    "FOGLALAS_PK": "1513",
                                    "Időtartam napokban": "7",
                                    "Előző": "1"
                                },
                                {
                                    "SZOBA_FK": "86",
                                    "FOGLALAS_PK": "859",
                                    "Időtartam napokban": "1",
                                    "Előző": "0"
                                },
                                {
                                    "SZOBA_FK": "86",
                                    "FOGLALAS_PK": "1057",
                                    "Időtartam napokban": "5",
                                    "Előző": "1"
                                },
                                {
                                    "SZOBA_FK": "86",
                                    "FOGLALAS_PK": "1079",
                                    "Időtartam napokban": "4",
                                    "Előző": "5"
                                },
                                {
                                    "SZOBA_FK": "86",
                                    "FOGLALAS_PK": "1108",
                                    "Időtartam napokban": "1",
                                    "Előző": "4"
                                },
                                {
                                    "SZOBA_FK": "86",
                                    "FOGLALAS_PK": "1453",
                                    "Időtartam napokban": "1",
                                    "Előző": "1"
                                },
                                {
                                    "SZOBA_FK": "87",
                                    "FOGLALAS_PK": "558",
                                    "Időtartam napokban": "4",
                                    "Előző": "0"
                                },
                                {
                                    "SZOBA_FK": "87",
                                    "FOGLALAS_PK": "844",
                                    "Időtartam napokban": "1",
                                    "Előző": "4"
                                },
                                {
                                    "SZOBA_FK": "87",
                                    "FOGLALAS_PK": "1103",
                                    "Időtartam napokban": "3",
                                    "Előző": "1"
                                },
                                {
                                    "SZOBA_FK": "87",
                                    "FOGLALAS_PK": "1349",
                                    "Időtartam napokban": "5",
                                    "Előző": "3"
                                },
                                {
                                    "SZOBA_FK": "87",
                                    "FOGLALAS_PK": "1456",
                                    "Időtartam napokban": "5",
                                    "Előző": "5"
                                },
                                {
                                    "SZOBA_FK": "88",
                                    "FOGLALAS_PK": "757",
                                    "Időtartam napokban": "7",
                                    "Előző": "0"
                                },
                                {
                                    "SZOBA_FK": "88",
                                    "FOGLALAS_PK": "866",
                                    "Időtartam napokban": "2",
                                    "Előző": "7"
                                },
                                {
                                    "SZOBA_FK": "88",
                                    "FOGLALAS_PK": "1196",
                                    "Időtartam napokban": "3",
                                    "Előző": "2"
                                },
                                {
                                    "SZOBA_FK": "88",
                                    "FOGLALAS_PK": "1273",
                                    "Időtartam napokban": "7",
                                    "Előző": "3"
                                },
                                {
                                    "SZOBA_FK": "88",
                                    "FOGLALAS_PK": "1300",
                                    "Időtartam napokban": "3",
                                    "Előző": "7"
                                },
                                {
                                    "SZOBA_FK": "88",
                                    "FOGLALAS_PK": "1359",
                                    "Időtartam napokban": "2",
                                    "Előző": "3"
                                },
                                {
                                    "SZOBA_FK": "88",
                                    "FOGLALAS_PK": "1548",
                                    "Időtartam napokban": "7",
                                    "Előző": "2"
                                },
                                {
                                    "SZOBA_FK": "88",
                                    "FOGLALAS_PK": "1575",
                                    "Időtartam napokban": "6",
                                    "Előző": "7"
                                },
                                {
                                    "SZOBA_FK": "89",
                                    "FOGLALAS_PK": "817",
                                    "Időtartam napokban": "3",
                                    "Előző": "0"
                                },
                                {
                                    "SZOBA_FK": "89",
                                    "FOGLALAS_PK": "1037",
                                    "Időtartam napokban": "7",
                                    "Előző": "3"
                                },
                                {
                                    "SZOBA_FK": "89",
                                    "FOGLALAS_PK": "1101",
                                    "Időtartam napokban": "5",
                                    "Előző": "7"
                                },
                                {
                                    "SZOBA_FK": "89",
                                    "FOGLALAS_PK": "1189",
                                    "Időtartam napokban": "6",
                                    "Előző": "5"
                                },
                                {
                                    "SZOBA_FK": "89",
                                    "FOGLALAS_PK": "1253",
                                    "Időtartam napokban": "2",
                                    "Előző": "6"
                                },
                                {
                                    "SZOBA_FK": "89",
                                    "FOGLALAS_PK": "1269",
                                    "Időtartam napokban": "2",
                                    "Előző": "2"
                                },
                                {
                                    "SZOBA_FK": "89",
                                    "FOGLALAS_PK": "1399",
                                    "Időtartam napokban": "2",
                                    "Előző": "2"
                                },
                                {
                                    "SZOBA_FK": "89",
                                    "FOGLALAS_PK": "1521",
                                    "Időtartam napokban": "7",
                                    "Előző": "2"
                                },
                                {
                                    "SZOBA_FK": "90",
                                    "FOGLALAS_PK": "729",
                                    "Időtartam napokban": "2",
                                    "Előző": "0"
                                },
                                {
                                    "SZOBA_FK": "90",
                                    "FOGLALAS_PK": "1174",
                                    "Időtartam napokban": "7",
                                    "Előző": "2"
                                },
                                {
                                    "SZOBA_FK": "90",
                                    "FOGLALAS_PK": "1299",
                                    "Időtartam napokban": "6",
                                    "Előző": "7"
                                },
                                {
                                    "SZOBA_FK": "90",
                                    "FOGLALAS_PK": "1405",
                                    "Időtartam napokban": "5",
                                    "Előző": "6"
                                },
                                {
                                    "SZOBA_FK": "91",
                                    "FOGLALAS_PK": "636",
                                    "Időtartam napokban": "6",
                                    "Előző": "0"
                                },
                                {
                                    "SZOBA_FK": "91",
                                    "FOGLALAS_PK": "732",
                                    "Időtartam napokban": "4",
                                    "Előző": "6"
                                },
                                {
                                    "SZOBA_FK": "91",
                                    "FOGLALAS_PK": "1213",
                                    "Időtartam napokban": "3",
                                    "Előző": "4"
                                },
                                {
                                    "SZOBA_FK": "91",
                                    "FOGLALAS_PK": "1397",
                                    "Időtartam napokban": "4",
                                    "Előző": "3"
                                },
                                {
                                    "SZOBA_FK": "92",
                                    "FOGLALAS_PK": "809",
                                    "Időtartam napokban": "3",
                                    "Előző": "0"
                                },
                                {
                                    "SZOBA_FK": "92",
                                    "FOGLALAS_PK": "841",
                                    "Időtartam napokban": "6",
                                    "Előző": "3"
                                },
                                {
                                    "SZOBA_FK": "92",
                                    "FOGLALAS_PK": "942",
                                    "Időtartam napokban": "6",
                                    "Előző": "6"
                                },
                                {
                                    "SZOBA_FK": "92",
                                    "FOGLALAS_PK": "1016",
                                    "Időtartam napokban": "2",
                                    "Előző": "6"
                                },
                                {
                                    "SZOBA_FK": "92",
                                    "FOGLALAS_PK": "1527",
                                    "Időtartam napokban": "2",
                                    "Előző": "2"
                                },
                                {
                                    "SZOBA_FK": "92",
                                    "FOGLALAS_PK": "1555",
                                    "Időtartam napokban": "4",
                                    "Előző": "2"
                                },
                                {
                                    "SZOBA_FK": "93",
                                    "FOGLALAS_PK": "741",
                                    "Időtartam napokban": "7",
                                    "Előző": "0"
                                },
                                {
                                    "SZOBA_FK": "93",
                                    "FOGLALAS_PK": "1169",
                                    "Időtartam napokban": "4",
                                    "Előző": "7"
                                },
                                {
                                    "SZOBA_FK": "93",
                                    "FOGLALAS_PK": "1217",
                                    "Időtartam napokban": "1",
                                    "Előző": "4"
                                },
                                {
                                    "SZOBA_FK": "93",
                                    "FOGLALAS_PK": "1355",
                                    "Időtartam napokban": "2",
                                    "Előző": "1"
                                },
                                {
                                    "SZOBA_FK": "93",
                                    "FOGLALAS_PK": "1391",
                                    "Időtartam napokban": "4",
                                    "Előző": "2"
                                },
                                {
                                    "SZOBA_FK": "94",
                                    "FOGLALAS_PK": "616",
                                    "Időtartam napokban": "4",
                                    "Előző": "0"
                                },
                                {
                                    "SZOBA_FK": "94",
                                    "FOGLALAS_PK": "665",
                                    "Időtartam napokban": "7",
                                    "Előző": "4"
                                },
                                {
                                    "SZOBA_FK": "94",
                                    "FOGLALAS_PK": "727",
                                    "Időtartam napokban": "3",
                                    "Előző": "7"
                                },
                                {
                                    "SZOBA_FK": "94",
                                    "FOGLALAS_PK": "975",
                                    "Időtartam napokban": "5",
                                    "Előző": "3"
                                },
                                {
                                    "SZOBA_FK": "94",
                                    "FOGLALAS_PK": "1241",
                                    "Időtartam napokban": "7",
                                    "Előző": "5"
                                },
                                {
                                    "SZOBA_FK": "94",
                                    "FOGLALAS_PK": "1305",
                                    "Időtartam napokban": "2",
                                    "Előző": "7"
                                },
                                {
                                    "SZOBA_FK": "94",
                                    "FOGLALAS_PK": "1312",
                                    "Időtartam napokban": "3",
                                    "Előző": "2"
                                },
                                {
                                    "SZOBA_FK": "94",
                                    "FOGLALAS_PK": "1368",
                                    "Időtartam napokban": "1",
                                    "Előző": "3"
                                },
                                {
                                    "SZOBA_FK": "94",
                                    "FOGLALAS_PK": "1518",
                                    "Időtartam napokban": "2",
                                    "Előző": "1"
                                },
                                {
                                    "SZOBA_FK": "94",
                                    "FOGLALAS_PK": "1564",
                                    "Időtartam napokban": "7",
                                    "Előző": "2"
                                },
                                {
                                    "SZOBA_FK": "95",
                                    "FOGLALAS_PK": "656",
                                    "Időtartam napokban": "7",
                                    "Előző": "0"
                                },
                                {
                                    "SZOBA_FK": "95",
                                    "FOGLALAS_PK": "1048",
                                    "Időtartam napokban": "3",
                                    "Előző": "7"
                                },
                                {
                                    "SZOBA_FK": "95",
                                    "FOGLALAS_PK": "1097",
                                    "Időtartam napokban": "4",
                                    "Előző": "3"
                                },
                                {
                                    "SZOBA_FK": "95",
                                    "FOGLALAS_PK": "1543",
                                    "Időtartam napokban": "7",
                                    "Előző": "4"
                                },
                                {
                                    "SZOBA_FK": "96",
                                    "FOGLALAS_PK": "607",
                                    "Időtartam napokban": "4",
                                    "Előző": "0"
                                },
                                {
                                    "SZOBA_FK": "96",
                                    "FOGLALAS_PK": "623",
                                    "Időtartam napokban": "7",
                                    "Előző": "4"
                                },
                                {
                                    "SZOBA_FK": "96",
                                    "FOGLALAS_PK": "671",
                                    "Időtartam napokban": "4",
                                    "Előző": "7"
                                },
                                {
                                    "SZOBA_FK": "96",
                                    "FOGLALAS_PK": "780",
                                    "Időtartam napokban": "1",
                                    "Előző": "4"
                                },
                                {
                                    "SZOBA_FK": "96",
                                    "FOGLALAS_PK": "1378",
                                    "Időtartam napokban": "3",
                                    "Előző": "1"
                                },
                                {
                                    "SZOBA_FK": "96",
                                    "FOGLALAS_PK": "1438",
                                    "Időtartam napokban": "2",
                                    "Előző": "3"
                                },
                                {
                                    "SZOBA_FK": "96",
                                    "FOGLALAS_PK": "1569",
                                    "Időtartam napokban": "7",
                                    "Előző": "2"
                                },
                                {
                                    "SZOBA_FK": "97",
                                    "FOGLALAS_PK": "635",
                                    "Időtartam napokban": "3",
                                    "Előző": "0"
                                },
                                {
                                    "SZOBA_FK": "97",
                                    "FOGLALAS_PK": "718",
                                    "Időtartam napokban": "7",
                                    "Előző": "3"
                                },
                                {
                                    "SZOBA_FK": "97",
                                    "FOGLALAS_PK": "726",
                                    "Időtartam napokban": "4",
                                    "Előző": "7"
                                },
                                {
                                    "SZOBA_FK": "97",
                                    "FOGLALAS_PK": "836",
                                    "Időtartam napokban": "2",
                                    "Előző": "4"
                                },
                                {
                                    "SZOBA_FK": "97",
                                    "FOGLALAS_PK": "1395",
                                    "Időtartam napokban": "1",
                                    "Előző": "2"
                                },
                                {
                                    "SZOBA_FK": "97",
                                    "FOGLALAS_PK": "1417",
                                    "Időtartam napokban": "7",
                                    "Előző": "1"
                                },
                                {
                                    "SZOBA_FK": "97",
                                    "FOGLALAS_PK": "1528",
                                    "Időtartam napokban": "2",
                                    "Előző": "7"
                                },
                                {
                                    "SZOBA_FK": "98",
                                    "FOGLALAS_PK": "631",
                                    "Időtartam napokban": "6",
                                    "Előző": "0"
                                },
                                {
                                    "SZOBA_FK": "98",
                                    "FOGLALAS_PK": "884",
                                    "Időtartam napokban": "5",
                                    "Előző": "6"
                                },
                                {
                                    "SZOBA_FK": "98",
                                    "FOGLALAS_PK": "1050",
                                    "Időtartam napokban": "6",
                                    "Előző": "5"
                                },
                                {
                                    "SZOBA_FK": "98",
                                    "FOGLALAS_PK": "1402",
                                    "Időtartam napokban": "2",
                                    "Előző": "6"
                                },
                                {
                                    "SZOBA_FK": "99",
                                    "FOGLALAS_PK": "632",
                                    "Időtartam napokban": "1",
                                    "Előző": "0"
                                },
                                {
                                    "SZOBA_FK": "99",
                                    "FOGLALAS_PK": "691",
                                    "Időtartam napokban": "5",
                                    "Előző": "1"
                                },
                                {
                                    "SZOBA_FK": "99",
                                    "FOGLALAS_PK": "1072",
                                    "Időtartam napokban": "1",
                                    "Előző": "5"
                                },
                                {
                                    "SZOBA_FK": "99",
                                    "FOGLALAS_PK": "1408",
                                    "Időtartam napokban": "1",
                                    "Előző": "1"
                                },
                                {
                                    "SZOBA_FK": "99",
                                    "FOGLALAS_PK": "1486",
                                    "Időtartam napokban": "5",
                                    "Előző": "1"
                                },
                                {
                                    "SZOBA_FK": "100",
                                    "FOGLALAS_PK": "597",
                                    "Időtartam napokban": "1",
                                    "Előző": "0"
                                },
                                {
                                    "SZOBA_FK": "100",
                                    "FOGLALAS_PK": "637",
                                    "Időtartam napokban": "5",
                                    "Előző": "1"
                                },
                                {
                                    "SZOBA_FK": "100",
                                    "FOGLALAS_PK": "1315",
                                    "Időtartam napokban": "5",
                                    "Előző": "5"
                                },
                                {
                                    "SZOBA_FK": "100",
                                    "FOGLALAS_PK": "1482",
                                    "Időtartam napokban": "7",
                                    "Előző": "5"
                                },
                                {
                                    "SZOBA_FK": "101",
                                    "FOGLALAS_PK": "715",
                                    "Időtartam napokban": "3",
                                    "Előző": "0"
                                },
                                {
                                    "SZOBA_FK": "101",
                                    "FOGLALAS_PK": "1332",
                                    "Időtartam napokban": "6",
                                    "Előző": "3"
                                },
                                {
                                    "SZOBA_FK": "101",
                                    "FOGLALAS_PK": "1516",
                                    "Időtartam napokban": "4",
                                    "Előző": "6"
                                },
                                {
                                    "SZOBA_FK": "102",
                                    "FOGLALAS_PK": "689",
                                    "Időtartam napokban": "5",
                                    "Előző": "0"
                                },
                                {
                                    "SZOBA_FK": "102",
                                    "FOGLALAS_PK": "1343",
                                    "Időtartam napokban": "2",
                                    "Előző": "5"
                                },
                                {
                                    "SZOBA_FK": "103",
                                    "FOGLALAS_PK": "972",
                                    "Időtartam napokban": "2",
                                    "Előző": "0"
                                },
                                {
                                    "SZOBA_FK": "103",
                                    "FOGLALAS_PK": "992",
                                    "Időtartam napokban": "7",
                                    "Előző": "2"
                                },
                                {
                                    "SZOBA_FK": "103",
                                    "FOGLALAS_PK": "1398",
                                    "Időtartam napokban": "1",
                                    "Előző": "7"
                                },
                                {
                                    "SZOBA_FK": "103",
                                    "FOGLALAS_PK": "1485",
                                    "Időtartam napokban": "4",
                                    "Előző": "1"
                                },
                                {
                                    "SZOBA_FK": "104",
                                    "FOGLALAS_PK": "837",
                                    "Időtartam napokban": "4",
                                    "Előző": "0"
                                },
                                {
                                    "SZOBA_FK": "104",
                                    "FOGLALAS_PK": "1180",
                                    "Időtartam napokban": "1",
                                    "Előző": "4"
                                },
                                {
                                    "SZOBA_FK": "104",
                                    "FOGLALAS_PK": "1522",
                                    "Időtartam napokban": "2",
                                    "Előző": "1"
                                },
                                {
                                    "SZOBA_FK": "104",
                                    "FOGLALAS_PK": "1532",
                                    "Időtartam napokban": "3",
                                    "Előző": "2"
                                },
                                {
                                    "SZOBA_FK": "105",
                                    "FOGLALAS_PK": "618",
                                    "Időtartam napokban": "1",
                                    "Előző": "0"
                                },
                                {
                                    "SZOBA_FK": "105",
                                    "FOGLALAS_PK": "1525",
                                    "Időtartam napokban": "5",
                                    "Előző": "1"
                                },
                                {
                                    "SZOBA_FK": "106",
                                    "FOGLALAS_PK": "610",
                                    "Időtartam napokban": "3",
                                    "Előző": "0"
                                },
                                {
                                    "SZOBA_FK": "106",
                                    "FOGLALAS_PK": "708",
                                    "Időtartam napokban": "7",
                                    "Előző": "3"
                                },
                                {
                                    "SZOBA_FK": "106",
                                    "FOGLALAS_PK": "1228",
                                    "Időtartam napokban": "7",
                                    "Előző": "7"
                                },
                                {
                                    "SZOBA_FK": "106",
                                    "FOGLALAS_PK": "1271",
                                    "Időtartam napokban": "5",
                                    "Előző": "7"
                                },
                                {
                                    "SZOBA_FK": "106",
                                    "FOGLALAS_PK": "1372",
                                    "Időtartam napokban": "7",
                                    "Előző": "5"
                                },
                                {
                                    "SZOBA_FK": "106",
                                    "FOGLALAS_PK": "1510",
                                    "Időtartam napokban": "6",
                                    "Előző": "7"
                                },
                                {
                                    "SZOBA_FK": "107",
                                    "FOGLALAS_PK": "586",
                                    "Időtartam napokban": "6",
                                    "Előző": "0"
                                },
                                {
                                    "SZOBA_FK": "107",
                                    "FOGLALAS_PK": "1250",
                                    "Időtartam napokban": "4",
                                    "Előző": "6"
                                },
                                {
                                    "SZOBA_FK": "107",
                                    "FOGLALAS_PK": "1354",
                                    "Időtartam napokban": "1",
                                    "Előző": "4"
                                },
                                {
                                    "SZOBA_FK": "107",
                                    "FOGLALAS_PK": "1452",
                                    "Időtartam napokban": "6",
                                    "Előző": "1"
                                },
                                {
                                    "SZOBA_FK": "107",
                                    "FOGLALAS_PK": "1494",
                                    "Időtartam napokban": "2",
                                    "Előző": "6"
                                },
                                {
                                    "SZOBA_FK": "108",
                                    "FOGLALAS_PK": "1102",
                                    "Időtartam napokban": "1",
                                    "Előző": "0"
                                },
                                {
                                    "SZOBA_FK": "108",
                                    "FOGLALAS_PK": "1392",
                                    "Időtartam napokban": "6",
                                    "Előző": "1"
                                },
                                {
                                    "SZOBA_FK": "109",
                                    "FOGLALAS_PK": "614",
                                    "Időtartam napokban": "4",
                                    "Előző": "0"
                                },
                                {
                                    "SZOBA_FK": "109",
                                    "FOGLALAS_PK": "621",
                                    "Időtartam napokban": "7",
                                    "Előző": "4"
                                },
                                {
                                    "SZOBA_FK": "109",
                                    "FOGLALAS_PK": "654",
                                    "Időtartam napokban": "5",
                                    "Előző": "7"
                                },
                                {
                                    "SZOBA_FK": "109",
                                    "FOGLALAS_PK": "810",
                                    "Időtartam napokban": "2",
                                    "Előző": "5"
                                },
                                {
                                    "SZOBA_FK": "109",
                                    "FOGLALAS_PK": "1083",
                                    "Időtartam napokban": "1",
                                    "Előző": "2"
                                },
                                {
                                    "SZOBA_FK": "109",
                                    "FOGLALAS_PK": "1298",
                                    "Időtartam napokban": "4",
                                    "Előző": "1"
                                },
                                {
                                    "SZOBA_FK": "109",
                                    "FOGLALAS_PK": "1560",
                                    "Időtartam napokban": "1",
                                    "Előző": "4"
                                },
                                {
                                    "SZOBA_FK": "110",
                                    "FOGLALAS_PK": "685",
                                    "Időtartam napokban": "1",
                                    "Előző": "0"
                                },
                                {
                                    "SZOBA_FK": "110",
                                    "FOGLALAS_PK": "931",
                                    "Időtartam napokban": "5",
                                    "Előző": "1"
                                },
                                {
                                    "SZOBA_FK": "110",
                                    "FOGLALAS_PK": "964",
                                    "Időtartam napokban": "6",
                                    "Előző": "5"
                                },
                                {
                                    "SZOBA_FK": "110",
                                    "FOGLALAS_PK": "1041",
                                    "Időtartam napokban": "3",
                                    "Előző": "6"
                                },
                                {
                                    "SZOBA_FK": "110",
                                    "FOGLALAS_PK": "1109",
                                    "Időtartam napokban": "5",
                                    "Előző": "3"
                                },
                                {
                                    "SZOBA_FK": "110",
                                    "FOGLALAS_PK": "1162",
                                    "Időtartam napokban": "2",
                                    "Előző": "5"
                                },
                                {
                                    "SZOBA_FK": "110",
                                    "FOGLALAS_PK": "1424",
                                    "Időtartam napokban": "1",
                                    "Előző": "2"
                                },
                                {
                                    "SZOBA_FK": "110",
                                    "FOGLALAS_PK": "1489",
                                    "Időtartam napokban": "6",
                                    "Előző": "1"
                                },
                                {
                                    "SZOBA_FK": "111",
                                    "FOGLALAS_PK": "605",
                                    "Időtartam napokban": "7",
                                    "Előző": "0"
                                },
                                {
                                    "SZOBA_FK": "111",
                                    "FOGLALAS_PK": "786",
                                    "Időtartam napokban": "4",
                                    "Előző": "7"
                                },
                                {
                                    "SZOBA_FK": "111",
                                    "FOGLALAS_PK": "959",
                                    "Időtartam napokban": "7",
                                    "Előző": "4"
                                },
                                {
                                    "SZOBA_FK": "111",
                                    "FOGLALAS_PK": "1296",
                                    "Időtartam napokban": "3",
                                    "Előző": "7"
                                },
                                {
                                    "SZOBA_FK": "111",
                                    "FOGLALAS_PK": "1353",
                                    "Időtartam napokban": "5",
                                    "Előző": "3"
                                },
                                {
                                    "SZOBA_FK": "112",
                                    "FOGLALAS_PK": "776",
                                    "Időtartam napokban": "4",
                                    "Előző": "0"
                                },
                                {
                                    "SZOBA_FK": "112",
                                    "FOGLALAS_PK": "801",
                                    "Időtartam napokban": "5",
                                    "Előző": "4"
                                },
                                {
                                    "SZOBA_FK": "112",
                                    "FOGLALAS_PK": "921",
                                    "Időtartam napokban": "1",
                                    "Előző": "5"
                                },
                                {
                                    "SZOBA_FK": "112",
                                    "FOGLALAS_PK": "1124",
                                    "Időtartam napokban": "6",
                                    "Előző": "1"
                                },
                                {
                                    "SZOBA_FK": "112",
                                    "FOGLALAS_PK": "1530",
                                    "Időtartam napokban": "6",
                                    "Előző": "6"
                                },
                                {
                                    "SZOBA_FK": "113",
                                    "FOGLALAS_PK": "1029",
                                    "Időtartam napokban": "5",
                                    "Előző": "0"
                                },
                                {
                                    "SZOBA_FK": "113",
                                    "FOGLALAS_PK": "1085",
                                    "Időtartam napokban": "4",
                                    "Előző": "5"
                                },
                                {
                                    "SZOBA_FK": "113",
                                    "FOGLALAS_PK": "1263",
                                    "Időtartam napokban": "1",
                                    "Előző": "4"
                                },
                                {
                                    "SZOBA_FK": "113",
                                    "FOGLALAS_PK": "1495",
                                    "Időtartam napokban": "7",
                                    "Előző": "1"
                                },
                                {
                                    "SZOBA_FK": "113",
                                    "FOGLALAS_PK": "1499",
                                    "Időtartam napokban": "2",
                                    "Előző": "7"
                                },
                                {
                                    "SZOBA_FK": "114",
                                    "FOGLALAS_PK": "737",
                                    "Időtartam napokban": "2",
                                    "Előző": "0"
                                },
                                {
                                    "SZOBA_FK": "114",
                                    "FOGLALAS_PK": "827",
                                    "Időtartam napokban": "7",
                                    "Előző": "2"
                                },
                                {
                                    "SZOBA_FK": "114",
                                    "FOGLALAS_PK": "966",
                                    "Időtartam napokban": "6",
                                    "Előző": "7"
                                },
                                {
                                    "SZOBA_FK": "114",
                                    "FOGLALAS_PK": "1540",
                                    "Időtartam napokban": "3",
                                    "Előző": "6"
                                },
                                {
                                    "SZOBA_FK": "115",
                                    "FOGLALAS_PK": "596",
                                    "Időtartam napokban": "7",
                                    "Előző": "0"
                                },
                                {
                                    "SZOBA_FK": "115",
                                    "FOGLALAS_PK": "943",
                                    "Időtartam napokban": "7",
                                    "Előző": "7"
                                },
                                {
                                    "SZOBA_FK": "115",
                                    "FOGLALAS_PK": "1121",
                                    "Időtartam napokban": "7",
                                    "Előző": "7"
                                },
                                {
                                    "SZOBA_FK": "115",
                                    "FOGLALAS_PK": "1154",
                                    "Időtartam napokban": "4",
                                    "Előző": "7"
                                },
                                {
                                    "SZOBA_FK": "115",
                                    "FOGLALAS_PK": "1352",
                                    "Időtartam napokban": "3",
                                    "Előző": "4"
                                },
                                {
                                    "SZOBA_FK": "115",
                                    "FOGLALAS_PK": "1554",
                                    "Időtartam napokban": "3",
                                    "Előző": "3"
                                },
                                {
                                    "SZOBA_FK": "115",
                                    "FOGLALAS_PK": "1566",
                                    "Időtartam napokban": "1",
                                    "Előző": "3"
                                },
                                {
                                    "SZOBA_FK": "116",
                                    "FOGLALAS_PK": "1455",
                                    "Időtartam napokban": "2",
                                    "Előző": "0"
                                },
                                {
                                    "SZOBA_FK": "116",
                                    "FOGLALAS_PK": "1501",
                                    "Időtartam napokban": "4",
                                    "Előző": "2"
                                },
                                {
                                    "SZOBA_FK": "117",
                                    "FOGLALAS_PK": "612",
                                    "Időtartam napokban": "2",
                                    "Előző": "0"
                                },
                                {
                                    "SZOBA_FK": "117",
                                    "FOGLALAS_PK": "617",
                                    "Időtartam napokban": "3",
                                    "Előző": "2"
                                },
                                {
                                    "SZOBA_FK": "117",
                                    "FOGLALAS_PK": "953",
                                    "Időtartam napokban": "5",
                                    "Előző": "3"
                                },
                                {
                                    "SZOBA_FK": "117",
                                    "FOGLALAS_PK": "962",
                                    "Időtartam napokban": "4",
                                    "Előző": "5"
                                },
                                {
                                    "SZOBA_FK": "117",
                                    "FOGLALAS_PK": "1002",
                                    "Időtartam napokban": "1",
                                    "Előző": "4"
                                },
                                {
                                    "SZOBA_FK": "117",
                                    "FOGLALAS_PK": "1192",
                                    "Időtartam napokban": "2",
                                    "Előző": "1"
                                },
                                {
                                    "SZOBA_FK": "117",
                                    "FOGLALAS_PK": "1247",
                                    "Időtartam napokban": "3",
                                    "Előző": "2"
                                },
                                {
                                    "SZOBA_FK": "117",
                                    "FOGLALAS_PK": "1468",
                                    "Időtartam napokban": "7",
                                    "Előző": "3"
                                },
                                {
                                    "SZOBA_FK": "118",
                                    "FOGLALAS_PK": "716",
                                    "Időtartam napokban": "1",
                                    "Előző": "0"
                                },
                                {
                                    "SZOBA_FK": "118",
                                    "FOGLALAS_PK": "864",
                                    "Időtartam napokban": "6",
                                    "Előző": "1"
                                },
                                {
                                    "SZOBA_FK": "118",
                                    "FOGLALAS_PK": "994",
                                    "Időtartam napokban": "7",
                                    "Előző": "6"
                                },
                                {
                                    "SZOBA_FK": "118",
                                    "FOGLALAS_PK": "996",
                                    "Időtartam napokban": "3",
                                    "Előző": "7"
                                },
                                {
                                    "SZOBA_FK": "118",
                                    "FOGLALAS_PK": "1374",
                                    "Időtartam napokban": "5",
                                    "Előző": "3"
                                },
                                {
                                    "SZOBA_FK": "118",
                                    "FOGLALAS_PK": "1472",
                                    "Időtartam napokban": "6",
                                    "Előző": "5"
                                },
                                {
                                    "SZOBA_FK": "118",
                                    "FOGLALAS_PK": "1481",
                                    "Időtartam napokban": "3",
                                    "Előző": "6"
                                },
                                {
                                    "SZOBA_FK": "119",
                                    "FOGLALAS_PK": "706",
                                    "Időtartam napokban": "2",
                                    "Előző": "0"
                                },
                                {
                                    "SZOBA_FK": "119",
                                    "FOGLALAS_PK": "722",
                                    "Időtartam napokban": "1",
                                    "Előző": "2"
                                },
                                {
                                    "SZOBA_FK": "119",
                                    "FOGLALAS_PK": "1026",
                                    "Időtartam napokban": "3",
                                    "Előző": "1"
                                },
                                {
                                    "SZOBA_FK": "119",
                                    "FOGLALAS_PK": "1413",
                                    "Időtartam napokban": "3",
                                    "Előző": "3"
                                },
                                {
                                    "SZOBA_FK": "119",
                                    "FOGLALAS_PK": "1488",
                                    "Időtartam napokban": "3",
                                    "Előző": "3"
                                },
                                {
                                    "SZOBA_FK": "120",
                                    "FOGLALAS_PK": "762",
                                    "Időtartam napokban": "3",
                                    "Előző": "0"
                                },
                                {
                                    "SZOBA_FK": "120",
                                    "FOGLALAS_PK": "998",
                                    "Időtartam napokban": "3",
                                    "Előző": "3"
                                },
                                {
                                    "SZOBA_FK": "120",
                                    "FOGLALAS_PK": "1089",
                                    "Időtartam napokban": "6",
                                    "Előző": "3"
                                },
                                {
                                    "SZOBA_FK": "120",
                                    "FOGLALAS_PK": "1339",
                                    "Időtartam napokban": "6",
                                    "Előző": "6"
                                },
                                {
                                    "SZOBA_FK": "120",
                                    "FOGLALAS_PK": "1483",
                                    "Időtartam napokban": "1",
                                    "Előző": "6"
                                },
                                {
                                    "SZOBA_FK": "120",
                                    "FOGLALAS_PK": "1493",
                                    "Időtartam napokban": "7",
                                    "Előző": "1"
                                },
                                {
                                    "SZOBA_FK": "121",
                                    "FOGLALAS_PK": "735",
                                    "Időtartam napokban": "6",
                                    "Előző": "0"
                                },
                                {
                                    "SZOBA_FK": "121",
                                    "FOGLALAS_PK": "739",
                                    "Időtartam napokban": "6",
                                    "Előző": "6"
                                },
                                {
                                    "SZOBA_FK": "121",
                                    "FOGLALAS_PK": "858",
                                    "Időtartam napokban": "5",
                                    "Előző": "6"
                                },
                                {
                                    "SZOBA_FK": "121",
                                    "FOGLALAS_PK": "1049",
                                    "Időtartam napokban": "3",
                                    "Előző": "5"
                                },
                                {
                                    "SZOBA_FK": "121",
                                    "FOGLALAS_PK": "1128",
                                    "Időtartam napokban": "4",
                                    "Előző": "3"
                                },
                                {
                                    "SZOBA_FK": "121",
                                    "FOGLALAS_PK": "1215",
                                    "Időtartam napokban": "4",
                                    "Előző": "4"
                                },
                                {
                                    "SZOBA_FK": "121",
                                    "FOGLALAS_PK": "1373",
                                    "Időtartam napokban": "5",
                                    "Előző": "4"
                                },
                                {
                                    "SZOBA_FK": "121",
                                    "FOGLALAS_PK": "1393",
                                    "Időtartam napokban": "6",
                                    "Előző": "5"
                                },
                                {
                                    "SZOBA_FK": "122",
                                    "FOGLALAS_PK": "1007",
                                    "Időtartam napokban": "2",
                                    "Előző": "0"
                                },
                                {
                                    "SZOBA_FK": "122",
                                    "FOGLALAS_PK": "1036",
                                    "Időtartam napokban": "2",
                                    "Előző": "2"
                                },
                                {
                                    "SZOBA_FK": "122",
                                    "FOGLALAS_PK": "1062",
                                    "Időtartam napokban": "3",
                                    "Előző": "2"
                                },
                                {
                                    "SZOBA_FK": "122",
                                    "FOGLALAS_PK": "1166",
                                    "Időtartam napokban": "4",
                                    "Előző": "3"
                                },
                                {
                                    "SZOBA_FK": "122",
                                    "FOGLALAS_PK": "1209",
                                    "Időtartam napokban": "1",
                                    "Előző": "4"
                                },
                                {
                                    "SZOBA_FK": "122",
                                    "FOGLALAS_PK": "1245",
                                    "Időtartam napokban": "2",
                                    "Előző": "1"
                                },
                                {
                                    "SZOBA_FK": "122",
                                    "FOGLALAS_PK": "1337",
                                    "Időtartam napokban": "2",
                                    "Előző": "2"
                                },
                                {
                                    "SZOBA_FK": "122",
                                    "FOGLALAS_PK": "1385",
                                    "Időtartam napokban": "5",
                                    "Előző": "2"
                                },
                                {
                                    "SZOBA_FK": "122",
                                    "FOGLALAS_PK": "1440",
                                    "Időtartam napokban": "3",
                                    "Előző": "5"
                                },
                                {
                                    "SZOBA_FK": "123",
                                    "FOGLALAS_PK": "587",
                                    "Időtartam napokban": "7",
                                    "Előző": "0"
                                },
                                {
                                    "SZOBA_FK": "123",
                                    "FOGLALAS_PK": "923",
                                    "Időtartam napokban": "4",
                                    "Előző": "7"
                                },
                                {
                                    "SZOBA_FK": "123",
                                    "FOGLALAS_PK": "967",
                                    "Időtartam napokban": "5",
                                    "Előző": "4"
                                },
                                {
                                    "SZOBA_FK": "123",
                                    "FOGLALAS_PK": "1223",
                                    "Időtartam napokban": "1",
                                    "Előző": "5"
                                },
                                {
                                    "SZOBA_FK": "123",
                                    "FOGLALAS_PK": "1282",
                                    "Időtartam napokban": "6",
                                    "Előző": "1"
                                },
                                {
                                    "SZOBA_FK": "124",
                                    "FOGLALAS_PK": "861",
                                    "Időtartam napokban": "1",
                                    "Előző": "0"
                                },
                                {
                                    "SZOBA_FK": "124",
                                    "FOGLALAS_PK": "1210",
                                    "Időtartam napokban": "4",
                                    "Előző": "1"
                                },
                                {
                                    "SZOBA_FK": "124",
                                    "FOGLALAS_PK": "1330",
                                    "Időtartam napokban": "7",
                                    "Előző": "4"
                                },
                                {
                                    "SZOBA_FK": "124",
                                    "FOGLALAS_PK": "1403",
                                    "Időtartam napokban": "6",
                                    "Előző": "7"
                                },
                                {
                                    "SZOBA_FK": "124",
                                    "FOGLALAS_PK": "1419",
                                    "Időtartam napokban": "3",
                                    "Előző": "6"
                                },
                                {
                                    "SZOBA_FK": "124",
                                    "FOGLALAS_PK": "1531",
                                    "Időtartam napokban": "6",
                                    "Előző": "3"
                                },
                                {
                                    "SZOBA_FK": "125",
                                    "FOGLALAS_PK": "576",
                                    "Időtartam napokban": "1",
                                    "Előző": "0"
                                },
                                {
                                    "SZOBA_FK": "126",
                                    "FOGLALAS_PK": "754",
                                    "Időtartam napokban": "4",
                                    "Előző": "0"
                                },
                                {
                                    "SZOBA_FK": "126",
                                    "FOGLALAS_PK": "806",
                                    "Időtartam napokban": "6",
                                    "Előző": "4"
                                },
                                {
                                    "SZOBA_FK": "126",
                                    "FOGLALAS_PK": "1134",
                                    "Időtartam napokban": "1",
                                    "Előző": "6"
                                },
                                {
                                    "SZOBA_FK": "126",
                                    "FOGLALAS_PK": "1364",
                                    "Időtartam napokban": "6",
                                    "Előző": "1"
                                },
                                {
                                    "SZOBA_FK": "126",
                                    "FOGLALAS_PK": "1428",
                                    "Időtartam napokban": "7",
                                    "Előző": "6"
                                },
                                {
                                    "SZOBA_FK": "126",
                                    "FOGLALAS_PK": "1500",
                                    "Időtartam napokban": "4",
                                    "Előző": "7"
                                },
                                {
                                    "SZOBA_FK": "127",
                                    "FOGLALAS_PK": "643",
                                    "Időtartam napokban": "2",
                                    "Előző": "0"
                                },
                                {
                                    "SZOBA_FK": "127",
                                    "FOGLALAS_PK": "853",
                                    "Időtartam napokban": "5",
                                    "Előző": "2"
                                },
                                {
                                    "SZOBA_FK": "127",
                                    "FOGLALAS_PK": "879",
                                    "Időtartam napokban": "2",
                                    "Előző": "5"
                                },
                                {
                                    "SZOBA_FK": "127",
                                    "FOGLALAS_PK": "1034",
                                    "Időtartam napokban": "6",
                                    "Előző": "2"
                                },
                                {
                                    "SZOBA_FK": "127",
                                    "FOGLALAS_PK": "1226",
                                    "Időtartam napokban": "5",
                                    "Előző": "6"
                                },
                                {
                                    "SZOBA_FK": "127",
                                    "FOGLALAS_PK": "1286",
                                    "Időtartam napokban": "1",
                                    "Előző": "5"
                                },
                                {
                                    "SZOBA_FK": "127",
                                    "FOGLALAS_PK": "1579",
                                    "Időtartam napokban": "5",
                                    "Előző": "1"
                                },
                                {
                                    "SZOBA_FK": "128",
                                    "FOGLALAS_PK": "717",
                                    "Időtartam napokban": "2",
                                    "Előző": "0"
                                },
                                {
                                    "SZOBA_FK": "128",
                                    "FOGLALAS_PK": "815",
                                    "Időtartam napokban": "1",
                                    "Előző": "2"
                                },
                                {
                                    "SZOBA_FK": "128",
                                    "FOGLALAS_PK": "1290",
                                    "Időtartam napokban": "1",
                                    "Előző": "1"
                                },
                                {
                                    "SZOBA_FK": "128",
                                    "FOGLALAS_PK": "1574",
                                    "Időtartam napokban": "1",
                                    "Előző": "1"
                                },
                                {
                                    "SZOBA_FK": "128",
                                    "FOGLALAS_PK": "1583",
                                    "Időtartam napokban": "4",
                                    "Előző": "1"
                                },
                                {
                                    "SZOBA_FK": "129",
                                    "FOGLALAS_PK": "723",
                                    "Időtartam napokban": "7",
                                    "Előző": "0"
                                },
                                {
                                    "SZOBA_FK": "129",
                                    "FOGLALAS_PK": "1360",
                                    "Időtartam napokban": "6",
                                    "Előző": "7"
                                },
                                {
                                    "SZOBA_FK": "129",
                                    "FOGLALAS_PK": "1445",
                                    "Időtartam napokban": "7",
                                    "Előző": "6"
                                },
                                {
                                    "SZOBA_FK": "129",
                                    "FOGLALAS_PK": "1509",
                                    "Időtartam napokban": "6",
                                    "Előző": "7"
                                },
                                {
                                    "SZOBA_FK": "130",
                                    "FOGLALAS_PK": "580",
                                    "Időtartam napokban": "3",
                                    "Előző": "0"
                                },
                                {
                                    "SZOBA_FK": "130",
                                    "FOGLALAS_PK": "613",
                                    "Időtartam napokban": "3",
                                    "Előző": "3"
                                },
                                {
                                    "SZOBA_FK": "130",
                                    "FOGLALAS_PK": "779",
                                    "Időtartam napokban": "6",
                                    "Előző": "3"
                                },
                                {
                                    "SZOBA_FK": "130",
                                    "FOGLALAS_PK": "910",
                                    "Időtartam napokban": "2",
                                    "Előző": "6"
                                },
                                {
                                    "SZOBA_FK": "130",
                                    "FOGLALAS_PK": "1040",
                                    "Időtartam napokban": "1",
                                    "Előző": "2"
                                },
                                {
                                    "SZOBA_FK": "130",
                                    "FOGLALAS_PK": "1475",
                                    "Időtartam napokban": "7",
                                    "Előző": "1"
                                },
                                {
                                    "SZOBA_FK": "131",
                                    "FOGLALAS_PK": "559",
                                    "Időtartam napokban": "2",
                                    "Előző": "0"
                                },
                                {
                                    "SZOBA_FK": "131",
                                    "FOGLALAS_PK": "655",
                                    "Időtartam napokban": "1",
                                    "Előző": "2"
                                },
                                {
                                    "SZOBA_FK": "131",
                                    "FOGLALAS_PK": "760",
                                    "Időtartam napokban": "4",
                                    "Előző": "1"
                                },
                                {
                                    "SZOBA_FK": "131",
                                    "FOGLALAS_PK": "881",
                                    "Időtartam napokban": "6",
                                    "Előző": "4"
                                },
                                {
                                    "SZOBA_FK": "131",
                                    "FOGLALAS_PK": "1474",
                                    "Időtartam napokban": "5",
                                    "Előző": "6"
                                },
                                {
                                    "SZOBA_FK": "132",
                                    "FOGLALAS_PK": "619",
                                    "Időtartam napokban": "7",
                                    "Előző": "0"
                                },
                                {
                                    "SZOBA_FK": "132",
                                    "FOGLALAS_PK": "999",
                                    "Időtartam napokban": "6",
                                    "Előző": "7"
                                },
                                {
                                    "SZOBA_FK": "132",
                                    "FOGLALAS_PK": "1090",
                                    "Időtartam napokban": "7",
                                    "Előző": "6"
                                },
                                {
                                    "SZOBA_FK": "132",
                                    "FOGLALAS_PK": "1111",
                                    "Időtartam napokban": "3",
                                    "Előző": "7"
                                },
                                {
                                    "SZOBA_FK": "132",
                                    "FOGLALAS_PK": "1301",
                                    "Időtartam napokban": "2",
                                    "Előző": "3"
                                },
                                {
                                    "SZOBA_FK": "132",
                                    "FOGLALAS_PK": "1519",
                                    "Időtartam napokban": "2",
                                    "Előző": "2"
                                },
                                {
                                    "SZOBA_FK": "133",
                                    "FOGLALAS_PK": "909",
                                    "Időtartam napokban": "4",
                                    "Előző": "0"
                                },
                                {
                                    "SZOBA_FK": "133",
                                    "FOGLALAS_PK": "988",
                                    "Időtartam napokban": "3",
                                    "Előző": "4"
                                },
                                {
                                    "SZOBA_FK": "133",
                                    "FOGLALAS_PK": "1149",
                                    "Időtartam napokban": "7",
                                    "Előző": "3"
                                },
                                {
                                    "SZOBA_FK": "133",
                                    "FOGLALAS_PK": "1306",
                                    "Időtartam napokban": "3",
                                    "Előző": "7"
                                },
                                {
                                    "SZOBA_FK": "133",
                                    "FOGLALAS_PK": "1363",
                                    "Időtartam napokban": "5",
                                    "Előző": "3"
                                },
                                {
                                    "SZOBA_FK": "133",
                                    "FOGLALAS_PK": "1409",
                                    "Időtartam napokban": "1",
                                    "Előző": "5"
                                },
                                {
                                    "SZOBA_FK": "134",
                                    "FOGLALAS_PK": "1004",
                                    "Időtartam napokban": "5",
                                    "Előző": "0"
                                },
                                {
                                    "SZOBA_FK": "134",
                                    "FOGLALAS_PK": "1024",
                                    "Időtartam napokban": "1",
                                    "Előző": "5"
                                },
                                {
                                    "SZOBA_FK": "134",
                                    "FOGLALAS_PK": "1045",
                                    "Időtartam napokban": "2",
                                    "Előző": "1"
                                },
                                {
                                    "SZOBA_FK": "134",
                                    "FOGLALAS_PK": "1178",
                                    "Időtartam napokban": "7",
                                    "Előző": "2"
                                },
                                {
                                    "SZOBA_FK": "134",
                                    "FOGLALAS_PK": "1219",
                                    "Időtartam napokban": "6",
                                    "Előző": "7"
                                },
                                {
                                    "SZOBA_FK": "134",
                                    "FOGLALAS_PK": "1535",
                                    "Időtartam napokban": "7",
                                    "Előző": "6"
                                },
                                {
                                    "SZOBA_FK": "135",
                                    "FOGLALAS_PK": "724",
                                    "Időtartam napokban": "6",
                                    "Előző": "0"
                                },
                                {
                                    "SZOBA_FK": "135",
                                    "FOGLALAS_PK": "849",
                                    "Időtartam napokban": "7",
                                    "Előző": "6"
                                },
                                {
                                    "SZOBA_FK": "135",
                                    "FOGLALAS_PK": "1289",
                                    "Időtartam napokban": "3",
                                    "Előző": "7"
                                },
                                {
                                    "SZOBA_FK": "136",
                                    "FOGLALAS_PK": "584",
                                    "Időtartam napokban": "2",
                                    "Előző": "0"
                                },
                                {
                                    "SZOBA_FK": "136",
                                    "FOGLALAS_PK": "661",
                                    "Időtartam napokban": "5",
                                    "Előző": "2"
                                },
                                {
                                    "SZOBA_FK": "136",
                                    "FOGLALAS_PK": "1046",
                                    "Időtartam napokban": "4",
                                    "Előző": "5"
                                },
                                {
                                    "SZOBA_FK": "137",
                                    "FOGLALAS_PK": "582",
                                    "Időtartam napokban": "3",
                                    "Előző": "0"
                                },
                                {
                                    "SZOBA_FK": "137",
                                    "FOGLALAS_PK": "649",
                                    "Időtartam napokban": "5",
                                    "Előző": "3"
                                },
                                {
                                    "SZOBA_FK": "137",
                                    "FOGLALAS_PK": "657",
                                    "Időtartam napokban": "6",
                                    "Előző": "5"
                                },
                                {
                                    "SZOBA_FK": "137",
                                    "FOGLALAS_PK": "1014",
                                    "Időtartam napokban": "1",
                                    "Előző": "6"
                                },
                                {
                                    "SZOBA_FK": "137",
                                    "FOGLALAS_PK": "1201",
                                    "Időtartam napokban": "6",
                                    "Előző": "1"
                                },
                                {
                                    "SZOBA_FK": "137",
                                    "FOGLALAS_PK": "1280",
                                    "Időtartam napokban": "3",
                                    "Előző": "6"
                                },
                                {
                                    "SZOBA_FK": "138",
                                    "FOGLALAS_PK": "768",
                                    "Időtartam napokban": "6",
                                    "Előző": "0"
                                },
                                {
                                    "SZOBA_FK": "138",
                                    "FOGLALAS_PK": "796",
                                    "Időtartam napokban": "4",
                                    "Előző": "6"
                                },
                                {
                                    "SZOBA_FK": "138",
                                    "FOGLALAS_PK": "1256",
                                    "Időtartam napokban": "4",
                                    "Előző": "4"
                                },
                                {
                                    "SZOBA_FK": "138",
                                    "FOGLALAS_PK": "1283",
                                    "Időtartam napokban": "2",
                                    "Előző": "4"
                                },
                                {
                                    "SZOBA_FK": "138",
                                    "FOGLALAS_PK": "1294",
                                    "Időtartam napokban": "5",
                                    "Előző": "2"
                                },
                                {
                                    "SZOBA_FK": "138",
                                    "FOGLALAS_PK": "1358",
                                    "Időtartam napokban": "7",
                                    "Előző": "5"
                                },
                                {
                                    "SZOBA_FK": "138",
                                    "FOGLALAS_PK": "1370",
                                    "Időtartam napokban": "5",
                                    "Előző": "7"
                                },
                                {
                                    "SZOBA_FK": "139",
                                    "FOGLALAS_PK": "579",
                                    "Időtartam napokban": "2",
                                    "Előző": "0"
                                },
                                {
                                    "SZOBA_FK": "139",
                                    "FOGLALAS_PK": "745",
                                    "Időtartam napokban": "1",
                                    "Előző": "2"
                                },
                                {
                                    "SZOBA_FK": "139",
                                    "FOGLALAS_PK": "751",
                                    "Időtartam napokban": "4",
                                    "Előző": "1"
                                },
                                {
                                    "SZOBA_FK": "139",
                                    "FOGLALAS_PK": "1042",
                                    "Időtartam napokban": "2",
                                    "Előző": "4"
                                },
                                {
                                    "SZOBA_FK": "139",
                                    "FOGLALAS_PK": "1064",
                                    "Időtartam napokban": "6",
                                    "Előző": "2"
                                },
                                {
                                    "SZOBA_FK": "139",
                                    "FOGLALAS_PK": "1433",
                                    "Időtartam napokban": "6",
                                    "Előző": "6"
                                },
                                {
                                    "SZOBA_FK": "139",
                                    "FOGLALAS_PK": "1450",
                                    "Időtartam napokban": "7",
                                    "Előző": "6"
                                },
                                {
                                    "SZOBA_FK": "140",
                                    "FOGLALAS_PK": "733",
                                    "Időtartam napokban": "1",
                                    "Előző": "0"
                                },
                                {
                                    "SZOBA_FK": "140",
                                    "FOGLALAS_PK": "915",
                                    "Időtartam napokban": "2",
                                    "Előző": "1"
                                },
                                {
                                    "SZOBA_FK": "140",
                                    "FOGLALAS_PK": "1098",
                                    "Időtartam napokban": "2",
                                    "Előző": "2"
                                },
                                {
                                    "SZOBA_FK": "140",
                                    "FOGLALAS_PK": "1156",
                                    "Időtartam napokban": "3",
                                    "Előző": "2"
                                },
                                {
                                    "SZOBA_FK": "140",
                                    "FOGLALAS_PK": "1259",
                                    "Időtartam napokban": "7",
                                    "Előző": "3"
                                },
                                {
                                    "SZOBA_FK": "140",
                                    "FOGLALAS_PK": "1357",
                                    "Időtartam napokban": "4",
                                    "Előző": "7"
                                },
                                {
                                    "SZOBA_FK": "140",
                                    "FOGLALAS_PK": "1361",
                                    "Időtartam napokban": "3",
                                    "Előző": "4"
                                },
                                {
                                    "SZOBA_FK": "140",
                                    "FOGLALAS_PK": "1371",
                                    "Időtartam napokban": "1",
                                    "Előző": "3"
                                },
                                {
                                    "SZOBA_FK": "141",
                                    "FOGLALAS_PK": "565",
                                    "Időtartam napokban": "6",
                                    "Előző": "0"
                                },
                                {
                                    "SZOBA_FK": "141",
                                    "FOGLALAS_PK": "761",
                                    "Időtartam napokban": "3",
                                    "Előző": "6"
                                },
                                {
                                    "SZOBA_FK": "141",
                                    "FOGLALAS_PK": "784",
                                    "Időtartam napokban": "7",
                                    "Előző": "3"
                                },
                                {
                                    "SZOBA_FK": "141",
                                    "FOGLALAS_PK": "908",
                                    "Időtartam napokban": "2",
                                    "Előző": "7"
                                },
                                {
                                    "SZOBA_FK": "141",
                                    "FOGLALAS_PK": "1254",
                                    "Időtartam napokban": "4",
                                    "Előző": "2"
                                },
                                {
                                    "SZOBA_FK": "141",
                                    "FOGLALAS_PK": "1401",
                                    "Időtartam napokban": "6",
                                    "Előző": "4"
                                },
                                {
                                    "SZOBA_FK": "142",
                                    "FOGLALAS_PK": "1369",
                                    "Időtartam napokban": "6",
                                    "Előző": "0"
                                },
                                {
                                    "SZOBA_FK": "142",
                                    "FOGLALAS_PK": "1545",
                                    "Időtartam napokban": "3",
                                    "Előző": "6"
                                },
                                {
                                    "SZOBA_FK": "143",
                                    "FOGLALAS_PK": "980",
                                    "Időtartam napokban": "3",
                                    "Előző": "0"
                                },
                                {
                                    "SZOBA_FK": "143",
                                    "FOGLALAS_PK": "1155",
                                    "Időtartam napokban": "7",
                                    "Előző": "3"
                                },
                                {
                                    "SZOBA_FK": "143",
                                    "FOGLALAS_PK": "1193",
                                    "Időtartam napokban": "6",
                                    "Előző": "7"
                                },
                                {
                                    "SZOBA_FK": "143",
                                    "FOGLALAS_PK": "1222",
                                    "Időtartam napokban": "2",
                                    "Előző": "6"
                                },
                                {
                                    "SZOBA_FK": "143",
                                    "FOGLALAS_PK": "1313",
                                    "Időtartam napokban": "4",
                                    "Előző": "2"
                                },
                                {
                                    "SZOBA_FK": "143",
                                    "FOGLALAS_PK": "1394",
                                    "Időtartam napokban": "3",
                                    "Előző": "4"
                                },
                                {
                                    "SZOBA_FK": "143",
                                    "FOGLALAS_PK": "1448",
                                    "Időtartam napokban": "6",
                                    "Előző": "3"
                                },
                                {
                                    "SZOBA_FK": "144",
                                    "FOGLALAS_PK": "581",
                                    "Időtartam napokban": "4",
                                    "Előző": "0"
                                },
                                {
                                    "SZOBA_FK": "144",
                                    "FOGLALAS_PK": "1087",
                                    "Időtartam napokban": "2",
                                    "Előző": "4"
                                },
                                {
                                    "SZOBA_FK": "144",
                                    "FOGLALAS_PK": "1199",
                                    "Időtartam napokban": "7",
                                    "Előző": "2"
                                },
                                {
                                    "SZOBA_FK": "144",
                                    "FOGLALAS_PK": "1297",
                                    "Időtartam napokban": "1",
                                    "Előző": "7"
                                },
                                {
                                    "SZOBA_FK": "144",
                                    "FOGLALAS_PK": "1572",
                                    "Időtartam napokban": "2",
                                    "Előző": "1"
                                },
                                {
                                    "SZOBA_FK": "145",
                                    "FOGLALAS_PK": "703",
                                    "Időtartam napokban": "4",
                                    "Előző": "0"
                                },
                                {
                                    "SZOBA_FK": "145",
                                    "FOGLALAS_PK": "1077",
                                    "Időtartam napokban": "1",
                                    "Előző": "4"
                                },
                                {
                                    "SZOBA_FK": "145",
                                    "FOGLALAS_PK": "1120",
                                    "Időtartam napokban": "1",
                                    "Előző": "1"
                                },
                                {
                                    "SZOBA_FK": "145",
                                    "FOGLALAS_PK": "1145",
                                    "Időtartam napokban": "4",
                                    "Előző": "1"
                                },
                                {
                                    "SZOBA_FK": "145",
                                    "FOGLALAS_PK": "1338",
                                    "Időtartam napokban": "2",
                                    "Előző": "4"
                                },
                                {
                                    "SZOBA_FK": "145",
                                    "FOGLALAS_PK": "1471",
                                    "Időtartam napokban": "1",
                                    "Előző": "2"
                                },
                                {
                                    "SZOBA_FK": "146",
                                    "FOGLALAS_PK": "664",
                                    "Időtartam napokban": "3",
                                    "Előző": "0"
                                },
                                {
                                    "SZOBA_FK": "146",
                                    "FOGLALAS_PK": "789",
                                    "Időtartam napokban": "7",
                                    "Előző": "3"
                                },
                                {
                                    "SZOBA_FK": "146",
                                    "FOGLALAS_PK": "804",
                                    "Időtartam napokban": "7",
                                    "Előző": "7"
                                },
                                {
                                    "SZOBA_FK": "146",
                                    "FOGLALAS_PK": "890",
                                    "Időtartam napokban": "3",
                                    "Előző": "7"
                                },
                                {
                                    "SZOBA_FK": "146",
                                    "FOGLALAS_PK": "1032",
                                    "Időtartam napokban": "5",
                                    "Előző": "3"
                                },
                                {
                                    "SZOBA_FK": "146",
                                    "FOGLALAS_PK": "1479",
                                    "Időtartam napokban": "6",
                                    "Előző": "5"
                                },
                                {
                                    "SZOBA_FK": "147",
                                    "FOGLALAS_PK": "771",
                                    "Időtartam napokban": "4",
                                    "Előző": "0"
                                },
                                {
                                    "SZOBA_FK": "148",
                                    "FOGLALAS_PK": "678",
                                    "Időtartam napokban": "4",
                                    "Előző": "0"
                                },
                                {
                                    "SZOBA_FK": "148",
                                    "FOGLALAS_PK": "765",
                                    "Időtartam napokban": "3",
                                    "Előző": "4"
                                },
                                {
                                    "SZOBA_FK": "148",
                                    "FOGLALAS_PK": "783",
                                    "Időtartam napokban": "7",
                                    "Előző": "3"
                                },
                                {
                                    "SZOBA_FK": "148",
                                    "FOGLALAS_PK": "808",
                                    "Időtartam napokban": "2",
                                    "Előző": "7"
                                },
                                {
                                    "SZOBA_FK": "148",
                                    "FOGLALAS_PK": "812",
                                    "Időtartam napokban": "6",
                                    "Előző": "2"
                                },
                                {
                                    "SZOBA_FK": "148",
                                    "FOGLALAS_PK": "1578",
                                    "Időtartam napokban": "7",
                                    "Előző": "6"
                                },
                                {
                                    "SZOBA_FK": "149",
                                    "FOGLALAS_PK": "591",
                                    "Időtartam napokban": "1",
                                    "Előző": "0"
                                },
                                {
                                    "SZOBA_FK": "149",
                                    "FOGLALAS_PK": "652",
                                    "Időtartam napokban": "1",
                                    "Előző": "1"
                                },
                                {
                                    "SZOBA_FK": "149",
                                    "FOGLALAS_PK": "833",
                                    "Időtartam napokban": "2",
                                    "Előző": "1"
                                },
                                {
                                    "SZOBA_FK": "149",
                                    "FOGLALAS_PK": "834",
                                    "Időtartam napokban": "5",
                                    "Előző": "2"
                                },
                                {
                                    "SZOBA_FK": "149",
                                    "FOGLALAS_PK": "843",
                                    "Időtartam napokban": "4",
                                    "Előző": "5"
                                },
                                {
                                    "SZOBA_FK": "149",
                                    "FOGLALAS_PK": "1146",
                                    "Időtartam napokban": "6",
                                    "Előző": "4"
                                },
                                {
                                    "SZOBA_FK": "149",
                                    "FOGLALAS_PK": "1514",
                                    "Időtartam napokban": "5",
                                    "Előző": "6"
                                },
                                {
                                    "SZOBA_FK": "150",
                                    "FOGLALAS_PK": "641",
                                    "Időtartam napokban": "3",
                                    "Előző": "0"
                                },
                                {
                                    "SZOBA_FK": "150",
                                    "FOGLALAS_PK": "1100",
                                    "Időtartam napokban": "5",
                                    "Előző": "3"
                                },
                                {
                                    "SZOBA_FK": "150",
                                    "FOGLALAS_PK": "1105",
                                    "Időtartam napokban": "1",
                                    "Előző": "5"
                                },
                                {
                                    "SZOBA_FK": "150",
                                    "FOGLALAS_PK": "1177",
                                    "Időtartam napokban": "1",
                                    "Előző": "1"
                                },
                                {
                                    "SZOBA_FK": "150",
                                    "FOGLALAS_PK": "1203",
                                    "Időtartam napokban": "4",
                                    "Előző": "1"
                                },
                                {
                                    "SZOBA_FK": "150",
                                    "FOGLALAS_PK": "1432",
                                    "Időtartam napokban": "3",
                                    "Előző": "4"
                                },
                                {
                                    "SZOBA_FK": "151",
                                    "FOGLALAS_PK": "893",
                                    "Időtartam napokban": "3",
                                    "Előző": "0"
                                },
                                {
                                    "SZOBA_FK": "151",
                                    "FOGLALAS_PK": "1058",
                                    "Időtartam napokban": "3",
                                    "Előző": "3"
                                },
                                {
                                    "SZOBA_FK": "151",
                                    "FOGLALAS_PK": "1115",
                                    "Időtartam napokban": "3",
                                    "Előző": "3"
                                },
                                {
                                    "SZOBA_FK": "152",
                                    "FOGLALAS_PK": "730",
                                    "Időtartam napokban": "2",
                                    "Előző": "0"
                                },
                                {
                                    "SZOBA_FK": "152",
                                    "FOGLALAS_PK": "1160",
                                    "Időtartam napokban": "7",
                                    "Előző": "2"
                                },
                                {
                                    "SZOBA_FK": "152",
                                    "FOGLALAS_PK": "1197",
                                    "Időtartam napokban": "6",
                                    "Előző": "7"
                                },
                                {
                                    "SZOBA_FK": "152",
                                    "FOGLALAS_PK": "1558",
                                    "Időtartam napokban": "2",
                                    "Előző": "6"
                                },
                                {
                                    "SZOBA_FK": "153",
                                    "FOGLALAS_PK": "594",
                                    "Időtartam napokban": "3",
                                    "Előző": "0"
                                },
                                {
                                    "SZOBA_FK": "153",
                                    "FOGLALAS_PK": "969",
                                    "Időtartam napokban": "6",
                                    "Előző": "3"
                                },
                                {
                                    "SZOBA_FK": "153",
                                    "FOGLALAS_PK": "1460",
                                    "Időtartam napokban": "3",
                                    "Előző": "6"
                                },
                                {
                                    "SZOBA_FK": "153",
                                    "FOGLALAS_PK": "1470",
                                    "Időtartam napokban": "5",
                                    "Előző": "3"
                                },
                                {
                                    "SZOBA_FK": "153",
                                    "FOGLALAS_PK": "1507",
                                    "Időtartam napokban": "3",
                                    "Előző": "5"
                                },
                                {
                                    "SZOBA_FK": "154",
                                    "FOGLALAS_PK": "968",
                                    "Időtartam napokban": "1",
                                    "Előző": "0"
                                },
                                {
                                    "SZOBA_FK": "154",
                                    "FOGLALAS_PK": "1061",
                                    "Időtartam napokban": "7",
                                    "Előző": "1"
                                },
                                {
                                    "SZOBA_FK": "154",
                                    "FOGLALAS_PK": "1168",
                                    "Időtartam napokban": "6",
                                    "Előző": "7"
                                },
                                {
                                    "SZOBA_FK": "154",
                                    "FOGLALAS_PK": "1262",
                                    "Időtartam napokban": "1",
                                    "Előző": "6"
                                },
                                {
                                    "SZOBA_FK": "154",
                                    "FOGLALAS_PK": "1539",
                                    "Időtartam napokban": "2",
                                    "Előző": "1"
                                },
                                {
                                    "SZOBA_FK": "155",
                                    "FOGLALAS_PK": "575",
                                    "Időtartam napokban": "1",
                                    "Előző": "0"
                                },
                                {
                                    "SZOBA_FK": "155",
                                    "FOGLALAS_PK": "577",
                                    "Időtartam napokban": "3",
                                    "Előző": "1"
                                },
                                {
                                    "SZOBA_FK": "155",
                                    "FOGLALAS_PK": "1112",
                                    "Időtartam napokban": "4",
                                    "Előző": "3"
                                },
                                {
                                    "SZOBA_FK": "155",
                                    "FOGLALAS_PK": "1310",
                                    "Időtartam napokban": "1",
                                    "Előző": "4"
                                },
                                {
                                    "SZOBA_FK": "155",
                                    "FOGLALAS_PK": "1541",
                                    "Időtartam napokban": "1",
                                    "Előző": "1"
                                },
                                {
                                    "SZOBA_FK": "156",
                                    "FOGLALAS_PK": "588",
                                    "Időtartam napokban": "7",
                                    "Előző": "0"
                                },
                                {
                                    "SZOBA_FK": "156",
                                    "FOGLALAS_PK": "692",
                                    "Időtartam napokban": "6",
                                    "Előző": "7"
                                },
                                {
                                    "SZOBA_FK": "156",
                                    "FOGLALAS_PK": "907",
                                    "Időtartam napokban": "3",
                                    "Előző": "6"
                                },
                                {
                                    "SZOBA_FK": "156",
                                    "FOGLALAS_PK": "956",
                                    "Időtartam napokban": "6",
                                    "Előző": "3"
                                },
                                {
                                    "SZOBA_FK": "156",
                                    "FOGLALAS_PK": "1462",
                                    "Időtartam napokban": "7",
                                    "Előző": "6"
                                },
                                {
                                    "SZOBA_FK": "156",
                                    "FOGLALAS_PK": "1490",
                                    "Időtartam napokban": "1",
                                    "Előző": "7"
                                },
                                {
                                    "SZOBA_FK": "156",
                                    "FOGLALAS_PK": "1561",
                                    "Időtartam napokban": "4",
                                    "Előző": "1"
                                },
                                {
                                    "SZOBA_FK": "157",
                                    "FOGLALAS_PK": "648",
                                    "Időtartam napokban": "4",
                                    "Előző": "0"
                                },
                                {
                                    "SZOBA_FK": "157",
                                    "FOGLALAS_PK": "1025",
                                    "Időtartam napokban": "3",
                                    "Előző": "4"
                                },
                                {
                                    "SZOBA_FK": "157",
                                    "FOGLALAS_PK": "1047",
                                    "Időtartam napokban": "4",
                                    "Előző": "3"
                                },
                                {
                                    "SZOBA_FK": "157",
                                    "FOGLALAS_PK": "1240",
                                    "Időtartam napokban": "7",
                                    "Előző": "4"
                                },
                                {
                                    "SZOBA_FK": "157",
                                    "FOGLALAS_PK": "1551",
                                    "Időtartam napokban": "3",
                                    "Előző": "7"
                                },
                                {
                                    "SZOBA_FK": "158",
                                    "FOGLALAS_PK": "825",
                                    "Időtartam napokban": "4",
                                    "Előző": "0"
                                },
                                {
                                    "SZOBA_FK": "158",
                                    "FOGLALAS_PK": "840",
                                    "Időtartam napokban": "4",
                                    "Előző": "4"
                                },
                                {
                                    "SZOBA_FK": "158",
                                    "FOGLALAS_PK": "1117",
                                    "Időtartam napokban": "3",
                                    "Előző": "4"
                                },
                                {
                                    "SZOBA_FK": "160",
                                    "FOGLALAS_PK": "720",
                                    "Időtartam napokban": "2",
                                    "Előző": "0"
                                },
                                {
                                    "SZOBA_FK": "160",
                                    "FOGLALAS_PK": "922",
                                    "Időtartam napokban": "2",
                                    "Előző": "2"
                                },
                                {
                                    "SZOBA_FK": "160",
                                    "FOGLALAS_PK": "927",
                                    "Időtartam napokban": "4",
                                    "Előző": "2"
                                },
                                {
                                    "SZOBA_FK": "160",
                                    "FOGLALAS_PK": "933",
                                    "Időtartam napokban": "4",
                                    "Előző": "4"
                                },
                                {
                                    "SZOBA_FK": "160",
                                    "FOGLALAS_PK": "1565",
                                    "Időtartam napokban": "3",
                                    "Előző": "4"
                                },
                                {
                                    "SZOBA_FK": "161",
                                    "FOGLALAS_PK": "639",
                                    "Időtartam napokban": "4",
                                    "Előző": "0"
                                },
                                {
                                    "SZOBA_FK": "161",
                                    "FOGLALAS_PK": "653",
                                    "Időtartam napokban": "7",
                                    "Előző": "4"
                                },
                                {
                                    "SZOBA_FK": "161",
                                    "FOGLALAS_PK": "911",
                                    "Időtartam napokban": "4",
                                    "Előző": "7"
                                },
                                {
                                    "SZOBA_FK": "161",
                                    "FOGLALAS_PK": "1068",
                                    "Időtartam napokban": "6",
                                    "Előző": "4"
                                },
                                {
                                    "SZOBA_FK": "161",
                                    "FOGLALAS_PK": "1190",
                                    "Időtartam napokban": "7",
                                    "Előző": "6"
                                },
                                {
                                    "SZOBA_FK": "161",
                                    "FOGLALAS_PK": "1571",
                                    "Időtartam napokban": "4",
                                    "Előző": "7"
                                },
                                {
                                    "SZOBA_FK": "162",
                                    "FOGLALAS_PK": "599",
                                    "Időtartam napokban": "4",
                                    "Előző": "0"
                                },
                                {
                                    "SZOBA_FK": "162",
                                    "FOGLALAS_PK": "1205",
                                    "Időtartam napokban": "6",
                                    "Előző": "4"
                                },
                                {
                                    "SZOBA_FK": "162",
                                    "FOGLALAS_PK": "1400",
                                    "Időtartam napokban": "1",
                                    "Előző": "6"
                                },
                                {
                                    "SZOBA_FK": "163",
                                    "FOGLALAS_PK": "630",
                                    "Időtartam napokban": "2",
                                    "Előző": "0"
                                },
                                {
                                    "SZOBA_FK": "163",
                                    "FOGLALAS_PK": "782",
                                    "Időtartam napokban": "3",
                                    "Előző": "2"
                                },
                                {
                                    "SZOBA_FK": "163",
                                    "FOGLALAS_PK": "941",
                                    "Időtartam napokban": "1",
                                    "Előző": "3"
                                },
                                {
                                    "SZOBA_FK": "163",
                                    "FOGLALAS_PK": "1075",
                                    "Időtartam napokban": "4",
                                    "Előző": "1"
                                },
                                {
                                    "SZOBA_FK": "163",
                                    "FOGLALAS_PK": "1107",
                                    "Időtartam napokban": "3",
                                    "Előző": "4"
                                },
                                {
                                    "SZOBA_FK": "163",
                                    "FOGLALAS_PK": "1265",
                                    "Időtartam napokban": "5",
                                    "Előző": "3"
                                },
                                {
                                    "SZOBA_FK": "163",
                                    "FOGLALAS_PK": "1487",
                                    "Időtartam napokban": "3",
                                    "Előző": "5"
                                },
                                {
                                    "SZOBA_FK": "164",
                                    "FOGLALAS_PK": "570",
                                    "Időtartam napokban": "7",
                                    "Előző": "0"
                                },
                                {
                                    "SZOBA_FK": "164",
                                    "FOGLALAS_PK": "742",
                                    "Időtartam napokban": "6",
                                    "Előző": "7"
                                },
                                {
                                    "SZOBA_FK": "164",
                                    "FOGLALAS_PK": "1010",
                                    "Időtartam napokban": "2",
                                    "Előző": "6"
                                },
                                {
                                    "SZOBA_FK": "164",
                                    "FOGLALAS_PK": "1284",
                                    "Időtartam napokban": "4",
                                    "Előző": "2"
                                },
                                {
                                    "SZOBA_FK": "164",
                                    "FOGLALAS_PK": "1292",
                                    "Időtartam napokban": "2",
                                    "Előző": "4"
                                },
                                {
                                    "SZOBA_FK": "165",
                                    "FOGLALAS_PK": "640",
                                    "Időtartam napokban": "3",
                                    "Előző": "0"
                                },
                                {
                                    "SZOBA_FK": "165",
                                    "FOGLALAS_PK": "857",
                                    "Időtartam napokban": "5",
                                    "Előző": "3"
                                },
                                {
                                    "SZOBA_FK": "165",
                                    "FOGLALAS_PK": "892",
                                    "Időtartam napokban": "3",
                                    "Előző": "5"
                                },
                                {
                                    "SZOBA_FK": "165",
                                    "FOGLALAS_PK": "897",
                                    "Időtartam napokban": "6",
                                    "Előző": "3"
                                },
                                {
                                    "SZOBA_FK": "165",
                                    "FOGLALAS_PK": "900",
                                    "Időtartam napokban": "6",
                                    "Előző": "6"
                                },
                                {
                                    "SZOBA_FK": "165",
                                    "FOGLALAS_PK": "1141",
                                    "Időtartam napokban": "1",
                                    "Előző": "6"
                                },
                                {
                                    "SZOBA_FK": "165",
                                    "FOGLALAS_PK": "1375",
                                    "Időtartam napokban": "4",
                                    "Előző": "1"
                                },
                                {
                                    "SZOBA_FK": "166",
                                    "FOGLALAS_PK": "644",
                                    "Időtartam napokban": "7",
                                    "Előző": "0"
                                },
                                {
                                    "SZOBA_FK": "166",
                                    "FOGLALAS_PK": "781",
                                    "Időtartam napokban": "7",
                                    "Előző": "7"
                                },
                                {
                                    "SZOBA_FK": "166",
                                    "FOGLALAS_PK": "1526",
                                    "Időtartam napokban": "2",
                                    "Előző": "7"
                                },
                                {
                                    "SZOBA_FK": "167",
                                    "FOGLALAS_PK": "854",
                                    "Időtartam napokban": "7",
                                    "Előző": "0"
                                },
                                {
                                    "SZOBA_FK": "167",
                                    "FOGLALAS_PK": "1414",
                                    "Időtartam napokban": "3",
                                    "Előző": "7"
                                },
                                {
                                    "SZOBA_FK": "168",
                                    "FOGLALAS_PK": "792",
                                    "Időtartam napokban": "3",
                                    "Előző": "0"
                                },
                                {
                                    "SZOBA_FK": "168",
                                    "FOGLALAS_PK": "794",
                                    "Időtartam napokban": "4",
                                    "Előző": "3"
                                },
                                {
                                    "SZOBA_FK": "168",
                                    "FOGLALAS_PK": "930",
                                    "Időtartam napokban": "3",
                                    "Előző": "4"
                                },
                                {
                                    "SZOBA_FK": "168",
                                    "FOGLALAS_PK": "1249",
                                    "Időtartam napokban": "4",
                                    "Előző": "3"
                                },
                                {
                                    "SZOBA_FK": "168",
                                    "FOGLALAS_PK": "1266",
                                    "Időtartam napokban": "4",
                                    "Előző": "4"
                                },
                                {
                                    "SZOBA_FK": "169",
                                    "FOGLALAS_PK": "573",
                                    "Időtartam napokban": "5",
                                    "Előző": "0"
                                },
                                {
                                    "SZOBA_FK": "169",
                                    "FOGLALAS_PK": "659",
                                    "Időtartam napokban": "6",
                                    "Előző": "5"
                                },
                                {
                                    "SZOBA_FK": "169",
                                    "FOGLALAS_PK": "746",
                                    "Időtartam napokban": "7",
                                    "Előző": "6"
                                },
                                {
                                    "SZOBA_FK": "169",
                                    "FOGLALAS_PK": "974",
                                    "Időtartam napokban": "1",
                                    "Előző": "7"
                                },
                                {
                                    "SZOBA_FK": "169",
                                    "FOGLALAS_PK": "1356",
                                    "Időtartam napokban": "4",
                                    "Előző": "1"
                                },
                                {
                                    "SZOBA_FK": "169",
                                    "FOGLALAS_PK": "1427",
                                    "Időtartam napokban": "1",
                                    "Előző": "4"
                                },
                                {
                                    "SZOBA_FK": "170",
                                    "FOGLALAS_PK": "567",
                                    "Időtartam napokban": "7",
                                    "Előző": "0"
                                },
                                {
                                    "SZOBA_FK": "170",
                                    "FOGLALAS_PK": "944",
                                    "Időtartam napokban": "4",
                                    "Előző": "7"
                                },
                                {
                                    "SZOBA_FK": "170",
                                    "FOGLALAS_PK": "1194",
                                    "Időtartam napokban": "4",
                                    "Előző": "4"
                                },
                                {
                                    "SZOBA_FK": "170",
                                    "FOGLALAS_PK": "1267",
                                    "Időtartam napokban": "7",
                                    "Előző": "4"
                                },
                                {
                                    "SZOBA_FK": "170",
                                    "FOGLALAS_PK": "1342",
                                    "Időtartam napokban": "6",
                                    "Előző": "7"
                                },
                                {
                                    "SZOBA_FK": "171",
                                    "FOGLALAS_PK": "574",
                                    "Időtartam napokban": "2",
                                    "Előző": "0"
                                },
                                {
                                    "SZOBA_FK": "171",
                                    "FOGLALAS_PK": "981",
                                    "Időtartam napokban": "4",
                                    "Előző": "2"
                                },
                                {
                                    "SZOBA_FK": "171",
                                    "FOGLALAS_PK": "1181",
                                    "Időtartam napokban": "6",
                                    "Előző": "4"
                                },
                                {
                                    "SZOBA_FK": "171",
                                    "FOGLALAS_PK": "1329",
                                    "Időtartam napokban": "5",
                                    "Előző": "6"
                                },
                                {
                                    "SZOBA_FK": "171",
                                    "FOGLALAS_PK": "1567",
                                    "Időtartam napokban": "6",
                                    "Előző": "5"
                                },
                                {
                                    "SZOBA_FK": "172",
                                    "FOGLALAS_PK": "709",
                                    "Időtartam napokban": "5",
                                    "Előző": "0"
                                },
                                {
                                    "SZOBA_FK": "172",
                                    "FOGLALAS_PK": "749",
                                    "Időtartam napokban": "6",
                                    "Előző": "5"
                                },
                                {
                                    "SZOBA_FK": "172",
                                    "FOGLALAS_PK": "839",
                                    "Időtartam napokban": "5",
                                    "Előző": "6"
                                },
                                {
                                    "SZOBA_FK": "172",
                                    "FOGLALAS_PK": "984",
                                    "Időtartam napokban": "4",
                                    "Előző": "5"
                                },
                                {
                                    "SZOBA_FK": "172",
                                    "FOGLALAS_PK": "1142",
                                    "Időtartam napokban": "4",
                                    "Előző": "4"
                                },
                                {
                                    "SZOBA_FK": "172",
                                    "FOGLALAS_PK": "1171",
                                    "Időtartam napokban": "5",
                                    "Előző": "4"
                                },
                                {
                                    "SZOBA_FK": "172",
                                    "FOGLALAS_PK": "1336",
                                    "Időtartam napokban": "5",
                                    "Előző": "5"
                                },
                                {
                                    "SZOBA_FK": "172",
                                    "FOGLALAS_PK": "1421",
                                    "Időtartam napokban": "5",
                                    "Előző": "5"
                                },
                                {
                                    "SZOBA_FK": "172",
                                    "FOGLALAS_PK": "1491",
                                    "Időtartam napokban": "2",
                                    "Előző": "5"
                                },
                                {
                                    "SZOBA_FK": "173",
                                    "FOGLALAS_PK": "669",
                                    "Időtartam napokban": "7",
                                    "Előző": "0"
                                },
                                {
                                    "SZOBA_FK": "173",
                                    "FOGLALAS_PK": "913",
                                    "Időtartam napokban": "1",
                                    "Előző": "7"
                                },
                                {
                                    "SZOBA_FK": "173",
                                    "FOGLALAS_PK": "1350",
                                    "Időtartam napokban": "3",
                                    "Előző": "1"
                                },
                                {
                                    "SZOBA_FK": "173",
                                    "FOGLALAS_PK": "1429",
                                    "Időtartam napokban": "4",
                                    "Előző": "3"
                                },
                                {
                                    "SZOBA_FK": "174",
                                    "FOGLALAS_PK": "682",
                                    "Időtartam napokban": "3",
                                    "Előző": "0"
                                },
                                {
                                    "SZOBA_FK": "174",
                                    "FOGLALAS_PK": "917",
                                    "Időtartam napokban": "2",
                                    "Előző": "3"
                                },
                                {
                                    "SZOBA_FK": "174",
                                    "FOGLALAS_PK": "1015",
                                    "Időtartam napokban": "5",
                                    "Előző": "2"
                                },
                                {
                                    "SZOBA_FK": "174",
                                    "FOGLALAS_PK": "1276",
                                    "Időtartam napokban": "1",
                                    "Előző": "5"
                                },
                                {
                                    "SZOBA_FK": "175",
                                    "FOGLALAS_PK": "799",
                                    "Időtartam napokban": "4",
                                    "Előző": "0"
                                },
                                {
                                    "SZOBA_FK": "175",
                                    "FOGLALAS_PK": "867",
                                    "Időtartam napokban": "6",
                                    "Előző": "4"
                                },
                                {
                                    "SZOBA_FK": "175",
                                    "FOGLALAS_PK": "1094",
                                    "Időtartam napokban": "5",
                                    "Előző": "6"
                                },
                                {
                                    "SZOBA_FK": "175",
                                    "FOGLALAS_PK": "1133",
                                    "Időtartam napokban": "2",
                                    "Előző": "5"
                                },
                                {
                                    "SZOBA_FK": "175",
                                    "FOGLALAS_PK": "1407",
                                    "Időtartam napokban": "7",
                                    "Előző": "2"
                                },
                                {
                                    "SZOBA_FK": "176",
                                    "FOGLALAS_PK": "592",
                                    "Időtartam napokban": "5",
                                    "Előző": "0"
                                },
                                {
                                    "SZOBA_FK": "176",
                                    "FOGLALAS_PK": "1143",
                                    "Időtartam napokban": "6",
                                    "Előző": "5"
                                },
                                {
                                    "SZOBA_FK": "176",
                                    "FOGLALAS_PK": "1278",
                                    "Időtartam napokban": "6",
                                    "Előző": "6"
                                },
                                {
                                    "SZOBA_FK": "176",
                                    "FOGLALAS_PK": "1383",
                                    "Időtartam napokban": "4",
                                    "Előző": "6"
                                },
                                {
                                    "SZOBA_FK": "176",
                                    "FOGLALAS_PK": "1511",
                                    "Időtartam napokban": "2",
                                    "Előző": "4"
                                },
                                {
                                    "SZOBA_FK": "176",
                                    "FOGLALAS_PK": "1570",
                                    "Időtartam napokban": "3",
                                    "Előző": "2"
                                },
                                {
                                    "SZOBA_FK": "177",
                                    "FOGLALAS_PK": "785",
                                    "Időtartam napokban": "3",
                                    "Előző": "0"
                                },
                                {
                                    "SZOBA_FK": "177",
                                    "FOGLALAS_PK": "831",
                                    "Időtartam napokban": "7",
                                    "Előző": "3"
                                },
                                {
                                    "SZOBA_FK": "177",
                                    "FOGLALAS_PK": "1176",
                                    "Időtartam napokban": "3",
                                    "Előző": "7"
                                },
                                {
                                    "SZOBA_FK": "177",
                                    "FOGLALAS_PK": "1503",
                                    "Időtartam napokban": "3",
                                    "Előző": "3"
                                },
                                {
                                    "SZOBA_FK": "178",
                                    "FOGLALAS_PK": "816",
                                    "Időtartam napokban": "4",
                                    "Előző": "0"
                                },
                                {
                                    "SZOBA_FK": "178",
                                    "FOGLALAS_PK": "991",
                                    "Időtartam napokban": "7",
                                    "Előző": "4"
                                },
                                {
                                    "SZOBA_FK": "178",
                                    "FOGLALAS_PK": "1211",
                                    "Időtartam napokban": "3",
                                    "Előző": "7"
                                },
                                {
                                    "SZOBA_FK": "178",
                                    "FOGLALAS_PK": "1242",
                                    "Időtartam napokban": "1",
                                    "Előző": "3"
                                },
                                {
                                    "SZOBA_FK": "179",
                                    "FOGLALAS_PK": "662",
                                    "Időtartam napokban": "2",
                                    "Előző": "0"
                                },
                                {
                                    "SZOBA_FK": "179",
                                    "FOGLALAS_PK": "1021",
                                    "Időtartam napokban": "1",
                                    "Előző": "2"
                                },
                                {
                                    "SZOBA_FK": "179",
                                    "FOGLALAS_PK": "1497",
                                    "Időtartam napokban": "1",
                                    "Előző": "1"
                                },
                                {
                                    "SZOBA_FK": "180",
                                    "FOGLALAS_PK": "905",
                                    "Időtartam napokban": "5",
                                    "Előző": "0"
                                },
                                {
                                    "SZOBA_FK": "180",
                                    "FOGLALAS_PK": "1559",
                                    "Időtartam napokban": "3",
                                    "Előző": "5"
                                },
                                {
                                    "SZOBA_FK": "180",
                                    "FOGLALAS_PK": "1563",
                                    "Időtartam napokban": "6",
                                    "Előző": "3"
                                },
                                {
                                    "SZOBA_FK": "181",
                                    "FOGLALAS_PK": "677",
                                    "Időtartam napokban": "4",
                                    "Előző": "0"
                                },
                                {
                                    "SZOBA_FK": "181",
                                    "FOGLALAS_PK": "731",
                                    "Időtartam napokban": "6",
                                    "Előző": "4"
                                },
                                {
                                    "SZOBA_FK": "181",
                                    "FOGLALAS_PK": "937",
                                    "Időtartam napokban": "3",
                                    "Előző": "6"
                                },
                                {
                                    "SZOBA_FK": "181",
                                    "FOGLALAS_PK": "958",
                                    "Időtartam napokban": "5",
                                    "Előző": "3"
                                },
                                {
                                    "SZOBA_FK": "181",
                                    "FOGLALAS_PK": "1022",
                                    "Időtartam napokban": "1",
                                    "Előző": "5"
                                },
                                {
                                    "SZOBA_FK": "181",
                                    "FOGLALAS_PK": "1346",
                                    "Időtartam napokban": "6",
                                    "Előző": "1"
                                },
                                {
                                    "SZOBA_FK": "182",
                                    "FOGLALAS_PK": "571",
                                    "Időtartam napokban": "2",
                                    "Előző": "0"
                                },
                                {
                                    "SZOBA_FK": "182",
                                    "FOGLALAS_PK": "740",
                                    "Időtartam napokban": "3",
                                    "Előző": "2"
                                },
                                {
                                    "SZOBA_FK": "182",
                                    "FOGLALAS_PK": "928",
                                    "Időtartam napokban": "2",
                                    "Előző": "3"
                                },
                                {
                                    "SZOBA_FK": "182",
                                    "FOGLALAS_PK": "1008",
                                    "Időtartam napokban": "6",
                                    "Előző": "2"
                                },
                                {
                                    "SZOBA_FK": "182",
                                    "FOGLALAS_PK": "1188",
                                    "Időtartam napokban": "1",
                                    "Előző": "6"
                                },
                                {
                                    "SZOBA_FK": "182",
                                    "FOGLALAS_PK": "1230",
                                    "Időtartam napokban": "7",
                                    "Előző": "1"
                                },
                                {
                                    "SZOBA_FK": "182",
                                    "FOGLALAS_PK": "1231",
                                    "Időtartam napokban": "4",
                                    "Előző": "7"
                                },
                                {
                                    "SZOBA_FK": "182",
                                    "FOGLALAS_PK": "1308",
                                    "Időtartam napokban": "1",
                                    "Előző": "4"
                                },
                                {
                                    "SZOBA_FK": "182",
                                    "FOGLALAS_PK": "1317",
                                    "Időtartam napokban": "3",
                                    "Előző": "1"
                                },
                                {
                                    "SZOBA_FK": "182",
                                    "FOGLALAS_PK": "1326",
                                    "Időtartam napokban": "4",
                                    "Előző": "3"
                                },
                                {
                                    "SZOBA_FK": "182",
                                    "FOGLALAS_PK": "1410",
                                    "Időtartam napokban": "4",
                                    "Előző": "4"
                                },
                                {
                                    "SZOBA_FK": "182",
                                    "FOGLALAS_PK": "1422",
                                    "Időtartam napokban": "3",
                                    "Előző": "4"
                                },
                                {
                                    "SZOBA_FK": "183",
                                    "FOGLALAS_PK": "939",
                                    "Időtartam napokban": "4",
                                    "Előző": "0"
                                },
                                {
                                    "SZOBA_FK": "183",
                                    "FOGLALAS_PK": "1067",
                                    "Időtartam napokban": "7",
                                    "Előző": "4"
                                },
                                {
                                    "SZOBA_FK": "183",
                                    "FOGLALAS_PK": "1147",
                                    "Időtartam napokban": "4",
                                    "Előző": "7"
                                },
                                {
                                    "SZOBA_FK": "183",
                                    "FOGLALAS_PK": "1437",
                                    "Időtartam napokban": "4",
                                    "Előző": "4"
                                },
                                {
                                    "SZOBA_FK": "184",
                                    "FOGLALAS_PK": "608",
                                    "Időtartam napokban": "2",
                                    "Előző": "0"
                                },
                                {
                                    "SZOBA_FK": "184",
                                    "FOGLALAS_PK": "684",
                                    "Időtartam napokban": "3",
                                    "Előző": "2"
                                },
                                {
                                    "SZOBA_FK": "184",
                                    "FOGLALAS_PK": "880",
                                    "Időtartam napokban": "4",
                                    "Előző": "3"
                                },
                                {
                                    "SZOBA_FK": "184",
                                    "FOGLALAS_PK": "1251",
                                    "Időtartam napokban": "4",
                                    "Előző": "4"
                                },
                                {
                                    "SZOBA_FK": "185",
                                    "FOGLALAS_PK": "578",
                                    "Időtartam napokban": "6",
                                    "Előző": "0"
                                },
                                {
                                    "SZOBA_FK": "185",
                                    "FOGLALAS_PK": "672",
                                    "Időtartam napokban": "3",
                                    "Előző": "6"
                                },
                                {
                                    "SZOBA_FK": "185",
                                    "FOGLALAS_PK": "679",
                                    "Időtartam napokban": "5",
                                    "Előző": "3"
                                },
                                {
                                    "SZOBA_FK": "185",
                                    "FOGLALAS_PK": "693",
                                    "Időtartam napokban": "2",
                                    "Előző": "5"
                                },
                                {
                                    "SZOBA_FK": "185",
                                    "FOGLALAS_PK": "711",
                                    "Időtartam napokban": "3",
                                    "Előző": "2"
                                },
                                {
                                    "SZOBA_FK": "185",
                                    "FOGLALAS_PK": "863",
                                    "Időtartam napokban": "4",
                                    "Előző": "3"
                                },
                                {
                                    "SZOBA_FK": "185",
                                    "FOGLALAS_PK": "898",
                                    "Időtartam napokban": "4",
                                    "Előző": "4"
                                },
                                {
                                    "SZOBA_FK": "185",
                                    "FOGLALAS_PK": "925",
                                    "Időtartam napokban": "6",
                                    "Előző": "4"
                                },
                                {
                                    "SZOBA_FK": "185",
                                    "FOGLALAS_PK": "1125",
                                    "Időtartam napokban": "3",
                                    "Előző": "6"
                                },
                                {
                                    "SZOBA_FK": "185",
                                    "FOGLALAS_PK": "1183",
                                    "Időtartam napokban": "5",
                                    "Előző": "3"
                                },
                                {
                                    "SZOBA_FK": "185",
                                    "FOGLALAS_PK": "1441",
                                    "Időtartam napokban": "7",
                                    "Előző": "5"
                                },
                                {
                                    "SZOBA_FK": "185",
                                    "FOGLALAS_PK": "1463",
                                    "Időtartam napokban": "7",
                                    "Előző": "7"
                                },
                                {
                                    "SZOBA_FK": "186",
                                    "FOGLALAS_PK": "615",
                                    "Időtartam napokban": "3",
                                    "Előző": "0"
                                },
                                {
                                    "SZOBA_FK": "186",
                                    "FOGLALAS_PK": "1153",
                                    "Időtartam napokban": "3",
                                    "Előző": "3"
                                },
                                {
                                    "SZOBA_FK": "186",
                                    "FOGLALAS_PK": "1248",
                                    "Időtartam napokban": "2",
                                    "Előző": "3"
                                },
                                {
                                    "SZOBA_FK": "186",
                                    "FOGLALAS_PK": "1467",
                                    "Időtartam napokban": "3",
                                    "Előző": "2"
                                },
                                {
                                    "SZOBA_FK": "187",
                                    "FOGLALAS_PK": "633",
                                    "Időtartam napokban": "6",
                                    "Előző": "0"
                                },
                                {
                                    "SZOBA_FK": "187",
                                    "FOGLALAS_PK": "695",
                                    "Időtartam napokban": "6",
                                    "Előző": "6"
                                },
                                {
                                    "SZOBA_FK": "187",
                                    "FOGLALAS_PK": "743",
                                    "Időtartam napokban": "2",
                                    "Előző": "6"
                                },
                                {
                                    "SZOBA_FK": "187",
                                    "FOGLALAS_PK": "766",
                                    "Időtartam napokban": "1",
                                    "Előző": "2"
                                },
                                {
                                    "SZOBA_FK": "187",
                                    "FOGLALAS_PK": "868",
                                    "Időtartam napokban": "4",
                                    "Előző": "1"
                                },
                                {
                                    "SZOBA_FK": "187",
                                    "FOGLALAS_PK": "957",
                                    "Időtartam napokban": "4",
                                    "Előző": "4"
                                },
                                {
                                    "SZOBA_FK": "187",
                                    "FOGLALAS_PK": "1404",
                                    "Időtartam napokban": "2",
                                    "Előző": "4"
                                },
                                {
                                    "SZOBA_FK": "188",
                                    "FOGLALAS_PK": "690",
                                    "Időtartam napokban": "4",
                                    "Előző": "0"
                                },
                                {
                                    "SZOBA_FK": "188",
                                    "FOGLALAS_PK": "710",
                                    "Időtartam napokban": "7",
                                    "Előző": "4"
                                },
                                {
                                    "SZOBA_FK": "188",
                                    "FOGLALAS_PK": "747",
                                    "Időtartam napokban": "3",
                                    "Előző": "7"
                                },
                                {
                                    "SZOBA_FK": "188",
                                    "FOGLALAS_PK": "912",
                                    "Időtartam napokban": "1",
                                    "Előző": "3"
                                },
                                {
                                    "SZOBA_FK": "188",
                                    "FOGLALAS_PK": "1030",
                                    "Időtartam napokban": "4",
                                    "Előző": "1"
                                },
                                {
                                    "SZOBA_FK": "188",
                                    "FOGLALAS_PK": "1390",
                                    "Időtartam napokban": "5",
                                    "Előző": "4"
                                },
                                {
                                    "SZOBA_FK": "189",
                                    "FOGLALAS_PK": "699",
                                    "Időtartam napokban": "2",
                                    "Előző": "0"
                                },
                                {
                                    "SZOBA_FK": "189",
                                    "FOGLALAS_PK": "753",
                                    "Időtartam napokban": "1",
                                    "Előző": "2"
                                },
                                {
                                    "SZOBA_FK": "189",
                                    "FOGLALAS_PK": "1204",
                                    "Időtartam napokban": "2",
                                    "Előző": "1"
                                },
                                {
                                    "SZOBA_FK": "189",
                                    "FOGLALAS_PK": "1449",
                                    "Időtartam napokban": "2",
                                    "Előző": "2"
                                },
                                {
                                    "SZOBA_FK": "189",
                                    "FOGLALAS_PK": "1576",
                                    "Időtartam napokban": "3",
                                    "Előző": "2"
                                },
                                {
                                    "SZOBA_FK": "190",
                                    "FOGLALAS_PK": "600",
                                    "Időtartam napokban": "7",
                                    "Előző": "0"
                                },
                                {
                                    "SZOBA_FK": "190",
                                    "FOGLALAS_PK": "774",
                                    "Időtartam napokban": "5",
                                    "Előző": "7"
                                },
                                {
                                    "SZOBA_FK": "190",
                                    "FOGLALAS_PK": "989",
                                    "Időtartam napokban": "1",
                                    "Előző": "5"
                                },
                                {
                                    "SZOBA_FK": "190",
                                    "FOGLALAS_PK": "1017",
                                    "Időtartam napokban": "1",
                                    "Előző": "1"
                                },
                                {
                                    "SZOBA_FK": "190",
                                    "FOGLALAS_PK": "1517",
                                    "Időtartam napokban": "5",
                                    "Előző": "1"
                                },
                                {
                                    "SZOBA_FK": "191",
                                    "FOGLALAS_PK": "1039",
                                    "Időtartam napokban": "6",
                                    "Előző": "0"
                                },
                                {
                                    "SZOBA_FK": "191",
                                    "FOGLALAS_PK": "1302",
                                    "Időtartam napokban": "1",
                                    "Előző": "6"
                                },
                                {
                                    "SZOBA_FK": "191",
                                    "FOGLALAS_PK": "1323",
                                    "Időtartam napokban": "7",
                                    "Előző": "1"
                                },
                                {
                                    "SZOBA_FK": "191",
                                    "FOGLALAS_PK": "1502",
                                    "Időtartam napokban": "2",
                                    "Előző": "7"
                                },
                                {
                                    "SZOBA_FK": "191",
                                    "FOGLALAS_PK": "1508",
                                    "Időtartam napokban": "7",
                                    "Előző": "2"
                                },
                                {
                                    "SZOBA_FK": "192",
                                    "FOGLALAS_PK": "680",
                                    "Időtartam napokban": "4",
                                    "Előző": "0"
                                },
                                {
                                    "SZOBA_FK": "192",
                                    "FOGLALAS_PK": "903",
                                    "Időtartam napokban": "7",
                                    "Előző": "4"
                                },
                                {
                                    "SZOBA_FK": "193",
                                    "FOGLALAS_PK": "634",
                                    "Időtartam napokban": "6",
                                    "Előző": "0"
                                },
                                {
                                    "SZOBA_FK": "193",
                                    "FOGLALAS_PK": "675",
                                    "Időtartam napokban": "2",
                                    "Előző": "6"
                                },
                                {
                                    "SZOBA_FK": "193",
                                    "FOGLALAS_PK": "835",
                                    "Időtartam napokban": "2",
                                    "Előző": "2"
                                },
                                {
                                    "SZOBA_FK": "193",
                                    "FOGLALAS_PK": "926",
                                    "Időtartam napokban": "1",
                                    "Előző": "2"
                                },
                                {
                                    "SZOBA_FK": "193",
                                    "FOGLALAS_PK": "977",
                                    "Időtartam napokban": "2",
                                    "Előző": "1"
                                },
                                {
                                    "SZOBA_FK": "193",
                                    "FOGLALAS_PK": "1043",
                                    "Időtartam napokban": "6",
                                    "Előző": "2"
                                },
                                {
                                    "SZOBA_FK": "193",
                                    "FOGLALAS_PK": "1238",
                                    "Időtartam napokban": "6",
                                    "Előző": "6"
                                },
                                {
                                    "SZOBA_FK": "194",
                                    "FOGLALAS_PK": "1095",
                                    "Időtartam napokban": "5",
                                    "Előző": "0"
                                },
                                {
                                    "SZOBA_FK": "195",
                                    "FOGLALAS_PK": "721",
                                    "Időtartam napokban": "4",
                                    "Előző": "0"
                                },
                                {
                                    "SZOBA_FK": "195",
                                    "FOGLALAS_PK": "842",
                                    "Időtartam napokban": "4",
                                    "Előző": "4"
                                },
                                {
                                    "SZOBA_FK": "195",
                                    "FOGLALAS_PK": "1074",
                                    "Időtartam napokban": "7",
                                    "Előző": "4"
                                },
                                {
                                    "SZOBA_FK": "195",
                                    "FOGLALAS_PK": "1184",
                                    "Időtartam napokban": "5",
                                    "Előző": "7"
                                },
                                {
                                    "SZOBA_FK": "195",
                                    "FOGLALAS_PK": "1473",
                                    "Időtartam napokban": "7",
                                    "Előző": "5"
                                },
                                {
                                    "SZOBA_FK": "195",
                                    "FOGLALAS_PK": "1484",
                                    "Időtartam napokban": "1",
                                    "Előző": "7"
                                },
                                {
                                    "SZOBA_FK": "196",
                                    "FOGLALAS_PK": "673",
                                    "Időtartam napokban": "5",
                                    "Előző": "0"
                                },
                                {
                                    "SZOBA_FK": "196",
                                    "FOGLALAS_PK": "952",
                                    "Időtartam napokban": "3",
                                    "Előző": "5"
                                },
                                {
                                    "SZOBA_FK": "196",
                                    "FOGLALAS_PK": "1314",
                                    "Időtartam napokban": "5",
                                    "Előző": "3"
                                },
                                {
                                    "SZOBA_FK": "196",
                                    "FOGLALAS_PK": "1340",
                                    "Időtartam napokban": "5",
                                    "Előző": "5"
                                },
                                {
                                    "SZOBA_FK": "197",
                                    "FOGLALAS_PK": "764",
                                    "Időtartam napokban": "7",
                                    "Előző": "0"
                                },
                                {
                                    "SZOBA_FK": "197",
                                    "FOGLALAS_PK": "993",
                                    "Időtartam napokban": "7",
                                    "Előző": "7"
                                },
                                {
                                    "SZOBA_FK": "197",
                                    "FOGLALAS_PK": "1091",
                                    "Időtartam napokban": "7",
                                    "Előző": "7"
                                },
                                {
                                    "SZOBA_FK": "197",
                                    "FOGLALAS_PK": "1172",
                                    "Időtartam napokban": "7",
                                    "Előző": "7"
                                },
                                {
                                    "SZOBA_FK": "197",
                                    "FOGLALAS_PK": "1304",
                                    "Időtartam napokban": "7",
                                    "Előző": "7"
                                },
                                {
                                    "SZOBA_FK": "197",
                                    "FOGLALAS_PK": "1387",
                                    "Időtartam napokban": "3",
                                    "Előző": "7"
                                },
                                {
                                    "SZOBA_FK": "198",
                                    "FOGLALAS_PK": "978",
                                    "Időtartam napokban": "1",
                                    "Előző": "0"
                                },
                                {
                                    "SZOBA_FK": "198",
                                    "FOGLALAS_PK": "1011",
                                    "Időtartam napokban": "7",
                                    "Előző": "1"
                                },
                                {
                                    "SZOBA_FK": "198",
                                    "FOGLALAS_PK": "1065",
                                    "Időtartam napokban": "3",
                                    "Előző": "7"
                                },
                                {
                                    "SZOBA_FK": "198",
                                    "FOGLALAS_PK": "1116",
                                    "Időtartam napokban": "1",
                                    "Előző": "3"
                                },
                                {
                                    "SZOBA_FK": "198",
                                    "FOGLALAS_PK": "1138",
                                    "Időtartam napokban": "5",
                                    "Előző": "1"
                                },
                                {
                                    "SZOBA_FK": "198",
                                    "FOGLALAS_PK": "1161",
                                    "Időtartam napokban": "5",
                                    "Előző": "5"
                                },
                                {
                                    "SZOBA_FK": "198",
                                    "FOGLALAS_PK": "1216",
                                    "Időtartam napokban": "7",
                                    "Előző": "5"
                                },
                                {
                                    "SZOBA_FK": "198",
                                    "FOGLALAS_PK": "1420",
                                    "Időtartam napokban": "5",
                                    "Előző": "7"
                                }
                            ]
                        },
                        "text/html": "<table><tr><th>SZOBA_FK</th><th>FOGLALAS_PK</th><th>Időtartam napokban</th><th>Előző</th></tr><tr><td>1</td><td>620</td><td>5</td><td>0</td></tr><tr><td>1</td><td>738</td><td>7</td><td>5</td></tr><tr><td>1</td><td>803</td><td>4</td><td>7</td></tr><tr><td>1</td><td>949</td><td>1</td><td>4</td></tr><tr><td>1</td><td>1137</td><td>2</td><td>1</td></tr><tr><td>1</td><td>1152</td><td>1</td><td>2</td></tr><tr><td>1</td><td>1274</td><td>1</td><td>1</td></tr><tr><td>1</td><td>1334</td><td>4</td><td>1</td></tr><tr><td>2</td><td>828</td><td>3</td><td>0</td></tr><tr><td>2</td><td>1051</td><td>1</td><td>3</td></tr><tr><td>2</td><td>1069</td><td>7</td><td>1</td></tr><tr><td>2</td><td>1311</td><td>7</td><td>7</td></tr><tr><td>3</td><td>629</td><td>4</td><td>0</td></tr><tr><td>3</td><td>666</td><td>6</td><td>4</td></tr><tr><td>3</td><td>788</td><td>6</td><td>6</td></tr><tr><td>3</td><td>1038</td><td>3</td><td>6</td></tr><tr><td>3</td><td>1110</td><td>7</td><td>3</td></tr><tr><td>3</td><td>1151</td><td>1</td><td>7</td></tr><tr><td>3</td><td>1434</td><td>5</td><td>1</td></tr><tr><td>3</td><td>1544</td><td>5</td><td>5</td></tr><tr><td>4</td><td>651</td><td>7</td><td>0</td></tr><tr><td>4</td><td>946</td><td>5</td><td>7</td></tr><tr><td>4</td><td>1001</td><td>7</td><td>5</td></tr><tr><td>4</td><td>1127</td><td>3</td><td>7</td></tr><tr><td>4</td><td>1132</td><td>6</td><td>3</td></tr><tr><td>4</td><td>1492</td><td>6</td><td>6</td></tr><tr><td>5</td><td>564</td><td>2</td><td>0</td></tr><tr><td>5</td><td>965</td><td>7</td><td>2</td></tr><tr><td>5</td><td>1073</td><td>5</td><td>7</td></tr><tr><td>5</td><td>1257</td><td>3</td><td>5</td></tr><tr><td>6</td><td>560</td><td>6</td><td>0</td></tr><tr><td>6</td><td>772</td><td>6</td><td>6</td></tr><tr><td>6</td><td>850</td><td>2</td><td>6</td></tr><tr><td>6</td><td>873</td><td>3</td><td>2</td></tr><tr><td>6</td><td>990</td><td>4</td><td>3</td></tr><tr><td>6</td><td>1099</td><td>4</td><td>4</td></tr><tr><td>7</td><td>562</td><td>4</td><td>0</td></tr><tr><td>7</td><td>759</td><td>7</td><td>4</td></tr><tr><td>7</td><td>1131</td><td>1</td><td>7</td></tr><tr><td>7</td><td>1175</td><td>4</td><td>1</td></tr><tr><td>7</td><td>1182</td><td>4</td><td>4</td></tr><tr><td>7</td><td>1252</td><td>2</td><td>4</td></tr><tr><td>8</td><td>694</td><td>4</td><td>0</td></tr><tr><td>8</td><td>818</td><td>4</td><td>4</td></tr><tr><td>8</td><td>832</td><td>4</td><td>4</td></tr><tr><td>8</td><td>882</td><td>1</td><td>4</td></tr><tr><td>8</td><td>947</td><td>3</td><td>1</td></tr><tr><td>9</td><td>609</td><td>2</td><td>0</td></tr><tr><td>9</td><td>1157</td><td>6</td><td>2</td></tr><tr><td>9</td><td>1220</td><td>3</td><td>6</td></tr><tr><td>9</td><td>1260</td><td>6</td><td>3</td></tr><tr><td>9</td><td>1423</td><td>3</td><td>6</td></tr><tr><td>9</td><td>1537</td><td>3</td><td>3</td></tr><tr><td>10</td><td>569</td><td>3</td><td>0</td></tr><tr><td>10</td><td>790</td><td>5</td><td>3</td></tr><tr><td>10</td><td>795</td><td>4</td><td>5</td></tr><tr><td>10</td><td>1319</td><td>6</td><td>4</td></tr><tr><td>11</td><td>918</td><td>6</td><td>0</td></tr><tr><td>11</td><td>1123</td><td>5</td><td>6</td></tr><tr><td>11</td><td>1236</td><td>1</td><td>5</td></tr><tr><td>11</td><td>1523</td><td>1</td><td>1</td></tr><tr><td>12</td><td>697</td><td>2</td><td>0</td></tr><tr><td>12</td><td>775</td><td>4</td><td>2</td></tr><tr><td>12</td><td>876</td><td>7</td><td>4</td></tr><tr><td>12</td><td>951</td><td>3</td><td>7</td></tr><tr><td>12</td><td>970</td><td>2</td><td>3</td></tr><tr><td>12</td><td>1020</td><td>5</td><td>2</td></tr><tr><td>12</td><td>1140</td><td>3</td><td>5</td></tr><tr><td>12</td><td>1164</td><td>5</td><td>3</td></tr><tr><td>12</td><td>1430</td><td>2</td><td>5</td></tr><tr><td>13</td><td>763</td><td>4</td><td>0</td></tr><tr><td>13</td><td>1044</td><td>6</td><td>4</td></tr><tr><td>13</td><td>1347</td><td>3</td><td>6</td></tr><tr><td>13</td><td>1469</td><td>2</td><td>3</td></tr><tr><td>14</td><td>663</td><td>1</td><td>0</td></tr><tr><td>14</td><td>813</td><td>3</td><td>1</td></tr><tr><td>14</td><td>1542</td><td>4</td><td>3</td></tr><tr><td>15</td><td>791</td><td>5</td><td>0</td></tr><tr><td>15</td><td>1028</td><td>2</td><td>5</td></tr><tr><td>15</td><td>1129</td><td>4</td><td>2</td></tr><tr><td>15</td><td>1244</td><td>1</td><td>4</td></tr><tr><td>15</td><td>1418</td><td>4</td><td>1</td></tr><tr><td>15</td><td>1442</td><td>3</td><td>4</td></tr><tr><td>16</td><td>687</td><td>3</td><td>0</td></tr><tr><td>16</td><td>856</td><td>6</td><td>3</td></tr><tr><td>16</td><td>896</td><td>1</td><td>6</td></tr><tr><td>16</td><td>973</td><td>1</td><td>1</td></tr><tr><td>16</td><td>1498</td><td>7</td><td>1</td></tr><tr><td>17</td><td>602</td><td>6</td><td>0</td></tr><tr><td>17</td><td>713</td><td>6</td><td>6</td></tr><tr><td>17</td><td>744</td><td>1</td><td>6</td></tr><tr><td>17</td><td>916</td><td>2</td><td>1</td></tr><tr><td>17</td><td>1316</td><td>5</td><td>2</td></tr><tr><td>17</td><td>1549</td><td>3</td><td>5</td></tr><tr><td>18</td><td>626</td><td>3</td><td>0</td></tr><tr><td>18</td><td>767</td><td>3</td><td>3</td></tr><tr><td>18</td><td>1035</td><td>6</td><td>3</td></tr><tr><td>18</td><td>1173</td><td>6</td><td>6</td></tr><tr><td>18</td><td>1198</td><td>4</td><td>6</td></tr><tr><td>18</td><td>1505</td><td>6</td><td>4</td></tr><tr><td>19</td><td>696</td><td>1</td><td>0</td></tr><tr><td>19</td><td>778</td><td>1</td><td>1</td></tr><tr><td>19</td><td>948</td><td>2</td><td>1</td></tr><tr><td>19</td><td>1139</td><td>7</td><td>2</td></tr><tr><td>19</td><td>1237</td><td>1</td><td>7</td></tr><tr><td>19</td><td>1533</td><td>1</td><td>1</td></tr><tr><td>20</td><td>755</td><td>6</td><td>0</td></tr><tr><td>20</td><td>820</td><td>1</td><td>6</td></tr><tr><td>20</td><td>1070</td><td>1</td><td>1</td></tr><tr><td>20</td><td>1106</td><td>2</td><td>1</td></tr><tr><td>20</td><td>1114</td><td>5</td><td>2</td></tr><tr><td>21</td><td>566</td><td>6</td><td>0</td></tr><tr><td>21</td><td>660</td><td>5</td><td>6</td></tr><tr><td>21</td><td>805</td><td>1</td><td>5</td></tr><tr><td>21</td><td>1212</td><td>6</td><td>1</td></tr><tr><td>22</td><td>906</td><td>1</td><td>0</td></tr><tr><td>22</td><td>1005</td><td>3</td><td>1</td></tr><tr><td>22</td><td>1130</td><td>1</td><td>3</td></tr><tr><td>22</td><td>1195</td><td>6</td><td>1</td></tr><tr><td>22</td><td>1206</td><td>7</td><td>6</td></tr><tr><td>22</td><td>1287</td><td>3</td><td>7</td></tr><tr><td>23</td><td>848</td><td>1</td><td>0</td></tr><tr><td>23</td><td>934</td><td>1</td><td>1</td></tr><tr><td>23</td><td>945</td><td>7</td><td>1</td></tr><tr><td>24</td><td>852</td><td>2</td><td>0</td></tr><tr><td>24</td><td>1167</td><td>1</td><td>2</td></tr><tr><td>24</td><td>1415</td><td>3</td><td>1</td></tr><tr><td>25</td><td>1052</td><td>3</td><td>0</td></tr><tr><td>25</td><td>1362</td><td>2</td><td>3</td></tr><tr><td>26</td><td>1158</td><td>2</td><td>0</td></tr><tr><td>26</td><td>1388</td><td>3</td><td>2</td></tr><tr><td>27</td><td>758</td><td>3</td><td>0</td></tr><tr><td>27</td><td>807</td><td>2</td><td>3</td></tr><tr><td>27</td><td>1031</td><td>2</td><td>2</td></tr><tr><td>27</td><td>1082</td><td>5</td><td>2</td></tr><tr><td>27</td><td>1275</td><td>6</td><td>5</td></tr><tr><td>27</td><td>1377</td><td>1</td><td>6</td></tr><tr><td>27</td><td>1476</td><td>1</td><td>1</td></tr><tr><td>28</td><td>725</td><td>5</td><td>0</td></tr><tr><td>28</td><td>872</td><td>5</td><td>5</td></tr><tr><td>28</td><td>886</td><td>4</td><td>5</td></tr><tr><td>28</td><td>901</td><td>4</td><td>4</td></tr><tr><td>28</td><td>1150</td><td>6</td><td>4</td></tr><tr><td>28</td><td>1459</td><td>2</td><td>6</td></tr><tr><td>29</td><td>611</td><td>5</td><td>0</td></tr><tr><td>29</td><td>894</td><td>1</td><td>5</td></tr><tr><td>29</td><td>1076</td><td>7</td><td>1</td></tr><tr><td>29</td><td>1185</td><td>5</td><td>7</td></tr><tr><td>29</td><td>1235</td><td>7</td><td>5</td></tr><tr><td>29</td><td>1568</td><td>7</td><td>7</td></tr><tr><td>30</td><td>604</td><td>2</td><td>0</td></tr><tr><td>30</td><td>1023</td><td>7</td><td>2</td></tr><tr><td>30</td><td>1136</td><td>5</td><td>7</td></tr><tr><td>31</td><td>598</td><td>2</td><td>0</td></tr><tr><td>31</td><td>606</td><td>1</td><td>2</td></tr><tr><td>31</td><td>728</td><td>4</td><td>1</td></tr><tr><td>32</td><td>920</td><td>4</td><td>0</td></tr><tr><td>33</td><td>624</td><td>6</td><td>0</td></tr><tr><td>33</td><td>1012</td><td>7</td><td>6</td></tr><tr><td>33</td><td>1053</td><td>1</td><td>7</td></tr><tr><td>33</td><td>1321</td><td>4</td><td>1</td></tr><tr><td>33</td><td>1344</td><td>5</td><td>4</td></tr><tr><td>33</td><td>1381</td><td>6</td><td>5</td></tr><tr><td>34</td><td>777</td><td>3</td><td>0</td></tr><tr><td>34</td><td>821</td><td>1</td><td>3</td></tr><tr><td>34</td><td>870</td><td>6</td><td>1</td></tr><tr><td>34</td><td>904</td><td>2</td><td>6</td></tr><tr><td>35</td><td>686</td><td>6</td><td>0</td></tr><tr><td>35</td><td>707</td><td>2</td><td>6</td></tr><tr><td>35</td><td>829</td><td>2</td><td>2</td></tr><tr><td>35</td><td>971</td><td>3</td><td>2</td></tr><tr><td>35</td><td>979</td><td>7</td><td>3</td></tr><tr><td>35</td><td>1411</td><td>1</td><td>7</td></tr><tr><td>35</td><td>1436</td><td>1</td><td>1</td></tr><tr><td>35</td><td>1480</td><td>37</td><td>1</td></tr><tr><td>35</td><td>1529</td><td>4</td><td>37</td></tr><tr><td>36</td><td>748</td><td>2</td><td>0</td></tr><tr><td>36</td><td>750</td><td>6</td><td>2</td></tr><tr><td>36</td><td>895</td><td>5</td><td>6</td></tr><tr><td>36</td><td>919</td><td>1</td><td>5</td></tr><tr><td>36</td><td>985</td><td>6</td><td>1</td></tr><tr><td>36</td><td>1003</td><td>4</td><td>6</td></tr><tr><td>37</td><td>688</td><td>2</td><td>0</td></tr><tr><td>37</td><td>705</td><td>4</td><td>2</td></tr><tr><td>37</td><td>1335</td><td>7</td><td>4</td></tr><tr><td>38</td><td>627</td><td>6</td><td>0</td></tr><tr><td>38</td><td>1033</td><td>2</td><td>6</td></tr><tr><td>38</td><td>1060</td><td>2</td><td>2</td></tr><tr><td>38</td><td>1078</td><td>7</td><td>2</td></tr><tr><td>38</td><td>1351</td><td>4</td><td>7</td></tr><tr><td>38</td><td>1416</td><td>5</td><td>4</td></tr><tr><td>38</td><td>1478</td><td>4</td><td>5</td></tr><tr><td>38</td><td>1556</td><td>6</td><td>4</td></tr><tr><td>39</td><td>601</td><td>6</td><td>0</td></tr><tr><td>39</td><td>899</td><td>6</td><td>6</td></tr><tr><td>39</td><td>1214</td><td>5</td><td>6</td></tr><tr><td>39</td><td>1380</td><td>5</td><td>5</td></tr><tr><td>39</td><td>1435</td><td>7</td><td>5</td></tr><tr><td>39</td><td>1454</td><td>1</td><td>7</td></tr><tr><td>39</td><td>1538</td><td>2</td><td>1</td></tr><tr><td>40</td><td>924</td><td>5</td><td>0</td></tr><tr><td>40</td><td>932</td><td>6</td><td>5</td></tr><tr><td>40</td><td>1018</td><td>5</td><td>6</td></tr><tr><td>40</td><td>1118</td><td>5</td><td>5</td></tr><tr><td>41</td><td>960</td><td>6</td><td>0</td></tr><tr><td>41</td><td>1144</td><td>1</td><td>6</td></tr><tr><td>42</td><td>561</td><td>4</td><td>0</td></tr><tr><td>42</td><td>590</td><td>5</td><td>4</td></tr><tr><td>42</td><td>770</td><td>3</td><td>5</td></tr><tr><td>42</td><td>851</td><td>7</td><td>3</td></tr><tr><td>42</td><td>1309</td><td>2</td><td>7</td></tr><tr><td>42</td><td>1444</td><td>6</td><td>2</td></tr><tr><td>43</td><td>670</td><td>4</td><td>0</td></tr><tr><td>43</td><td>1019</td><td>4</td><td>4</td></tr><tr><td>43</td><td>1088</td><td>2</td><td>4</td></tr><tr><td>43</td><td>1207</td><td>1</td><td>2</td></tr><tr><td>43</td><td>1227</td><td>5</td><td>1</td></tr><tr><td>43</td><td>1270</td><td>4</td><td>5</td></tr><tr><td>43</td><td>1524</td><td>1</td><td>4</td></tr><tr><td>43</td><td>1553</td><td>5</td><td>1</td></tr><tr><td>44</td><td>589</td><td>2</td><td>0</td></tr><tr><td>44</td><td>658</td><td>6</td><td>2</td></tr><tr><td>44</td><td>823</td><td>2</td><td>6</td></tr><tr><td>44</td><td>1295</td><td>2</td><td>2</td></tr><tr><td>44</td><td>1425</td><td>2</td><td>2</td></tr><tr><td>44</td><td>1552</td><td>2</td><td>2</td></tr><tr><td>45</td><td>800</td><td>5</td><td>0</td></tr><tr><td>45</td><td>802</td><td>7</td><td>5</td></tr><tr><td>45</td><td>846</td><td>3</td><td>7</td></tr><tr><td>45</td><td>1135</td><td>3</td><td>3</td></tr><tr><td>45</td><td>1303</td><td>2</td><td>3</td></tr><tr><td>46</td><td>752</td><td>5</td><td>0</td></tr><tr><td>46</td><td>1187</td><td>7</td><td>5</td></tr><tr><td>46</td><td>1291</td><td>3</td><td>7</td></tr><tr><td>46</td><td>1515</td><td>4</td><td>3</td></tr><tr><td>47</td><td>955</td><td>1</td><td>0</td></tr><tr><td>47</td><td>1056</td><td>7</td><td>1</td></tr><tr><td>48</td><td>603</td><td>3</td><td>0</td></tr><tr><td>48</td><td>628</td><td>2</td><td>3</td></tr><tr><td>48</td><td>824</td><td>2</td><td>2</td></tr><tr><td>48</td><td>914</td><td>5</td><td>2</td></tr><tr><td>48</td><td>986</td><td>5</td><td>5</td></tr><tr><td>48</td><td>1243</td><td>6</td><td>5</td></tr><tr><td>48</td><td>1546</td><td>3</td><td>6</td></tr><tr><td>48</td><td>1547</td><td>1</td><td>3</td></tr><tr><td>48</td><td>1581</td><td>5</td><td>1</td></tr><tr><td>49</td><td>793</td><td>6</td><td>0</td></tr><tr><td>49</td><td>826</td><td>4</td><td>6</td></tr><tr><td>49</td><td>888</td><td>7</td><td>4</td></tr><tr><td>49</td><td>1066</td><td>7</td><td>7</td></tr><tr><td>49</td><td>1200</td><td>7</td><td>7</td></tr><tr><td>49</td><td>1221</td><td>2</td><td>7</td></tr><tr><td>49</td><td>1536</td><td>6</td><td>2</td></tr><tr><td>50</td><td>787</td><td>3</td><td>0</td></tr><tr><td>50</td><td>1063</td><td>2</td><td>3</td></tr><tr><td>50</td><td>1224</td><td>1</td><td>2</td></tr><tr><td>50</td><td>1272</td><td>1</td><td>1</td></tr><tr><td>51</td><td>811</td><td>2</td><td>0</td></tr><tr><td>51</td><td>865</td><td>7</td><td>2</td></tr><tr><td>51</td><td>1165</td><td>5</td><td>7</td></tr><tr><td>51</td><td>1477</td><td>6</td><td>5</td></tr><tr><td>51</td><td>1550</td><td>1</td><td>6</td></tr><tr><td>52</td><td>822</td><td>7</td><td>0</td></tr><tr><td>52</td><td>1202</td><td>2</td><td>7</td></tr><tr><td>52</td><td>1258</td><td>5</td><td>2</td></tr><tr><td>52</td><td>1431</td><td>5</td><td>5</td></tr><tr><td>52</td><td>1534</td><td>5</td><td>5</td></tr><tr><td>53</td><td>855</td><td>1</td><td>0</td></tr><tr><td>53</td><td>987</td><td>4</td><td>1</td></tr><tr><td>54</td><td>622</td><td>7</td><td>0</td></tr><tr><td>54</td><td>642</td><td>5</td><td>7</td></tr><tr><td>54</td><td>668</td><td>1</td><td>5</td></tr><tr><td>54</td><td>889</td><td>2</td><td>1</td></tr><tr><td>54</td><td>1096</td><td>4</td><td>2</td></tr><tr><td>54</td><td>1328</td><td>4</td><td>4</td></tr><tr><td>55</td><td>734</td><td>6</td><td>0</td></tr><tr><td>55</td><td>1086</td><td>5</td><td>6</td></tr><tr><td>55</td><td>1163</td><td>2</td><td>5</td></tr><tr><td>55</td><td>1232</td><td>7</td><td>2</td></tr><tr><td>55</td><td>1327</td><td>6</td><td>7</td></tr><tr><td>55</td><td>1386</td><td>2</td><td>6</td></tr><tr><td>55</td><td>1512</td><td>1</td><td>2</td></tr><tr><td>55</td><td>1520</td><td>1</td><td>1</td></tr><tr><td>56</td><td>838</td><td>2</td><td>0</td></tr><tr><td>56</td><td>935</td><td>4</td><td>2</td></tr><tr><td>57</td><td>1348</td><td>1</td><td>0</td></tr><tr><td>57</td><td>1389</td><td>1</td><td>1</td></tr><tr><td>57</td><td>1466</td><td>7</td><td>1</td></tr><tr><td>57</td><td>1504</td><td>4</td><td>7</td></tr><tr><td>58</td><td>719</td><td>3</td><td>0</td></tr><tr><td>58</td><td>773</td><td>2</td><td>3</td></tr><tr><td>58</td><td>883</td><td>5</td><td>2</td></tr><tr><td>58</td><td>1113</td><td>3</td><td>5</td></tr><tr><td>58</td><td>1186</td><td>6</td><td>3</td></tr><tr><td>58</td><td>1208</td><td>6</td><td>6</td></tr><tr><td>58</td><td>1255</td><td>7</td><td>6</td></tr><tr><td>58</td><td>1261</td><td>6</td><td>7</td></tr><tr><td>58</td><td>1285</td><td>7</td><td>6</td></tr><tr><td>58</td><td>1293</td><td>3</td><td>7</td></tr><tr><td>58</td><td>1307</td><td>6</td><td>3</td></tr><tr><td>58</td><td>1322</td><td>3</td><td>6</td></tr><tr><td>58</td><td>1451</td><td>6</td><td>3</td></tr><tr><td>59</td><td>1080</td><td>1</td><td>0</td></tr><tr><td>59</td><td>1084</td><td>2</td><td>1</td></tr><tr><td>59</td><td>1170</td><td>5</td><td>2</td></tr><tr><td>59</td><td>1191</td><td>6</td><td>5</td></tr><tr><td>59</td><td>1239</td><td>2</td><td>6</td></tr><tr><td>59</td><td>1288</td><td>3</td><td>2</td></tr><tr><td>59</td><td>1573</td><td>1</td><td>3</td></tr><tr><td>60</td><td>676</td><td>2</td><td>0</td></tr><tr><td>61</td><td>701</td><td>2</td><td>0</td></tr><tr><td>61</td><td>756</td><td>6</td><td>2</td></tr><tr><td>61</td><td>1148</td><td>3</td><td>6</td></tr><tr><td>61</td><td>1218</td><td>2</td><td>3</td></tr><tr><td>61</td><td>1496</td><td>7</td><td>2</td></tr><tr><td>62</td><td>702</td><td>5</td><td>0</td></tr><tr><td>62</td><td>936</td><td>3</td><td>5</td></tr><tr><td>62</td><td>938</td><td>1</td><td>3</td></tr><tr><td>62</td><td>1081</td><td>7</td><td>1</td></tr><tr><td>62</td><td>1426</td><td>4</td><td>7</td></tr><tr><td>63</td><td>625</td><td>3</td><td>0</td></tr><tr><td>63</td><td>769</td><td>5</td><td>3</td></tr><tr><td>63</td><td>845</td><td>1</td><td>5</td></tr><tr><td>63</td><td>891</td><td>6</td><td>1</td></tr><tr><td>64</td><td>875</td><td>2</td><td>0</td></tr><tr><td>64</td><td>1122</td><td>4</td><td>2</td></tr><tr><td>64</td><td>1233</td><td>7</td><td>4</td></tr><tr><td>64</td><td>1446</td><td>6</td><td>7</td></tr><tr><td>64</td><td>1465</td><td>4</td><td>6</td></tr><tr><td>64</td><td>1582</td><td>1</td><td>4</td></tr><tr><td>65</td><td>650</td><td>6</td><td>0</td></tr><tr><td>66</td><td>736</td><td>3</td><td>0</td></tr><tr><td>66</td><td>950</td><td>3</td><td>3</td></tr><tr><td>66</td><td>1234</td><td>3</td><td>3</td></tr><tr><td>66</td><td>1264</td><td>4</td><td>3</td></tr><tr><td>67</td><td>638</td><td>5</td><td>0</td></tr><tr><td>67</td><td>645</td><td>6</td><td>5</td></tr><tr><td>67</td><td>874</td><td>6</td><td>6</td></tr><tr><td>67</td><td>1382</td><td>1</td><td>6</td></tr><tr><td>67</td><td>1580</td><td>5</td><td>1</td></tr><tr><td>67</td><td>1584</td><td>1</td><td>5</td></tr><tr><td>68</td><td>563</td><td>5</td><td>0</td></tr><tr><td>68</td><td>1027</td><td>7</td><td>5</td></tr><tr><td>68</td><td>1324</td><td>4</td><td>7</td></tr><tr><td>69</td><td>885</td><td>1</td><td>0</td></tr><tr><td>69</td><td>1055</td><td>5</td><td>1</td></tr><tr><td>69</td><td>1225</td><td>5</td><td>5</td></tr><tr><td>69</td><td>1246</td><td>7</td><td>5</td></tr><tr><td>70</td><td>585</td><td>5</td><td>0</td></tr><tr><td>70</td><td>704</td><td>3</td><td>5</td></tr><tr><td>70</td><td>814</td><td>3</td><td>3</td></tr><tr><td>70</td><td>860</td><td>2</td><td>3</td></tr><tr><td>70</td><td>1006</td><td>3</td><td>2</td></tr><tr><td>70</td><td>1092</td><td>3</td><td>3</td></tr><tr><td>70</td><td>1126</td><td>3</td><td>3</td></tr><tr><td>70</td><td>1325</td><td>7</td><td>3</td></tr><tr><td>70</td><td>1333</td><td>6</td><td>7</td></tr><tr><td>70</td><td>1365</td><td>3</td><td>6</td></tr><tr><td>70</td><td>1457</td><td>7</td><td>3</td></tr><tr><td>71</td><td>681</td><td>3</td><td>0</td></tr><tr><td>71</td><td>712</td><td>1</td><td>3</td></tr><tr><td>71</td><td>1009</td><td>1</td><td>1</td></tr><tr><td>72</td><td>902</td><td>5</td><td>0</td></tr><tr><td>72</td><td>961</td><td>6</td><td>5</td></tr><tr><td>72</td><td>1318</td><td>2</td><td>6</td></tr><tr><td>72</td><td>1396</td><td>3</td><td>2</td></tr><tr><td>73</td><td>714</td><td>7</td><td>0</td></tr><tr><td>73</td><td>1000</td><td>4</td><td>7</td></tr><tr><td>73</td><td>1159</td><td>5</td><td>4</td></tr><tr><td>73</td><td>1331</td><td>4</td><td>5</td></tr><tr><td>74</td><td>595</td><td>7</td><td>0</td></tr><tr><td>74</td><td>797</td><td>5</td><td>7</td></tr><tr><td>74</td><td>830</td><td>1</td><td>5</td></tr><tr><td>74</td><td>847</td><td>3</td><td>1</td></tr><tr><td>74</td><td>877</td><td>4</td><td>3</td></tr><tr><td>74</td><td>940</td><td>5</td><td>4</td></tr><tr><td>74</td><td>963</td><td>1</td><td>5</td></tr><tr><td>74</td><td>1093</td><td>6</td><td>1</td></tr><tr><td>74</td><td>1179</td><td>7</td><td>6</td></tr><tr><td>75</td><td>1013</td><td>5</td><td>0</td></tr><tr><td>75</td><td>1412</td><td>2</td><td>5</td></tr><tr><td>75</td><td>1458</td><td>1</td><td>2</td></tr><tr><td>76</td><td>683</td><td>7</td><td>0</td></tr><tr><td>76</td><td>976</td><td>2</td><td>7</td></tr><tr><td>76</td><td>1557</td><td>3</td><td>2</td></tr><tr><td>77</td><td>593</td><td>3</td><td>0</td></tr><tr><td>77</td><td>698</td><td>4</td><td>3</td></tr><tr><td>77</td><td>982</td><td>3</td><td>4</td></tr><tr><td>77</td><td>1104</td><td>1</td><td>3</td></tr><tr><td>77</td><td>1439</td><td>6</td><td>1</td></tr><tr><td>77</td><td>1461</td><td>4</td><td>6</td></tr><tr><td>78</td><td>568</td><td>1</td><td>0</td></tr><tr><td>78</td><td>646</td><td>3</td><td>1</td></tr><tr><td>78</td><td>700</td><td>5</td><td>3</td></tr><tr><td>78</td><td>1268</td><td>2</td><td>5</td></tr><tr><td>78</td><td>1281</td><td>3</td><td>2</td></tr><tr><td>78</td><td>1577</td><td>7</td><td>3</td></tr><tr><td>79</td><td>583</td><td>6</td><td>0</td></tr><tr><td>79</td><td>1054</td><td>1</td><td>6</td></tr><tr><td>79</td><td>1229</td><td>7</td><td>1</td></tr><tr><td>79</td><td>1345</td><td>3</td><td>7</td></tr><tr><td>79</td><td>1447</td><td>4</td><td>3</td></tr><tr><td>80</td><td>667</td><td>6</td><td>0</td></tr><tr><td>80</td><td>887</td><td>6</td><td>6</td></tr><tr><td>80</td><td>929</td><td>2</td><td>6</td></tr><tr><td>80</td><td>983</td><td>6</td><td>2</td></tr><tr><td>80</td><td>1071</td><td>4</td><td>6</td></tr><tr><td>80</td><td>1279</td><td>5</td><td>4</td></tr><tr><td>80</td><td>1367</td><td>3</td><td>5</td></tr><tr><td>81</td><td>1366</td><td>5</td><td>0</td></tr><tr><td>81</td><td>1443</td><td>7</td><td>5</td></tr><tr><td>81</td><td>1464</td><td>7</td><td>7</td></tr><tr><td>81</td><td>1506</td><td>3</td><td>7</td></tr><tr><td>81</td><td>1562</td><td>3</td><td>3</td></tr><tr><td>82</td><td>862</td><td>4</td><td>0</td></tr><tr><td>82</td><td>871</td><td>5</td><td>4</td></tr><tr><td>82</td><td>997</td><td>6</td><td>5</td></tr><tr><td>82</td><td>1277</td><td>5</td><td>6</td></tr><tr><td>82</td><td>1341</td><td>2</td><td>5</td></tr><tr><td>82</td><td>1406</td><td>1</td><td>2</td></tr><tr><td>83</td><td>572</td><td>7</td><td>0</td></tr><tr><td>83</td><td>674</td><td>4</td><td>7</td></tr><tr><td>83</td><td>798</td><td>4</td><td>4</td></tr><tr><td>83</td><td>869</td><td>6</td><td>4</td></tr><tr><td>83</td><td>878</td><td>6</td><td>6</td></tr><tr><td>83</td><td>995</td><td>5</td><td>6</td></tr><tr><td>83</td><td>1119</td><td>6</td><td>5</td></tr><tr><td>83</td><td>1379</td><td>7</td><td>6</td></tr><tr><td>84</td><td>819</td><td>2</td><td>0</td></tr><tr><td>84</td><td>954</td><td>5</td><td>2</td></tr><tr><td>84</td><td>1376</td><td>5</td><td>5</td></tr><tr><td>84</td><td>1384</td><td>7</td><td>5</td></tr><tr><td>85</td><td>647</td><td>3</td><td>0</td></tr><tr><td>85</td><td>1059</td><td>3</td><td>3</td></tr><tr><td>85</td><td>1320</td><td>1</td><td>3</td></tr><tr><td>85</td><td>1513</td><td>7</td><td>1</td></tr><tr><td>86</td><td>859</td><td>1</td><td>0</td></tr><tr><td>86</td><td>1057</td><td>5</td><td>1</td></tr><tr><td>86</td><td>1079</td><td>4</td><td>5</td></tr><tr><td>86</td><td>1108</td><td>1</td><td>4</td></tr><tr><td>86</td><td>1453</td><td>1</td><td>1</td></tr><tr><td>87</td><td>558</td><td>4</td><td>0</td></tr><tr><td>87</td><td>844</td><td>1</td><td>4</td></tr><tr><td>87</td><td>1103</td><td>3</td><td>1</td></tr><tr><td>87</td><td>1349</td><td>5</td><td>3</td></tr><tr><td>87</td><td>1456</td><td>5</td><td>5</td></tr><tr><td>88</td><td>757</td><td>7</td><td>0</td></tr><tr><td>88</td><td>866</td><td>2</td><td>7</td></tr><tr><td>88</td><td>1196</td><td>3</td><td>2</td></tr><tr><td>88</td><td>1273</td><td>7</td><td>3</td></tr><tr><td>88</td><td>1300</td><td>3</td><td>7</td></tr><tr><td>88</td><td>1359</td><td>2</td><td>3</td></tr><tr><td>88</td><td>1548</td><td>7</td><td>2</td></tr><tr><td>88</td><td>1575</td><td>6</td><td>7</td></tr><tr><td>89</td><td>817</td><td>3</td><td>0</td></tr><tr><td>89</td><td>1037</td><td>7</td><td>3</td></tr><tr><td>89</td><td>1101</td><td>5</td><td>7</td></tr><tr><td>89</td><td>1189</td><td>6</td><td>5</td></tr><tr><td>89</td><td>1253</td><td>2</td><td>6</td></tr><tr><td>89</td><td>1269</td><td>2</td><td>2</td></tr><tr><td>89</td><td>1399</td><td>2</td><td>2</td></tr><tr><td>89</td><td>1521</td><td>7</td><td>2</td></tr><tr><td>90</td><td>729</td><td>2</td><td>0</td></tr><tr><td>90</td><td>1174</td><td>7</td><td>2</td></tr><tr><td>90</td><td>1299</td><td>6</td><td>7</td></tr><tr><td>90</td><td>1405</td><td>5</td><td>6</td></tr><tr><td>91</td><td>636</td><td>6</td><td>0</td></tr><tr><td>91</td><td>732</td><td>4</td><td>6</td></tr><tr><td>91</td><td>1213</td><td>3</td><td>4</td></tr><tr><td>91</td><td>1397</td><td>4</td><td>3</td></tr><tr><td>92</td><td>809</td><td>3</td><td>0</td></tr><tr><td>92</td><td>841</td><td>6</td><td>3</td></tr><tr><td>92</td><td>942</td><td>6</td><td>6</td></tr><tr><td>92</td><td>1016</td><td>2</td><td>6</td></tr><tr><td>92</td><td>1527</td><td>2</td><td>2</td></tr><tr><td>92</td><td>1555</td><td>4</td><td>2</td></tr><tr><td>93</td><td>741</td><td>7</td><td>0</td></tr><tr><td>93</td><td>1169</td><td>4</td><td>7</td></tr><tr><td>93</td><td>1217</td><td>1</td><td>4</td></tr><tr><td>93</td><td>1355</td><td>2</td><td>1</td></tr><tr><td>93</td><td>1391</td><td>4</td><td>2</td></tr><tr><td>94</td><td>616</td><td>4</td><td>0</td></tr><tr><td>94</td><td>665</td><td>7</td><td>4</td></tr><tr><td>94</td><td>727</td><td>3</td><td>7</td></tr><tr><td>94</td><td>975</td><td>5</td><td>3</td></tr><tr><td>94</td><td>1241</td><td>7</td><td>5</td></tr><tr><td>94</td><td>1305</td><td>2</td><td>7</td></tr><tr><td>94</td><td>1312</td><td>3</td><td>2</td></tr><tr><td>94</td><td>1368</td><td>1</td><td>3</td></tr><tr><td>94</td><td>1518</td><td>2</td><td>1</td></tr><tr><td>94</td><td>1564</td><td>7</td><td>2</td></tr><tr><td>95</td><td>656</td><td>7</td><td>0</td></tr><tr><td>95</td><td>1048</td><td>3</td><td>7</td></tr><tr><td>95</td><td>1097</td><td>4</td><td>3</td></tr><tr><td>95</td><td>1543</td><td>7</td><td>4</td></tr><tr><td>96</td><td>607</td><td>4</td><td>0</td></tr><tr><td>96</td><td>623</td><td>7</td><td>4</td></tr><tr><td>96</td><td>671</td><td>4</td><td>7</td></tr><tr><td>96</td><td>780</td><td>1</td><td>4</td></tr><tr><td>96</td><td>1378</td><td>3</td><td>1</td></tr><tr><td>96</td><td>1438</td><td>2</td><td>3</td></tr><tr><td>96</td><td>1569</td><td>7</td><td>2</td></tr><tr><td>97</td><td>635</td><td>3</td><td>0</td></tr><tr><td>97</td><td>718</td><td>7</td><td>3</td></tr><tr><td>97</td><td>726</td><td>4</td><td>7</td></tr><tr><td>97</td><td>836</td><td>2</td><td>4</td></tr><tr><td>97</td><td>1395</td><td>1</td><td>2</td></tr><tr><td>97</td><td>1417</td><td>7</td><td>1</td></tr><tr><td>97</td><td>1528</td><td>2</td><td>7</td></tr><tr><td>98</td><td>631</td><td>6</td><td>0</td></tr><tr><td>98</td><td>884</td><td>5</td><td>6</td></tr><tr><td>98</td><td>1050</td><td>6</td><td>5</td></tr><tr><td>98</td><td>1402</td><td>2</td><td>6</td></tr><tr><td>99</td><td>632</td><td>1</td><td>0</td></tr><tr><td>99</td><td>691</td><td>5</td><td>1</td></tr><tr><td>99</td><td>1072</td><td>1</td><td>5</td></tr><tr><td>99</td><td>1408</td><td>1</td><td>1</td></tr><tr><td>99</td><td>1486</td><td>5</td><td>1</td></tr><tr><td>100</td><td>597</td><td>1</td><td>0</td></tr><tr><td>100</td><td>637</td><td>5</td><td>1</td></tr><tr><td>100</td><td>1315</td><td>5</td><td>5</td></tr><tr><td>100</td><td>1482</td><td>7</td><td>5</td></tr><tr><td>101</td><td>715</td><td>3</td><td>0</td></tr><tr><td>101</td><td>1332</td><td>6</td><td>3</td></tr><tr><td>101</td><td>1516</td><td>4</td><td>6</td></tr><tr><td>102</td><td>689</td><td>5</td><td>0</td></tr><tr><td>102</td><td>1343</td><td>2</td><td>5</td></tr><tr><td>103</td><td>972</td><td>2</td><td>0</td></tr><tr><td>103</td><td>992</td><td>7</td><td>2</td></tr><tr><td>103</td><td>1398</td><td>1</td><td>7</td></tr><tr><td>103</td><td>1485</td><td>4</td><td>1</td></tr><tr><td>104</td><td>837</td><td>4</td><td>0</td></tr><tr><td>104</td><td>1180</td><td>1</td><td>4</td></tr><tr><td>104</td><td>1522</td><td>2</td><td>1</td></tr><tr><td>104</td><td>1532</td><td>3</td><td>2</td></tr><tr><td>105</td><td>618</td><td>1</td><td>0</td></tr><tr><td>105</td><td>1525</td><td>5</td><td>1</td></tr><tr><td>106</td><td>610</td><td>3</td><td>0</td></tr><tr><td>106</td><td>708</td><td>7</td><td>3</td></tr><tr><td>106</td><td>1228</td><td>7</td><td>7</td></tr><tr><td>106</td><td>1271</td><td>5</td><td>7</td></tr><tr><td>106</td><td>1372</td><td>7</td><td>5</td></tr><tr><td>106</td><td>1510</td><td>6</td><td>7</td></tr><tr><td>107</td><td>586</td><td>6</td><td>0</td></tr><tr><td>107</td><td>1250</td><td>4</td><td>6</td></tr><tr><td>107</td><td>1354</td><td>1</td><td>4</td></tr><tr><td>107</td><td>1452</td><td>6</td><td>1</td></tr><tr><td>107</td><td>1494</td><td>2</td><td>6</td></tr><tr><td>108</td><td>1102</td><td>1</td><td>0</td></tr><tr><td>108</td><td>1392</td><td>6</td><td>1</td></tr><tr><td>109</td><td>614</td><td>4</td><td>0</td></tr><tr><td>109</td><td>621</td><td>7</td><td>4</td></tr><tr><td>109</td><td>654</td><td>5</td><td>7</td></tr><tr><td>109</td><td>810</td><td>2</td><td>5</td></tr><tr><td>109</td><td>1083</td><td>1</td><td>2</td></tr><tr><td>109</td><td>1298</td><td>4</td><td>1</td></tr><tr><td>109</td><td>1560</td><td>1</td><td>4</td></tr><tr><td>110</td><td>685</td><td>1</td><td>0</td></tr><tr><td>110</td><td>931</td><td>5</td><td>1</td></tr><tr><td>110</td><td>964</td><td>6</td><td>5</td></tr><tr><td>110</td><td>1041</td><td>3</td><td>6</td></tr><tr><td>110</td><td>1109</td><td>5</td><td>3</td></tr><tr><td>110</td><td>1162</td><td>2</td><td>5</td></tr><tr><td>110</td><td>1424</td><td>1</td><td>2</td></tr><tr><td>110</td><td>1489</td><td>6</td><td>1</td></tr><tr><td>111</td><td>605</td><td>7</td><td>0</td></tr><tr><td>111</td><td>786</td><td>4</td><td>7</td></tr><tr><td>111</td><td>959</td><td>7</td><td>4</td></tr><tr><td>111</td><td>1296</td><td>3</td><td>7</td></tr><tr><td>111</td><td>1353</td><td>5</td><td>3</td></tr><tr><td>112</td><td>776</td><td>4</td><td>0</td></tr><tr><td>112</td><td>801</td><td>5</td><td>4</td></tr><tr><td>112</td><td>921</td><td>1</td><td>5</td></tr><tr><td>112</td><td>1124</td><td>6</td><td>1</td></tr><tr><td>112</td><td>1530</td><td>6</td><td>6</td></tr><tr><td>113</td><td>1029</td><td>5</td><td>0</td></tr><tr><td>113</td><td>1085</td><td>4</td><td>5</td></tr><tr><td>113</td><td>1263</td><td>1</td><td>4</td></tr><tr><td>113</td><td>1495</td><td>7</td><td>1</td></tr><tr><td>113</td><td>1499</td><td>2</td><td>7</td></tr><tr><td>114</td><td>737</td><td>2</td><td>0</td></tr><tr><td>114</td><td>827</td><td>7</td><td>2</td></tr><tr><td>114</td><td>966</td><td>6</td><td>7</td></tr><tr><td>114</td><td>1540</td><td>3</td><td>6</td></tr><tr><td>115</td><td>596</td><td>7</td><td>0</td></tr><tr><td>115</td><td>943</td><td>7</td><td>7</td></tr><tr><td>115</td><td>1121</td><td>7</td><td>7</td></tr><tr><td>115</td><td>1154</td><td>4</td><td>7</td></tr><tr><td>115</td><td>1352</td><td>3</td><td>4</td></tr><tr><td>115</td><td>1554</td><td>3</td><td>3</td></tr><tr><td>115</td><td>1566</td><td>1</td><td>3</td></tr><tr><td>116</td><td>1455</td><td>2</td><td>0</td></tr><tr><td>116</td><td>1501</td><td>4</td><td>2</td></tr><tr><td>117</td><td>612</td><td>2</td><td>0</td></tr><tr><td>117</td><td>617</td><td>3</td><td>2</td></tr><tr><td>117</td><td>953</td><td>5</td><td>3</td></tr><tr><td>117</td><td>962</td><td>4</td><td>5</td></tr><tr><td>117</td><td>1002</td><td>1</td><td>4</td></tr><tr><td>117</td><td>1192</td><td>2</td><td>1</td></tr><tr><td>117</td><td>1247</td><td>3</td><td>2</td></tr><tr><td>117</td><td>1468</td><td>7</td><td>3</td></tr><tr><td>118</td><td>716</td><td>1</td><td>0</td></tr><tr><td>118</td><td>864</td><td>6</td><td>1</td></tr><tr><td>118</td><td>994</td><td>7</td><td>6</td></tr><tr><td>118</td><td>996</td><td>3</td><td>7</td></tr><tr><td>118</td><td>1374</td><td>5</td><td>3</td></tr><tr><td>118</td><td>1472</td><td>6</td><td>5</td></tr><tr><td>118</td><td>1481</td><td>3</td><td>6</td></tr><tr><td>119</td><td>706</td><td>2</td><td>0</td></tr><tr><td>119</td><td>722</td><td>1</td><td>2</td></tr><tr><td>119</td><td>1026</td><td>3</td><td>1</td></tr><tr><td>119</td><td>1413</td><td>3</td><td>3</td></tr><tr><td>119</td><td>1488</td><td>3</td><td>3</td></tr><tr><td>120</td><td>762</td><td>3</td><td>0</td></tr><tr><td>120</td><td>998</td><td>3</td><td>3</td></tr><tr><td>120</td><td>1089</td><td>6</td><td>3</td></tr><tr><td>120</td><td>1339</td><td>6</td><td>6</td></tr><tr><td>120</td><td>1483</td><td>1</td><td>6</td></tr><tr><td>120</td><td>1493</td><td>7</td><td>1</td></tr><tr><td>121</td><td>735</td><td>6</td><td>0</td></tr><tr><td>121</td><td>739</td><td>6</td><td>6</td></tr><tr><td>121</td><td>858</td><td>5</td><td>6</td></tr><tr><td>121</td><td>1049</td><td>3</td><td>5</td></tr><tr><td>121</td><td>1128</td><td>4</td><td>3</td></tr><tr><td>121</td><td>1215</td><td>4</td><td>4</td></tr><tr><td>121</td><td>1373</td><td>5</td><td>4</td></tr><tr><td>121</td><td>1393</td><td>6</td><td>5</td></tr><tr><td>122</td><td>1007</td><td>2</td><td>0</td></tr><tr><td>122</td><td>1036</td><td>2</td><td>2</td></tr><tr><td>122</td><td>1062</td><td>3</td><td>2</td></tr><tr><td>122</td><td>1166</td><td>4</td><td>3</td></tr><tr><td>122</td><td>1209</td><td>1</td><td>4</td></tr><tr><td>122</td><td>1245</td><td>2</td><td>1</td></tr><tr><td>122</td><td>1337</td><td>2</td><td>2</td></tr><tr><td>122</td><td>1385</td><td>5</td><td>2</td></tr><tr><td>122</td><td>1440</td><td>3</td><td>5</td></tr><tr><td>123</td><td>587</td><td>7</td><td>0</td></tr><tr><td>123</td><td>923</td><td>4</td><td>7</td></tr><tr><td>123</td><td>967</td><td>5</td><td>4</td></tr><tr><td>123</td><td>1223</td><td>1</td><td>5</td></tr><tr><td>123</td><td>1282</td><td>6</td><td>1</td></tr><tr><td>124</td><td>861</td><td>1</td><td>0</td></tr><tr><td>124</td><td>1210</td><td>4</td><td>1</td></tr><tr><td>124</td><td>1330</td><td>7</td><td>4</td></tr><tr><td>124</td><td>1403</td><td>6</td><td>7</td></tr><tr><td>124</td><td>1419</td><td>3</td><td>6</td></tr><tr><td>124</td><td>1531</td><td>6</td><td>3</td></tr><tr><td>125</td><td>576</td><td>1</td><td>0</td></tr><tr><td>126</td><td>754</td><td>4</td><td>0</td></tr><tr><td>126</td><td>806</td><td>6</td><td>4</td></tr><tr><td>126</td><td>1134</td><td>1</td><td>6</td></tr><tr><td>126</td><td>1364</td><td>6</td><td>1</td></tr><tr><td>126</td><td>1428</td><td>7</td><td>6</td></tr><tr><td>126</td><td>1500</td><td>4</td><td>7</td></tr><tr><td>127</td><td>643</td><td>2</td><td>0</td></tr><tr><td>127</td><td>853</td><td>5</td><td>2</td></tr><tr><td>127</td><td>879</td><td>2</td><td>5</td></tr><tr><td>127</td><td>1034</td><td>6</td><td>2</td></tr><tr><td>127</td><td>1226</td><td>5</td><td>6</td></tr><tr><td>127</td><td>1286</td><td>1</td><td>5</td></tr><tr><td>127</td><td>1579</td><td>5</td><td>1</td></tr><tr><td>128</td><td>717</td><td>2</td><td>0</td></tr><tr><td>128</td><td>815</td><td>1</td><td>2</td></tr><tr><td>128</td><td>1290</td><td>1</td><td>1</td></tr><tr><td>128</td><td>1574</td><td>1</td><td>1</td></tr><tr><td>128</td><td>1583</td><td>4</td><td>1</td></tr><tr><td>129</td><td>723</td><td>7</td><td>0</td></tr><tr><td>129</td><td>1360</td><td>6</td><td>7</td></tr><tr><td>129</td><td>1445</td><td>7</td><td>6</td></tr><tr><td>129</td><td>1509</td><td>6</td><td>7</td></tr><tr><td>130</td><td>580</td><td>3</td><td>0</td></tr><tr><td>130</td><td>613</td><td>3</td><td>3</td></tr><tr><td>130</td><td>779</td><td>6</td><td>3</td></tr><tr><td>130</td><td>910</td><td>2</td><td>6</td></tr><tr><td>130</td><td>1040</td><td>1</td><td>2</td></tr><tr><td>130</td><td>1475</td><td>7</td><td>1</td></tr><tr><td>131</td><td>559</td><td>2</td><td>0</td></tr><tr><td>131</td><td>655</td><td>1</td><td>2</td></tr><tr><td>131</td><td>760</td><td>4</td><td>1</td></tr><tr><td>131</td><td>881</td><td>6</td><td>4</td></tr><tr><td>131</td><td>1474</td><td>5</td><td>6</td></tr><tr><td>132</td><td>619</td><td>7</td><td>0</td></tr><tr><td>132</td><td>999</td><td>6</td><td>7</td></tr><tr><td>132</td><td>1090</td><td>7</td><td>6</td></tr><tr><td>132</td><td>1111</td><td>3</td><td>7</td></tr><tr><td>132</td><td>1301</td><td>2</td><td>3</td></tr><tr><td>132</td><td>1519</td><td>2</td><td>2</td></tr><tr><td>133</td><td>909</td><td>4</td><td>0</td></tr><tr><td>133</td><td>988</td><td>3</td><td>4</td></tr><tr><td>133</td><td>1149</td><td>7</td><td>3</td></tr><tr><td>133</td><td>1306</td><td>3</td><td>7</td></tr><tr><td>133</td><td>1363</td><td>5</td><td>3</td></tr><tr><td>133</td><td>1409</td><td>1</td><td>5</td></tr><tr><td>134</td><td>1004</td><td>5</td><td>0</td></tr><tr><td>134</td><td>1024</td><td>1</td><td>5</td></tr><tr><td>134</td><td>1045</td><td>2</td><td>1</td></tr><tr><td>134</td><td>1178</td><td>7</td><td>2</td></tr><tr><td>134</td><td>1219</td><td>6</td><td>7</td></tr><tr><td>134</td><td>1535</td><td>7</td><td>6</td></tr><tr><td>135</td><td>724</td><td>6</td><td>0</td></tr><tr><td>135</td><td>849</td><td>7</td><td>6</td></tr><tr><td>135</td><td>1289</td><td>3</td><td>7</td></tr><tr><td>136</td><td>584</td><td>2</td><td>0</td></tr><tr><td>136</td><td>661</td><td>5</td><td>2</td></tr><tr><td>136</td><td>1046</td><td>4</td><td>5</td></tr><tr><td>137</td><td>582</td><td>3</td><td>0</td></tr><tr><td>137</td><td>649</td><td>5</td><td>3</td></tr><tr><td>137</td><td>657</td><td>6</td><td>5</td></tr><tr><td>137</td><td>1014</td><td>1</td><td>6</td></tr><tr><td>137</td><td>1201</td><td>6</td><td>1</td></tr><tr><td>137</td><td>1280</td><td>3</td><td>6</td></tr><tr><td>138</td><td>768</td><td>6</td><td>0</td></tr><tr><td>138</td><td>796</td><td>4</td><td>6</td></tr><tr><td>138</td><td>1256</td><td>4</td><td>4</td></tr><tr><td>138</td><td>1283</td><td>2</td><td>4</td></tr><tr><td>138</td><td>1294</td><td>5</td><td>2</td></tr><tr><td>138</td><td>1358</td><td>7</td><td>5</td></tr><tr><td>138</td><td>1370</td><td>5</td><td>7</td></tr><tr><td>139</td><td>579</td><td>2</td><td>0</td></tr><tr><td>139</td><td>745</td><td>1</td><td>2</td></tr><tr><td>139</td><td>751</td><td>4</td><td>1</td></tr><tr><td>139</td><td>1042</td><td>2</td><td>4</td></tr><tr><td>139</td><td>1064</td><td>6</td><td>2</td></tr><tr><td>139</td><td>1433</td><td>6</td><td>6</td></tr><tr><td>139</td><td>1450</td><td>7</td><td>6</td></tr><tr><td>140</td><td>733</td><td>1</td><td>0</td></tr><tr><td>140</td><td>915</td><td>2</td><td>1</td></tr><tr><td>140</td><td>1098</td><td>2</td><td>2</td></tr><tr><td>140</td><td>1156</td><td>3</td><td>2</td></tr><tr><td>140</td><td>1259</td><td>7</td><td>3</td></tr><tr><td>140</td><td>1357</td><td>4</td><td>7</td></tr><tr><td>140</td><td>1361</td><td>3</td><td>4</td></tr><tr><td>140</td><td>1371</td><td>1</td><td>3</td></tr><tr><td>141</td><td>565</td><td>6</td><td>0</td></tr><tr><td>141</td><td>761</td><td>3</td><td>6</td></tr><tr><td>141</td><td>784</td><td>7</td><td>3</td></tr><tr><td>141</td><td>908</td><td>2</td><td>7</td></tr><tr><td>141</td><td>1254</td><td>4</td><td>2</td></tr><tr><td>141</td><td>1401</td><td>6</td><td>4</td></tr><tr><td>142</td><td>1369</td><td>6</td><td>0</td></tr><tr><td>142</td><td>1545</td><td>3</td><td>6</td></tr><tr><td>143</td><td>980</td><td>3</td><td>0</td></tr><tr><td>143</td><td>1155</td><td>7</td><td>3</td></tr><tr><td>143</td><td>1193</td><td>6</td><td>7</td></tr><tr><td>143</td><td>1222</td><td>2</td><td>6</td></tr><tr><td>143</td><td>1313</td><td>4</td><td>2</td></tr><tr><td>143</td><td>1394</td><td>3</td><td>4</td></tr><tr><td>143</td><td>1448</td><td>6</td><td>3</td></tr><tr><td>144</td><td>581</td><td>4</td><td>0</td></tr><tr><td>144</td><td>1087</td><td>2</td><td>4</td></tr><tr><td>144</td><td>1199</td><td>7</td><td>2</td></tr><tr><td>144</td><td>1297</td><td>1</td><td>7</td></tr><tr><td>144</td><td>1572</td><td>2</td><td>1</td></tr><tr><td>145</td><td>703</td><td>4</td><td>0</td></tr><tr><td>145</td><td>1077</td><td>1</td><td>4</td></tr><tr><td>145</td><td>1120</td><td>1</td><td>1</td></tr><tr><td>145</td><td>1145</td><td>4</td><td>1</td></tr><tr><td>145</td><td>1338</td><td>2</td><td>4</td></tr><tr><td>145</td><td>1471</td><td>1</td><td>2</td></tr><tr><td>146</td><td>664</td><td>3</td><td>0</td></tr><tr><td>146</td><td>789</td><td>7</td><td>3</td></tr><tr><td>146</td><td>804</td><td>7</td><td>7</td></tr><tr><td>146</td><td>890</td><td>3</td><td>7</td></tr><tr><td>146</td><td>1032</td><td>5</td><td>3</td></tr><tr><td>146</td><td>1479</td><td>6</td><td>5</td></tr><tr><td>147</td><td>771</td><td>4</td><td>0</td></tr><tr><td>148</td><td>678</td><td>4</td><td>0</td></tr><tr><td>148</td><td>765</td><td>3</td><td>4</td></tr><tr><td>148</td><td>783</td><td>7</td><td>3</td></tr><tr><td>148</td><td>808</td><td>2</td><td>7</td></tr><tr><td>148</td><td>812</td><td>6</td><td>2</td></tr><tr><td>148</td><td>1578</td><td>7</td><td>6</td></tr><tr><td>149</td><td>591</td><td>1</td><td>0</td></tr><tr><td>149</td><td>652</td><td>1</td><td>1</td></tr><tr><td>149</td><td>833</td><td>2</td><td>1</td></tr><tr><td>149</td><td>834</td><td>5</td><td>2</td></tr><tr><td>149</td><td>843</td><td>4</td><td>5</td></tr><tr><td>149</td><td>1146</td><td>6</td><td>4</td></tr><tr><td>149</td><td>1514</td><td>5</td><td>6</td></tr><tr><td>150</td><td>641</td><td>3</td><td>0</td></tr><tr><td>150</td><td>1100</td><td>5</td><td>3</td></tr><tr><td>150</td><td>1105</td><td>1</td><td>5</td></tr><tr><td>150</td><td>1177</td><td>1</td><td>1</td></tr><tr><td>150</td><td>1203</td><td>4</td><td>1</td></tr><tr><td>150</td><td>1432</td><td>3</td><td>4</td></tr><tr><td>151</td><td>893</td><td>3</td><td>0</td></tr><tr><td>151</td><td>1058</td><td>3</td><td>3</td></tr><tr><td>151</td><td>1115</td><td>3</td><td>3</td></tr><tr><td>152</td><td>730</td><td>2</td><td>0</td></tr><tr><td>152</td><td>1160</td><td>7</td><td>2</td></tr><tr><td>152</td><td>1197</td><td>6</td><td>7</td></tr><tr><td>152</td><td>1558</td><td>2</td><td>6</td></tr><tr><td>153</td><td>594</td><td>3</td><td>0</td></tr><tr><td>153</td><td>969</td><td>6</td><td>3</td></tr><tr><td>153</td><td>1460</td><td>3</td><td>6</td></tr><tr><td>153</td><td>1470</td><td>5</td><td>3</td></tr><tr><td>153</td><td>1507</td><td>3</td><td>5</td></tr><tr><td>154</td><td>968</td><td>1</td><td>0</td></tr><tr><td>154</td><td>1061</td><td>7</td><td>1</td></tr><tr><td>154</td><td>1168</td><td>6</td><td>7</td></tr><tr><td>154</td><td>1262</td><td>1</td><td>6</td></tr><tr><td>154</td><td>1539</td><td>2</td><td>1</td></tr><tr><td>155</td><td>575</td><td>1</td><td>0</td></tr><tr><td>155</td><td>577</td><td>3</td><td>1</td></tr><tr><td>155</td><td>1112</td><td>4</td><td>3</td></tr><tr><td>155</td><td>1310</td><td>1</td><td>4</td></tr><tr><td>155</td><td>1541</td><td>1</td><td>1</td></tr><tr><td>156</td><td>588</td><td>7</td><td>0</td></tr><tr><td>156</td><td>692</td><td>6</td><td>7</td></tr><tr><td>156</td><td>907</td><td>3</td><td>6</td></tr><tr><td>156</td><td>956</td><td>6</td><td>3</td></tr><tr><td>156</td><td>1462</td><td>7</td><td>6</td></tr><tr><td>156</td><td>1490</td><td>1</td><td>7</td></tr><tr><td>156</td><td>1561</td><td>4</td><td>1</td></tr><tr><td>157</td><td>648</td><td>4</td><td>0</td></tr><tr><td>157</td><td>1025</td><td>3</td><td>4</td></tr><tr><td>157</td><td>1047</td><td>4</td><td>3</td></tr><tr><td>157</td><td>1240</td><td>7</td><td>4</td></tr><tr><td>157</td><td>1551</td><td>3</td><td>7</td></tr><tr><td>158</td><td>825</td><td>4</td><td>0</td></tr><tr><td>158</td><td>840</td><td>4</td><td>4</td></tr><tr><td>158</td><td>1117</td><td>3</td><td>4</td></tr><tr><td>160</td><td>720</td><td>2</td><td>0</td></tr><tr><td>160</td><td>922</td><td>2</td><td>2</td></tr><tr><td>160</td><td>927</td><td>4</td><td>2</td></tr><tr><td>160</td><td>933</td><td>4</td><td>4</td></tr><tr><td>160</td><td>1565</td><td>3</td><td>4</td></tr><tr><td>161</td><td>639</td><td>4</td><td>0</td></tr><tr><td>161</td><td>653</td><td>7</td><td>4</td></tr><tr><td>161</td><td>911</td><td>4</td><td>7</td></tr><tr><td>161</td><td>1068</td><td>6</td><td>4</td></tr><tr><td>161</td><td>1190</td><td>7</td><td>6</td></tr><tr><td>161</td><td>1571</td><td>4</td><td>7</td></tr><tr><td>162</td><td>599</td><td>4</td><td>0</td></tr><tr><td>162</td><td>1205</td><td>6</td><td>4</td></tr><tr><td>162</td><td>1400</td><td>1</td><td>6</td></tr><tr><td>163</td><td>630</td><td>2</td><td>0</td></tr><tr><td>163</td><td>782</td><td>3</td><td>2</td></tr><tr><td>163</td><td>941</td><td>1</td><td>3</td></tr><tr><td>163</td><td>1075</td><td>4</td><td>1</td></tr><tr><td>163</td><td>1107</td><td>3</td><td>4</td></tr><tr><td>163</td><td>1265</td><td>5</td><td>3</td></tr><tr><td>163</td><td>1487</td><td>3</td><td>5</td></tr><tr><td>164</td><td>570</td><td>7</td><td>0</td></tr><tr><td>164</td><td>742</td><td>6</td><td>7</td></tr><tr><td>164</td><td>1010</td><td>2</td><td>6</td></tr><tr><td>164</td><td>1284</td><td>4</td><td>2</td></tr><tr><td>164</td><td>1292</td><td>2</td><td>4</td></tr><tr><td>165</td><td>640</td><td>3</td><td>0</td></tr><tr><td>165</td><td>857</td><td>5</td><td>3</td></tr><tr><td>165</td><td>892</td><td>3</td><td>5</td></tr><tr><td>165</td><td>897</td><td>6</td><td>3</td></tr><tr><td>165</td><td>900</td><td>6</td><td>6</td></tr><tr><td>165</td><td>1141</td><td>1</td><td>6</td></tr><tr><td>165</td><td>1375</td><td>4</td><td>1</td></tr><tr><td>166</td><td>644</td><td>7</td><td>0</td></tr><tr><td>166</td><td>781</td><td>7</td><td>7</td></tr><tr><td>166</td><td>1526</td><td>2</td><td>7</td></tr><tr><td>167</td><td>854</td><td>7</td><td>0</td></tr><tr><td>167</td><td>1414</td><td>3</td><td>7</td></tr><tr><td>168</td><td>792</td><td>3</td><td>0</td></tr><tr><td>168</td><td>794</td><td>4</td><td>3</td></tr><tr><td>168</td><td>930</td><td>3</td><td>4</td></tr><tr><td>168</td><td>1249</td><td>4</td><td>3</td></tr><tr><td>168</td><td>1266</td><td>4</td><td>4</td></tr><tr><td>169</td><td>573</td><td>5</td><td>0</td></tr><tr><td>169</td><td>659</td><td>6</td><td>5</td></tr><tr><td>169</td><td>746</td><td>7</td><td>6</td></tr><tr><td>169</td><td>974</td><td>1</td><td>7</td></tr><tr><td>169</td><td>1356</td><td>4</td><td>1</td></tr><tr><td>169</td><td>1427</td><td>1</td><td>4</td></tr><tr><td>170</td><td>567</td><td>7</td><td>0</td></tr><tr><td>170</td><td>944</td><td>4</td><td>7</td></tr><tr><td>170</td><td>1194</td><td>4</td><td>4</td></tr><tr><td>170</td><td>1267</td><td>7</td><td>4</td></tr><tr><td>170</td><td>1342</td><td>6</td><td>7</td></tr><tr><td>171</td><td>574</td><td>2</td><td>0</td></tr><tr><td>171</td><td>981</td><td>4</td><td>2</td></tr><tr><td>171</td><td>1181</td><td>6</td><td>4</td></tr><tr><td>171</td><td>1329</td><td>5</td><td>6</td></tr><tr><td>171</td><td>1567</td><td>6</td><td>5</td></tr><tr><td>172</td><td>709</td><td>5</td><td>0</td></tr><tr><td>172</td><td>749</td><td>6</td><td>5</td></tr><tr><td>172</td><td>839</td><td>5</td><td>6</td></tr><tr><td>172</td><td>984</td><td>4</td><td>5</td></tr><tr><td>172</td><td>1142</td><td>4</td><td>4</td></tr><tr><td>172</td><td>1171</td><td>5</td><td>4</td></tr><tr><td>172</td><td>1336</td><td>5</td><td>5</td></tr><tr><td>172</td><td>1421</td><td>5</td><td>5</td></tr><tr><td>172</td><td>1491</td><td>2</td><td>5</td></tr><tr><td>173</td><td>669</td><td>7</td><td>0</td></tr><tr><td>173</td><td>913</td><td>1</td><td>7</td></tr><tr><td>173</td><td>1350</td><td>3</td><td>1</td></tr><tr><td>173</td><td>1429</td><td>4</td><td>3</td></tr><tr><td>174</td><td>682</td><td>3</td><td>0</td></tr><tr><td>174</td><td>917</td><td>2</td><td>3</td></tr><tr><td>174</td><td>1015</td><td>5</td><td>2</td></tr><tr><td>174</td><td>1276</td><td>1</td><td>5</td></tr><tr><td>175</td><td>799</td><td>4</td><td>0</td></tr><tr><td>175</td><td>867</td><td>6</td><td>4</td></tr><tr><td>175</td><td>1094</td><td>5</td><td>6</td></tr><tr><td>175</td><td>1133</td><td>2</td><td>5</td></tr><tr><td>175</td><td>1407</td><td>7</td><td>2</td></tr><tr><td>176</td><td>592</td><td>5</td><td>0</td></tr><tr><td>176</td><td>1143</td><td>6</td><td>5</td></tr><tr><td>176</td><td>1278</td><td>6</td><td>6</td></tr><tr><td>176</td><td>1383</td><td>4</td><td>6</td></tr><tr><td>176</td><td>1511</td><td>2</td><td>4</td></tr><tr><td>176</td><td>1570</td><td>3</td><td>2</td></tr><tr><td>177</td><td>785</td><td>3</td><td>0</td></tr><tr><td>177</td><td>831</td><td>7</td><td>3</td></tr><tr><td>177</td><td>1176</td><td>3</td><td>7</td></tr><tr><td>177</td><td>1503</td><td>3</td><td>3</td></tr><tr><td>178</td><td>816</td><td>4</td><td>0</td></tr><tr><td>178</td><td>991</td><td>7</td><td>4</td></tr><tr><td>178</td><td>1211</td><td>3</td><td>7</td></tr><tr><td>178</td><td>1242</td><td>1</td><td>3</td></tr><tr><td>179</td><td>662</td><td>2</td><td>0</td></tr><tr><td>179</td><td>1021</td><td>1</td><td>2</td></tr><tr><td>179</td><td>1497</td><td>1</td><td>1</td></tr><tr><td>180</td><td>905</td><td>5</td><td>0</td></tr><tr><td>180</td><td>1559</td><td>3</td><td>5</td></tr><tr><td>180</td><td>1563</td><td>6</td><td>3</td></tr><tr><td>181</td><td>677</td><td>4</td><td>0</td></tr><tr><td>181</td><td>731</td><td>6</td><td>4</td></tr><tr><td>181</td><td>937</td><td>3</td><td>6</td></tr><tr><td>181</td><td>958</td><td>5</td><td>3</td></tr><tr><td>181</td><td>1022</td><td>1</td><td>5</td></tr><tr><td>181</td><td>1346</td><td>6</td><td>1</td></tr><tr><td>182</td><td>571</td><td>2</td><td>0</td></tr><tr><td>182</td><td>740</td><td>3</td><td>2</td></tr><tr><td>182</td><td>928</td><td>2</td><td>3</td></tr><tr><td>182</td><td>1008</td><td>6</td><td>2</td></tr><tr><td>182</td><td>1188</td><td>1</td><td>6</td></tr><tr><td>182</td><td>1230</td><td>7</td><td>1</td></tr><tr><td>182</td><td>1231</td><td>4</td><td>7</td></tr><tr><td>182</td><td>1308</td><td>1</td><td>4</td></tr><tr><td>182</td><td>1317</td><td>3</td><td>1</td></tr><tr><td>182</td><td>1326</td><td>4</td><td>3</td></tr><tr><td>182</td><td>1410</td><td>4</td><td>4</td></tr><tr><td>182</td><td>1422</td><td>3</td><td>4</td></tr><tr><td>183</td><td>939</td><td>4</td><td>0</td></tr><tr><td>183</td><td>1067</td><td>7</td><td>4</td></tr><tr><td>183</td><td>1147</td><td>4</td><td>7</td></tr><tr><td>183</td><td>1437</td><td>4</td><td>4</td></tr><tr><td>184</td><td>608</td><td>2</td><td>0</td></tr><tr><td>184</td><td>684</td><td>3</td><td>2</td></tr><tr><td>184</td><td>880</td><td>4</td><td>3</td></tr><tr><td>184</td><td>1251</td><td>4</td><td>4</td></tr><tr><td>185</td><td>578</td><td>6</td><td>0</td></tr><tr><td>185</td><td>672</td><td>3</td><td>6</td></tr><tr><td>185</td><td>679</td><td>5</td><td>3</td></tr><tr><td>185</td><td>693</td><td>2</td><td>5</td></tr><tr><td>185</td><td>711</td><td>3</td><td>2</td></tr><tr><td>185</td><td>863</td><td>4</td><td>3</td></tr><tr><td>185</td><td>898</td><td>4</td><td>4</td></tr><tr><td>185</td><td>925</td><td>6</td><td>4</td></tr><tr><td>185</td><td>1125</td><td>3</td><td>6</td></tr><tr><td>185</td><td>1183</td><td>5</td><td>3</td></tr><tr><td>185</td><td>1441</td><td>7</td><td>5</td></tr><tr><td>185</td><td>1463</td><td>7</td><td>7</td></tr><tr><td>186</td><td>615</td><td>3</td><td>0</td></tr><tr><td>186</td><td>1153</td><td>3</td><td>3</td></tr><tr><td>186</td><td>1248</td><td>2</td><td>3</td></tr><tr><td>186</td><td>1467</td><td>3</td><td>2</td></tr><tr><td>187</td><td>633</td><td>6</td><td>0</td></tr><tr><td>187</td><td>695</td><td>6</td><td>6</td></tr><tr><td>187</td><td>743</td><td>2</td><td>6</td></tr><tr><td>187</td><td>766</td><td>1</td><td>2</td></tr><tr><td>187</td><td>868</td><td>4</td><td>1</td></tr><tr><td>187</td><td>957</td><td>4</td><td>4</td></tr><tr><td>187</td><td>1404</td><td>2</td><td>4</td></tr><tr><td>188</td><td>690</td><td>4</td><td>0</td></tr><tr><td>188</td><td>710</td><td>7</td><td>4</td></tr><tr><td>188</td><td>747</td><td>3</td><td>7</td></tr><tr><td>188</td><td>912</td><td>1</td><td>3</td></tr><tr><td>188</td><td>1030</td><td>4</td><td>1</td></tr><tr><td>188</td><td>1390</td><td>5</td><td>4</td></tr><tr><td>189</td><td>699</td><td>2</td><td>0</td></tr><tr><td>189</td><td>753</td><td>1</td><td>2</td></tr><tr><td>189</td><td>1204</td><td>2</td><td>1</td></tr><tr><td>189</td><td>1449</td><td>2</td><td>2</td></tr><tr><td>189</td><td>1576</td><td>3</td><td>2</td></tr><tr><td>190</td><td>600</td><td>7</td><td>0</td></tr><tr><td>190</td><td>774</td><td>5</td><td>7</td></tr><tr><td>190</td><td>989</td><td>1</td><td>5</td></tr><tr><td>190</td><td>1017</td><td>1</td><td>1</td></tr><tr><td>190</td><td>1517</td><td>5</td><td>1</td></tr><tr><td>191</td><td>1039</td><td>6</td><td>0</td></tr><tr><td>191</td><td>1302</td><td>1</td><td>6</td></tr><tr><td>191</td><td>1323</td><td>7</td><td>1</td></tr><tr><td>191</td><td>1502</td><td>2</td><td>7</td></tr><tr><td>191</td><td>1508</td><td>7</td><td>2</td></tr><tr><td>192</td><td>680</td><td>4</td><td>0</td></tr><tr><td>192</td><td>903</td><td>7</td><td>4</td></tr><tr><td>193</td><td>634</td><td>6</td><td>0</td></tr><tr><td>193</td><td>675</td><td>2</td><td>6</td></tr><tr><td>193</td><td>835</td><td>2</td><td>2</td></tr><tr><td>193</td><td>926</td><td>1</td><td>2</td></tr><tr><td>193</td><td>977</td><td>2</td><td>1</td></tr><tr><td>193</td><td>1043</td><td>6</td><td>2</td></tr><tr><td>193</td><td>1238</td><td>6</td><td>6</td></tr><tr><td>194</td><td>1095</td><td>5</td><td>0</td></tr><tr><td>195</td><td>721</td><td>4</td><td>0</td></tr><tr><td>195</td><td>842</td><td>4</td><td>4</td></tr><tr><td>195</td><td>1074</td><td>7</td><td>4</td></tr><tr><td>195</td><td>1184</td><td>5</td><td>7</td></tr><tr><td>195</td><td>1473</td><td>7</td><td>5</td></tr><tr><td>195</td><td>1484</td><td>1</td><td>7</td></tr><tr><td>196</td><td>673</td><td>5</td><td>0</td></tr><tr><td>196</td><td>952</td><td>3</td><td>5</td></tr><tr><td>196</td><td>1314</td><td>5</td><td>3</td></tr><tr><td>196</td><td>1340</td><td>5</td><td>5</td></tr><tr><td>197</td><td>764</td><td>7</td><td>0</td></tr><tr><td>197</td><td>993</td><td>7</td><td>7</td></tr><tr><td>197</td><td>1091</td><td>7</td><td>7</td></tr><tr><td>197</td><td>1172</td><td>7</td><td>7</td></tr><tr><td>197</td><td>1304</td><td>7</td><td>7</td></tr><tr><td>197</td><td>1387</td><td>3</td><td>7</td></tr><tr><td>198</td><td>978</td><td>1</td><td>0</td></tr><tr><td>198</td><td>1011</td><td>7</td><td>1</td></tr><tr><td>198</td><td>1065</td><td>3</td><td>7</td></tr><tr><td>198</td><td>1116</td><td>1</td><td>3</td></tr><tr><td>198</td><td>1138</td><td>5</td><td>1</td></tr><tr><td>198</td><td>1161</td><td>5</td><td>5</td></tr><tr><td>198</td><td>1216</td><td>7</td><td>5</td></tr><tr><td>198</td><td>1420</td><td>5</td><td>7</td></tr></table>"
                    },
                    "metadata": {}
                }
            ],
            "execution_count": 30
        },
        {
            "cell_type": "code",
            "source": [
                "SELECT SZALLAS_ID, SZALLAS_NEV, csillagok_szama, IIF(CSILLAGOK_SZAMA >= 3, 'Igen', 'Nem') AS 'Legalább 3 csillagos_e'\r\n",
                "FROM szallashely\r\n",
                "WHERE SZALLAS_ID NOT IN\r\n",
                "(\r\n",
                "SELECT SZALLAS_FK\r\n",
                "FROM Szoba\r\n",
                "WHERE FEROHELY = 3\r\n",
                ")\r\n",
                "--commithoz"
            ],
            "metadata": {
                "azdata_cell_guid": "9e402669-5f7c-4677-945c-80d659683aed",
                "language": "sql"
            },
            "outputs": [
                {
                    "output_type": "display_data",
                    "data": {
                        "text/html": "(2 rows affected)"
                    },
                    "metadata": {}
                },
                {
                    "output_type": "display_data",
                    "data": {
                        "text/html": "Total execution time: 00:00:00.003"
                    },
                    "metadata": {}
                },
                {
                    "output_type": "execute_result",
                    "execution_count": 48,
                    "data": {
                        "application/vnd.dataresource+json": {
                            "schema": {
                                "fields": [
                                    {
                                        "name": "SZALLAS_ID"
                                    },
                                    {
                                        "name": "SZALLAS_NEV"
                                    },
                                    {
                                        "name": "csillagok_szama"
                                    },
                                    {
                                        "name": "Legalább 3 csillagos_e"
                                    }
                                ]
                            },
                            "data": [
                                {
                                    "SZALLAS_ID": "19",
                                    "SZALLAS_NEV": "Nyárfás Vendégház",
                                    "csillagok_szama": "0",
                                    "Legalább 3 csillagos_e": "Nem"
                                },
                                {
                                    "SZALLAS_ID": "21",
                                    "SZALLAS_NEV": "Müller Vendégház",
                                    "csillagok_szama": "0",
                                    "Legalább 3 csillagos_e": "Nem"
                                }
                            ]
                        },
                        "text/html": "<table><tr><th>SZALLAS_ID</th><th>SZALLAS_NEV</th><th>csillagok_szama</th><th>Legalább 3 csillagos_e</th></tr><tr><td>19</td><td>Nyárfás Vendégház</td><td>0</td><td>Nem</td></tr><tr><td>21</td><td>Müller Vendégház</td><td>0</td><td>Nem</td></tr></table>"
                    },
                    "metadata": {}
                }
            ],
            "execution_count": 48
        }
    ]
}