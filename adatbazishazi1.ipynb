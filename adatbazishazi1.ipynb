{
    "metadata": {
        "kernelspec": {
            "name": "SQL",
            "display_name": "SQL",
            "language": "sql"
        },
        "language_info": {
            "name": "sql",
            "version": ""
        }
    },
    "nbformat_minor": 2,
    "nbformat": 4,
    "cells": [
        {
            "cell_type": "markdown",
            "source": [
                "**Sum, átlag, maximum, minimum az egyes termékkategóriák listaárairól, rendezve**"
            ],
            "metadata": {
                "azdata_cell_guid": "94c103a5-3575-4a63-833a-1a286e5e23f2"
            },
            "attachments": {}
        },
        {
            "cell_type": "code",
            "source": [
                "SELECT KAT_ID, SUM(LISTAAR) as 'Összesen', ROUND(AVG(LISTAAR),0) as 'Átlagár', MAX(LISTAAR)  as 'Maximum ár', MIN(LISTAAR) as 'Minimális ár'\r\n",
                "FROM TERMEK\r\n",
                "where KAT_ID is not null\r\n",
                "GROUP BY KAT_ID\r\n",
                "ORDER BY SUM(LISTAAR) DESC, ROUND(AVG(LISTAAR),1) DESC, MAX(LISTAAR) DESC, MIN(LISTAAR) DESC"
            ],
            "metadata": {
                "azdata_cell_guid": "ceaeb616-3aab-40b2-b595-b9d1b80eacae",
                "language": "sql",
                "tags": []
            },
            "outputs": [
                {
                    "output_type": "display_data",
                    "data": {
                        "text/html": "(143 rows affected)"
                    },
                    "metadata": {}
                },
                {
                    "output_type": "display_data",
                    "data": {
                        "text/html": "Total execution time: 00:00:00.021"
                    },
                    "metadata": {}
                },
                {
                    "output_type": "execute_result",
                    "metadata": {},
                    "execution_count": 42,
                    "data": {
                        "application/vnd.dataresource+json": {
                            "schema": {
                                "fields": [
                                    {
                                        "name": "KAT_ID"
                                    },
                                    {
                                        "name": "Összesen"
                                    },
                                    {
                                        "name": "Átlagár"
                                    },
                                    {
                                        "name": "Maximum ár"
                                    },
                                    {
                                        "name": "Minimális ár"
                                    }
                                ]
                            },
                            "data": [
                                {
                                    "KAT_ID": "88",
                                    "Összesen": "85000",
                                    "Átlagár": "42500",
                                    "Maximum ár": "46000",
                                    "Minimális ár": "39000"
                                },
                                {
                                    "KAT_ID": "8",
                                    "Összesen": "65800",
                                    "Átlagár": "21933",
                                    "Maximum ár": "32000",
                                    "Minimális ár": "16900"
                                },
                                {
                                    "KAT_ID": "54",
                                    "Összesen": "45600",
                                    "Átlagár": "7600",
                                    "Maximum ár": "8000",
                                    "Minimális ár": "6900"
                                },
                                {
                                    "KAT_ID": "107",
                                    "Összesen": "24000",
                                    "Átlagár": "24000",
                                    "Maximum ár": "24000",
                                    "Minimális ár": "24000"
                                },
                                {
                                    "KAT_ID": "38",
                                    "Összesen": "22000",
                                    "Átlagár": "22000",
                                    "Maximum ár": "22000",
                                    "Minimális ár": "22000"
                                },
                                {
                                    "KAT_ID": "39",
                                    "Összesen": "19790",
                                    "Átlagár": "9895",
                                    "Maximum ár": "11900",
                                    "Minimális ár": "7890"
                                },
                                {
                                    "KAT_ID": "55",
                                    "Összesen": "17800",
                                    "Átlagár": "8900",
                                    "Maximum ár": "8900",
                                    "Minimális ár": "8900"
                                },
                                {
                                    "KAT_ID": "147",
                                    "Összesen": "14250",
                                    "Átlagár": "14250",
                                    "Maximum ár": "14250",
                                    "Minimális ár": "14250"
                                },
                                {
                                    "KAT_ID": "56",
                                    "Összesen": "12560",
                                    "Átlagár": "3140",
                                    "Maximum ár": "4990",
                                    "Minimális ár": "1290"
                                },
                                {
                                    "KAT_ID": "4",
                                    "Összesen": "9317",
                                    "Átlagár": "621",
                                    "Maximum ár": "1089",
                                    "Minimális ár": "214"
                                },
                                {
                                    "KAT_ID": "108",
                                    "Összesen": "8290",
                                    "Átlagár": "8290",
                                    "Maximum ár": "8290",
                                    "Minimális ár": "8290"
                                },
                                {
                                    "KAT_ID": "57",
                                    "Összesen": "7800",
                                    "Átlagár": "3900",
                                    "Maximum ár": "3900",
                                    "Minimális ár": "3900"
                                },
                                {
                                    "KAT_ID": "52",
                                    "Összesen": "6653",
                                    "Átlagár": "256",
                                    "Maximum ár": "1019",
                                    "Minimális ár": "23"
                                },
                                {
                                    "KAT_ID": "37",
                                    "Összesen": "6490",
                                    "Átlagár": "6490",
                                    "Maximum ár": "6490",
                                    "Minimális ár": "6490"
                                },
                                {
                                    "KAT_ID": "149",
                                    "Összesen": "4919",
                                    "Átlagár": "820",
                                    "Maximum ár": "2100",
                                    "Minimális ár": "286"
                                },
                                {
                                    "KAT_ID": "112",
                                    "Összesen": "4634",
                                    "Átlagár": "2317",
                                    "Maximum ár": "4575",
                                    "Minimális ár": "59"
                                },
                                {
                                    "KAT_ID": "36",
                                    "Összesen": "4475",
                                    "Átlagár": "895",
                                    "Maximum ár": "1488",
                                    "Minimális ár": "686"
                                },
                                {
                                    "KAT_ID": "146",
                                    "Összesen": "4021",
                                    "Átlagár": "574",
                                    "Maximum ár": "765",
                                    "Minimális ár": "324"
                                },
                                {
                                    "KAT_ID": "14",
                                    "Összesen": "3954",
                                    "Átlagár": "989",
                                    "Maximum ár": "1377",
                                    "Minimális ár": "650"
                                },
                                {
                                    "KAT_ID": "35",
                                    "Összesen": "3930",
                                    "Átlagár": "561",
                                    "Maximum ár": "990",
                                    "Minimális ár": "240"
                                },
                                {
                                    "KAT_ID": "96",
                                    "Összesen": "3528",
                                    "Átlagár": "392",
                                    "Maximum ár": "1765",
                                    "Minimális ár": "148"
                                },
                                {
                                    "KAT_ID": "100",
                                    "Összesen": "3468",
                                    "Átlagár": "385",
                                    "Maximum ár": "785",
                                    "Minimális ár": "190"
                                },
                                {
                                    "KAT_ID": "6",
                                    "Összesen": "2508",
                                    "Átlagár": "125",
                                    "Maximum ár": "290",
                                    "Minimális ár": "11"
                                },
                                {
                                    "KAT_ID": "41",
                                    "Összesen": "2370",
                                    "Átlagár": "182",
                                    "Maximum ár": "434",
                                    "Minimális ár": "0"
                                },
                                {
                                    "KAT_ID": "78",
                                    "Összesen": "2038",
                                    "Átlagár": "85",
                                    "Maximum ár": "511",
                                    "Minimális ár": "5"
                                },
                                {
                                    "KAT_ID": "66",
                                    "Összesen": "2030",
                                    "Átlagár": "290",
                                    "Maximum ár": "794",
                                    "Minimális ár": "81"
                                },
                                {
                                    "KAT_ID": "130",
                                    "Összesen": "1990",
                                    "Átlagár": "1990",
                                    "Maximum ár": "1990",
                                    "Minimális ár": "1990"
                                },
                                {
                                    "KAT_ID": "145",
                                    "Összesen": "1830",
                                    "Átlagár": "102",
                                    "Maximum ár": "684",
                                    "Minimális ár": "15"
                                },
                                {
                                    "KAT_ID": "60",
                                    "Összesen": "1777",
                                    "Átlagár": "355",
                                    "Maximum ár": "699",
                                    "Minimális ár": "95"
                                },
                                {
                                    "KAT_ID": "118",
                                    "Összesen": "1748",
                                    "Átlagár": "194",
                                    "Maximum ár": "468",
                                    "Minimális ár": "59"
                                },
                                {
                                    "KAT_ID": "134",
                                    "Összesen": "1681",
                                    "Átlagár": "841",
                                    "Maximum ár": "1173",
                                    "Minimális ár": "508"
                                },
                                {
                                    "KAT_ID": "47",
                                    "Összesen": "1673",
                                    "Átlagár": "418",
                                    "Maximum ár": "551",
                                    "Minimális ár": "203"
                                },
                                {
                                    "KAT_ID": "124",
                                    "Összesen": "1624",
                                    "Átlagár": "162",
                                    "Maximum ár": "426",
                                    "Minimális ár": "81"
                                },
                                {
                                    "KAT_ID": "21",
                                    "Összesen": "1553",
                                    "Átlagár": "311",
                                    "Maximum ár": "1500",
                                    "Minimális ár": "10"
                                },
                                {
                                    "KAT_ID": "95",
                                    "Összesen": "1291",
                                    "Átlagár": "646",
                                    "Maximum ár": "765",
                                    "Minimális ár": "526"
                                },
                                {
                                    "KAT_ID": "32",
                                    "Összesen": "1291",
                                    "Átlagár": "430",
                                    "Maximum ár": "526",
                                    "Minimális ár": "316"
                                },
                                {
                                    "KAT_ID": "62",
                                    "Összesen": "1192",
                                    "Átlagár": "596",
                                    "Maximum ár": "728",
                                    "Minimális ár": "464"
                                },
                                {
                                    "KAT_ID": "97",
                                    "Összesen": "1063",
                                    "Átlagár": "106",
                                    "Maximum ár": "175",
                                    "Minimális ár": "49"
                                },
                                {
                                    "KAT_ID": "45",
                                    "Összesen": "1047",
                                    "Átlagár": "95",
                                    "Maximum ár": "206",
                                    "Minimális ár": "30"
                                },
                                {
                                    "KAT_ID": "85",
                                    "Összesen": "963",
                                    "Átlagár": "60",
                                    "Maximum ár": "184",
                                    "Minimális ár": "14"
                                },
                                {
                                    "KAT_ID": "64",
                                    "Összesen": "958",
                                    "Átlagár": "240",
                                    "Maximum ár": "875",
                                    "Minimális ár": "23"
                                },
                                {
                                    "KAT_ID": "133",
                                    "Összesen": "946",
                                    "Átlagár": "158",
                                    "Maximum ár": "183",
                                    "Minimális ár": "118"
                                },
                                {
                                    "KAT_ID": "19",
                                    "Összesen": "920",
                                    "Átlagár": "48",
                                    "Maximum ár": "146",
                                    "Minimális ár": "11"
                                },
                                {
                                    "KAT_ID": "151",
                                    "Összesen": "815",
                                    "Átlagár": "204",
                                    "Maximum ár": "249",
                                    "Minimális ár": "176"
                                },
                                {
                                    "KAT_ID": "91",
                                    "Összesen": "810",
                                    "Átlagár": "116",
                                    "Maximum ár": "155",
                                    "Minimális ár": "36"
                                },
                                {
                                    "KAT_ID": "24",
                                    "Összesen": "718",
                                    "Átlagár": "103",
                                    "Maximum ár": "220",
                                    "Minimális ár": "23"
                                },
                                {
                                    "KAT_ID": "59",
                                    "Összesen": "690",
                                    "Átlagár": "173",
                                    "Maximum ár": "228",
                                    "Minimális ár": "121"
                                },
                                {
                                    "KAT_ID": "119",
                                    "Összesen": "648",
                                    "Átlagár": "216",
                                    "Maximum ár": "314",
                                    "Minimális ár": "161"
                                },
                                {
                                    "KAT_ID": "93",
                                    "Összesen": "646",
                                    "Átlagár": "92",
                                    "Maximum ár": "169",
                                    "Minimális ár": "15"
                                },
                                {
                                    "KAT_ID": "139",
                                    "Összesen": "633",
                                    "Átlagár": "633",
                                    "Maximum ár": "633",
                                    "Minimális ár": "633"
                                },
                                {
                                    "KAT_ID": "40",
                                    "Összesen": "625",
                                    "Átlagár": "625",
                                    "Maximum ár": "625",
                                    "Minimális ár": "625"
                                },
                                {
                                    "KAT_ID": "154",
                                    "Összesen": "550",
                                    "Átlagár": "138",
                                    "Maximum ár": "228",
                                    "Minimális ár": "66"
                                },
                                {
                                    "KAT_ID": "138",
                                    "Összesen": "503",
                                    "Átlagár": "101",
                                    "Maximum ár": "140",
                                    "Minimális ár": "78"
                                },
                                {
                                    "KAT_ID": "71",
                                    "Összesen": "502",
                                    "Átlagár": "251",
                                    "Maximum ár": "259",
                                    "Minimális ár": "243"
                                },
                                {
                                    "KAT_ID": "148",
                                    "Összesen": "493",
                                    "Átlagár": "493",
                                    "Maximum ár": "493",
                                    "Minimális ár": "493"
                                },
                                {
                                    "KAT_ID": "30",
                                    "Összesen": "493",
                                    "Átlagár": "70",
                                    "Maximum ár": "180",
                                    "Minimális ár": "33"
                                },
                                {
                                    "KAT_ID": "111",
                                    "Összesen": "470",
                                    "Átlagár": "157",
                                    "Maximum ár": "176",
                                    "Minimális ár": "133"
                                },
                                {
                                    "KAT_ID": "13",
                                    "Összesen": "461",
                                    "Átlagár": "231",
                                    "Maximum ár": "328",
                                    "Minimális ár": "133"
                                },
                                {
                                    "KAT_ID": "129",
                                    "Összesen": "459",
                                    "Átlagár": "230",
                                    "Maximum ár": "256",
                                    "Minimális ár": "203"
                                },
                                {
                                    "KAT_ID": "98",
                                    "Összesen": "446",
                                    "Átlagár": "112",
                                    "Maximum ár": "169",
                                    "Minimális ár": "59"
                                },
                                {
                                    "KAT_ID": "79",
                                    "Összesen": "436",
                                    "Átlagár": "109",
                                    "Maximum ár": "165",
                                    "Minimális ár": "65"
                                },
                                {
                                    "KAT_ID": "89",
                                    "Összesen": "434",
                                    "Átlagár": "145",
                                    "Maximum ár": "243",
                                    "Minimális ár": "30"
                                },
                                {
                                    "KAT_ID": "106",
                                    "Összesen": "395",
                                    "Átlagár": "79",
                                    "Maximum ár": "103",
                                    "Minimális ár": "44"
                                },
                                {
                                    "KAT_ID": "143",
                                    "Összesen": "380",
                                    "Átlagár": "127",
                                    "Maximum ár": "360",
                                    "Minimális ár": "9"
                                },
                                {
                                    "KAT_ID": "7",
                                    "Összesen": "377",
                                    "Átlagár": "126",
                                    "Maximum ár": "144",
                                    "Minimális ár": "89"
                                },
                                {
                                    "KAT_ID": "127",
                                    "Összesen": "370",
                                    "Átlagár": "185",
                                    "Maximum ár": "342",
                                    "Minimális ár": "28"
                                },
                                {
                                    "KAT_ID": "132",
                                    "Összesen": "356",
                                    "Átlagár": "356",
                                    "Maximum ár": "356",
                                    "Minimális ár": "356"
                                },
                                {
                                    "KAT_ID": "9",
                                    "Összesen": "332",
                                    "Átlagár": "166",
                                    "Maximum ár": "214",
                                    "Minimális ár": "118"
                                },
                                {
                                    "KAT_ID": "105",
                                    "Összesen": "310",
                                    "Átlagár": "310",
                                    "Maximum ár": "310",
                                    "Minimális ár": "310"
                                },
                                {
                                    "KAT_ID": "125",
                                    "Összesen": "299",
                                    "Átlagár": "75",
                                    "Maximum ár": "166",
                                    "Minimális ár": "15"
                                },
                                {
                                    "KAT_ID": "46",
                                    "Összesen": "298",
                                    "Átlagár": "43",
                                    "Maximum ár": "195",
                                    "Minimális ár": "8"
                                },
                                {
                                    "KAT_ID": "15",
                                    "Összesen": "297",
                                    "Átlagár": "297",
                                    "Maximum ár": "297",
                                    "Minimális ár": "297"
                                },
                                {
                                    "KAT_ID": "122",
                                    "Összesen": "282",
                                    "Átlagár": "40",
                                    "Maximum ár": "50",
                                    "Minimális ár": "19"
                                },
                                {
                                    "KAT_ID": "73",
                                    "Összesen": "280",
                                    "Átlagár": "140",
                                    "Maximum ár": "214",
                                    "Minimális ár": "66"
                                },
                                {
                                    "KAT_ID": "83",
                                    "Összesen": "276",
                                    "Átlagár": "46",
                                    "Maximum ár": "89",
                                    "Minimális ár": "11"
                                },
                                {
                                    "KAT_ID": "76",
                                    "Összesen": "270",
                                    "Átlagár": "54",
                                    "Maximum ár": "78",
                                    "Minimális ár": "23"
                                },
                                {
                                    "KAT_ID": "136",
                                    "Összesen": "260",
                                    "Átlagár": "130",
                                    "Maximum ár": "161",
                                    "Minimális ár": "99"
                                },
                                {
                                    "KAT_ID": "65",
                                    "Összesen": "250",
                                    "Átlagár": "125",
                                    "Maximum ár": "180",
                                    "Minimális ár": "70"
                                },
                                {
                                    "KAT_ID": "116",
                                    "Összesen": "247",
                                    "Átlagár": "124",
                                    "Maximum ár": "144",
                                    "Minimális ár": "103"
                                },
                                {
                                    "KAT_ID": "12",
                                    "Összesen": "228",
                                    "Átlagár": "228",
                                    "Maximum ár": "228",
                                    "Minimális ár": "228"
                                },
                                {
                                    "KAT_ID": "5",
                                    "Összesen": "226",
                                    "Átlagár": "75",
                                    "Maximum ár": "129",
                                    "Minimális ár": "24"
                                },
                                {
                                    "KAT_ID": "152",
                                    "Összesen": "211",
                                    "Átlagár": "35",
                                    "Maximum ár": "58",
                                    "Minimális ár": "30"
                                },
                                {
                                    "KAT_ID": "22",
                                    "Összesen": "199",
                                    "Átlagár": "100",
                                    "Maximum ár": "110",
                                    "Minimális ár": "89"
                                },
                                {
                                    "KAT_ID": "86",
                                    "Összesen": "195",
                                    "Átlagár": "195",
                                    "Maximum ár": "195",
                                    "Minimális ár": "195"
                                },
                                {
                                    "KAT_ID": "67",
                                    "Összesen": "193",
                                    "Átlagár": "97",
                                    "Maximum ár": "169",
                                    "Minimális ár": "24"
                                },
                                {
                                    "KAT_ID": "123",
                                    "Összesen": "193",
                                    "Átlagár": "97",
                                    "Maximum ár": "119",
                                    "Minimális ár": "74"
                                },
                                {
                                    "KAT_ID": "92",
                                    "Összesen": "191",
                                    "Átlagár": "96",
                                    "Maximum ár": "110",
                                    "Minimális ár": "81"
                                },
                                {
                                    "KAT_ID": "51",
                                    "Összesen": "181",
                                    "Átlagár": "60",
                                    "Maximum ár": "110",
                                    "Minimális ár": "8"
                                },
                                {
                                    "KAT_ID": "28",
                                    "Összesen": "181",
                                    "Átlagár": "36",
                                    "Maximum ár": "81",
                                    "Minimális ár": "15"
                                },
                                {
                                    "KAT_ID": "117",
                                    "Összesen": "174",
                                    "Átlagár": "87",
                                    "Maximum ár": "93",
                                    "Minimális ár": "81"
                                },
                                {
                                    "KAT_ID": "70",
                                    "Összesen": "171",
                                    "Átlagár": "57",
                                    "Maximum ár": "133",
                                    "Minimális ár": "19"
                                },
                                {
                                    "KAT_ID": "27",
                                    "Összesen": "171",
                                    "Átlagár": "57",
                                    "Maximum ár": "66",
                                    "Minimális ár": "44"
                                },
                                {
                                    "KAT_ID": "128",
                                    "Összesen": "169",
                                    "Átlagár": "85",
                                    "Maximum ár": "106",
                                    "Minimális ár": "63"
                                },
                                {
                                    "KAT_ID": "34",
                                    "Összesen": "161",
                                    "Átlagár": "161",
                                    "Maximum ár": "161",
                                    "Minimális ár": "161"
                                },
                                {
                                    "KAT_ID": "144",
                                    "Összesen": "154",
                                    "Átlagár": "77",
                                    "Maximum ár": "80",
                                    "Minimális ár": "74"
                                },
                                {
                                    "KAT_ID": "49",
                                    "Összesen": "147",
                                    "Átlagár": "74",
                                    "Maximum ár": "103",
                                    "Minimális ár": "44"
                                },
                                {
                                    "KAT_ID": "141",
                                    "Összesen": "144",
                                    "Átlagár": "72",
                                    "Maximum ár": "96",
                                    "Minimális ár": "48"
                                },
                                {
                                    "KAT_ID": "29",
                                    "Összesen": "133",
                                    "Átlagár": "133",
                                    "Maximum ár": "133",
                                    "Minimális ár": "133"
                                },
                                {
                                    "KAT_ID": "72",
                                    "Összesen": "133",
                                    "Átlagár": "67",
                                    "Maximum ár": "89",
                                    "Minimális ár": "44"
                                },
                                {
                                    "KAT_ID": "84",
                                    "Összesen": "131",
                                    "Átlagár": "131",
                                    "Maximum ár": "131",
                                    "Minimális ár": "131"
                                },
                                {
                                    "KAT_ID": "135",
                                    "Összesen": "129",
                                    "Átlagár": "129",
                                    "Maximum ár": "129",
                                    "Minimális ár": "129"
                                },
                                {
                                    "KAT_ID": "43",
                                    "Összesen": "128",
                                    "Átlagár": "43",
                                    "Maximum ár": "44",
                                    "Minimális ár": "40"
                                },
                                {
                                    "KAT_ID": "121",
                                    "Összesen": "125",
                                    "Átlagár": "63",
                                    "Maximum ár": "89",
                                    "Minimális ár": "36"
                                },
                                {
                                    "KAT_ID": "18",
                                    "Összesen": "119",
                                    "Átlagár": "60",
                                    "Maximum ár": "73",
                                    "Minimális ár": "46"
                                },
                                {
                                    "KAT_ID": "11",
                                    "Összesen": "115",
                                    "Átlagár": "115",
                                    "Maximum ár": "115",
                                    "Minimális ár": "115"
                                },
                                {
                                    "KAT_ID": "10",
                                    "Összesen": "106",
                                    "Átlagár": "106",
                                    "Maximum ár": "106",
                                    "Minimális ár": "106"
                                },
                                {
                                    "KAT_ID": "82",
                                    "Összesen": "106",
                                    "Átlagár": "106",
                                    "Maximum ár": "106",
                                    "Minimális ár": "106"
                                },
                                {
                                    "KAT_ID": "142",
                                    "Összesen": "103",
                                    "Átlagár": "103",
                                    "Maximum ár": "103",
                                    "Minimális ár": "103"
                                },
                                {
                                    "KAT_ID": "110",
                                    "Összesen": "103",
                                    "Átlagár": "52",
                                    "Maximum ár": "55",
                                    "Minimális ár": "48"
                                },
                                {
                                    "KAT_ID": "16",
                                    "Összesen": "102",
                                    "Átlagár": "15",
                                    "Maximum ár": "39",
                                    "Minimális ár": "3"
                                },
                                {
                                    "KAT_ID": "104",
                                    "Összesen": "93",
                                    "Átlagár": "47",
                                    "Maximum ár": "78",
                                    "Minimális ár": "15"
                                },
                                {
                                    "KAT_ID": "103",
                                    "Összesen": "89",
                                    "Átlagár": "89",
                                    "Maximum ár": "89",
                                    "Minimális ár": "89"
                                },
                                {
                                    "KAT_ID": "126",
                                    "Összesen": "89",
                                    "Átlagár": "89",
                                    "Maximum ár": "89",
                                    "Minimális ár": "89"
                                },
                                {
                                    "KAT_ID": "50",
                                    "Összesen": "89",
                                    "Átlagár": "89",
                                    "Maximum ár": "89",
                                    "Minimális ár": "89"
                                },
                                {
                                    "KAT_ID": "25",
                                    "Összesen": "85",
                                    "Átlagár": "21",
                                    "Maximum ár": "44",
                                    "Minimális ár": "3"
                                },
                                {
                                    "KAT_ID": "58",
                                    "Összesen": "83",
                                    "Átlagár": "28",
                                    "Maximum ár": "35",
                                    "Minimális ár": "18"
                                },
                                {
                                    "KAT_ID": "155",
                                    "Összesen": "81",
                                    "Átlagár": "81",
                                    "Maximum ár": "81",
                                    "Minimális ár": "81"
                                },
                                {
                                    "KAT_ID": "48",
                                    "Összesen": "78",
                                    "Átlagár": "39",
                                    "Maximum ár": "48",
                                    "Minimális ár": "30"
                                },
                                {
                                    "KAT_ID": "150",
                                    "Összesen": "78",
                                    "Átlagár": "39",
                                    "Maximum ár": "44",
                                    "Minimális ár": "34"
                                },
                                {
                                    "KAT_ID": "20",
                                    "Összesen": "77",
                                    "Átlagár": "26",
                                    "Maximum ár": "31",
                                    "Minimális ár": "20"
                                },
                                {
                                    "KAT_ID": "61",
                                    "Összesen": "66",
                                    "Átlagár": "66",
                                    "Maximum ár": "66",
                                    "Minimális ár": "66"
                                },
                                {
                                    "KAT_ID": "75",
                                    "Összesen": "63",
                                    "Átlagár": "32",
                                    "Maximum ár": "34",
                                    "Minimális ár": "29"
                                },
                                {
                                    "KAT_ID": "74",
                                    "Összesen": "59",
                                    "Átlagár": "59",
                                    "Maximum ár": "59",
                                    "Minimális ár": "59"
                                },
                                {
                                    "KAT_ID": "42",
                                    "Összesen": "51",
                                    "Átlagár": "51",
                                    "Maximum ár": "51",
                                    "Minimális ár": "51"
                                },
                                {
                                    "KAT_ID": "80",
                                    "Összesen": "48",
                                    "Átlagár": "48",
                                    "Maximum ár": "48",
                                    "Minimális ár": "48"
                                },
                                {
                                    "KAT_ID": "131",
                                    "Összesen": "45",
                                    "Átlagár": "45",
                                    "Maximum ár": "45",
                                    "Minimális ár": "45"
                                },
                                {
                                    "KAT_ID": "137",
                                    "Összesen": "43",
                                    "Átlagár": "14",
                                    "Maximum ár": "24",
                                    "Minimális ár": "8"
                                },
                                {
                                    "KAT_ID": "140",
                                    "Összesen": "40",
                                    "Átlagár": "40",
                                    "Maximum ár": "40",
                                    "Minimális ár": "40"
                                },
                                {
                                    "KAT_ID": "44",
                                    "Összesen": "30",
                                    "Átlagár": "30",
                                    "Maximum ár": "30",
                                    "Minimális ár": "30"
                                },
                                {
                                    "KAT_ID": "17",
                                    "Összesen": "30",
                                    "Átlagár": "30",
                                    "Maximum ár": "30",
                                    "Minimális ár": "30"
                                },
                                {
                                    "KAT_ID": "68",
                                    "Összesen": "27",
                                    "Átlagár": "14",
                                    "Maximum ár": "15",
                                    "Minimális ár": "12"
                                },
                                {
                                    "KAT_ID": "33",
                                    "Összesen": "26",
                                    "Átlagár": "26",
                                    "Maximum ár": "26",
                                    "Minimális ár": "26"
                                },
                                {
                                    "KAT_ID": "94",
                                    "Összesen": "26",
                                    "Átlagár": "13",
                                    "Maximum ár": "15",
                                    "Minimális ár": "11"
                                },
                                {
                                    "KAT_ID": "31",
                                    "Összesen": "25",
                                    "Átlagár": "25",
                                    "Maximum ár": "25",
                                    "Minimális ár": "25"
                                },
                                {
                                    "KAT_ID": "114",
                                    "Összesen": "20",
                                    "Átlagár": "20",
                                    "Maximum ár": "20",
                                    "Minimális ár": "20"
                                },
                                {
                                    "KAT_ID": "153",
                                    "Összesen": "20",
                                    "Átlagár": "20",
                                    "Maximum ár": "20",
                                    "Minimális ár": "20"
                                },
                                {
                                    "KAT_ID": "53",
                                    "Összesen": "19",
                                    "Átlagár": "19",
                                    "Maximum ár": "19",
                                    "Minimális ár": "19"
                                },
                                {
                                    "KAT_ID": "90",
                                    "Összesen": "17",
                                    "Átlagár": "9",
                                    "Maximum ár": "13",
                                    "Minimális ár": "4"
                                },
                                {
                                    "KAT_ID": "115",
                                    "Összesen": "15",
                                    "Átlagár": "15",
                                    "Maximum ár": "15",
                                    "Minimális ár": "15"
                                },
                                {
                                    "KAT_ID": "26",
                                    "Összesen": "9",
                                    "Átlagár": "9",
                                    "Maximum ár": "9",
                                    "Minimális ár": "9"
                                },
                                {
                                    "KAT_ID": "99",
                                    "Összesen": "8",
                                    "Átlagár": "8",
                                    "Maximum ár": "8",
                                    "Minimális ár": "8"
                                },
                                {
                                    "KAT_ID": "109",
                                    "Összesen": "4",
                                    "Átlagár": "4",
                                    "Maximum ár": "4",
                                    "Minimális ár": "4"
                                },
                                {
                                    "KAT_ID": "101",
                                    "Összesen": "3",
                                    "Átlagár": "3",
                                    "Maximum ár": "3",
                                    "Minimális ár": "3"
                                }
                            ]
                        },
                        "text/html": [
                            "<table>",
                            "<tr><th>KAT_ID</th><th>Összesen</th><th>Átlagár</th><th>Maximum ár</th><th>Minimális ár</th></tr>",
                            "<tr><td>88</td><td>85000</td><td>42500</td><td>46000</td><td>39000</td></tr>",
                            "<tr><td>8</td><td>65800</td><td>21933</td><td>32000</td><td>16900</td></tr>",
                            "<tr><td>54</td><td>45600</td><td>7600</td><td>8000</td><td>6900</td></tr>",
                            "<tr><td>107</td><td>24000</td><td>24000</td><td>24000</td><td>24000</td></tr>",
                            "<tr><td>38</td><td>22000</td><td>22000</td><td>22000</td><td>22000</td></tr>",
                            "<tr><td>39</td><td>19790</td><td>9895</td><td>11900</td><td>7890</td></tr>",
                            "<tr><td>55</td><td>17800</td><td>8900</td><td>8900</td><td>8900</td></tr>",
                            "<tr><td>147</td><td>14250</td><td>14250</td><td>14250</td><td>14250</td></tr>",
                            "<tr><td>56</td><td>12560</td><td>3140</td><td>4990</td><td>1290</td></tr>",
                            "<tr><td>4</td><td>9317</td><td>621</td><td>1089</td><td>214</td></tr>",
                            "<tr><td>108</td><td>8290</td><td>8290</td><td>8290</td><td>8290</td></tr>",
                            "<tr><td>57</td><td>7800</td><td>3900</td><td>3900</td><td>3900</td></tr>",
                            "<tr><td>52</td><td>6653</td><td>256</td><td>1019</td><td>23</td></tr>",
                            "<tr><td>37</td><td>6490</td><td>6490</td><td>6490</td><td>6490</td></tr>",
                            "<tr><td>149</td><td>4919</td><td>820</td><td>2100</td><td>286</td></tr>",
                            "<tr><td>112</td><td>4634</td><td>2317</td><td>4575</td><td>59</td></tr>",
                            "<tr><td>36</td><td>4475</td><td>895</td><td>1488</td><td>686</td></tr>",
                            "<tr><td>146</td><td>4021</td><td>574</td><td>765</td><td>324</td></tr>",
                            "<tr><td>14</td><td>3954</td><td>989</td><td>1377</td><td>650</td></tr>",
                            "<tr><td>35</td><td>3930</td><td>561</td><td>990</td><td>240</td></tr>",
                            "<tr><td>96</td><td>3528</td><td>392</td><td>1765</td><td>148</td></tr>",
                            "<tr><td>100</td><td>3468</td><td>385</td><td>785</td><td>190</td></tr>",
                            "<tr><td>6</td><td>2508</td><td>125</td><td>290</td><td>11</td></tr>",
                            "<tr><td>41</td><td>2370</td><td>182</td><td>434</td><td>0</td></tr>",
                            "<tr><td>78</td><td>2038</td><td>85</td><td>511</td><td>5</td></tr>",
                            "<tr><td>66</td><td>2030</td><td>290</td><td>794</td><td>81</td></tr>",
                            "<tr><td>130</td><td>1990</td><td>1990</td><td>1990</td><td>1990</td></tr>",
                            "<tr><td>145</td><td>1830</td><td>102</td><td>684</td><td>15</td></tr>",
                            "<tr><td>60</td><td>1777</td><td>355</td><td>699</td><td>95</td></tr>",
                            "<tr><td>118</td><td>1748</td><td>194</td><td>468</td><td>59</td></tr>",
                            "<tr><td>134</td><td>1681</td><td>841</td><td>1173</td><td>508</td></tr>",
                            "<tr><td>47</td><td>1673</td><td>418</td><td>551</td><td>203</td></tr>",
                            "<tr><td>124</td><td>1624</td><td>162</td><td>426</td><td>81</td></tr>",
                            "<tr><td>21</td><td>1553</td><td>311</td><td>1500</td><td>10</td></tr>",
                            "<tr><td>95</td><td>1291</td><td>646</td><td>765</td><td>526</td></tr>",
                            "<tr><td>32</td><td>1291</td><td>430</td><td>526</td><td>316</td></tr>",
                            "<tr><td>62</td><td>1192</td><td>596</td><td>728</td><td>464</td></tr>",
                            "<tr><td>97</td><td>1063</td><td>106</td><td>175</td><td>49</td></tr>",
                            "<tr><td>45</td><td>1047</td><td>95</td><td>206</td><td>30</td></tr>",
                            "<tr><td>85</td><td>963</td><td>60</td><td>184</td><td>14</td></tr>",
                            "<tr><td>64</td><td>958</td><td>240</td><td>875</td><td>23</td></tr>",
                            "<tr><td>133</td><td>946</td><td>158</td><td>183</td><td>118</td></tr>",
                            "<tr><td>19</td><td>920</td><td>48</td><td>146</td><td>11</td></tr>",
                            "<tr><td>151</td><td>815</td><td>204</td><td>249</td><td>176</td></tr>",
                            "<tr><td>91</td><td>810</td><td>116</td><td>155</td><td>36</td></tr>",
                            "<tr><td>24</td><td>718</td><td>103</td><td>220</td><td>23</td></tr>",
                            "<tr><td>59</td><td>690</td><td>173</td><td>228</td><td>121</td></tr>",
                            "<tr><td>119</td><td>648</td><td>216</td><td>314</td><td>161</td></tr>",
                            "<tr><td>93</td><td>646</td><td>92</td><td>169</td><td>15</td></tr>",
                            "<tr><td>139</td><td>633</td><td>633</td><td>633</td><td>633</td></tr>",
                            "<tr><td>40</td><td>625</td><td>625</td><td>625</td><td>625</td></tr>",
                            "<tr><td>154</td><td>550</td><td>138</td><td>228</td><td>66</td></tr>",
                            "<tr><td>138</td><td>503</td><td>101</td><td>140</td><td>78</td></tr>",
                            "<tr><td>71</td><td>502</td><td>251</td><td>259</td><td>243</td></tr>",
                            "<tr><td>148</td><td>493</td><td>493</td><td>493</td><td>493</td></tr>",
                            "<tr><td>30</td><td>493</td><td>70</td><td>180</td><td>33</td></tr>",
                            "<tr><td>111</td><td>470</td><td>157</td><td>176</td><td>133</td></tr>",
                            "<tr><td>13</td><td>461</td><td>231</td><td>328</td><td>133</td></tr>",
                            "<tr><td>129</td><td>459</td><td>230</td><td>256</td><td>203</td></tr>",
                            "<tr><td>98</td><td>446</td><td>112</td><td>169</td><td>59</td></tr>",
                            "<tr><td>79</td><td>436</td><td>109</td><td>165</td><td>65</td></tr>",
                            "<tr><td>89</td><td>434</td><td>145</td><td>243</td><td>30</td></tr>",
                            "<tr><td>106</td><td>395</td><td>79</td><td>103</td><td>44</td></tr>",
                            "<tr><td>143</td><td>380</td><td>127</td><td>360</td><td>9</td></tr>",
                            "<tr><td>7</td><td>377</td><td>126</td><td>144</td><td>89</td></tr>",
                            "<tr><td>127</td><td>370</td><td>185</td><td>342</td><td>28</td></tr>",
                            "<tr><td>132</td><td>356</td><td>356</td><td>356</td><td>356</td></tr>",
                            "<tr><td>9</td><td>332</td><td>166</td><td>214</td><td>118</td></tr>",
                            "<tr><td>105</td><td>310</td><td>310</td><td>310</td><td>310</td></tr>",
                            "<tr><td>125</td><td>299</td><td>75</td><td>166</td><td>15</td></tr>",
                            "<tr><td>46</td><td>298</td><td>43</td><td>195</td><td>8</td></tr>",
                            "<tr><td>15</td><td>297</td><td>297</td><td>297</td><td>297</td></tr>",
                            "<tr><td>122</td><td>282</td><td>40</td><td>50</td><td>19</td></tr>",
                            "<tr><td>73</td><td>280</td><td>140</td><td>214</td><td>66</td></tr>",
                            "<tr><td>83</td><td>276</td><td>46</td><td>89</td><td>11</td></tr>",
                            "<tr><td>76</td><td>270</td><td>54</td><td>78</td><td>23</td></tr>",
                            "<tr><td>136</td><td>260</td><td>130</td><td>161</td><td>99</td></tr>",
                            "<tr><td>65</td><td>250</td><td>125</td><td>180</td><td>70</td></tr>",
                            "<tr><td>116</td><td>247</td><td>124</td><td>144</td><td>103</td></tr>",
                            "<tr><td>12</td><td>228</td><td>228</td><td>228</td><td>228</td></tr>",
                            "<tr><td>5</td><td>226</td><td>75</td><td>129</td><td>24</td></tr>",
                            "<tr><td>152</td><td>211</td><td>35</td><td>58</td><td>30</td></tr>",
                            "<tr><td>22</td><td>199</td><td>100</td><td>110</td><td>89</td></tr>",
                            "<tr><td>86</td><td>195</td><td>195</td><td>195</td><td>195</td></tr>",
                            "<tr><td>67</td><td>193</td><td>97</td><td>169</td><td>24</td></tr>",
                            "<tr><td>123</td><td>193</td><td>97</td><td>119</td><td>74</td></tr>",
                            "<tr><td>92</td><td>191</td><td>96</td><td>110</td><td>81</td></tr>",
                            "<tr><td>51</td><td>181</td><td>60</td><td>110</td><td>8</td></tr>",
                            "<tr><td>28</td><td>181</td><td>36</td><td>81</td><td>15</td></tr>",
                            "<tr><td>117</td><td>174</td><td>87</td><td>93</td><td>81</td></tr>",
                            "<tr><td>70</td><td>171</td><td>57</td><td>133</td><td>19</td></tr>",
                            "<tr><td>27</td><td>171</td><td>57</td><td>66</td><td>44</td></tr>",
                            "<tr><td>128</td><td>169</td><td>85</td><td>106</td><td>63</td></tr>",
                            "<tr><td>34</td><td>161</td><td>161</td><td>161</td><td>161</td></tr>",
                            "<tr><td>144</td><td>154</td><td>77</td><td>80</td><td>74</td></tr>",
                            "<tr><td>49</td><td>147</td><td>74</td><td>103</td><td>44</td></tr>",
                            "<tr><td>141</td><td>144</td><td>72</td><td>96</td><td>48</td></tr>",
                            "<tr><td>29</td><td>133</td><td>133</td><td>133</td><td>133</td></tr>",
                            "<tr><td>72</td><td>133</td><td>67</td><td>89</td><td>44</td></tr>",
                            "<tr><td>84</td><td>131</td><td>131</td><td>131</td><td>131</td></tr>",
                            "<tr><td>135</td><td>129</td><td>129</td><td>129</td><td>129</td></tr>",
                            "<tr><td>43</td><td>128</td><td>43</td><td>44</td><td>40</td></tr>",
                            "<tr><td>121</td><td>125</td><td>63</td><td>89</td><td>36</td></tr>",
                            "<tr><td>18</td><td>119</td><td>60</td><td>73</td><td>46</td></tr>",
                            "<tr><td>11</td><td>115</td><td>115</td><td>115</td><td>115</td></tr>",
                            "<tr><td>10</td><td>106</td><td>106</td><td>106</td><td>106</td></tr>",
                            "<tr><td>82</td><td>106</td><td>106</td><td>106</td><td>106</td></tr>",
                            "<tr><td>142</td><td>103</td><td>103</td><td>103</td><td>103</td></tr>",
                            "<tr><td>110</td><td>103</td><td>52</td><td>55</td><td>48</td></tr>",
                            "<tr><td>16</td><td>102</td><td>15</td><td>39</td><td>3</td></tr>",
                            "<tr><td>104</td><td>93</td><td>47</td><td>78</td><td>15</td></tr>",
                            "<tr><td>103</td><td>89</td><td>89</td><td>89</td><td>89</td></tr>",
                            "<tr><td>126</td><td>89</td><td>89</td><td>89</td><td>89</td></tr>",
                            "<tr><td>50</td><td>89</td><td>89</td><td>89</td><td>89</td></tr>",
                            "<tr><td>25</td><td>85</td><td>21</td><td>44</td><td>3</td></tr>",
                            "<tr><td>58</td><td>83</td><td>28</td><td>35</td><td>18</td></tr>",
                            "<tr><td>155</td><td>81</td><td>81</td><td>81</td><td>81</td></tr>",
                            "<tr><td>48</td><td>78</td><td>39</td><td>48</td><td>30</td></tr>",
                            "<tr><td>150</td><td>78</td><td>39</td><td>44</td><td>34</td></tr>",
                            "<tr><td>20</td><td>77</td><td>26</td><td>31</td><td>20</td></tr>",
                            "<tr><td>61</td><td>66</td><td>66</td><td>66</td><td>66</td></tr>",
                            "<tr><td>75</td><td>63</td><td>32</td><td>34</td><td>29</td></tr>",
                            "<tr><td>74</td><td>59</td><td>59</td><td>59</td><td>59</td></tr>",
                            "<tr><td>42</td><td>51</td><td>51</td><td>51</td><td>51</td></tr>",
                            "<tr><td>80</td><td>48</td><td>48</td><td>48</td><td>48</td></tr>",
                            "<tr><td>131</td><td>45</td><td>45</td><td>45</td><td>45</td></tr>",
                            "<tr><td>137</td><td>43</td><td>14</td><td>24</td><td>8</td></tr>",
                            "<tr><td>140</td><td>40</td><td>40</td><td>40</td><td>40</td></tr>",
                            "<tr><td>44</td><td>30</td><td>30</td><td>30</td><td>30</td></tr>",
                            "<tr><td>17</td><td>30</td><td>30</td><td>30</td><td>30</td></tr>",
                            "<tr><td>68</td><td>27</td><td>14</td><td>15</td><td>12</td></tr>",
                            "<tr><td>33</td><td>26</td><td>26</td><td>26</td><td>26</td></tr>",
                            "<tr><td>94</td><td>26</td><td>13</td><td>15</td><td>11</td></tr>",
                            "<tr><td>31</td><td>25</td><td>25</td><td>25</td><td>25</td></tr>",
                            "<tr><td>114</td><td>20</td><td>20</td><td>20</td><td>20</td></tr>",
                            "<tr><td>153</td><td>20</td><td>20</td><td>20</td><td>20</td></tr>",
                            "<tr><td>53</td><td>19</td><td>19</td><td>19</td><td>19</td></tr>",
                            "<tr><td>90</td><td>17</td><td>9</td><td>13</td><td>4</td></tr>",
                            "<tr><td>115</td><td>15</td><td>15</td><td>15</td><td>15</td></tr>",
                            "<tr><td>26</td><td>9</td><td>9</td><td>9</td><td>9</td></tr>",
                            "<tr><td>99</td><td>8</td><td>8</td><td>8</td><td>8</td></tr>",
                            "<tr><td>109</td><td>4</td><td>4</td><td>4</td><td>4</td></tr>",
                            "<tr><td>101</td><td>3</td><td>3</td><td>3</td><td>3</td></tr>",
                            "</table>"
                        ]
                    }
                }
            ],
            "execution_count": 42
        },
        {
            "cell_type": "markdown",
            "source": [
                "**A termékek kerekített listaár szerinti darabszáma**"
            ],
            "metadata": {
                "azdata_cell_guid": "c86e8002-d0c8-4895-9129-eb32a1c156a9"
            },
            "attachments": {}
        },
        {
            "cell_type": "code",
            "source": [
                "SELECT Round(LISTAAR,-1) as 'Listaár (kerekítve tízre)', count(TERMEKKOD) as 'Darabszám'\r\n",
                "FROM Termek\r\n",
                "GROUP BY Round(LISTAAR,-1)\r\n",
                "ORDER BY Round(LISTAAR,-1) ASC"
            ],
            "metadata": {
                "azdata_cell_guid": "8700f05f-733d-4917-9da4-9ea456bce329",
                "language": "sql"
            },
            "outputs": [
                {
                    "output_type": "display_data",
                    "data": {
                        "text/html": "(97 rows affected)"
                    },
                    "metadata": {}
                },
                {
                    "output_type": "display_data",
                    "data": {
                        "text/html": "Total execution time: 00:00:00.053"
                    },
                    "metadata": {}
                },
                {
                    "output_type": "execute_result",
                    "metadata": {},
                    "execution_count": 33,
                    "data": {
                        "application/vnd.dataresource+json": {
                            "schema": {
                                "fields": [
                                    {
                                        "name": "Listaár százra kerekítve"
                                    },
                                    {
                                        "name": "Darabszám"
                                    }
                                ]
                            },
                            "data": [
                                {
                                    "Listaár százra kerekítve": "0",
                                    "Darabszám": "6"
                                },
                                {
                                    "Listaár százra kerekítve": "10",
                                    "Darabszám": "26"
                                },
                                {
                                    "Listaár százra kerekítve": "20",
                                    "Darabszám": "40"
                                },
                                {
                                    "Listaár százra kerekítve": "30",
                                    "Darabszám": "38"
                                },
                                {
                                    "Listaár százra kerekítve": "40",
                                    "Darabszám": "45"
                                },
                                {
                                    "Listaár százra kerekítve": "50",
                                    "Darabszám": "21"
                                },
                                {
                                    "Listaár százra kerekítve": "60",
                                    "Darabszám": "32"
                                },
                                {
                                    "Listaár százra kerekítve": "70",
                                    "Darabszám": "19"
                                },
                                {
                                    "Listaár százra kerekítve": "80",
                                    "Darabszám": "18"
                                },
                                {
                                    "Listaár százra kerekítve": "90",
                                    "Darabszám": "23"
                                },
                                {
                                    "Listaár százra kerekítve": "100",
                                    "Darabszám": "18"
                                },
                                {
                                    "Listaár százra kerekítve": "110",
                                    "Darabszám": "13"
                                },
                                {
                                    "Listaár százra kerekítve": "120",
                                    "Darabszám": "10"
                                },
                                {
                                    "Listaár százra kerekítve": "130",
                                    "Darabszám": "16"
                                },
                                {
                                    "Listaár százra kerekítve": "140",
                                    "Darabszám": "9"
                                },
                                {
                                    "Listaár százra kerekítve": "150",
                                    "Darabszám": "8"
                                },
                                {
                                    "Listaár százra kerekítve": "160",
                                    "Darabszám": "15"
                                },
                                {
                                    "Listaár százra kerekítve": "170",
                                    "Darabszám": "8"
                                },
                                {
                                    "Listaár százra kerekítve": "180",
                                    "Darabszám": "13"
                                },
                                {
                                    "Listaár százra kerekítve": "190",
                                    "Darabszám": "7"
                                },
                                {
                                    "Listaár százra kerekítve": "200",
                                    "Darabszám": "6"
                                },
                                {
                                    "Listaár százra kerekítve": "210",
                                    "Darabszám": "10"
                                },
                                {
                                    "Listaár százra kerekítve": "220",
                                    "Darabszám": "3"
                                },
                                {
                                    "Listaár százra kerekítve": "230",
                                    "Darabszám": "6"
                                },
                                {
                                    "Listaár százra kerekítve": "240",
                                    "Darabszám": "6"
                                },
                                {
                                    "Listaár százra kerekítve": "250",
                                    "Darabszám": "1"
                                },
                                {
                                    "Listaár százra kerekítve": "260",
                                    "Darabszám": "3"
                                },
                                {
                                    "Listaár százra kerekítve": "270",
                                    "Darabszám": "2"
                                },
                                {
                                    "Listaár százra kerekítve": "280",
                                    "Darabszám": "4"
                                },
                                {
                                    "Listaár százra kerekítve": "290",
                                    "Darabszám": "7"
                                },
                                {
                                    "Listaár százra kerekítve": "300",
                                    "Darabszám": "2"
                                },
                                {
                                    "Listaár százra kerekítve": "310",
                                    "Darabszám": "3"
                                },
                                {
                                    "Listaár százra kerekítve": "320",
                                    "Darabszám": "4"
                                },
                                {
                                    "Listaár százra kerekítve": "330",
                                    "Darabszám": "1"
                                },
                                {
                                    "Listaár százra kerekítve": "340",
                                    "Darabszám": "2"
                                },
                                {
                                    "Listaár százra kerekítve": "350",
                                    "Darabszám": "2"
                                },
                                {
                                    "Listaár százra kerekítve": "360",
                                    "Darabszám": "4"
                                },
                                {
                                    "Listaár százra kerekítve": "390",
                                    "Darabszám": "4"
                                },
                                {
                                    "Listaár százra kerekítve": "400",
                                    "Darabszám": "4"
                                },
                                {
                                    "Listaár százra kerekítve": "410",
                                    "Darabszám": "4"
                                },
                                {
                                    "Listaár százra kerekítve": "430",
                                    "Darabszám": "3"
                                },
                                {
                                    "Listaár százra kerekítve": "440",
                                    "Darabszám": "4"
                                },
                                {
                                    "Listaár százra kerekítve": "450",
                                    "Darabszám": "1"
                                },
                                {
                                    "Listaár százra kerekítve": "460",
                                    "Darabszám": "2"
                                },
                                {
                                    "Listaár százra kerekítve": "470",
                                    "Darabszám": "1"
                                },
                                {
                                    "Listaár százra kerekítve": "490",
                                    "Darabszám": "1"
                                },
                                {
                                    "Listaár százra kerekítve": "510",
                                    "Darabszám": "3"
                                },
                                {
                                    "Listaár százra kerekítve": "530",
                                    "Darabszám": "2"
                                },
                                {
                                    "Listaár százra kerekítve": "550",
                                    "Darabszám": "1"
                                },
                                {
                                    "Listaár százra kerekítve": "580",
                                    "Darabszám": "1"
                                },
                                {
                                    "Listaár százra kerekítve": "630",
                                    "Darabszám": "2"
                                },
                                {
                                    "Listaár százra kerekítve": "650",
                                    "Darabszám": "1"
                                },
                                {
                                    "Listaár százra kerekítve": "660",
                                    "Darabszám": "2"
                                },
                                {
                                    "Listaár százra kerekítve": "670",
                                    "Darabszám": "1"
                                },
                                {
                                    "Listaár százra kerekítve": "680",
                                    "Darabszám": "1"
                                },
                                {
                                    "Listaár százra kerekítve": "690",
                                    "Darabszám": "3"
                                },
                                {
                                    "Listaár százra kerekítve": "700",
                                    "Darabszám": "1"
                                },
                                {
                                    "Listaár százra kerekítve": "720",
                                    "Darabszám": "1"
                                },
                                {
                                    "Listaár százra kerekítve": "730",
                                    "Darabszám": "5"
                                },
                                {
                                    "Listaár százra kerekítve": "740",
                                    "Darabszám": "1"
                                },
                                {
                                    "Listaár százra kerekítve": "770",
                                    "Darabszám": "3"
                                },
                                {
                                    "Listaár százra kerekítve": "780",
                                    "Darabszám": "1"
                                },
                                {
                                    "Listaár százra kerekítve": "790",
                                    "Darabszám": "2"
                                },
                                {
                                    "Listaár százra kerekítve": "850",
                                    "Darabszám": "1"
                                },
                                {
                                    "Listaár százra kerekítve": "870",
                                    "Darabszám": "1"
                                },
                                {
                                    "Listaár százra kerekítve": "880",
                                    "Darabszám": "1"
                                },
                                {
                                    "Listaár százra kerekítve": "990",
                                    "Darabszám": "2"
                                },
                                {
                                    "Listaár százra kerekítve": "1020",
                                    "Darabszám": "1"
                                },
                                {
                                    "Listaár százra kerekítve": "1090",
                                    "Darabszám": "3"
                                },
                                {
                                    "Listaár százra kerekítve": "1150",
                                    "Darabszám": "1"
                                },
                                {
                                    "Listaár százra kerekítve": "1170",
                                    "Darabszám": "1"
                                },
                                {
                                    "Listaár százra kerekítve": "1290",
                                    "Darabszám": "2"
                                },
                                {
                                    "Listaár százra kerekítve": "1350",
                                    "Darabszám": "1"
                                },
                                {
                                    "Listaár százra kerekítve": "1380",
                                    "Darabszám": "1"
                                },
                                {
                                    "Listaár százra kerekítve": "1490",
                                    "Darabszám": "1"
                                },
                                {
                                    "Listaár százra kerekítve": "1500",
                                    "Darabszám": "1"
                                },
                                {
                                    "Listaár százra kerekítve": "1770",
                                    "Darabszám": "1"
                                },
                                {
                                    "Listaár százra kerekítve": "1990",
                                    "Darabszám": "1"
                                },
                                {
                                    "Listaár százra kerekítve": "2100",
                                    "Darabszám": "1"
                                },
                                {
                                    "Listaár százra kerekítve": "3900",
                                    "Darabszám": "2"
                                },
                                {
                                    "Listaár százra kerekítve": "4580",
                                    "Darabszám": "1"
                                },
                                {
                                    "Listaár százra kerekítve": "4990",
                                    "Darabszám": "2"
                                },
                                {
                                    "Listaár százra kerekítve": "6490",
                                    "Darabszám": "1"
                                },
                                {
                                    "Listaár százra kerekítve": "6900",
                                    "Darabszám": "2"
                                },
                                {
                                    "Listaár százra kerekítve": "7890",
                                    "Darabszám": "1"
                                },
                                {
                                    "Listaár százra kerekítve": "7900",
                                    "Darabszám": "2"
                                },
                                {
                                    "Listaár százra kerekítve": "8000",
                                    "Darabszám": "2"
                                },
                                {
                                    "Listaár százra kerekítve": "8290",
                                    "Darabszám": "1"
                                },
                                {
                                    "Listaár százra kerekítve": "8900",
                                    "Darabszám": "2"
                                },
                                {
                                    "Listaár százra kerekítve": "11900",
                                    "Darabszám": "1"
                                },
                                {
                                    "Listaár százra kerekítve": "14250",
                                    "Darabszám": "1"
                                },
                                {
                                    "Listaár százra kerekítve": "16900",
                                    "Darabszám": "2"
                                },
                                {
                                    "Listaár százra kerekítve": "22000",
                                    "Darabszám": "1"
                                },
                                {
                                    "Listaár százra kerekítve": "24000",
                                    "Darabszám": "1"
                                },
                                {
                                    "Listaár százra kerekítve": "32000",
                                    "Darabszám": "1"
                                },
                                {
                                    "Listaár százra kerekítve": "39000",
                                    "Darabszám": "1"
                                },
                                {
                                    "Listaár százra kerekítve": "46000",
                                    "Darabszám": "1"
                                }
                            ]
                        },
                        "text/html": [
                            "<table>",
                            "<tr><th>Listaár százra kerekítve</th><th>Darabszám</th></tr>",
                            "<tr><td>0</td><td>6</td></tr>",
                            "<tr><td>10</td><td>26</td></tr>",
                            "<tr><td>20</td><td>40</td></tr>",
                            "<tr><td>30</td><td>38</td></tr>",
                            "<tr><td>40</td><td>45</td></tr>",
                            "<tr><td>50</td><td>21</td></tr>",
                            "<tr><td>60</td><td>32</td></tr>",
                            "<tr><td>70</td><td>19</td></tr>",
                            "<tr><td>80</td><td>18</td></tr>",
                            "<tr><td>90</td><td>23</td></tr>",
                            "<tr><td>100</td><td>18</td></tr>",
                            "<tr><td>110</td><td>13</td></tr>",
                            "<tr><td>120</td><td>10</td></tr>",
                            "<tr><td>130</td><td>16</td></tr>",
                            "<tr><td>140</td><td>9</td></tr>",
                            "<tr><td>150</td><td>8</td></tr>",
                            "<tr><td>160</td><td>15</td></tr>",
                            "<tr><td>170</td><td>8</td></tr>",
                            "<tr><td>180</td><td>13</td></tr>",
                            "<tr><td>190</td><td>7</td></tr>",
                            "<tr><td>200</td><td>6</td></tr>",
                            "<tr><td>210</td><td>10</td></tr>",
                            "<tr><td>220</td><td>3</td></tr>",
                            "<tr><td>230</td><td>6</td></tr>",
                            "<tr><td>240</td><td>6</td></tr>",
                            "<tr><td>250</td><td>1</td></tr>",
                            "<tr><td>260</td><td>3</td></tr>",
                            "<tr><td>270</td><td>2</td></tr>",
                            "<tr><td>280</td><td>4</td></tr>",
                            "<tr><td>290</td><td>7</td></tr>",
                            "<tr><td>300</td><td>2</td></tr>",
                            "<tr><td>310</td><td>3</td></tr>",
                            "<tr><td>320</td><td>4</td></tr>",
                            "<tr><td>330</td><td>1</td></tr>",
                            "<tr><td>340</td><td>2</td></tr>",
                            "<tr><td>350</td><td>2</td></tr>",
                            "<tr><td>360</td><td>4</td></tr>",
                            "<tr><td>390</td><td>4</td></tr>",
                            "<tr><td>400</td><td>4</td></tr>",
                            "<tr><td>410</td><td>4</td></tr>",
                            "<tr><td>430</td><td>3</td></tr>",
                            "<tr><td>440</td><td>4</td></tr>",
                            "<tr><td>450</td><td>1</td></tr>",
                            "<tr><td>460</td><td>2</td></tr>",
                            "<tr><td>470</td><td>1</td></tr>",
                            "<tr><td>490</td><td>1</td></tr>",
                            "<tr><td>510</td><td>3</td></tr>",
                            "<tr><td>530</td><td>2</td></tr>",
                            "<tr><td>550</td><td>1</td></tr>",
                            "<tr><td>580</td><td>1</td></tr>",
                            "<tr><td>630</td><td>2</td></tr>",
                            "<tr><td>650</td><td>1</td></tr>",
                            "<tr><td>660</td><td>2</td></tr>",
                            "<tr><td>670</td><td>1</td></tr>",
                            "<tr><td>680</td><td>1</td></tr>",
                            "<tr><td>690</td><td>3</td></tr>",
                            "<tr><td>700</td><td>1</td></tr>",
                            "<tr><td>720</td><td>1</td></tr>",
                            "<tr><td>730</td><td>5</td></tr>",
                            "<tr><td>740</td><td>1</td></tr>",
                            "<tr><td>770</td><td>3</td></tr>",
                            "<tr><td>780</td><td>1</td></tr>",
                            "<tr><td>790</td><td>2</td></tr>",
                            "<tr><td>850</td><td>1</td></tr>",
                            "<tr><td>870</td><td>1</td></tr>",
                            "<tr><td>880</td><td>1</td></tr>",
                            "<tr><td>990</td><td>2</td></tr>",
                            "<tr><td>1020</td><td>1</td></tr>",
                            "<tr><td>1090</td><td>3</td></tr>",
                            "<tr><td>1150</td><td>1</td></tr>",
                            "<tr><td>1170</td><td>1</td></tr>",
                            "<tr><td>1290</td><td>2</td></tr>",
                            "<tr><td>1350</td><td>1</td></tr>",
                            "<tr><td>1380</td><td>1</td></tr>",
                            "<tr><td>1490</td><td>1</td></tr>",
                            "<tr><td>1500</td><td>1</td></tr>",
                            "<tr><td>1770</td><td>1</td></tr>",
                            "<tr><td>1990</td><td>1</td></tr>",
                            "<tr><td>2100</td><td>1</td></tr>",
                            "<tr><td>3900</td><td>2</td></tr>",
                            "<tr><td>4580</td><td>1</td></tr>",
                            "<tr><td>4990</td><td>2</td></tr>",
                            "<tr><td>6490</td><td>1</td></tr>",
                            "<tr><td>6900</td><td>2</td></tr>",
                            "<tr><td>7890</td><td>1</td></tr>",
                            "<tr><td>7900</td><td>2</td></tr>",
                            "<tr><td>8000</td><td>2</td></tr>",
                            "<tr><td>8290</td><td>1</td></tr>",
                            "<tr><td>8900</td><td>2</td></tr>",
                            "<tr><td>11900</td><td>1</td></tr>",
                            "<tr><td>14250</td><td>1</td></tr>",
                            "<tr><td>16900</td><td>2</td></tr>",
                            "<tr><td>22000</td><td>1</td></tr>",
                            "<tr><td>24000</td><td>1</td></tr>",
                            "<tr><td>32000</td><td>1</td></tr>",
                            "<tr><td>39000</td><td>1</td></tr>",
                            "<tr><td>46000</td><td>1</td></tr>",
                            "</table>"
                        ]
                    }
                }
            ],
            "execution_count": 33
        },
        {
            "cell_type": "markdown",
            "source": [
                "**Termékek raktárankénti Sum, átlag, maximum és minimum készletszáma**"
            ],
            "metadata": {
                "azdata_cell_guid": "91b22ab1-fbf1-43b3-a744-778870492421"
            },
            "attachments": {}
        },
        {
            "cell_type": "code",
            "source": [
                "SELECT RAKTAR_KOD, SUM(KESZLET) as 'Összesen', ROUND(AVG(KESZLET),0) as 'Átlag készlet', MAX(KESZLET)  as 'Maximum készlet', MIN(KESZLET) as 'Minimális készlet'\r\n",
                "FROM TERMEK\r\n",
                "where RAKTAR_KOD is not null\r\n",
                "GROUP BY RAKTAR_KOD\r\n",
                "ORDER BY SUM(KESZLET) DESC, ROUND(AVG(KESZLET),1) DESC, MAX(KESZLET) DESC, MIN(KESZLET) DESC"
            ],
            "metadata": {
                "azdata_cell_guid": "ce3e2ff6-7f98-4b0b-b00d-4ce7fba95e5a",
                "language": "sql"
            },
            "outputs": [
                {
                    "output_type": "display_data",
                    "data": {
                        "text/html": "(9 rows affected)"
                    },
                    "metadata": {}
                },
                {
                    "output_type": "display_data",
                    "data": {
                        "text/html": "Total execution time: 00:00:00.019"
                    },
                    "metadata": {}
                },
                {
                    "output_type": "execute_result",
                    "metadata": {},
                    "execution_count": 43,
                    "data": {
                        "application/vnd.dataresource+json": {
                            "schema": {
                                "fields": [
                                    {
                                        "name": "RAKTAR_KOD"
                                    },
                                    {
                                        "name": "Összesen"
                                    },
                                    {
                                        "name": "Átlag készlet"
                                    },
                                    {
                                        "name": "Maximum készlet"
                                    },
                                    {
                                        "name": "Minimális készlet"
                                    }
                                ]
                            },
                            "data": [
                                {
                                    "RAKTAR_KOD": "8",
                                    "Összesen": "247700",
                                    "Átlag készlet": "2014",
                                    "Maximum készlet": "40000",
                                    "Minimális készlet": "100"
                                },
                                {
                                    "RAKTAR_KOD": "6",
                                    "Összesen": "242950",
                                    "Átlag készlet": "2292",
                                    "Maximum készlet": "50000",
                                    "Minimális készlet": "0"
                                },
                                {
                                    "RAKTAR_KOD": "7",
                                    "Összesen": "174600",
                                    "Átlag készlet": "1746",
                                    "Maximum készlet": "50000",
                                    "Minimális készlet": "100"
                                },
                                {
                                    "RAKTAR_KOD": "9",
                                    "Összesen": "123510",
                                    "Átlag készlet": "1211",
                                    "Maximum készlet": "12500",
                                    "Minimális készlet": "100"
                                },
                                {
                                    "RAKTAR_KOD": "5",
                                    "Összesen": "76100",
                                    "Átlag készlet": "885",
                                    "Maximum készlet": "9000",
                                    "Minimális készlet": "100"
                                },
                                {
                                    "RAKTAR_KOD": "3",
                                    "Összesen": "3675",
                                    "Átlag készlet": "263",
                                    "Maximum készlet": "449",
                                    "Minimális készlet": "105"
                                },
                                {
                                    "RAKTAR_KOD": "1",
                                    "Összesen": "2742",
                                    "Átlag készlet": "249",
                                    "Maximum készlet": "396",
                                    "Minimális készlet": "77"
                                },
                                {
                                    "RAKTAR_KOD": "4",
                                    "Összesen": "1518",
                                    "Átlag készlet": "380",
                                    "Maximum készlet": "470",
                                    "Minimális készlet": "283"
                                },
                                {
                                    "RAKTAR_KOD": "2",
                                    "Összesen": "1086",
                                    "Átlag készlet": "217",
                                    "Maximum készlet": "406",
                                    "Minimális készlet": "53"
                                }
                            ]
                        },
                        "text/html": [
                            "<table>",
                            "<tr><th>RAKTAR_KOD</th><th>Összesen</th><th>Átlag készlet</th><th>Maximum készlet</th><th>Minimális készlet</th></tr>",
                            "<tr><td>8</td><td>247700</td><td>2014</td><td>40000</td><td>100</td></tr>",
                            "<tr><td>6</td><td>242950</td><td>2292</td><td>50000</td><td>0</td></tr>",
                            "<tr><td>7</td><td>174600</td><td>1746</td><td>50000</td><td>100</td></tr>",
                            "<tr><td>9</td><td>123510</td><td>1211</td><td>12500</td><td>100</td></tr>",
                            "<tr><td>5</td><td>76100</td><td>885</td><td>9000</td><td>100</td></tr>",
                            "<tr><td>3</td><td>3675</td><td>263</td><td>449</td><td>105</td></tr>",
                            "<tr><td>1</td><td>2742</td><td>249</td><td>396</td><td>77</td></tr>",
                            "<tr><td>4</td><td>1518</td><td>380</td><td>470</td><td>283</td></tr>",
                            "<tr><td>2</td><td>1086</td><td>217</td><td>406</td><td>53</td></tr>",
                            "</table>"
                        ]
                    }
                }
            ],
            "execution_count": 43
        },
        {
            "cell_type": "markdown",
            "source": [
                "**Raktárakban tárolt listaárak diagrammal**"
            ],
            "metadata": {
                "azdata_cell_guid": "cb00e440-3f4b-468e-be11-61451ba72366"
            },
            "attachments": {}
        },
        {
            "cell_type": "code",
            "source": [
                "SELECT RAKTAR_KOD, SUM(KESZLET) as 'Összesen'\r\n",
                "FROM TERMEK\r\n",
                "where RAKTAR_KOD is not null\r\n",
                "GROUP BY RAKTAR_KOD\r\n",
                "ORDER BY SUM(KESZLET) DESC"
            ],
            "metadata": {
                "azdata_cell_guid": "56c60f77-e012-47eb-971d-ab6cd2e45e7f",
                "language": "sql"
            },
            "outputs": [
                {
                    "output_type": "display_data",
                    "data": {
                        "text/html": "(9 rows affected)"
                    },
                    "metadata": {}
                },
                {
                    "output_type": "display_data",
                    "data": {
                        "text/html": "Total execution time: 00:00:00.018"
                    },
                    "metadata": {}
                },
                {
                    "output_type": "execute_result",
                    "metadata": {},
                    "execution_count": 46,
                    "data": {
                        "application/vnd.dataresource+json": {
                            "schema": {
                                "fields": [
                                    {
                                        "name": "RAKTAR_KOD"
                                    },
                                    {
                                        "name": "Összesen"
                                    }
                                ]
                            },
                            "data": [
                                {
                                    "RAKTAR_KOD": "8",
                                    "Összesen": "247700"
                                },
                                {
                                    "RAKTAR_KOD": "6",
                                    "Összesen": "242950"
                                },
                                {
                                    "RAKTAR_KOD": "7",
                                    "Összesen": "174600"
                                },
                                {
                                    "RAKTAR_KOD": "9",
                                    "Összesen": "123510"
                                },
                                {
                                    "RAKTAR_KOD": "5",
                                    "Összesen": "76100"
                                },
                                {
                                    "RAKTAR_KOD": "3",
                                    "Összesen": "3675"
                                },
                                {
                                    "RAKTAR_KOD": "1",
                                    "Összesen": "2742"
                                },
                                {
                                    "RAKTAR_KOD": "4",
                                    "Összesen": "1518"
                                },
                                {
                                    "RAKTAR_KOD": "2",
                                    "Összesen": "1086"
                                }
                            ]
                        },
                        "text/html": [
                            "<table>",
                            "<tr><th>RAKTAR_KOD</th><th>Összesen</th></tr>",
                            "<tr><td>8</td><td>247700</td></tr>",
                            "<tr><td>6</td><td>242950</td></tr>",
                            "<tr><td>7</td><td>174600</td></tr>",
                            "<tr><td>9</td><td>123510</td></tr>",
                            "<tr><td>5</td><td>76100</td></tr>",
                            "<tr><td>3</td><td>3675</td></tr>",
                            "<tr><td>1</td><td>2742</td></tr>",
                            "<tr><td>4</td><td>1518</td></tr>",
                            "<tr><td>2</td><td>1086</td></tr>",
                            "</table>"
                        ]
                    }
                }
            ],
            "execution_count": 46
        },
        {
            "cell_type": "markdown",
            "source": [
                "![](data:image/png;base64,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)"
            ],
            "metadata": {
                "azdata_cell_guid": "ebb478cc-a2bd-4dd6-af12-82328586f29f"
            },
            "attachments": {}
        },
        {
            "cell_type": "markdown",
            "source": [
                "**Termék nevek átlaga, maximuma, minimuma, szórása (kerekítve)**"
            ],
            "metadata": {
                "azdata_cell_guid": "0d1eba69-c6cc-418c-8c27-4529b505dfd6"
            },
            "attachments": {}
        },
        {
            "cell_type": "code",
            "source": [
                "SELECT avg(len(MEGNEVEZES)) as 'Átlag',\r\n",
                "        max(Len(MEGNEVEZES)) as 'Max', \r\n",
                "        min(len(MEGNEVEZES)) as 'Min', \r\n",
                "        Round(stdev(len(MEGNEVEZES)),0) as 'Szórás'\r\n",
                "FROM Termek"
            ],
            "metadata": {
                "azdata_cell_guid": "80ede5f0-7491-48f7-bd3c-c78ded11db81",
                "language": "sql"
            },
            "outputs": [
                {
                    "output_type": "display_data",
                    "data": {
                        "text/html": "(1 row affected)"
                    },
                    "metadata": {}
                },
                {
                    "output_type": "display_data",
                    "data": {
                        "text/html": "Total execution time: 00:00:00.016"
                    },
                    "metadata": {}
                },
                {
                    "output_type": "execute_result",
                    "metadata": {},
                    "execution_count": 38,
                    "data": {
                        "application/vnd.dataresource+json": {
                            "schema": {
                                "fields": [
                                    {
                                        "name": "Átlag"
                                    },
                                    {
                                        "name": "Max"
                                    },
                                    {
                                        "name": "Min"
                                    },
                                    {
                                        "name": "Szórása"
                                    }
                                ]
                            },
                            "data": [
                                {
                                    "Átlag": "18",
                                    "Max": "40",
                                    "Min": "3",
                                    "Szórása": "6"
                                }
                            ]
                        },
                        "text/html": [
                            "<table>",
                            "<tr><th>Átlag</th><th>Max</th><th>Min</th><th>Szórása</th></tr>",
                            "<tr><td>18</td><td>40</td><td>3</td><td>6</td></tr>",
                            "</table>"
                        ]
                    }
                }
            ],
            "execution_count": 38
        }
    ]
}